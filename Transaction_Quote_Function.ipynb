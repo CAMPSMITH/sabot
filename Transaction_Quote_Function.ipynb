{
 "cells": [
  {
   "cell_type": "code",
   "execution_count": 1,
   "id": "823ee866-1428-472f-95fb-367c0cab9c24",
   "metadata": {},
   "outputs": [],
   "source": [
    "# Second Transaction Function"
   ]
  },
  {
   "cell_type": "code",
   "execution_count": 2,
   "id": "bc8cad60-d4d8-4fb3-9005-b8bf17086074",
   "metadata": {},
   "outputs": [],
   "source": [
    "#buy_amount, gas_fee = fn(buy_token, sell_token, sell amount)"
   ]
  },
  {
   "cell_type": "code",
   "execution_count": 6,
   "id": "486a79b0-31d9-405e-b387-498ce5ce20e4",
   "metadata": {},
   "outputs": [],
   "source": [
    "import csv\n",
    "import json\n",
    "import requests\n",
    "import time\n"
   ]
  },
  {
   "cell_type": "code",
   "execution_count": 11,
   "id": "0100d637-d662-4910-b6cc-1393003341fd",
   "metadata": {},
   "outputs": [],
   "source": [
    "def transaction_quote(buy_token, sell_token, sell_amount):\n",
    "    \n",
    "\n",
    "        \n",
    "    #Ensure correct tokens to ensure correct decimals\n",
    "    if sell_token == 'SUSD'or'sUSD' and buy_token == 'USDC':\n",
    "        sell_amount = sell_amount*1000000000000000000\n",
    "\n",
    "        #get response\n",
    "        response = requests.get(f'https://api.0x.org/swap/v1/quote?buyToken={buy_token}&sellToken={sell_token}&sellAmount={sell_amount}')\n",
    "        response = response.json()\n",
    "\n",
    "\n",
    "        #Calculate gas cost and pricing\n",
    "        gas_units = float(response['gas'])\n",
    "        gas_price = float(response['gasPrice'])\n",
    "        total_gas_cost = gas_units*gas_price\n",
    "        percentage_of_eth = float(total_gas_cost/1000000000000000000)\n",
    "        gas_cost_in_stablecoin = float(response['buyTokenToEthRate'])*(float(percentage_of_eth))\n",
    "        print(gas_cost_in_stablecoin)\n",
    "        price = response['price']\n",
    "        guaranteed_price = response['guaranteedPrice']\n",
    "\n",
    "\n",
    "        print(f'Price: 1 {buy_token} = {price} {sell_token}')\n",
    "        print(f'Guaranteed Price: 1 {buy_token} = {guaranteed_price} {sell_token}')\n",
    "        print(f'Gas Price: $',(gas_cost_in_stablecoin))\n",
    "        \n",
    "        return\n",
    "\n",
    "    #Ensure correct tokens to ensure correct decimals \n",
    "    if sell_token == 'USDT'and buy_token == 'SUSD' or 'sUSD':\n",
    "        sell_amount = sell_amount*1000000\n",
    "\n",
    "        #get response\n",
    "        response = requests.get(f'https://api.0x.org/swap/v1/quote?buyToken={buy_token}&sellToken={sell_token}&sellAmount={sell_amount}')\n",
    "        response = response.json()\n",
    "\n",
    "\n",
    "        #Calculate gas cost and pricing\n",
    "        gas_units = float(response['gas'])\n",
    "        gas_price = float(response['gasPrice'])\n",
    "        total_gas_cost = gas_units*gas_price\n",
    "        percentage_of_eth = float(total_gas_cost/1000000000000000000)\n",
    "        gas_cost_in_stablecoin = float(response['buyTokenToEthRate'])*(float(percentage_of_eth))\n",
    "        print(gas_cost_in_stablecoin)\n",
    "        price = response['price']\n",
    "        guaranteed_price = response['guaranteedPrice']\n",
    "\n",
    "\n",
    "        print(f'Price: 1 {buy_token} = {price} {sell_token}')\n",
    "        print(f'Guaranteed Price: 1 {buy_token} = {guaranteed_price} {sell_token}')\n",
    "        print(f'Gas Price: $',(gas_cost_in_stablecoin))\n",
    "        \n",
    "        return\n",
    "    \n",
    "    else:\n",
    "         print('Update function to ensure both USDT and SUSD are being used')\n",
    "        \n",
    "        \n",
    "    \n"
   ]
  },
  {
   "cell_type": "code",
   "execution_count": null,
   "id": "d7b83b04-41dc-4634-bac4-a08069ebac5e",
   "metadata": {},
   "outputs": [],
   "source": [
    "transaction_quote('SUSD','USDT',20000)"
   ]
  },
  {
   "cell_type": "code",
   "execution_count": null,
   "id": "040bd38a-0d33-4532-bb2c-e26a28a5e484",
   "metadata": {},
   "outputs": [],
   "source": [
    "#WHY IS THIS NOT RUNNING CORRECTLY WITH ETH"
   ]
  },
  {
   "cell_type": "code",
   "execution_count": null,
   "id": "aca054c1-2389-45c9-b440-bdf295119383",
   "metadata": {},
   "outputs": [],
   "source": [
    "#/0.000000001"
   ]
  },
  {
   "cell_type": "code",
   "execution_count": null,
   "id": "7481adf9-7458-4046-ae3f-42ceb9508375",
   "metadata": {},
   "outputs": [],
   "source": []
  },
  {
   "cell_type": "code",
   "execution_count": null,
   "id": "e3b219cc-8f98-455e-b200-75ac3f0b8c03",
   "metadata": {},
   "outputs": [],
   "source": []
  },
  {
   "cell_type": "code",
   "execution_count": null,
   "id": "ff3fd80f-0238-4bd8-a40a-b1242b27907a",
   "metadata": {},
   "outputs": [],
   "source": []
  }
 ],
 "metadata": {
  "kernelspec": {
   "display_name": "Python 3 (ipykernel)",
   "language": "python",
   "name": "python3"
  },
  "language_info": {
   "codemirror_mode": {
    "name": "ipython",
    "version": 3
   },
   "file_extension": ".py",
   "mimetype": "text/x-python",
   "name": "python",
   "nbconvert_exporter": "python",
   "pygments_lexer": "ipython3",
   "version": "3.7.11"
  }
 },
 "nbformat": 4,
 "nbformat_minor": 5
}
