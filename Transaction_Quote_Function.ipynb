{
 "cells": [
  {
   "cell_type": "code",
   "execution_count": 1,
   "id": "823ee866-1428-472f-95fb-367c0cab9c24",
   "metadata": {},
   "outputs": [],
   "source": [
    "# Second Transaction Function"
   ]
  },
  {
   "cell_type": "code",
   "execution_count": 2,
   "id": "bc8cad60-d4d8-4fb3-9005-b8bf17086074",
   "metadata": {},
   "outputs": [],
   "source": [
    "#buy_amount, gas_fee = fn(buy_token, sell_token, sell amount)"
   ]
  },
  {
   "cell_type": "code",
   "execution_count": 3,
   "id": "486a79b0-31d9-405e-b387-498ce5ce20e4",
   "metadata": {},
   "outputs": [],
   "source": [
    "import csv\n",
    "import json\n",
    "import requests\n",
    "import time\n"
   ]
  },
  {
   "cell_type": "code",
   "execution_count": 8,
   "id": "0100d637-d662-4910-b6cc-1393003341fd",
   "metadata": {},
   "outputs": [],
   "source": [
    "def transaction_quote(buy_token, sell_token, sell_amount):\n",
    "\n",
    "    sell_amount = sell_amount*1000000000000000000\n",
    "    \n",
    "   #Add appropriate token decimals\n",
    "    if buy_token == 'SUSD':\n",
    "        sell_amount = sell_amount*1000000000000000000\n",
    "    if  buy_token == 'USDT':\n",
    "        sell_amount = sell_amount*1000000\n",
    "    else:\n",
    "        print('Update function to ensure appropriate decimals are being used')\n",
    "        \n",
    "    #Get trading data\n",
    "        response = requests.get(f'https://api.0x.org/swap/v1/quote?buyToken={buy_token}&sellToken={sell_token}&sellAmount={sell_amount}')\n",
    "        response = response.json()\n",
    "\n",
    "\n",
    "        #Calculate gas cost\n",
    "        gas_units = float(response['gas'])\n",
    "        gas_price = float(response['gasPrice'])/0.000000001\n",
    "        total_gas_cost = gas_units*gas_price\n",
    "        eth_price_to_stablecoin = float(response['buyTokenToEthRate'])\n",
    "        gas_price_in_stablecoin =eth_price_to_stablecoin*total_gas_cost\n",
    "        price = response['price']\n",
    "        guaranteed_price = response['guaranteedPrice']\n",
    "\n",
    "\n",
    "        print(f'Price: 1 {buy_token} = {price} {sell_token}')\n",
    "        print(f'Guaranteed Price: 1 {buy_token} = {guaranteed_price} {sell_token}')\n",
    "        print(f'Gas Price: $',(gas_price_in_stablecoin))   \n",
    "        # price provides the price of buyToken in sellToken\n",
    "\n",
    "    \n",
    "    \n",
    "\n",
    "    \n",
    "    return"
   ]
  },
  {
   "cell_type": "code",
   "execution_count": 9,
   "id": "d7b83b04-41dc-4634-bac4-a08069ebac5e",
   "metadata": {},
   "outputs": [],
   "source": [
    "transaction_quote('USDT','SUSD',20000)"
   ]
  },
  {
   "cell_type": "code",
   "execution_count": 6,
   "id": "040bd38a-0d33-4532-bb2c-e26a28a5e484",
   "metadata": {},
   "outputs": [],
   "source": [
    "# price provides the price of buyToken in sellToken "
   ]
  },
  {
   "cell_type": "code",
   "execution_count": null,
   "id": "aca054c1-2389-45c9-b440-bdf295119383",
   "metadata": {},
   "outputs": [],
   "source": []
  },
  {
   "cell_type": "code",
   "execution_count": 7,
   "id": "7481adf9-7458-4046-ae3f-42ceb9508375",
   "metadata": {},
   "outputs": [
    {
     "name": "stdout",
     "output_type": "stream",
     "text": [
      "{'chainId': 1, 'price': '1.006507', 'guaranteedPrice': '0.996442', 'estimatedPriceImpact': '0', 'to': '0xdef1c0ded9bec7f1a1670819833240f027b25eff', 'data': '0xf7fcd38400000000000000000000000057ab1ec28d129707052df4df418d58a2d46d5f51000000000000000000000000dac17f958d2ee523a2206206994597c13d831ec7000000000000000000000000561b94454b65614ae3db0897b74303f4acf7cc75000000000000000000000000000000000000000000000000000000000000000000000000000000000000000000000000000000000000043c33c193756480000000000000000000000000000000000000000000000000000000000004a3da3ab700000000000000000000000000000000000000000000000000000000000000e00000000000000000000000000000000000000000000000000000000000000080000000000000000000000000a5407eae9ba41422680e2e00537571bcc53efbfda6417ed60000000000000000000000000000000000000000000000000000000000000000000000000000000000000000000000000000000000000000000000030000000000000000000000000000000000000000000000000000000000000002869584cd00000000000000000000000010000000000000000000000000000000000000110000000000000000000000000000000000000000000000391422ee1362cd0fd8', 'value': '0', 'gas': '363000', 'estimatedGas': '363000', 'gasPrice': '24000000000', 'protocolFee': '0', 'minimumProtocolFee': '0', 'buyTokenAddress': '0xdac17f958d2ee523a2206206994597c13d831ec7', 'sellTokenAddress': '0x57ab1ec28d129707052df4df418d58a2d46d5f51', 'buyAmount': '20130158860', 'sellAmount': '20000000000000000000000', 'sources': [{'name': '0x', 'proportion': '0'}, {'name': 'Uniswap', 'proportion': '0'}, {'name': 'Uniswap_V2', 'proportion': '0'}, {'name': 'Curve', 'proportion': '1'}, {'name': 'Balancer', 'proportion': '0'}, {'name': 'Balancer_V2', 'proportion': '0'}, {'name': 'Bancor', 'proportion': '0'}, {'name': 'BancorV3', 'proportion': '0'}, {'name': 'mStable', 'proportion': '0'}, {'name': 'Mooniswap', 'proportion': '0'}, {'name': 'SushiSwap', 'proportion': '0'}, {'name': 'Shell', 'proportion': '0'}, {'name': 'MultiHop', 'proportion': '0'}, {'name': 'DODO', 'proportion': '0'}, {'name': 'DODO_V2', 'proportion': '0'}, {'name': 'CREAM', 'proportion': '0'}, {'name': 'LiquidityProvider', 'proportion': '0'}, {'name': 'CryptoCom', 'proportion': '0'}, {'name': 'Lido', 'proportion': '0'}, {'name': 'MakerPsm', 'proportion': '0'}, {'name': 'KyberDMM', 'proportion': '0'}, {'name': 'Component', 'proportion': '0'}, {'name': 'Saddle', 'proportion': '0'}, {'name': 'xSigma', 'proportion': '0'}, {'name': 'Uniswap_V3', 'proportion': '0'}, {'name': 'Curve_V2', 'proportion': '0'}, {'name': 'ShibaSwap', 'proportion': '0'}, {'name': 'Synapse', 'proportion': '0'}], 'orders': [{'type': 0, 'source': 'Curve', 'makerToken': '0xdac17f958d2ee523a2206206994597c13d831ec7', 'takerToken': '0x57ab1ec28d129707052df4df418d58a2d46d5f51', 'makerAmount': '20130158860', 'takerAmount': '20000000000000000000000', 'fillData': {'pool': {'exchangeFunctionSelector': '0xa6417ed6', 'sellQuoteFunctionSelector': '0x07211ef7', 'buyQuoteFunctionSelector': '0x00000000', 'tokens': ['0x6b175474e89094c44da98b954eedeac495271d0f', '0xa0b86991c6218b36c1d19d4a2e9eb0ce3606eb48', '0xdac17f958d2ee523a2206206994597c13d831ec7', '0x57ab1ec28d129707052df4df418d58a2d46d5f51'], 'poolAddress': '0xa5407eae9ba41422680e2e00537571bcc53efbfd', 'gasSchedule': 302000, 'makerTokenIdx': 2, 'takerTokenIdx': 3}, 'fromTokenIdx': 3, 'toTokenIdx': 2}, 'fill': {'input': '20000000000000000000000', 'output': '20130158860', 'adjustedOutput': '20122290818', 'gas': 302000}, 'sourcePathId': '0xd036daa33ae0e9300b15b6c2f6267da3a629d086239c0e69a6f350460a44e316'}], 'allowanceTarget': '0xdef1c0ded9bec7f1a1670819833240f027b25eff', 'decodedUniqueId': '391422ee13-1657606104', 'sellTokenToEthRate': '1081.05434542848651382', 'buyTokenToEthRate': '1085.54667'}\n"
     ]
    }
   ],
   "source": [
    "buy_token ='USDT'\n",
    "sell_token='SUSD'\n",
    "actual_amount = 20000\n",
    "sell_amount = actual_amount*1000000000000000000\n",
    "\n",
    "\n",
    "response = requests.get(f'https://api.0x.org/swap/v1/quote?buyToken={buy_token}&sellToken={sell_token}&sellAmount={sell_amount}')\n",
    "response = response.json()\n",
    "print(response)"
   ]
  },
  {
   "cell_type": "code",
   "execution_count": null,
   "id": "e3b219cc-8f98-455e-b200-75ac3f0b8c03",
   "metadata": {},
   "outputs": [],
   "source": []
  }
 ],
 "metadata": {
  "kernelspec": {
   "display_name": "Python 3 (ipykernel)",
   "language": "python",
   "name": "python3"
  },
  "language_info": {
   "codemirror_mode": {
    "name": "ipython",
    "version": 3
   },
   "file_extension": ".py",
   "mimetype": "text/x-python",
   "name": "python",
   "nbconvert_exporter": "python",
   "pygments_lexer": "ipython3",
   "version": "3.7.11"
  }
 },
 "nbformat": 4,
 "nbformat_minor": 5
}
