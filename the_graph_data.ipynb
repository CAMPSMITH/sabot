{
 "cells": [
  {
   "cell_type": "code",
   "execution_count": 16,
   "id": "aed954be-d8fb-4560-9472-9bf7893d2da3",
   "metadata": {},
   "outputs": [],
   "source": [
    "#### DISCLAIMER, a lot of the code on this section is borrowed from tutorials and will likely not be used in the main.\n",
    "\n",
    "\n",
    "\n",
    "\n",
    "\n",
    "\n",
    "\n",
    "\n",
    "\n",
    "\n",
    "\n",
    "\n"
   ]
  },
  {
   "cell_type": "code",
   "execution_count": 7,
   "id": "ad294ab1-3265-412f-bee1-930a19934fe5",
   "metadata": {},
   "outputs": [],
   "source": [
    "import requests\n",
    "import json\n",
    "import numpy as np\n",
    "from datetime import datetime\n",
    "import matplotlib.pyplot as plt\n",
    "import pandas as pd"
   ]
  },
  {
   "cell_type": "code",
   "execution_count": 12,
   "id": "ea3c99a4-4e14-446a-837c-05b42cf8ed48",
   "metadata": {},
   "outputs": [
    {
     "name": "stdout",
     "output_type": "stream",
     "text": [
      "200\n"
     ]
    }
   ],
   "source": [
    "query = \"\"\"query {\n",
    "    tokenDayDatas(first:1000,\n",
    "    where: {token: \"0xc02aaa39b223fe8d0a0e5c4f27ead9083c756cc2\"},\n",
    "    orderBy: date,\n",
    "    orderDirection: desc) {\n",
    "      date\n",
    "      priceUSD\n",
    "    }\n",
    "}\"\"\"\n",
    "\n",
    "# Call the public hosted TheGraph endpoint\n",
    "url = 'https://api.thegraph.com/subgraphs/name/uniswap/uniswap-v2'\n",
    "r = requests.post(url, json={'query': query})\n",
    "print(r.status_code)\n"
   ]
  },
  {
   "cell_type": "code",
   "execution_count": 9,
   "id": "326870db-4203-4ff8-983d-9cfdcd7a4bf0",
   "metadata": {},
   "outputs": [],
   "source": [
    "# query = \"\"\"query {\n",
    "#  pair(id: \"0xa478c2975ab1ea89e8196811f51a7b7ade33eb11\"){\n",
    "#      token0 {\n",
    "#        id\n",
    "#        symbol\n",
    "#        name\n",
    "#        derivedETH\n",
    "#      }\n",
    "#      token1 {\n",
    "#        id\n",
    "#        symbol\n",
    "#        name\n",
    "#        derivedETH\n",
    "#      }\n",
    "#      reserve0\n",
    "#      reserve1\n",
    "#      reserveUSD\n",
    "#      trackedReserveETH\n",
    "#      token0Price\n",
    "#      token1Price\n",
    "#      volumeUSD\n",
    "#      txCount\n",
    "#  }\n",
    "# }\"\"\"\n",
    "\n",
    "# # Call the public hosted TheGraph endpoint\n",
    "# url = 'https://api.thegraph.com/subgraphs/name/uniswap/uniswap-v2'\n",
    "# r = requests.post(url, json={'query': query})\n",
    "# print(r.status_code)"
   ]
  },
  {
   "cell_type": "code",
   "execution_count": null,
   "id": "52df35ce-bff0-48e6-aee8-5e6368712af1",
   "metadata": {},
   "outputs": [],
   "source": [
    "# step 3 - save data to Numpy array\n",
    "# The request returns a json structured string. First we transform the string into a json object:\n",
    "json_data = json.loads(r.text)\n",
    "\n",
    "# Next step is to convert the json object to an array, there are many ways to do this. Here is one \n",
    "# example that iterates over the data and converts it into float numbers (the price) and datetime objects \n",
    "# (the timestamps) while appending it to an initally empty array.\n",
    "\n",
    "# Create an empty Numpy array\n",
    "arr = np.empty((0,2), int)\n",
    "\n",
    "# Populate the Numpy array, while converting Unix timestamps to datetime objects, and price to float numbers\n",
    "for l in json_data['data']['tokenDayDatas']:\n",
    "    arr = np.append(arr, np.array([[datetime.fromtimestamp(l['date']), np.float(l['priceUSD'])]]), axis=0)\n",
    "    \n",
    "\n",
    "# Now you have the data in a Numpy array, and you can basically do anything with it. Explore with Numpy and SciPy, or SciKitLearn for machine learning."
   ]
  },
  {
   "cell_type": "code",
   "execution_count": 13,
   "id": "c4013a98-ae2d-4414-a07b-93326026ad1c",
   "metadata": {},
   "outputs": [
    {
     "name": "stderr",
     "output_type": "stream",
     "text": [
      "/Users/kevincorstorphine/opt/anaconda3/envs/dev/lib/python3.7/site-packages/ipykernel_launcher.py:14: DeprecationWarning: `np.float` is a deprecated alias for the builtin `float`. To silence this warning, use `float` by itself. Doing this will not modify any behavior and is safe. If you specifically wanted the numpy scalar type, use `np.float64` here.\n",
      "Deprecated in NumPy 1.20; for more details and guidance: https://numpy.org/devdocs/release/1.20.0-notes.html#deprecations\n",
      "  \n"
     ]
    }
   ],
   "source": [
    "# step 3 - save data to Numpy array\n",
    "# The request returns a json structured string. First we transform the string into a json object:\n",
    "json_data = json.loads(r.text)\n",
    "\n",
    "# Next step is to convert the json object to an array, there are many ways to do this. Here is one \n",
    "# example that iterates over the data and converts it into float numbers (the price) and datetime objects \n",
    "# (the timestamps) while appending it to an initally empty array.\n",
    "\n",
    "# Create an empty Numpy array\n",
    "arr = np.empty((0,2), int)\n",
    "\n",
    "# Populate the Numpy array, while converting Unix timestamps to datetime objects, and price to float numbers\n",
    "for l in json_data['data']['tokenDayDatas']:\n",
    "    arr = np.append(arr, np.array([[datetime.fromtimestamp(l['date']), np.float(l['priceUSD'])]]), axis=0)\n",
    "    \n",
    "\n",
    "# Now you have the data in a Numpy array, and you can basically do anything with it. Explore with Numpy and SciPy, or SciKitLearn for machine learning."
   ]
  },
  {
   "cell_type": "code",
   "execution_count": 14,
   "id": "b9d5516e-b40f-48cd-91d5-4dba5df3fc4d",
   "metadata": {},
   "outputs": [
    {
     "data": {
      "text/plain": [
       "array([[datetime.datetime(2022, 7, 3, 17, 0), 1137.5637211378853],\n",
       "       [datetime.datetime(2022, 7, 2, 17, 0), 1072.959823455799],\n",
       "       [datetime.datetime(2022, 7, 1, 17, 0), 1068.3290880891357],\n",
       "       ...,\n",
       "       [datetime.datetime(2020, 5, 6, 17, 0), 201.3586620865844],\n",
       "       [datetime.datetime(2020, 5, 5, 17, 0), 201.3584584250841],\n",
       "       [datetime.datetime(2020, 5, 4, 17, 0), 201.48625086106713]],\n",
       "      dtype=object)"
      ]
     },
     "metadata": {},
     "output_type": "display_data"
    }
   ],
   "source": [
    "display(arr)"
   ]
  },
  {
   "cell_type": "code",
   "execution_count": null,
   "id": "4424b56a-4cfa-437d-bf7c-49547a0c7118",
   "metadata": {},
   "outputs": [],
   "source": []
  },
  {
   "cell_type": "code",
   "execution_count": 15,
   "id": "2194fbf6-c9d7-4c65-a2a4-02052f9796c9",
   "metadata": {},
   "outputs": [
    {
     "data": {
      "text/html": [
       "<div>\n",
       "<style scoped>\n",
       "    .dataframe tbody tr th:only-of-type {\n",
       "        vertical-align: middle;\n",
       "    }\n",
       "\n",
       "    .dataframe tbody tr th {\n",
       "        vertical-align: top;\n",
       "    }\n",
       "\n",
       "    .dataframe thead th {\n",
       "        text-align: right;\n",
       "    }\n",
       "</style>\n",
       "<table border=\"1\" class=\"dataframe\">\n",
       "  <thead>\n",
       "    <tr style=\"text-align: right;\">\n",
       "      <th></th>\n",
       "      <th>Date</th>\n",
       "      <th>Price</th>\n",
       "    </tr>\n",
       "  </thead>\n",
       "  <tbody>\n",
       "    <tr>\n",
       "      <th>0</th>\n",
       "      <td>2022-07-03 17:00:00</td>\n",
       "      <td>1137.563721</td>\n",
       "    </tr>\n",
       "    <tr>\n",
       "      <th>1</th>\n",
       "      <td>2022-07-02 17:00:00</td>\n",
       "      <td>1072.959823</td>\n",
       "    </tr>\n",
       "    <tr>\n",
       "      <th>2</th>\n",
       "      <td>2022-07-01 17:00:00</td>\n",
       "      <td>1068.329088</td>\n",
       "    </tr>\n",
       "    <tr>\n",
       "      <th>3</th>\n",
       "      <td>2022-06-30 17:00:00</td>\n",
       "      <td>1057.213088</td>\n",
       "    </tr>\n",
       "    <tr>\n",
       "      <th>4</th>\n",
       "      <td>2022-06-29 17:00:00</td>\n",
       "      <td>1068.904229</td>\n",
       "    </tr>\n",
       "  </tbody>\n",
       "</table>\n",
       "</div>"
      ],
      "text/plain": [
       "                 Date        Price\n",
       "0 2022-07-03 17:00:00  1137.563721\n",
       "1 2022-07-02 17:00:00  1072.959823\n",
       "2 2022-07-01 17:00:00  1068.329088\n",
       "3 2022-06-30 17:00:00  1057.213088\n",
       "4 2022-06-29 17:00:00  1068.904229"
      ]
     },
     "metadata": {},
     "output_type": "display_data"
    }
   ],
   "source": [
    "df = pd.DataFrame (arr, columns=['Date','Price'])\n",
    "\n",
    "display(df.head())"
   ]
  },
  {
   "cell_type": "code",
   "execution_count": null,
   "id": "b3313dc0-3301-4c92-9490-1a596f5a8c59",
   "metadata": {},
   "outputs": [],
   "source": []
  },
  {
   "cell_type": "code",
   "execution_count": null,
   "id": "f6177896-3e5c-441d-bdcf-ffcd2a1593f1",
   "metadata": {},
   "outputs": [],
   "source": []
  }
 ],
 "metadata": {
  "kernelspec": {
   "display_name": "Python 3 (ipykernel)",
   "language": "python",
   "name": "python3"
  },
  "language_info": {
   "codemirror_mode": {
    "name": "ipython",
    "version": 3
   },
   "file_extension": ".py",
   "mimetype": "text/x-python",
   "name": "python",
   "nbconvert_exporter": "python",
   "pygments_lexer": "ipython3",
   "version": "3.7.11"
  }
 },
 "nbformat": 4,
 "nbformat_minor": 5
}
