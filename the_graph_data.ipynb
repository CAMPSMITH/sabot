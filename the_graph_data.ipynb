{
 "cells": [
  {
   "cell_type": "code",
   "execution_count": null,
   "id": "ad294ab1-3265-412f-bee1-930a19934fe5",
   "metadata": {},
   "outputs": [],
   "source": [
    "import requests\n",
    "import json\n",
    "import numpy as np\n",
    "\n",
    "from datetime import datetime\n",
    "import matplotlib.pyplot as plt"
   ]
  },
  {
   "cell_type": "code",
   "execution_count": null,
   "id": "ea3c99a4-4e14-446a-837c-05b42cf8ed48",
   "metadata": {},
   "outputs": [],
   "source": [
    "query = \"\"\"query {\n",
    "    tokenDayDatas(first:1000, where: {token: \"0xc02aaa39b223fe8d0a0e5c4f27ead9083c756cc2\"}, orderBy: date, orderDirection: desc) {\n",
    "      date\n",
    "      priceUSD\n",
    "    }\n",
    "}\"\"\"\n",
    "\n",
    "# Call the public hosted TheGraph endpoint\n",
    "url = 'https://api.thegraph.com/subgraphs/name/uniswap/uniswap-v2'\n",
    "r = requests.post(url, json={'query': query})\n",
    "print(r.status_code)"
   ]
  },
  {
   "cell_type": "code",
   "execution_count": null,
   "id": "c4013a98-ae2d-4414-a07b-93326026ad1c",
   "metadata": {},
   "outputs": [],
   "source": [
    "# step 3 - save data to Numpy array\n",
    "# The request returns a json structured string. First we transform the string into a json object:\n",
    "json_data = json.loads(r.text)\n",
    "\n",
    "# Next step is to convert the json object to an array, there are many ways to do this. Here is one \n",
    "# example that iterates over the data and converts it into float numbers (the price) and datetime objects \n",
    "# (the timestamps) while appending it to an initally empty array.\n",
    "\n",
    "# Create an empty Numpy array\n",
    "arr = np.empty((0,2), int)\n",
    "\n",
    "# Populate the Numpy array, while converting Unix timestamps to datetime objects, and price to float numbers\n",
    "for l in json_data['data']['tokenDayDatas']:\n",
    "    arr = np.append(arr, np.array([[datetime.fromtimestamp(l['date']), np.float(l['priceUSD'])]]), axis=0)\n",
    "    \n",
    "\n",
    "# Now you have the data in a Numpy array, and you can basically do anything with it. Explore with Numpy and SciPy, or SciKitLearn for machine learning."
   ]
  },
  {
   "cell_type": "code",
   "execution_count": null,
   "id": "4424b56a-4cfa-437d-bf7c-49547a0c7118",
   "metadata": {},
   "outputs": [],
   "source": [
    "# step 4 - plot the data\n",
    "f, ax = plt.subplots(1,1,figsize=(12,8))\n",
    "ax.plot((arr[:,0]),arr[:,1], label='USD/ETH' )\n",
    "ax.legend()\n",
    "ax.set_xlabel('days')\n",
    "ax.set_ylabel('usd')\n",
    "#ax.set_yscale('log')"
   ]
  },
  {
   "cell_type": "code",
   "execution_count": null,
   "id": "2194fbf6-c9d7-4c65-a2a4-02052f9796c9",
   "metadata": {},
   "outputs": [],
   "source": []
  }
 ],
 "metadata": {
  "kernelspec": {
   "display_name": "Python 3 (ipykernel)",
   "language": "python",
   "name": "python3"
  },
  "language_info": {
   "codemirror_mode": {
    "name": "ipython",
    "version": 3
   },
   "file_extension": ".py",
   "mimetype": "text/x-python",
   "name": "python",
   "nbconvert_exporter": "python",
   "pygments_lexer": "ipython3",
   "version": "3.7.11"
  }
 },
 "nbformat": 4,
 "nbformat_minor": 5
}
