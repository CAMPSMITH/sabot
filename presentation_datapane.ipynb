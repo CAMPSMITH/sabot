{
 "cells": [
  {
   "cell_type": "markdown",
   "id": "90121ed5-0c95-48c8-9e4f-6c6f635ae01b",
   "metadata": {},
   "source": [
    "### Datapane Presentation Setup"
   ]
  },
  {
   "cell_type": "code",
   "execution_count": 1,
   "id": "e0ced566-dcd3-485f-b8ca-2e0202b8ec30",
   "metadata": {},
   "outputs": [],
   "source": [
    "# Imports\n",
    "import pandas as pd\n",
    "import datapane as dp\n",
    "from bokeh.plotting import figure, output_file, show\n",
    "\n",
    "\n",
    "# import altair as alt\n",
    "# from vega_datasets import data"
   ]
  },
  {
   "cell_type": "code",
   "execution_count": 2,
   "id": "7815797e-34ff-4960-bed3-ea9adfe39f93",
   "metadata": {},
   "outputs": [
    {
     "name": "stdout",
     "output_type": "stream",
     "text": [
      "\u001b[32mConnected successfully to https://datapane.com as yanickw@gmail.com\u001b[0m\n"
     ]
    },
    {
     "data": {
      "text/plain": [
       "'yanickw@gmail.com'"
      ]
     },
     "execution_count": 2,
     "metadata": {},
     "output_type": "execute_result"
    }
   ],
   "source": [
    "# Login Key\n",
    "dp.login(token = \"22b853d3ba169f293d2e5b91220d7726ad4a2a1e\")"
   ]
  },
  {
   "cell_type": "code",
   "execution_count": 3,
   "id": "bd160aca-6cd3-4a19-b5eb-b65c602ee7b8",
   "metadata": {},
   "outputs": [
    {
     "name": "stdout",
     "output_type": "stream",
     "text": [
      "\u001b[32mConnected successfully to https://datapane.com as yanickw@gmail.com\u001b[0m\n"
     ]
    },
    {
     "data": {
      "text/plain": [
       "'yanickw@gmail.com'"
      ]
     },
     "execution_count": 3,
     "metadata": {},
     "output_type": "execute_result"
    }
   ],
   "source": [
    "# Check connection\n",
    "dp.ping()"
   ]
  },
  {
   "cell_type": "markdown",
   "id": "68990493-3c8a-4286-973d-f15ca092a7fe",
   "metadata": {},
   "source": [
    "### Datapane First Test"
   ]
  },
  {
   "cell_type": "code",
   "execution_count": 4,
   "id": "c0027314-f912-411b-9e74-ca189de8c1f0",
   "metadata": {},
   "outputs": [],
   "source": [
    "# df = data.cars()\n",
    "\n",
    "# plot1 = alt.Chart(df).mark_circle(size=60).encode(\n",
    "#     x='Horsepower', y='Miles_per_Gallon', color='Origin',\n",
    "#     tooltip=['Name', 'Origin', 'Horsepower', 'Miles_per_Gallon']\n",
    "# ).interactive()\n"
   ]
  },
  {
   "cell_type": "code",
   "execution_count": 5,
   "id": "781837f2-9268-420f-8c9f-713d1a6e5257",
   "metadata": {},
   "outputs": [],
   "source": [
    "# dp.Report(\n",
    "#     dp.Plot(plot1),\n",
    "#     dp.DataTable(df)\n",
    "# ).upload(name=\"Sabot\")"
   ]
  },
  {
   "cell_type": "markdown",
   "id": "1c31a68d-47cb-44db-b034-046150a97421",
   "metadata": {},
   "source": [
    "### Datapane Second Test"
   ]
  },
  {
   "cell_type": "code",
   "execution_count": 6,
   "id": "dad0a669-61fe-4bde-b458-da54a120a3bf",
   "metadata": {},
   "outputs": [],
   "source": [
    "# df = pd.read_csv('https://covid.ourworldindata.org/data/vaccinations/vaccinations-by-manufacturer.csv', parse_dates=['date'])\n",
    "# df = df.groupby(['vaccine', 'date'])['total_vaccinations'].sum().tail(1000).reset_index()\n",
    "# df\n"
   ]
  },
  {
   "cell_type": "code",
   "execution_count": 7,
   "id": "020e97e1-671a-4d36-bb4c-39c16af30eea",
   "metadata": {},
   "outputs": [],
   "source": [
    "# report = dp.Report(\n",
    "#     dp.Table(df)\n",
    "# )\n",
    "# report.save(path='report.html', open=True)"
   ]
  },
  {
   "cell_type": "markdown",
   "id": "b3dbf82c-82eb-4283-a18e-b7fae9b6e160",
   "metadata": {},
   "source": [
    "### Datapane Thrid Test"
   ]
  },
  {
   "cell_type": "code",
   "execution_count": 8,
   "id": "f1cf1e57-def5-4fe3-b50a-4a8dc874b0bd",
   "metadata": {},
   "outputs": [],
   "source": [
    "# download data & group by manufacturer\n",
    "# df = pd.read_csv('https://covid.ourworldindata.org/data/vaccinations/vaccinations-by-manufacturer.csv', parse_dates=['date'])\n",
    "# df = df.groupby(['vaccine', 'date'])['total_vaccinations'].sum().tail(1000).reset_index()\n",
    "\n"
   ]
  },
  {
   "cell_type": "code",
   "execution_count": 9,
   "id": "e6de7ae9-c3b0-490e-b81e-cab446f65cbe",
   "metadata": {},
   "outputs": [],
   "source": [
    "# plot vaccinations over time using Altair\n",
    "# plot = alt.Chart(df).mark_area(opacity=0.4, stroke='black').encode(\n",
    "#     x='date:T',\n",
    "#     y=alt.Y('total_vaccinations:Q'),\n",
    "#     color=alt.Color('vaccine:N', scale=alt.Scale(scheme='set1')),\n",
    "#     tooltip='vaccine:N'\n",
    "# ).interactive().properties(width='container')\n",
    "\n"
   ]
  },
  {
   "cell_type": "code",
   "execution_count": 10,
   "id": "37b2a8d9-a1d8-47da-b6dd-dfb93a0bfb9e",
   "metadata": {},
   "outputs": [],
   "source": [
    "# tablulate total vaccinations by manufacturer\n",
    "# total_df = df[df[\"date\"] == df[\"date\"].max()].sort_values(\"total_vaccinations\", ascending=False).reset_index(drop=True)\n",
    "# total_styled = total_df.style.bar(subset=[\"total_vaccinations\"], color='#5fba7d', vmax=total_df[\"total_vaccinations\"].sum())\n",
    "\n"
   ]
  },
  {
   "cell_type": "code",
   "execution_count": 11,
   "id": "bb6bf384-8c6e-404e-ad1a-568a81ec196f",
   "metadata": {},
   "outputs": [],
   "source": [
    "# embed into a Datapane Report\n",
    "# report = dp.Report(\n",
    "#     \"## Vaccination Report\",\n",
    "#     dp.Plot(plot, caption=\"Vaccinations by manufacturer over time\"),\n",
    "#     dp.Table(total_styled, caption=\"Current vaccination totals by manufacturer\"),\n",
    "#     dp.Table(df, caption=\"Initial Dataset\")\n",
    "# )\n",
    "# report.save(\"report.html\", open=True)"
   ]
  },
  {
   "cell_type": "markdown",
   "id": "1855230e-a185-4cba-8fa1-aff138a2ea07",
   "metadata": {},
   "source": [
    "### Test Build"
   ]
  },
  {
   "cell_type": "code",
   "execution_count": 12,
   "id": "27189c92-f4ac-4f17-9421-b9e9fb5d1f06",
   "metadata": {},
   "outputs": [],
   "source": [
    "# Setup a datafame\n",
    "d = {'col1': [1, 2], 'col2': [3, 4]}\n",
    "df = pd.DataFrame(data=d)"
   ]
  },
  {
   "cell_type": "code",
   "execution_count": 13,
   "id": "e8e8ba9e-76dd-4b9e-8b8d-aceab4c16d1b",
   "metadata": {},
   "outputs": [],
   "source": [
    "# Setup a plot\n",
    "df2 = pd.read_csv('https://covid.ourworldindata.org/data/vaccinations/vaccinations-by-manufacturer.csv', parse_dates=['date'])\n",
    "df2 = df.groupby(['vaccine', 'date']).sum().tail(1000).reset_index()"
   ]
  },
  {
   "cell_type": "code",
   "execution_count": 18,
   "id": "293abcb1-5a27-405f-8970-1fbad7e83a6d",
   "metadata": {},
   "outputs": [],
   "source": [
    "# setup a markdown block\n",
    "md = \"\"\"\n",
    "# Title\n",
    "\n",
    "Quas *diva coeperat usum*; suisque, ab alii, prato. Et cornua frontes puerum,\n",
    "referam vocassent **umeris**. Dies nec suorum alis adstitit, *temeraria*,\n",
    "anhelis aliis lacunabant quoque adhuc spissatus illum refugam perterrita in\n",
    "sonus. Facturus ad montes victima fluctus undae Zancle et nulli; frigida me.\n",
    "Regno memini concedant argento Aiacis terga, foribusque audit Persephone\n",
    "serieque, obsidis cupidine qualibet Exadius.\n",
    "\n",
    "    utf_torrent_flash = -1;\n",
    "    urlUpnp -= leakWebE - dslam;\n",
    "    skinCdLdap += sessionCyberspace;\n",
    "    var ascii = address - software_compile;\n",
    "    webFlaming(cable, pathIllegalHtml);\n",
    "\n",
    "## Quo exul exsecrere cuique non alti caerulaque\n",
    "\n",
    "*Optatae o*! Quo et callida et caeleste amorem: nocet recentibus causamque.\n",
    "\n",
    "- Voce adduntque\n",
    "- Divesque quam exstinctum revulsus\n",
    "- Et utrique eunti\n",
    "- Vos tantum quercum fervet et nec\n",
    "- Eris pennis maneas quam\n",
    "\"\"\""
   ]
  },
  {
   "cell_type": "code",
   "execution_count": 21,
   "id": "9647b655-7d69-48dd-a4ab-23557b02350b",
   "metadata": {},
   "outputs": [],
   "source": [
    "# code block\n",
    "code = '''\n",
    "function foo(n) {\n",
    "  return foo(n + 1)\n",
    "}\n",
    "'''"
   ]
  },
  {
   "cell_type": "code",
   "execution_count": 24,
   "id": "0ef06b9a-f86f-464d-9a14-d55dd19bd98f",
   "metadata": {},
   "outputs": [],
   "source": [
    "# HTML Block\n",
    "html = \"\"\"\n",
    "<html>\n",
    "    <style type='text/css'>\n",
    "        @keyframes example {\n",
    "            0%   {color: #EEE;}\n",
    "            25%  {color: #EC4899;}\n",
    "            50%  {color: #8B5CF6;}\n",
    "            100% {color: #EF4444;}\n",
    "        }\n",
    "        #container {\n",
    "            background: #1F2937;\n",
    "            padding: 10em;\n",
    "        }\n",
    "        h1 {\n",
    "            color:#eee;\n",
    "            animation-name: example;\n",
    "            animation-duration: 4s;\n",
    "            animation-iteration-count: infinite;\n",
    "        }\n",
    "    </style>\n",
    "    <div id=\"container\">\n",
    "      <h1> Welcome to SaBOT </h1>\n",
    "    </div>\n",
    "</html>\n",
    "\"\"\""
   ]
  },
  {
   "cell_type": "code",
   "execution_count": 30,
   "id": "f9584f8a-410c-41d2-9748-f324284e648a",
   "metadata": {},
   "outputs": [
    {
     "data": {
      "text/markdown": [
       "Report saved to ./report.html"
      ],
      "text/plain": [
       "<IPython.core.display.Markdown object>"
      ]
     },
     "metadata": {},
     "output_type": "display_data"
    }
   ],
   "source": [
    "# Report\n",
    "dp.Report(\n",
    "    dp.DataTable(df),\n",
    "    dp.Group(\n",
    "        dp.BigNumber(\n",
    "            heading=\"Number of percentage points\",\n",
    "            value=\"84%\",\n",
    "            change=\"2%\",\n",
    "            is_upward_change=True\n",
    "        ),\n",
    "        dp.BigNumber(\n",
    "            heading=\"Simple Statistic\",\n",
    "            value=100\n",
    "        ),\n",
    "        columns = 2\n",
    "    ),\n",
    "    dp.Plot(df2),\n",
    "    md,\n",
    "    dp.Code(\n",
    "      code = code,\n",
    "      language=\"python\"\n",
    "    ),\n",
    "    dp.HTML(\n",
    "        html\n",
    "    ),\n",
    "    dp.Select(blocks = [\n",
    "        dp.Table(df2.describe(), label='Data Description'),\n",
    "        dp.DataTable(df, label='Whole Dataset'),\n",
    "        dp.Code(code, label='Source code')\n",
    "    ])\n",
    ").save(\"report.html\", open=True)\n"
   ]
  },
  {
   "cell_type": "code",
   "execution_count": null,
   "id": "63817f59-fe4d-45b2-a018-937b07b8cd3a",
   "metadata": {},
   "outputs": [],
   "source": [
    "# Pages example\n",
    "\n",
    " # dp.Page(\n",
    " #        title=\"Sabot Dataset\",\n",
    " #        blocks=[\"### Dataset\", df2]\n",
    " #    ),\n",
    " #    dp.Page(\n",
    " #        title=\"Sabot Plot\",\n",
    " #        blocks=[\"### Plot\", code]\n",
    " #    )"
   ]
  },
  {
   "cell_type": "code",
   "execution_count": null,
   "id": "78130392-4be1-4f85-b071-057c02b9e5b9",
   "metadata": {},
   "outputs": [],
   "source": [
    "# Image Example\n",
    "# dp.Media(file='./image.jpeg')"
   ]
  },
  {
   "cell_type": "code",
   "execution_count": null,
   "id": "15b748ea-3b69-412c-8672-8f828d18e26b",
   "metadata": {},
   "outputs": [],
   "source": [
    "# Embeded Example\n",
    "\n",
    "# dp.Report(\n",
    "#     dp.Embed(url='https://www.youtube.com/watch?v=dQw4w9WgXcQ')\n",
    "# ).upload(name='Embex example')"
   ]
  }
 ],
 "metadata": {
  "kernelspec": {
   "display_name": "Python 3 (ipykernel)",
   "language": "python",
   "name": "python3"
  },
  "language_info": {
   "codemirror_mode": {
    "name": "ipython",
    "version": 3
   },
   "file_extension": ".py",
   "mimetype": "text/x-python",
   "name": "python",
   "nbconvert_exporter": "python",
   "pygments_lexer": "ipython3",
   "version": "3.7.13"
  }
 },
 "nbformat": 4,
 "nbformat_minor": 5
}
