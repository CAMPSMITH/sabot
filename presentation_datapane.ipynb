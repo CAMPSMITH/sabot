{
 "cells": [
  {
   "cell_type": "markdown",
   "id": "90121ed5-0c95-48c8-9e4f-6c6f635ae01b",
   "metadata": {},
   "source": [
    "### Datapane Presentation Setup"
   ]
  },
  {
   "cell_type": "code",
   "execution_count": 1,
   "id": "e0ced566-dcd3-485f-b8ca-2e0202b8ec30",
   "metadata": {},
   "outputs": [],
   "source": [
    "# Imports\n",
    "import pandas as pd\n",
    "from pathlib import Path\n",
    "import datapane as dp\n",
    "from bokeh.plotting import figure, output_file, show\n",
    "\n",
    "\n",
    "# import altair as alt\n",
    "# from vega_datasets import data"
   ]
  },
  {
   "cell_type": "code",
   "execution_count": 2,
   "id": "7815797e-34ff-4960-bed3-ea9adfe39f93",
   "metadata": {},
   "outputs": [
    {
     "name": "stdout",
     "output_type": "stream",
     "text": [
      "\u001b[32mConnected successfully to https://datapane.com as yanickw@gmail.com\u001b[0m\n"
     ]
    },
    {
     "data": {
      "text/plain": [
       "'yanickw@gmail.com'"
      ]
     },
     "execution_count": 2,
     "metadata": {},
     "output_type": "execute_result"
    }
   ],
   "source": [
    "# Login Key\n",
    "dp.login(token = \"22b853d3ba169f293d2e5b91220d7726ad4a2a1e\")"
   ]
  },
  {
   "cell_type": "code",
   "execution_count": 3,
   "id": "bd160aca-6cd3-4a19-b5eb-b65c602ee7b8",
   "metadata": {},
   "outputs": [
    {
     "name": "stdout",
     "output_type": "stream",
     "text": [
      "\u001b[32mConnected successfully to https://datapane.com as yanickw@gmail.com\u001b[0m\n"
     ]
    },
    {
     "data": {
      "text/plain": [
       "'yanickw@gmail.com'"
      ]
     },
     "execution_count": 3,
     "metadata": {},
     "output_type": "execute_result"
    }
   ],
   "source": [
    "# Check connection\n",
    "dp.ping()"
   ]
  },
  {
   "cell_type": "markdown",
   "id": "1855230e-a185-4cba-8fa1-aff138a2ea07",
   "metadata": {},
   "source": [
    "### Presentation Data"
   ]
  },
  {
   "cell_type": "code",
   "execution_count": 4,
   "id": "27189c92-f4ac-4f17-9421-b9e9fb5d1f06",
   "metadata": {},
   "outputs": [],
   "source": [
    "# Setup Datafames\n",
    "df = pd.read_csv(Path(\"./data/sUSD_USDC_ku_historical_price.csv\"))\n",
    "\n",
    "btc_hist = pd.read_csv(Path(\"./data/BTC_historical_price.csv\"))\n",
    "eth_hist = pd.read_csv(Path(\"./data/ETH_historical_price.csv\"))\n",
    "susd_hist = pd.read_csv(Path(\"./data/sUSD_historical_price.csv\"))\n",
    "usdt_hist = pd.read_csv(Path(\"./data/USDT_historical_price.csv\"))\n",
    "win_param = pd.read_csv(Path(\"./data/winning_parameters.csv\"))"
   ]
  },
  {
   "cell_type": "code",
   "execution_count": 5,
   "id": "0ef06b9a-f86f-464d-9a14-d55dd19bd98f",
   "metadata": {},
   "outputs": [],
   "source": [
    "# HTML Block\n",
    "html = \"\"\"\n",
    "<html>\n",
    "    <style type='text/css'>\n",
    "        @keyframes example {\n",
    "            0%   {color: #EEE;}\n",
    "            25%  {color: #EC4899;}\n",
    "            50%  {color: #8B5CF6;}\n",
    "            100% {color: #EF4444;}\n",
    "        }\n",
    "        #container {\n",
    "            background: #1F2937;\n",
    "            padding: 1em;\n",
    "        }\n",
    "        h1 {\n",
    "            color:#eee;\n",
    "            animation-name: example;\n",
    "            animation-duration: 10s;\n",
    "            animation-iteration-count: infinite;\n",
    "        }\n",
    "    </style>\n",
    "    <div id=\"container\">\n",
    "      <h1> Welcome to SaBOT </h1>\n",
    "    </div>\n",
    "</html>\n",
    "\"\"\""
   ]
  },
  {
   "cell_type": "code",
   "execution_count": 6,
   "id": "293abcb1-5a27-405f-8970-1fbad7e83a6d",
   "metadata": {},
   "outputs": [],
   "source": [
    "# setup a markdown block\n",
    "intro = \"\"\"\n",
    "SABot is a machine learning powered automated trading bot that capitalizes on stablecoin instability.\n",
    "\n",
    "\"\"\""
   ]
  },
  {
   "cell_type": "code",
   "execution_count": 7,
   "id": "f6e301ea-475b-4559-bc2f-cfcdc41ae844",
   "metadata": {},
   "outputs": [],
   "source": [
    "project_outline = \"\"\"\n",
    "### Project Outline\n",
    "\n",
    "Based on earlier analysis (see https://github.com/CAMPSMITH/StableOps),\n",
    "there may be lucrative arbitrage opportunities with relatively unstable\n",
    "stable coins, e.g. sUSD. This project will focus on arbitrage trading between\n",
    "a very stable coin, like USDT, and a more volatile stablecoin, sUSD.\n",
    "In order to minimize cost and maximize trading opportunities, a low cost\n",
    "platform and chain with high liquidity of the coins to trade will be used,\n",
    "candidates being explored are Uniswap V2 on Ethereum chain, Uniswap Optimism,\n",
    "or KuCoin.\n",
    "\"\"\""
   ]
  },
  {
   "cell_type": "code",
   "execution_count": 8,
   "id": "561a3d6c-d1fd-4fec-b15d-4b0dc5e9e400",
   "metadata": {},
   "outputs": [],
   "source": [
    "questions = \"\"\"\n",
    "### Question\n",
    "\n",
    "- Can machine learning models be used to implement a profitable automated arbitrage trading bot?\n",
    "- Which model is more effective?\n",
    "\"\"\""
   ]
  },
  {
   "cell_type": "code",
   "execution_count": 9,
   "id": "f59532bd-c904-4643-8a19-fce77261ebe6",
   "metadata": {},
   "outputs": [],
   "source": [
    "historical_data = \"\"\"\n",
    "### Historical Data\n",
    "\n",
    "Identified a year and a half of historical hourly data for BTC, sUSD, USDT, ETH from CryptoCompare & CCTX using their API and created our Dataset\n",
    "and appended it to a CSV.\n",
    "\"\"\""
   ]
  },
  {
   "cell_type": "code",
   "execution_count": 10,
   "id": "0160f8f4-33b9-4370-a397-dd4b00e3127e",
   "metadata": {},
   "outputs": [],
   "source": [
    "augmented_dataset = \"\"\"\n",
    "### Engineered Data Feature\n",
    "- Fast SMA\n",
    "- Slow SMA\n",
    "- Rolling Standard Deviation\n",
    "- Bollinger Bands\n",
    "- Mass Index\n",
    "- Adaptive Price Zone\n",
    "\n",
    "\"\"\""
   ]
  },
  {
   "cell_type": "code",
   "execution_count": 64,
   "id": "0070de66-8571-469a-b34e-e8f11ffdb835",
   "metadata": {},
   "outputs": [],
   "source": [
    "signals = \"\"\"\n",
    "### Trading Signal\n",
    "\n",
    "- No trade = 0\n",
    "- Buy = 1\n",
    "- Sell = -1\n",
    "\"\"\""
   ]
  },
  {
   "cell_type": "code",
   "execution_count": 65,
   "id": "8ccd0952-4ef2-4fba-a6ce-412ac8585ee7",
   "metadata": {},
   "outputs": [],
   "source": [
    "train = \"\"\"\n",
    "### Classifier Selection\n",
    "\n",
    "Backtesting Results\n",
    "\"\"\""
   ]
  },
  {
   "cell_type": "code",
   "execution_count": 66,
   "id": "efd1e3f8-4eaa-4940-9d7c-4280568561e1",
   "metadata": {},
   "outputs": [],
   "source": [
    "backtesting = \"\"\"\n",
    "### Backtesting\n",
    "\n",
    "- $$$$ - was it successful\n",
    "- classification - accuracy, recall and precision\n",
    "\"\"\""
   ]
  },
  {
   "cell_type": "code",
   "execution_count": 67,
   "id": "5b736a8e-0349-4c5e-b463-ce613b2871c9",
   "metadata": {},
   "outputs": [],
   "source": [
    "tuning = \"\"\"\n",
    "### Tuning\n",
    "\n",
    "[mozaic of histogram]\n",
    "\"\"\""
   ]
  },
  {
   "cell_type": "code",
   "execution_count": 68,
   "id": "45a702c8-7a26-4d4f-a746-df71965f8a17",
   "metadata": {},
   "outputs": [],
   "source": [
    "winning_param = \"\"\"\n",
    "\n",
    "### Winning Parameters\n",
    "\"\"\""
   ]
  },
  {
   "cell_type": "code",
   "execution_count": 69,
   "id": "63e2c9ff-e09c-4b93-938c-07c741a66aa7",
   "metadata": {},
   "outputs": [],
   "source": [
    "reliability = \"\"\"\n",
    "### Testing model reliability\n",
    "\n",
    "\n",
    "\"\"\""
   ]
  },
  {
   "cell_type": "code",
   "execution_count": 70,
   "id": "50ecf630-0ff6-405c-8078-f37e7512d188",
   "metadata": {},
   "outputs": [],
   "source": [
    "deploy_inference = \"\"\"\n",
    "### Deploy into Inference\n",
    "\n",
    "- SageMaker Endpoint\n",
    "\"\"\""
   ]
  },
  {
   "cell_type": "code",
   "execution_count": 71,
   "id": "78d80e94-6881-4d8c-ad4d-faf18b516b29",
   "metadata": {},
   "outputs": [],
   "source": [
    "exchange = \"\"\"\n",
    "### Exchange\n",
    "\n",
    "Modeling our research on Curve\n",
    "- Curve\n",
    "\n",
    "\"\"\""
   ]
  },
  {
   "cell_type": "code",
   "execution_count": 72,
   "id": "7ee479d2-6162-4dc3-a9b0-b7a93d78d42a",
   "metadata": {},
   "outputs": [],
   "source": [
    "gas_fees = \"\"\"\n",
    "### Gas Fees\n",
    "\n",
    "- Trading\n",
    "\n",
    "\"\"\""
   ]
  },
  {
   "cell_type": "code",
   "execution_count": 73,
   "id": "4d099661-08da-4ff4-91c3-a490b8159bcd",
   "metadata": {},
   "outputs": [],
   "source": [
    "schedule = \"\"\"\n",
    "### Scheduling\n",
    "\n",
    "\"\"\""
   ]
  },
  {
   "cell_type": "code",
   "execution_count": 74,
   "id": "d698255a-241c-4d0b-ab20-90522d4df358",
   "metadata": {},
   "outputs": [],
   "source": [
    "team = \"\"\"\n",
    "### The Team\n",
    "\n",
    "\n",
    "\"\"\""
   ]
  },
  {
   "cell_type": "code",
   "execution_count": 75,
   "id": "ac8d9c6d-06d7-4d65-904f-ee62425cd2aa",
   "metadata": {},
   "outputs": [],
   "source": [
    "github = \"\"\"\n",
    "### GitHub\n",
    "\n",
    "For more information, please visit our github project.\n",
    "\n",
    "SaBOT at https://github.com/CAMPSMITH/sabot\n",
    "\n",
    "\"\"\""
   ]
  },
  {
   "cell_type": "code",
   "execution_count": 76,
   "id": "0f76f0f9-76a8-447b-b93c-5a50c77f0c80",
   "metadata": {},
   "outputs": [],
   "source": [
    "martin = \"Martin Smith\"\n",
    "jon = \"Jon Gruenewald\"\n",
    "kevin = \"Kevin\"\n",
    "quintin = \"Quintin\"\n",
    "yanick = \"Yanick Wilisky\""
   ]
  },
  {
   "cell_type": "markdown",
   "id": "89b2fba0-e5c2-40b5-abaa-11f0a8661583",
   "metadata": {},
   "source": [
    "### SaBot Presentation"
   ]
  },
  {
   "cell_type": "code",
   "execution_count": 80,
   "id": "f9584f8a-410c-41d2-9748-f324284e648a",
   "metadata": {},
   "outputs": [
    {
     "data": {
      "text/markdown": [
       "Report saved to ./report.html"
      ],
      "text/plain": [
       "<IPython.core.display.Markdown object>"
      ]
     },
     "metadata": {},
     "output_type": "display_data"
    }
   ],
   "source": [
    "# Report\n",
    "dp.Report(\n",
    "     dp.Page(\n",
    "        title=\"INTRODUCTION\",\n",
    "        blocks=[\"## *INTRODUCTION*\",\n",
    "                dp.HTML(\n",
    "                    html\n",
    "                ),\n",
    "                intro,\n",
    "                project_outline,\n",
    "                questions\n",
    "               ]\n",
    "     ),\n",
    "    dp.Page(\n",
    "        title=\"DATASET | PREP\",\n",
    "        blocks=[\"## *DATASET*\",\n",
    "                historical_data,\n",
    "                dp.Select(blocks = [\n",
    "                    dp.DataTable(btc_hist, label = \"BTC Historical Price\"),\n",
    "                    dp.DataTable(eth_hist, label = \"ETH Historical Price\"),\n",
    "                    dp.DataTable(susd_hist, label = \"sUSD Historical Price\"),\n",
    "                    dp.DataTable(usdt_hist, label = \"USDT Historical Price\"),\n",
    "                ]),\n",
    "                dp.Group(\n",
    "                    augmented_dataset,\n",
    "                    signals,\n",
    "                    columns = 2\n",
    "                ),\n",
    "               ]\n",
    "    ),\n",
    "    dp.Page(\n",
    "        title=\"MODEL TRAINING\",\n",
    "        blocks=[\"## *MODEL TRAINING*\",\n",
    "                dp.Group(\n",
    "                    dp.BigNumber(\n",
    "                        heading = \"Classifier\",\n",
    "                        value = 4\n",
    "                    ),\n",
    "                    dp.BigNumber(\n",
    "                        heading = \"Tuning Parameter\",\n",
    "                        value = 6\n",
    "                    ),\n",
    "                    dp.BigNumber(\n",
    "                        heading = \"Model Permutations Trained\",\n",
    "                        value = \"9,216\"\n",
    "                    ),\n",
    "                    dp.BigNumber(\n",
    "                        heading = \"Total of Hours to Train\",\n",
    "                        value = \"8:31:53 hours\"\n",
    "                    ),\n",
    "                    columns = 4\n",
    "                ),\n",
    "                train,\n",
    "                # backtesting,\n",
    "                dp.Group(\n",
    "                    dp.Media(\n",
    "                        file = \"./images/LogisticRegression-tr6_returns.png\",\n",
    "                        name=\"LogisticRegression\",\n",
    "                        caption=\"Logistic Regression image\"\n",
    "                    ),\n",
    "                    dp.Media(\n",
    "                        file = \"./images/SVC-tr6_returns.png\",\n",
    "                        name=\"SVC\",\n",
    "                        caption=\"SVC returns image\"\n",
    "                    ),\n",
    "                    dp.Media(\n",
    "                        file = \"./images/AdaBoostClassifier-tr1_returns.png\",\n",
    "                        name=\"AdaBoostClassifier\",\n",
    "                        caption=\"AdaBoost Classifier image\"\n",
    "                    ),\n",
    "                    dp.Media(\n",
    "                        file = \"./images/DecisionTreeClassifier-tr6_returns.png\",\n",
    "                        name=\"DecisionTreeClassifier\",\n",
    "                        caption=\"Decision Tree Classifier image\"\n",
    "                    ),\n",
    "                    columns = 4\n",
    "                ),\n",
    "                tuning,\n",
    "                dp.BigNumber(\n",
    "                    heading = \"Best of the Best Used to Determine Tuning Parameters\",\n",
    "                    value = \"144 out of 9,216\"\n",
    "                ),\n",
    "                winning_param,\n",
    "                dp.Table(win_param),\n",
    "                reliability,\n",
    "                dp.Media(\n",
    "                        file = \"./images/mc_p1_LogisticRegression-tr6_returns.png\",\n",
    "                        name = \"mc_p1_LogisticRegression\",\n",
    "                        caption = \"MC Logistic Regression\"\n",
    "                )\n",
    "               ]\n",
    "    ),\n",
    "    dp.Page(\n",
    "        title=\"PAPER TRADING\",\n",
    "        blocks=[\"## *TRADING BOT*\",\n",
    "                # deploy_inference,\n",
    "                dp.Media(\n",
    "                        file = \"./images/trading_bot.png\",\n",
    "                        name = \"tradingBotExplanation\",\n",
    "                        caption = \"Trading Bot in a Nutshell\"\n",
    "                ),\n",
    "                exchange,\n",
    "                gas_fees,\n",
    "                dp.Group(\n",
    "                    dp.Media(\n",
    "                        file = \"./images/LogisticRegression_fee_tolerance.png\",\n",
    "                        name = \"LogisticRegressionFeeTolerance\",\n",
    "                        caption = \"Logistic Regression Fee\"\n",
    "                    ),\n",
    "                    dp.Media(\n",
    "                        file = \"./images/fee_LogisticRegression-tr6_returns.png\",\n",
    "                        name = \"fee_LogisticRegression\",\n",
    "                        caption = \"Fee Logistic Regression\"\n",
    "                    ),\n",
    "                    columns = 2\n",
    "                ),\n",
    "                schedule\n",
    "               ]\n",
    "    ),\n",
    "    dp.Page(\n",
    "        title=\"ABOUT US\",\n",
    "        blocks=[\"## *ABOUT US*\",\n",
    "                team,\n",
    "                dp.Group(\n",
    "                    dp.Media(\n",
    "                        file = \"./images/MartinSmith.png\",\n",
    "                        name=\"MartinSmith\",\n",
    "                        # caption=\"Martin Smith\"\n",
    "                    ),\n",
    "                    dp.Media(\n",
    "                        file = \"./images/MartinSmith.png\",\n",
    "                        name=\"Kevin\",\n",
    "                        # caption=\"Kevin\"\n",
    "                    ),\n",
    "                    dp.Media(\n",
    "                        file = \"./images/MartinSmith.png\",\n",
    "                        name=\"Quintin\",\n",
    "                        # caption=\"Quintin\"\n",
    "                    ),\n",
    "                    dp.Media(\n",
    "                        file = \"./images/MartinSmith.png\",\n",
    "                        name=\"JohnGruewald\",\n",
    "                        # caption=\"John Gruewald\"\n",
    "                    ),\n",
    "                    dp.Media(\n",
    "                        file = \"./images/MartinSmith.png\",\n",
    "                        name=\"YanickWilisky\",\n",
    "                        # caption=\"Yanick Wilisky\",\n",
    "                        # label=\"test\"\n",
    "                    ),\n",
    "                    columns = 5\n",
    "                ),\n",
    "                dp.Group(\n",
    "                    martin,\n",
    "                    jon,\n",
    "                    kevin,\n",
    "                    quintin,\n",
    "                    yanick,\n",
    "                    columns = 5\n",
    "                ),\n",
    "                github\n",
    "               ])\n",
    ").save(\"report.html\", open=True)"
   ]
  },
  {
   "cell_type": "markdown",
   "id": "76923f4c-399c-464a-a678-e1495ccc45ae",
   "metadata": {
    "tags": []
   },
   "source": [
    "### Examples"
   ]
  },
  {
   "cell_type": "code",
   "execution_count": 25,
   "id": "9647b655-7d69-48dd-a4ab-23557b02350b",
   "metadata": {},
   "outputs": [],
   "source": [
    "# code block exemple\n",
    "\n",
    "# code = '''\n",
    "# function foo(n) {\n",
    "#   return foo(n + 1)\n",
    "# }\n",
    "# '''"
   ]
  },
  {
   "cell_type": "code",
   "execution_count": 26,
   "id": "d99e7097-9eec-436a-99b5-615bb6ff0f62",
   "metadata": {},
   "outputs": [],
   "source": [
    "# Code example\n",
    "# code_snipet = \"\"\"\n",
    "# # Code Snipet\n",
    "\n",
    "#     utf_torrent_flash = -1;\n",
    "#     urlUpnp -= leakWebE - dslam;\n",
    "#     skinCdLdap += sessionCyberspace;\n",
    "#     var ascii = address - software_compile;\n",
    "#     webFlaming(cable, pathIllegalHtml);\n",
    "\n",
    "\n",
    "# \"\"\""
   ]
  },
  {
   "cell_type": "code",
   "execution_count": 27,
   "id": "63817f59-fe4d-45b2-a018-937b07b8cd3a",
   "metadata": {},
   "outputs": [],
   "source": [
    "# Pages example\n",
    "\n",
    " # dp.Page(\n",
    " #        title=\"Sabot Dataset\",\n",
    " #        blocks=[\"### Dataset\", df2]\n",
    " #    ),\n",
    " #    dp.Page(\n",
    " #        title=\"Sabot Plot\",\n",
    " #        blocks=[\"### Plot\", code]\n",
    " #    )"
   ]
  },
  {
   "cell_type": "code",
   "execution_count": 28,
   "id": "15b748ea-3b69-412c-8672-8f828d18e26b",
   "metadata": {},
   "outputs": [],
   "source": [
    "# Embeded Example\n",
    "\n",
    "# dp.Report(\n",
    "#     dp.Embed(url='https://www.youtube.com/watch?v=dQw4w9WgXcQ')\n",
    "# ).upload(name='Embex example')"
   ]
  },
  {
   "cell_type": "code",
   "execution_count": 29,
   "id": "6229f79f-97b6-443c-ab5a-7f23d04a94f2",
   "metadata": {},
   "outputs": [],
   "source": [
    "# Select Example\n",
    "\n",
    "# dp.Select(blocks = [\n",
    "#     dp.Table(df.describe(), label='Data Description'),\n",
    "#     dp.DataTable(df, label='Whole Dataset'),\n",
    "#     dp.Code(code, label='Source code')"
   ]
  },
  {
   "cell_type": "code",
   "execution_count": 30,
   "id": "e6de7ae9-c3b0-490e-b81e-cab446f65cbe",
   "metadata": {},
   "outputs": [],
   "source": [
    "# plot vaccinations over time using Altair\n",
    "# plot = alt.Chart(df).mark_area(opacity=0.4, stroke='black').encode(\n",
    "#     x='date:T',\n",
    "#     y=alt.Y('total_vaccinations:Q'),\n",
    "#     color=alt.Color('vaccine:N', scale=alt.Scale(scheme='set1')),\n",
    "#     tooltip='vaccine:N'\n",
    "# ).interactive().properties(width='container')\n"
   ]
  },
  {
   "cell_type": "code",
   "execution_count": 31,
   "id": "781837f2-9268-420f-8c9f-713d1a6e5257",
   "metadata": {},
   "outputs": [],
   "source": [
    "# dp.Report(\n",
    "#     dp.Plot(plot1),\n",
    "#     dp.DataTable(df)\n",
    "# ).upload(name=\"Sabot\")"
   ]
  },
  {
   "cell_type": "code",
   "execution_count": 32,
   "id": "c0027314-f912-411b-9e74-ca189de8c1f0",
   "metadata": {},
   "outputs": [],
   "source": [
    "# df = data.cars()\n",
    "\n",
    "# plot1 = alt.Chart(df).mark_circle(size=60).encode(\n",
    "#     x='Horsepower', y='Miles_per_Gallon', color='Origin',\n",
    "#     tooltip=['Name', 'Origin', 'Horsepower', 'Miles_per_Gallon']\n",
    "# ).interactive()\n"
   ]
  },
  {
   "cell_type": "code",
   "execution_count": 33,
   "id": "d3db56c8-1104-40f6-9ee1-ee076abda4ba",
   "metadata": {},
   "outputs": [],
   "source": [
    "# dp.Group(\n",
    "#                     dp.BigNumber(\n",
    "#                         heading = \"Logistic Regression\",\n",
    "#                         value = \"1:29:19 hours\"\n",
    "#                     ),\n",
    "#                     dp.BigNumber(\n",
    "#                         heading = \"SVC\",\n",
    "#                         value = \"3:36:04 hours\"\n",
    "#                     ),\n",
    "#                     dp.BigNumber(\n",
    "#                         heading = \"Decision Tree Classifier\",\n",
    "#                         value = \"1:27:11 hours\"\n",
    "#                     ),\n",
    "#                     dp.BigNumber(\n",
    "#                         heading = \"Ada Boost Classifier\",\n",
    "#                         value = \"1:59:17 hours\"\n",
    "#                     ),\n",
    "#                     columns = 4"
   ]
  }
 ],
 "metadata": {
  "kernelspec": {
   "display_name": "Python 3 (ipykernel)",
   "language": "python",
   "name": "python3"
  },
  "language_info": {
   "codemirror_mode": {
    "name": "ipython",
    "version": 3
   },
   "file_extension": ".py",
   "mimetype": "text/x-python",
   "name": "python",
   "nbconvert_exporter": "python",
   "pygments_lexer": "ipython3",
   "version": "3.7.13"
  }
 },
 "nbformat": 4,
 "nbformat_minor": 5
}
