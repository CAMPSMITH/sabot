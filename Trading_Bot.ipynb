{
 "cells": [
  {
   "cell_type": "code",
   "execution_count": 7,
   "id": "f20ee1c0-9f23-419a-9f41-3fd14532712b",
   "metadata": {},
   "outputs": [],
   "source": [
    "# Imports\n",
    "import pandas as pd\n",
    "import requests\n",
    "from requests import Request, Session\n",
    "from uniswap import Uniswap\n"
   ]
  },
  {
   "cell_type": "markdown",
   "id": "74083d76-f5e6-4535-84dd-92223f128167",
   "metadata": {},
   "source": [
    "### Uniswap | Trade Setup"
   ]
  },
  {
   "cell_type": "code",
   "execution_count": 5,
   "id": "5d24e7da-1a92-414d-9161-de76e6c205cc",
   "metadata": {},
   "outputs": [],
   "source": [
    "# Metamask wallet address\n",
    "metamask = \"0xBD949Cd6EbbCaacB2eFa9b3Cf33D49A086589c62\"\n",
    "\n",
    "# Private key of metamask wallet\n",
    "privatekey = \"263cf23f39187d3cd0c8021a10ddfda7f04978355ec16fcb41919eb35ec0395c\"\n",
    "\n",
    "# Link to infura access\n",
    "infura_url = \"https://mainnet.infura.io/v3/2496fb1221b94adbac66136aced358db\"\n",
    "\n",
    "# Using uniswap v2.\n",
    "version=2 "
   ]
  },
  {
   "cell_type": "code",
   "execution_count": 6,
   "id": "e0b5c150-e817-4378-8a0f-4c8d015cc114",
   "metadata": {},
   "outputs": [],
   "source": [
    "uniswap_wrapper = Uniswap(metamask, privatekey, infura_url, version=2)"
   ]
  },
  {
   "cell_type": "markdown",
   "id": "4f9c733a-1fb9-4030-9d81-6ea49553ca9a",
   "metadata": {},
   "source": [
    "### CoinMarketCap | Current Price Request"
   ]
  },
  {
   "cell_type": "code",
   "execution_count": 62,
   "id": "6f618975-193d-4df1-a1b0-69dddb10a865",
   "metadata": {},
   "outputs": [
    {
     "name": "stdout",
     "output_type": "stream",
     "text": [
      "Current Eth price is = 1121.2446416219484\n"
     ]
    }
   ],
   "source": [
    "#Coinmarketcap call\n",
    "coin_url = \"https://pro-api.coinmarketcap.com/v1/cryptocurrency/quotes/latest\"\n",
    "\n",
    "coin_parameters_eth = {\n",
    "  \"symbol\":\"ETH\",\n",
    "  \"convert\":\"USD\"\n",
    "}\n",
    "\n",
    "\n",
    "coinheaders = {\n",
    "  'Accepts': 'application/json',\n",
    "  'X-CMC_PRO_API_KEY': 'c9576e2c-a5b6-4482-9db7-192b7bf0bc84',\n",
    "}\n",
    "\n",
    "session = Session()\n",
    "\n",
    "session.headers.update(coinheaders)\n",
    "\n",
    "try:\n",
    "  response_eth = session.get(coin_url, params = coin_parameters_eth).json()\n",
    "  data_eth = response_eth[\"data\"]\n",
    "  eth_data = data_eth[\"ETH\"]\n",
    "  price_data_eth = eth_data['quote']\n",
    "  usd_price = price_data_eth['USD']\n",
    "  eth_price = usd_price['price']\n",
    "except (ConnectionError) as error:\n",
    "  print(error)\n",
    "\n",
    "print('Current Eth price is = ' + str(eth_price))\n"
   ]
  },
  {
   "cell_type": "code",
   "execution_count": 63,
   "id": "80212b63-7e6c-465a-9726-bf28618f65f5",
   "metadata": {},
   "outputs": [
    {
     "name": "stdout",
     "output_type": "stream",
     "text": [
      "Current sUSD price is = 1.0036382750006916\n"
     ]
    }
   ],
   "source": [
    "\n",
    "coin_parameters_susd = {\n",
    "  \"symbol\":\"SUSD\",\n",
    "  \"convert\":\"USD\"\n",
    "}\n",
    "\n",
    "response_susd = session.get(coin_url, params = coin_parameters_susd).json()\n",
    "susd_price = response_susd[\"data\"][\"SUSD\"][\"quote\"][\"USD\"][\"price\"]\n",
    "susd_price\n",
    "\n",
    "print('Current sUSD price is = ' + str(susd_price))"
   ]
  },
  {
   "cell_type": "markdown",
   "id": "c85f2b69-636d-4243-b454-101e096379cf",
   "metadata": {},
   "source": [
    "### Gas Fees"
   ]
  },
  {
   "cell_type": "code",
   "execution_count": 30,
   "id": "facebcff-7b5b-4d33-9e12-6e4a02e4c934",
   "metadata": {},
   "outputs": [
    {
     "name": "stdout",
     "output_type": "stream",
     "text": [
      "gas in GWEI = 46.867544613\n",
      "Estimated max gas price (USD) = 4.706136611156259\n"
     ]
    }
   ],
   "source": [
    "# Setup API Key from https://owlracle.info/eth\n",
    "API_KEY = \"b578275824314e898ce9e2f98ab03045\"\n",
    "API_SECRET = \"7a337b6a54264d15a1720808a70b0484\"\n",
    "\n",
    "# Setup query URL\n",
    "# https://owlracle.info/eth/gas?apikey=b578275824314e898ce9e2f98ab03045\n",
    "gas_price_url = \"https://owlracle.info/eth/gas?apikey=\" + API_KEY + \"&accept=90\"\n",
    "\n",
    "# Set gas limit\n",
    "gas_limit = 250000\n",
    "\n",
    "# Convert to GWEI\n",
    "TO_GWEI = 1 * 10 **10\n",
    "\n",
    "# Gas in GWEI\n",
    "gas = requests.get(gas_price_url).json()\n",
    "fees = gas[\"speeds\"]\n",
    "#gwei = fees[\"gasPrice\"]\n",
    "gwei = gas[\"speeds\"][0][\"gasPrice\"]\n",
    "gas_price = gas[\"speeds\"][0][\"estimatedFee\"]\n",
    "print(\"gas in GWEI = \"+ str(gwei))\n",
    "print(\"Estimated max gas price (USD) = \" + str(gas_price))\n",
    "\n",
    "# Estimated max gas price in USD\n",
    "# gas_price = (gas / (TO_GWEI)) * eth_price * gas_limit\n",
    "\n"
   ]
  },
  {
   "cell_type": "markdown",
   "id": "5aaf4975-13ae-4391-8a25-9b0372cea4c5",
   "metadata": {},
   "source": [
    "### Trading Coin | ETH & sUSD"
   ]
  },
  {
   "cell_type": "code",
   "execution_count": 34,
   "id": "133d01e1-b1bf-4d0e-8d62-f7af8379f144",
   "metadata": {},
   "outputs": [],
   "source": [
    "susd = \"0x57ab1ec28d129707052df4df418d58a2d46d5f51\"\n",
    "eth = \"0x0000000000000000000000000000000000000000\""
   ]
  },
  {
   "cell_type": "code",
   "execution_count": 37,
   "id": "ba2afcdb-a352-4a60-8d99-93a736168f9e",
   "metadata": {},
   "outputs": [
    {
     "name": "stdout",
     "output_type": "stream",
     "text": [
      "Eth balance in metamask = 0.000993834582593036\n",
      "sUSD balance in metamask = 0\n",
      "Price of purchase (USD) = 1105.5424379494757\n"
     ]
    }
   ],
   "source": [
    "ONE_ETH = 1 * 10 ** 18\n",
    "eth_token = 1\n",
    "print('Eth balance in metamask = ' + str(uniswap_wrapper.get_eth_balance()/ONE_ETH))\n",
    "print('sUSD balance in metamask = ' + str(uniswap_wrapper.get_token_balance(susd)))\n",
    "# print('How many bat for 1 ETH = ' + str(uniswap_wrapper.get_token_eth_output_price(bat,eth_token)))\n",
    "print('Price of purchase (USD) = ' + str(eth_token * eth_price))"
   ]
  },
  {
   "cell_type": "markdown",
   "id": "bbcbd2eb-90a2-4e52-b3d7-31d3322713c0",
   "metadata": {},
   "source": [
    "### Make a Trade"
   ]
  },
  {
   "cell_type": "code",
   "execution_count": 36,
   "id": "beaac04f-812f-4150-9a0c-350007a88782",
   "metadata": {},
   "outputs": [
    {
     "ename": "InvalidAddress",
     "evalue": "('Web3.py only accepts checksum addresses. The software that gave you this non-checksum address should be considered unsafe, please file it as a bug on their platform. Try using an ENS name instead. Or, if you must accept lower safety, use Web3.toChecksumAddress(lower_case_address).', '0x57ab1ec28d129707052df4df418d58a2d46d5f51')",
     "output_type": "error",
     "traceback": [
      "\u001b[1;31m---------------------------------------------------------------------------\u001b[0m",
      "\u001b[1;31mInvalidAddress\u001b[0m                            Traceback (most recent call last)",
      "Input \u001b[1;32mIn [36]\u001b[0m, in \u001b[0;36m<cell line: 1>\u001b[1;34m()\u001b[0m\n\u001b[1;32m----> 1\u001b[0m trade \u001b[38;5;241m=\u001b[39m \u001b[43muniswap_wrapper\u001b[49m\u001b[38;5;241;43m.\u001b[39;49m\u001b[43mmake_trade_output\u001b[49m\u001b[43m(\u001b[49m\u001b[43meth\u001b[49m\u001b[43m,\u001b[49m\u001b[43msusd\u001b[49m\u001b[43m,\u001b[49m\u001b[43m \u001b[49m\u001b[43meth_token\u001b[49m\u001b[43m)\u001b[49m\n\u001b[0;32m      2\u001b[0m \u001b[38;5;28mprint\u001b[39m(trade)\n",
      "File \u001b[1;32m~\\anaconda3\\envs\\dev\\lib\\site-packages\\uniswap\\decorators.py:30\u001b[0m, in \u001b[0;36mcheck_approval.<locals>.approved\u001b[1;34m(self, *args, **kwargs)\u001b[0m\n\u001b[0;32m     28\u001b[0m     \u001b[38;5;28;01mif\u001b[39;00m \u001b[38;5;129;01mnot\u001b[39;00m is_approved:\n\u001b[0;32m     29\u001b[0m         \u001b[38;5;28mself\u001b[39m\u001b[38;5;241m.\u001b[39mapprove(token)\n\u001b[1;32m---> 30\u001b[0m \u001b[38;5;28;01mreturn\u001b[39;00m method(\u001b[38;5;28mself\u001b[39m, \u001b[38;5;241m*\u001b[39margs, \u001b[38;5;241m*\u001b[39m\u001b[38;5;241m*\u001b[39mkwargs)\n",
      "File \u001b[1;32m~\\anaconda3\\envs\\dev\\lib\\site-packages\\uniswap\\uniswap.py:460\u001b[0m, in \u001b[0;36mUniswap.make_trade_output\u001b[1;34m(self, input_token, output_token, qty, recipient, fee, slippage)\u001b[0m\n\u001b[0;32m    458\u001b[0m \u001b[38;5;28;01mif\u001b[39;00m input_token \u001b[38;5;241m==\u001b[39m ETH_ADDRESS:\n\u001b[0;32m    459\u001b[0m     balance \u001b[38;5;241m=\u001b[39m \u001b[38;5;28mself\u001b[39m\u001b[38;5;241m.\u001b[39mget_eth_balance()\n\u001b[1;32m--> 460\u001b[0m     need \u001b[38;5;241m=\u001b[39m \u001b[38;5;28;43mself\u001b[39;49m\u001b[38;5;241;43m.\u001b[39;49m\u001b[43m_get_eth_token_output_price\u001b[49m\u001b[43m(\u001b[49m\u001b[43moutput_token\u001b[49m\u001b[43m,\u001b[49m\u001b[43m \u001b[49m\u001b[43mqty\u001b[49m\u001b[43m)\u001b[49m\n\u001b[0;32m    461\u001b[0m     \u001b[38;5;28;01mif\u001b[39;00m balance \u001b[38;5;241m<\u001b[39m need:\n\u001b[0;32m    462\u001b[0m         \u001b[38;5;28;01mraise\u001b[39;00m InsufficientBalance(balance, need)\n",
      "File \u001b[1;32m~\\anaconda3\\envs\\dev\\lib\\site-packages\\uniswap\\uniswap.py:315\u001b[0m, in \u001b[0;36mUniswap._get_eth_token_output_price\u001b[1;34m(self, token, qty, fee)\u001b[0m\n\u001b[0;32m    313\u001b[0m \u001b[38;5;28;01melif\u001b[39;00m \u001b[38;5;28mself\u001b[39m\u001b[38;5;241m.\u001b[39mversion \u001b[38;5;241m==\u001b[39m \u001b[38;5;241m2\u001b[39m:\n\u001b[0;32m    314\u001b[0m     route \u001b[38;5;241m=\u001b[39m [\u001b[38;5;28mself\u001b[39m\u001b[38;5;241m.\u001b[39mget_weth_address(), token]\n\u001b[1;32m--> 315\u001b[0m     price \u001b[38;5;241m=\u001b[39m \u001b[38;5;28;43mself\u001b[39;49m\u001b[38;5;241;43m.\u001b[39;49m\u001b[43mrouter\u001b[49m\u001b[38;5;241;43m.\u001b[39;49m\u001b[43mfunctions\u001b[49m\u001b[38;5;241;43m.\u001b[39;49m\u001b[43mgetAmountsIn\u001b[49m\u001b[43m(\u001b[49m\u001b[43mqty\u001b[49m\u001b[43m,\u001b[49m\u001b[43m \u001b[49m\u001b[43mroute\u001b[49m\u001b[43m)\u001b[49m\u001b[38;5;241;43m.\u001b[39;49m\u001b[43mcall\u001b[49m\u001b[43m(\u001b[49m\u001b[43m)\u001b[49m[\u001b[38;5;241m0\u001b[39m]\n\u001b[0;32m    316\u001b[0m \u001b[38;5;28;01melif\u001b[39;00m \u001b[38;5;28mself\u001b[39m\u001b[38;5;241m.\u001b[39mversion \u001b[38;5;241m==\u001b[39m \u001b[38;5;241m3\u001b[39m:\n\u001b[0;32m    317\u001b[0m     \u001b[38;5;28;01mif\u001b[39;00m \u001b[38;5;129;01mnot\u001b[39;00m fee:\n",
      "File \u001b[1;32m~\\anaconda3\\envs\\dev\\lib\\site-packages\\web3\\contract.py:957\u001b[0m, in \u001b[0;36mContractFunction.call\u001b[1;34m(self, transaction, block_identifier, state_override)\u001b[0m\n\u001b[0;32m    951\u001b[0m         \u001b[38;5;28;01mraise\u001b[39;00m \u001b[38;5;167;01mValueError\u001b[39;00m(\n\u001b[0;32m    952\u001b[0m             \u001b[38;5;124m\"\u001b[39m\u001b[38;5;124mPlease ensure that this contract instance has an address.\u001b[39m\u001b[38;5;124m\"\u001b[39m\n\u001b[0;32m    953\u001b[0m         )\n\u001b[0;32m    955\u001b[0m block_id \u001b[38;5;241m=\u001b[39m parse_block_identifier(\u001b[38;5;28mself\u001b[39m\u001b[38;5;241m.\u001b[39mweb3, block_identifier)\n\u001b[1;32m--> 957\u001b[0m \u001b[38;5;28;01mreturn\u001b[39;00m call_contract_function(\n\u001b[0;32m    958\u001b[0m     \u001b[38;5;28mself\u001b[39m\u001b[38;5;241m.\u001b[39mweb3,\n\u001b[0;32m    959\u001b[0m     \u001b[38;5;28mself\u001b[39m\u001b[38;5;241m.\u001b[39maddress,\n\u001b[0;32m    960\u001b[0m     \u001b[38;5;28mself\u001b[39m\u001b[38;5;241m.\u001b[39m_return_data_normalizers,\n\u001b[0;32m    961\u001b[0m     \u001b[38;5;28mself\u001b[39m\u001b[38;5;241m.\u001b[39mfunction_identifier,\n\u001b[0;32m    962\u001b[0m     call_transaction,\n\u001b[0;32m    963\u001b[0m     block_id,\n\u001b[0;32m    964\u001b[0m     \u001b[38;5;28mself\u001b[39m\u001b[38;5;241m.\u001b[39mcontract_abi,\n\u001b[0;32m    965\u001b[0m     \u001b[38;5;28mself\u001b[39m\u001b[38;5;241m.\u001b[39mabi,\n\u001b[0;32m    966\u001b[0m     state_override,\n\u001b[0;32m    967\u001b[0m     \u001b[38;5;241m*\u001b[39m\u001b[38;5;28mself\u001b[39m\u001b[38;5;241m.\u001b[39margs,\n\u001b[0;32m    968\u001b[0m     \u001b[38;5;241m*\u001b[39m\u001b[38;5;241m*\u001b[39m\u001b[38;5;28mself\u001b[39m\u001b[38;5;241m.\u001b[39mkwargs\n\u001b[0;32m    969\u001b[0m )\n",
      "File \u001b[1;32m~\\anaconda3\\envs\\dev\\lib\\site-packages\\web3\\contract.py:1490\u001b[0m, in \u001b[0;36mcall_contract_function\u001b[1;34m(web3, address, normalizers, function_identifier, transaction, block_id, contract_abi, fn_abi, state_override, *args, **kwargs)\u001b[0m\n\u001b[0;32m   1474\u001b[0m \u001b[38;5;28;01mdef\u001b[39;00m \u001b[38;5;21mcall_contract_function\u001b[39m(\n\u001b[0;32m   1475\u001b[0m         web3: \u001b[38;5;124m'\u001b[39m\u001b[38;5;124mWeb3\u001b[39m\u001b[38;5;124m'\u001b[39m,\n\u001b[0;32m   1476\u001b[0m         address: ChecksumAddress,\n\u001b[1;32m   (...)\u001b[0m\n\u001b[0;32m   1484\u001b[0m         \u001b[38;5;241m*\u001b[39margs: Any,\n\u001b[0;32m   1485\u001b[0m         \u001b[38;5;241m*\u001b[39m\u001b[38;5;241m*\u001b[39mkwargs: Any) \u001b[38;5;241m-\u001b[39m\u001b[38;5;241m>\u001b[39m Any:\n\u001b[0;32m   1486\u001b[0m     \u001b[38;5;124;03m\"\"\"\u001b[39;00m\n\u001b[0;32m   1487\u001b[0m \u001b[38;5;124;03m    Helper function for interacting with a contract function using the\u001b[39;00m\n\u001b[0;32m   1488\u001b[0m \u001b[38;5;124;03m    `eth_call` API.\u001b[39;00m\n\u001b[0;32m   1489\u001b[0m \u001b[38;5;124;03m    \"\"\"\u001b[39;00m\n\u001b[1;32m-> 1490\u001b[0m     call_transaction \u001b[38;5;241m=\u001b[39m \u001b[43mprepare_transaction\u001b[49m\u001b[43m(\u001b[49m\n\u001b[0;32m   1491\u001b[0m \u001b[43m        \u001b[49m\u001b[43maddress\u001b[49m\u001b[43m,\u001b[49m\n\u001b[0;32m   1492\u001b[0m \u001b[43m        \u001b[49m\u001b[43mweb3\u001b[49m\u001b[43m,\u001b[49m\n\u001b[0;32m   1493\u001b[0m \u001b[43m        \u001b[49m\u001b[43mfn_identifier\u001b[49m\u001b[38;5;241;43m=\u001b[39;49m\u001b[43mfunction_identifier\u001b[49m\u001b[43m,\u001b[49m\n\u001b[0;32m   1494\u001b[0m \u001b[43m        \u001b[49m\u001b[43mcontract_abi\u001b[49m\u001b[38;5;241;43m=\u001b[39;49m\u001b[43mcontract_abi\u001b[49m\u001b[43m,\u001b[49m\n\u001b[0;32m   1495\u001b[0m \u001b[43m        \u001b[49m\u001b[43mfn_abi\u001b[49m\u001b[38;5;241;43m=\u001b[39;49m\u001b[43mfn_abi\u001b[49m\u001b[43m,\u001b[49m\n\u001b[0;32m   1496\u001b[0m \u001b[43m        \u001b[49m\u001b[43mtransaction\u001b[49m\u001b[38;5;241;43m=\u001b[39;49m\u001b[43mtransaction\u001b[49m\u001b[43m,\u001b[49m\n\u001b[0;32m   1497\u001b[0m \u001b[43m        \u001b[49m\u001b[43mfn_args\u001b[49m\u001b[38;5;241;43m=\u001b[39;49m\u001b[43margs\u001b[49m\u001b[43m,\u001b[49m\n\u001b[0;32m   1498\u001b[0m \u001b[43m        \u001b[49m\u001b[43mfn_kwargs\u001b[49m\u001b[38;5;241;43m=\u001b[39;49m\u001b[43mkwargs\u001b[49m\u001b[43m,\u001b[49m\n\u001b[0;32m   1499\u001b[0m \u001b[43m    \u001b[49m\u001b[43m)\u001b[49m\n\u001b[0;32m   1501\u001b[0m     return_data \u001b[38;5;241m=\u001b[39m web3\u001b[38;5;241m.\u001b[39meth\u001b[38;5;241m.\u001b[39mcall(\n\u001b[0;32m   1502\u001b[0m         call_transaction,\n\u001b[0;32m   1503\u001b[0m         block_identifier\u001b[38;5;241m=\u001b[39mblock_id,\n\u001b[0;32m   1504\u001b[0m         state_override\u001b[38;5;241m=\u001b[39mstate_override,\n\u001b[0;32m   1505\u001b[0m     )\n\u001b[0;32m   1507\u001b[0m     \u001b[38;5;28;01mif\u001b[39;00m fn_abi \u001b[38;5;129;01mis\u001b[39;00m \u001b[38;5;28;01mNone\u001b[39;00m:\n",
      "File \u001b[1;32m~\\anaconda3\\envs\\dev\\lib\\site-packages\\web3\\_utils\\contracts.py:233\u001b[0m, in \u001b[0;36mprepare_transaction\u001b[1;34m(address, web3, fn_identifier, contract_abi, fn_abi, transaction, fn_args, fn_kwargs)\u001b[0m\n\u001b[0;32m    230\u001b[0m \u001b[38;5;28;01mif\u001b[39;00m address:\n\u001b[0;32m    231\u001b[0m     prepared_transaction\u001b[38;5;241m.\u001b[39msetdefault(\u001b[38;5;124m'\u001b[39m\u001b[38;5;124mto\u001b[39m\u001b[38;5;124m'\u001b[39m, address)\n\u001b[1;32m--> 233\u001b[0m prepared_transaction[\u001b[38;5;124m'\u001b[39m\u001b[38;5;124mdata\u001b[39m\u001b[38;5;124m'\u001b[39m] \u001b[38;5;241m=\u001b[39m \u001b[43mencode_transaction_data\u001b[49m\u001b[43m(\u001b[49m\n\u001b[0;32m    234\u001b[0m \u001b[43m    \u001b[49m\u001b[43mweb3\u001b[49m\u001b[43m,\u001b[49m\n\u001b[0;32m    235\u001b[0m \u001b[43m    \u001b[49m\u001b[43mfn_identifier\u001b[49m\u001b[43m,\u001b[49m\n\u001b[0;32m    236\u001b[0m \u001b[43m    \u001b[49m\u001b[43mcontract_abi\u001b[49m\u001b[43m,\u001b[49m\n\u001b[0;32m    237\u001b[0m \u001b[43m    \u001b[49m\u001b[43mfn_abi\u001b[49m\u001b[43m,\u001b[49m\n\u001b[0;32m    238\u001b[0m \u001b[43m    \u001b[49m\u001b[43mfn_args\u001b[49m\u001b[43m,\u001b[49m\n\u001b[0;32m    239\u001b[0m \u001b[43m    \u001b[49m\u001b[43mfn_kwargs\u001b[49m\u001b[43m,\u001b[49m\n\u001b[0;32m    240\u001b[0m \u001b[43m\u001b[49m\u001b[43m)\u001b[49m\n\u001b[0;32m    241\u001b[0m \u001b[38;5;28;01mreturn\u001b[39;00m prepared_transaction\n",
      "File \u001b[1;32m~\\anaconda3\\envs\\dev\\lib\\site-packages\\web3\\_utils\\contracts.py:264\u001b[0m, in \u001b[0;36mencode_transaction_data\u001b[1;34m(web3, fn_identifier, contract_abi, fn_abi, args, kwargs)\u001b[0m\n\u001b[0;32m    261\u001b[0m \u001b[38;5;28;01melse\u001b[39;00m:\n\u001b[0;32m    262\u001b[0m     \u001b[38;5;28;01mraise\u001b[39;00m \u001b[38;5;167;01mTypeError\u001b[39;00m(\u001b[38;5;124m\"\u001b[39m\u001b[38;5;124mUnsupported function identifier\u001b[39m\u001b[38;5;124m\"\u001b[39m)\n\u001b[1;32m--> 264\u001b[0m \u001b[38;5;28;01mreturn\u001b[39;00m add_0x_prefix(\u001b[43mencode_abi\u001b[49m\u001b[43m(\u001b[49m\u001b[43mweb3\u001b[49m\u001b[43m,\u001b[49m\u001b[43m \u001b[49m\u001b[43mfn_abi\u001b[49m\u001b[43m,\u001b[49m\u001b[43m \u001b[49m\u001b[43mfn_arguments\u001b[49m\u001b[43m,\u001b[49m\u001b[43m \u001b[49m\u001b[43mfn_selector\u001b[49m\u001b[43m)\u001b[49m)\n",
      "File \u001b[1;32m~\\anaconda3\\envs\\dev\\lib\\site-packages\\web3\\_utils\\contracts.py:185\u001b[0m, in \u001b[0;36mencode_abi\u001b[1;34m(web3, abi, arguments, data)\u001b[0m\n\u001b[0;32m    172\u001b[0m     \u001b[38;5;28;01mraise\u001b[39;00m \u001b[38;5;167;01mTypeError\u001b[39;00m(\n\u001b[0;32m    173\u001b[0m         \u001b[38;5;124m\"\u001b[39m\u001b[38;5;124mOne or more arguments could not be encoded to the necessary \u001b[39m\u001b[38;5;124m\"\u001b[39m\n\u001b[0;32m    174\u001b[0m         \u001b[38;5;124m\"\u001b[39m\u001b[38;5;124mABI type.  Expected types are: \u001b[39m\u001b[38;5;132;01m{0}\u001b[39;00m\u001b[38;5;124m\"\u001b[39m\u001b[38;5;241m.\u001b[39mformat(\n\u001b[0;32m    175\u001b[0m             \u001b[38;5;124m'\u001b[39m\u001b[38;5;124m, \u001b[39m\u001b[38;5;124m'\u001b[39m\u001b[38;5;241m.\u001b[39mjoin(argument_types),\n\u001b[0;32m    176\u001b[0m         )\n\u001b[0;32m    177\u001b[0m     )\n\u001b[0;32m    179\u001b[0m normalizers \u001b[38;5;241m=\u001b[39m [\n\u001b[0;32m    180\u001b[0m     abi_ens_resolver(web3),\n\u001b[0;32m    181\u001b[0m     abi_address_to_hex,\n\u001b[0;32m    182\u001b[0m     abi_bytes_to_bytes,\n\u001b[0;32m    183\u001b[0m     abi_string_to_text,\n\u001b[0;32m    184\u001b[0m ]\n\u001b[1;32m--> 185\u001b[0m normalized_arguments \u001b[38;5;241m=\u001b[39m \u001b[43mmap_abi_data\u001b[49m\u001b[43m(\u001b[49m\n\u001b[0;32m    186\u001b[0m \u001b[43m    \u001b[49m\u001b[43mnormalizers\u001b[49m\u001b[43m,\u001b[49m\n\u001b[0;32m    187\u001b[0m \u001b[43m    \u001b[49m\u001b[43margument_types\u001b[49m\u001b[43m,\u001b[49m\n\u001b[0;32m    188\u001b[0m \u001b[43m    \u001b[49m\u001b[43marguments\u001b[49m\u001b[43m,\u001b[49m\n\u001b[0;32m    189\u001b[0m \u001b[43m\u001b[49m\u001b[43m)\u001b[49m\n\u001b[0;32m    190\u001b[0m encoded_arguments \u001b[38;5;241m=\u001b[39m web3\u001b[38;5;241m.\u001b[39mcodec\u001b[38;5;241m.\u001b[39mencode_abi(\n\u001b[0;32m    191\u001b[0m     argument_types,\n\u001b[0;32m    192\u001b[0m     normalized_arguments,\n\u001b[0;32m    193\u001b[0m )\n\u001b[0;32m    195\u001b[0m \u001b[38;5;28;01mif\u001b[39;00m data:\n",
      "File \u001b[1;32m~\\anaconda3\\envs\\dev\\lib\\site-packages\\cytoolz\\functoolz.pyx:250\u001b[0m, in \u001b[0;36mcytoolz.functoolz.curry.__call__\u001b[1;34m()\u001b[0m\n",
      "File \u001b[1;32m~\\anaconda3\\envs\\dev\\lib\\site-packages\\web3\\_utils\\abi.py:811\u001b[0m, in \u001b[0;36mmap_abi_data\u001b[1;34m(normalizers, types, data)\u001b[0m\n\u001b[0;32m    783\u001b[0m \u001b[38;5;124;03m\"\"\"\u001b[39;00m\n\u001b[0;32m    784\u001b[0m \u001b[38;5;124;03mThis function will apply normalizers to your data, in the\u001b[39;00m\n\u001b[0;32m    785\u001b[0m \u001b[38;5;124;03mcontext of the relevant types. Each normalizer is in the format:\u001b[39;00m\n\u001b[1;32m   (...)\u001b[0m\n\u001b[0;32m    803\u001b[0m \u001b[38;5;124;03m3. Stripping the types back out of the tree\u001b[39;00m\n\u001b[0;32m    804\u001b[0m \u001b[38;5;124;03m\"\"\"\u001b[39;00m\n\u001b[0;32m    805\u001b[0m pipeline \u001b[38;5;241m=\u001b[39m itertools\u001b[38;5;241m.\u001b[39mchain(\n\u001b[0;32m    806\u001b[0m     [abi_data_tree(types)],\n\u001b[0;32m    807\u001b[0m     \u001b[38;5;28mmap\u001b[39m(data_tree_map, normalizers),\n\u001b[0;32m    808\u001b[0m     [partial(recursive_map, strip_abi_type)],\n\u001b[0;32m    809\u001b[0m )\n\u001b[1;32m--> 811\u001b[0m \u001b[38;5;28;01mreturn\u001b[39;00m \u001b[43mpipe\u001b[49m\u001b[43m(\u001b[49m\u001b[43mdata\u001b[49m\u001b[43m,\u001b[49m\u001b[43m \u001b[49m\u001b[38;5;241;43m*\u001b[39;49m\u001b[43mpipeline\u001b[49m\u001b[43m)\u001b[49m\n",
      "File \u001b[1;32m~\\anaconda3\\envs\\dev\\lib\\site-packages\\cytoolz\\functoolz.pyx:667\u001b[0m, in \u001b[0;36mcytoolz.functoolz.pipe\u001b[1;34m()\u001b[0m\n",
      "File \u001b[1;32m~\\anaconda3\\envs\\dev\\lib\\site-packages\\cytoolz\\functoolz.pyx:642\u001b[0m, in \u001b[0;36mcytoolz.functoolz.c_pipe\u001b[1;34m()\u001b[0m\n",
      "File \u001b[1;32m~\\anaconda3\\envs\\dev\\lib\\site-packages\\cytoolz\\functoolz.pyx:250\u001b[0m, in \u001b[0;36mcytoolz.functoolz.curry.__call__\u001b[1;34m()\u001b[0m\n",
      "File \u001b[1;32m~\\anaconda3\\envs\\dev\\lib\\site-packages\\web3\\_utils\\abi.py:845\u001b[0m, in \u001b[0;36mdata_tree_map\u001b[1;34m(func, data_tree)\u001b[0m\n\u001b[0;32m    843\u001b[0m     \u001b[38;5;28;01melse\u001b[39;00m:\n\u001b[0;32m    844\u001b[0m         \u001b[38;5;28;01mreturn\u001b[39;00m elements\n\u001b[1;32m--> 845\u001b[0m \u001b[38;5;28;01mreturn\u001b[39;00m \u001b[43mrecursive_map\u001b[49m\u001b[43m(\u001b[49m\u001b[43mmap_to_typed_data\u001b[49m\u001b[43m,\u001b[49m\u001b[43m \u001b[49m\u001b[43mdata_tree\u001b[49m\u001b[43m)\u001b[49m\n",
      "File \u001b[1;32m~\\anaconda3\\envs\\dev\\lib\\site-packages\\web3\\_utils\\decorators.py:30\u001b[0m, in \u001b[0;36mreject_recursive_repeats.<locals>.wrapped\u001b[1;34m(*args)\u001b[0m\n\u001b[0;32m     28\u001b[0m to_wrap\u001b[38;5;241m.\u001b[39m__already_called[thread_local_args] \u001b[38;5;241m=\u001b[39m \u001b[38;5;28;01mTrue\u001b[39;00m  \u001b[38;5;66;03m# type: ignore\u001b[39;00m\n\u001b[0;32m     29\u001b[0m \u001b[38;5;28;01mtry\u001b[39;00m:\n\u001b[1;32m---> 30\u001b[0m     wrapped_val \u001b[38;5;241m=\u001b[39m \u001b[43mto_wrap\u001b[49m\u001b[43m(\u001b[49m\u001b[38;5;241;43m*\u001b[39;49m\u001b[43margs\u001b[49m\u001b[43m)\u001b[49m\n\u001b[0;32m     31\u001b[0m \u001b[38;5;28;01mfinally\u001b[39;00m:\n\u001b[0;32m     32\u001b[0m     \u001b[38;5;28;01mdel\u001b[39;00m to_wrap\u001b[38;5;241m.\u001b[39m__already_called[thread_local_args]  \u001b[38;5;66;03m# type: ignore\u001b[39;00m\n",
      "File \u001b[1;32m~\\anaconda3\\envs\\dev\\lib\\site-packages\\web3\\_utils\\formatters.py:89\u001b[0m, in \u001b[0;36mrecursive_map\u001b[1;34m(func, data)\u001b[0m\n\u001b[0;32m     87\u001b[0m \u001b[38;5;28;01mdef\u001b[39;00m \u001b[38;5;21mrecurse\u001b[39m(item: Any) \u001b[38;5;241m-\u001b[39m\u001b[38;5;241m>\u001b[39m TReturn:\n\u001b[0;32m     88\u001b[0m     \u001b[38;5;28;01mreturn\u001b[39;00m recursive_map(func, item)\n\u001b[1;32m---> 89\u001b[0m items_mapped \u001b[38;5;241m=\u001b[39m \u001b[43mmap_collection\u001b[49m\u001b[43m(\u001b[49m\u001b[43mrecurse\u001b[49m\u001b[43m,\u001b[49m\u001b[43m \u001b[49m\u001b[43mdata\u001b[49m\u001b[43m)\u001b[49m\n\u001b[0;32m     90\u001b[0m \u001b[38;5;28;01mreturn\u001b[39;00m func(items_mapped)\n",
      "File \u001b[1;32m~\\anaconda3\\envs\\dev\\lib\\site-packages\\web3\\_utils\\formatters.py:76\u001b[0m, in \u001b[0;36mmap_collection\u001b[1;34m(func, collection)\u001b[0m\n\u001b[0;32m     74\u001b[0m     \u001b[38;5;28;01mreturn\u001b[39;00m collection\n\u001b[0;32m     75\u001b[0m \u001b[38;5;28;01melif\u001b[39;00m \u001b[38;5;28misinstance\u001b[39m(collection, Iterable):\n\u001b[1;32m---> 76\u001b[0m     \u001b[38;5;28;01mreturn\u001b[39;00m \u001b[43mdatatype\u001b[49m\u001b[43m(\u001b[49m\u001b[38;5;28;43mmap\u001b[39;49m\u001b[43m(\u001b[49m\u001b[43mfunc\u001b[49m\u001b[43m,\u001b[49m\u001b[43m \u001b[49m\u001b[43mcollection\u001b[49m\u001b[43m)\u001b[49m\u001b[43m)\u001b[49m\n\u001b[0;32m     77\u001b[0m \u001b[38;5;28;01melse\u001b[39;00m:\n\u001b[0;32m     78\u001b[0m     \u001b[38;5;28;01mreturn\u001b[39;00m collection\n",
      "File \u001b[1;32m~\\anaconda3\\envs\\dev\\lib\\site-packages\\web3\\_utils\\formatters.py:88\u001b[0m, in \u001b[0;36mrecursive_map.<locals>.recurse\u001b[1;34m(item)\u001b[0m\n\u001b[0;32m     87\u001b[0m \u001b[38;5;28;01mdef\u001b[39;00m \u001b[38;5;21mrecurse\u001b[39m(item: Any) \u001b[38;5;241m-\u001b[39m\u001b[38;5;241m>\u001b[39m TReturn:\n\u001b[1;32m---> 88\u001b[0m     \u001b[38;5;28;01mreturn\u001b[39;00m \u001b[43mrecursive_map\u001b[49m\u001b[43m(\u001b[49m\u001b[43mfunc\u001b[49m\u001b[43m,\u001b[49m\u001b[43m \u001b[49m\u001b[43mitem\u001b[49m\u001b[43m)\u001b[49m\n",
      "File \u001b[1;32m~\\anaconda3\\envs\\dev\\lib\\site-packages\\web3\\_utils\\decorators.py:30\u001b[0m, in \u001b[0;36mreject_recursive_repeats.<locals>.wrapped\u001b[1;34m(*args)\u001b[0m\n\u001b[0;32m     28\u001b[0m to_wrap\u001b[38;5;241m.\u001b[39m__already_called[thread_local_args] \u001b[38;5;241m=\u001b[39m \u001b[38;5;28;01mTrue\u001b[39;00m  \u001b[38;5;66;03m# type: ignore\u001b[39;00m\n\u001b[0;32m     29\u001b[0m \u001b[38;5;28;01mtry\u001b[39;00m:\n\u001b[1;32m---> 30\u001b[0m     wrapped_val \u001b[38;5;241m=\u001b[39m \u001b[43mto_wrap\u001b[49m\u001b[43m(\u001b[49m\u001b[38;5;241;43m*\u001b[39;49m\u001b[43margs\u001b[49m\u001b[43m)\u001b[49m\n\u001b[0;32m     31\u001b[0m \u001b[38;5;28;01mfinally\u001b[39;00m:\n\u001b[0;32m     32\u001b[0m     \u001b[38;5;28;01mdel\u001b[39;00m to_wrap\u001b[38;5;241m.\u001b[39m__already_called[thread_local_args]  \u001b[38;5;66;03m# type: ignore\u001b[39;00m\n",
      "File \u001b[1;32m~\\anaconda3\\envs\\dev\\lib\\site-packages\\web3\\_utils\\formatters.py:89\u001b[0m, in \u001b[0;36mrecursive_map\u001b[1;34m(func, data)\u001b[0m\n\u001b[0;32m     87\u001b[0m \u001b[38;5;28;01mdef\u001b[39;00m \u001b[38;5;21mrecurse\u001b[39m(item: Any) \u001b[38;5;241m-\u001b[39m\u001b[38;5;241m>\u001b[39m TReturn:\n\u001b[0;32m     88\u001b[0m     \u001b[38;5;28;01mreturn\u001b[39;00m recursive_map(func, item)\n\u001b[1;32m---> 89\u001b[0m items_mapped \u001b[38;5;241m=\u001b[39m \u001b[43mmap_collection\u001b[49m\u001b[43m(\u001b[49m\u001b[43mrecurse\u001b[49m\u001b[43m,\u001b[49m\u001b[43m \u001b[49m\u001b[43mdata\u001b[49m\u001b[43m)\u001b[49m\n\u001b[0;32m     90\u001b[0m \u001b[38;5;28;01mreturn\u001b[39;00m func(items_mapped)\n",
      "File \u001b[1;32m~\\anaconda3\\envs\\dev\\lib\\site-packages\\web3\\_utils\\formatters.py:76\u001b[0m, in \u001b[0;36mmap_collection\u001b[1;34m(func, collection)\u001b[0m\n\u001b[0;32m     74\u001b[0m     \u001b[38;5;28;01mreturn\u001b[39;00m collection\n\u001b[0;32m     75\u001b[0m \u001b[38;5;28;01melif\u001b[39;00m \u001b[38;5;28misinstance\u001b[39m(collection, Iterable):\n\u001b[1;32m---> 76\u001b[0m     \u001b[38;5;28;01mreturn\u001b[39;00m \u001b[43mdatatype\u001b[49m\u001b[43m(\u001b[49m\u001b[38;5;28;43mmap\u001b[39;49m\u001b[43m(\u001b[49m\u001b[43mfunc\u001b[49m\u001b[43m,\u001b[49m\u001b[43m \u001b[49m\u001b[43mcollection\u001b[49m\u001b[43m)\u001b[49m\u001b[43m)\u001b[49m\n\u001b[0;32m     77\u001b[0m \u001b[38;5;28;01melse\u001b[39;00m:\n\u001b[0;32m     78\u001b[0m     \u001b[38;5;28;01mreturn\u001b[39;00m collection\n",
      "File \u001b[1;32m~\\anaconda3\\envs\\dev\\lib\\site-packages\\web3\\_utils\\abi.py:867\u001b[0m, in \u001b[0;36mABITypedData.__new__\u001b[1;34m(cls, iterable)\u001b[0m\n\u001b[0;32m    866\u001b[0m \u001b[38;5;28;01mdef\u001b[39;00m \u001b[38;5;21m__new__\u001b[39m(\u001b[38;5;28mcls\u001b[39m, iterable: Iterable[Any]) \u001b[38;5;241m-\u001b[39m\u001b[38;5;241m>\u001b[39m \u001b[38;5;124m\"\u001b[39m\u001b[38;5;124mABITypedData\u001b[39m\u001b[38;5;124m\"\u001b[39m:\n\u001b[1;32m--> 867\u001b[0m     \u001b[38;5;28;01mreturn\u001b[39;00m \u001b[38;5;28msuper\u001b[39m()\u001b[38;5;241m.\u001b[39m\u001b[38;5;21m__new__\u001b[39m(\u001b[38;5;28mcls\u001b[39m, \u001b[38;5;241m*\u001b[39miterable)\n",
      "File \u001b[1;32m~\\anaconda3\\envs\\dev\\lib\\site-packages\\web3\\_utils\\formatters.py:88\u001b[0m, in \u001b[0;36mrecursive_map.<locals>.recurse\u001b[1;34m(item)\u001b[0m\n\u001b[0;32m     87\u001b[0m \u001b[38;5;28;01mdef\u001b[39;00m \u001b[38;5;21mrecurse\u001b[39m(item: Any) \u001b[38;5;241m-\u001b[39m\u001b[38;5;241m>\u001b[39m TReturn:\n\u001b[1;32m---> 88\u001b[0m     \u001b[38;5;28;01mreturn\u001b[39;00m \u001b[43mrecursive_map\u001b[49m\u001b[43m(\u001b[49m\u001b[43mfunc\u001b[49m\u001b[43m,\u001b[49m\u001b[43m \u001b[49m\u001b[43mitem\u001b[49m\u001b[43m)\u001b[49m\n",
      "File \u001b[1;32m~\\anaconda3\\envs\\dev\\lib\\site-packages\\web3\\_utils\\decorators.py:30\u001b[0m, in \u001b[0;36mreject_recursive_repeats.<locals>.wrapped\u001b[1;34m(*args)\u001b[0m\n\u001b[0;32m     28\u001b[0m to_wrap\u001b[38;5;241m.\u001b[39m__already_called[thread_local_args] \u001b[38;5;241m=\u001b[39m \u001b[38;5;28;01mTrue\u001b[39;00m  \u001b[38;5;66;03m# type: ignore\u001b[39;00m\n\u001b[0;32m     29\u001b[0m \u001b[38;5;28;01mtry\u001b[39;00m:\n\u001b[1;32m---> 30\u001b[0m     wrapped_val \u001b[38;5;241m=\u001b[39m \u001b[43mto_wrap\u001b[49m\u001b[43m(\u001b[49m\u001b[38;5;241;43m*\u001b[39;49m\u001b[43margs\u001b[49m\u001b[43m)\u001b[49m\n\u001b[0;32m     31\u001b[0m \u001b[38;5;28;01mfinally\u001b[39;00m:\n\u001b[0;32m     32\u001b[0m     \u001b[38;5;28;01mdel\u001b[39;00m to_wrap\u001b[38;5;241m.\u001b[39m__already_called[thread_local_args]  \u001b[38;5;66;03m# type: ignore\u001b[39;00m\n",
      "File \u001b[1;32m~\\anaconda3\\envs\\dev\\lib\\site-packages\\web3\\_utils\\formatters.py:89\u001b[0m, in \u001b[0;36mrecursive_map\u001b[1;34m(func, data)\u001b[0m\n\u001b[0;32m     87\u001b[0m \u001b[38;5;28;01mdef\u001b[39;00m \u001b[38;5;21mrecurse\u001b[39m(item: Any) \u001b[38;5;241m-\u001b[39m\u001b[38;5;241m>\u001b[39m TReturn:\n\u001b[0;32m     88\u001b[0m     \u001b[38;5;28;01mreturn\u001b[39;00m recursive_map(func, item)\n\u001b[1;32m---> 89\u001b[0m items_mapped \u001b[38;5;241m=\u001b[39m \u001b[43mmap_collection\u001b[49m\u001b[43m(\u001b[49m\u001b[43mrecurse\u001b[49m\u001b[43m,\u001b[49m\u001b[43m \u001b[49m\u001b[43mdata\u001b[49m\u001b[43m)\u001b[49m\n\u001b[0;32m     90\u001b[0m \u001b[38;5;28;01mreturn\u001b[39;00m func(items_mapped)\n",
      "File \u001b[1;32m~\\anaconda3\\envs\\dev\\lib\\site-packages\\web3\\_utils\\formatters.py:76\u001b[0m, in \u001b[0;36mmap_collection\u001b[1;34m(func, collection)\u001b[0m\n\u001b[0;32m     74\u001b[0m     \u001b[38;5;28;01mreturn\u001b[39;00m collection\n\u001b[0;32m     75\u001b[0m \u001b[38;5;28;01melif\u001b[39;00m \u001b[38;5;28misinstance\u001b[39m(collection, Iterable):\n\u001b[1;32m---> 76\u001b[0m     \u001b[38;5;28;01mreturn\u001b[39;00m \u001b[43mdatatype\u001b[49m\u001b[43m(\u001b[49m\u001b[38;5;28;43mmap\u001b[39;49m\u001b[43m(\u001b[49m\u001b[43mfunc\u001b[49m\u001b[43m,\u001b[49m\u001b[43m \u001b[49m\u001b[43mcollection\u001b[49m\u001b[43m)\u001b[49m\u001b[43m)\u001b[49m\n\u001b[0;32m     77\u001b[0m \u001b[38;5;28;01melse\u001b[39;00m:\n\u001b[0;32m     78\u001b[0m     \u001b[38;5;28;01mreturn\u001b[39;00m collection\n",
      "File \u001b[1;32m~\\anaconda3\\envs\\dev\\lib\\site-packages\\web3\\_utils\\formatters.py:88\u001b[0m, in \u001b[0;36mrecursive_map.<locals>.recurse\u001b[1;34m(item)\u001b[0m\n\u001b[0;32m     87\u001b[0m \u001b[38;5;28;01mdef\u001b[39;00m \u001b[38;5;21mrecurse\u001b[39m(item: Any) \u001b[38;5;241m-\u001b[39m\u001b[38;5;241m>\u001b[39m TReturn:\n\u001b[1;32m---> 88\u001b[0m     \u001b[38;5;28;01mreturn\u001b[39;00m \u001b[43mrecursive_map\u001b[49m\u001b[43m(\u001b[49m\u001b[43mfunc\u001b[49m\u001b[43m,\u001b[49m\u001b[43m \u001b[49m\u001b[43mitem\u001b[49m\u001b[43m)\u001b[49m\n",
      "File \u001b[1;32m~\\anaconda3\\envs\\dev\\lib\\site-packages\\web3\\_utils\\decorators.py:30\u001b[0m, in \u001b[0;36mreject_recursive_repeats.<locals>.wrapped\u001b[1;34m(*args)\u001b[0m\n\u001b[0;32m     28\u001b[0m to_wrap\u001b[38;5;241m.\u001b[39m__already_called[thread_local_args] \u001b[38;5;241m=\u001b[39m \u001b[38;5;28;01mTrue\u001b[39;00m  \u001b[38;5;66;03m# type: ignore\u001b[39;00m\n\u001b[0;32m     29\u001b[0m \u001b[38;5;28;01mtry\u001b[39;00m:\n\u001b[1;32m---> 30\u001b[0m     wrapped_val \u001b[38;5;241m=\u001b[39m \u001b[43mto_wrap\u001b[49m\u001b[43m(\u001b[49m\u001b[38;5;241;43m*\u001b[39;49m\u001b[43margs\u001b[49m\u001b[43m)\u001b[49m\n\u001b[0;32m     31\u001b[0m \u001b[38;5;28;01mfinally\u001b[39;00m:\n\u001b[0;32m     32\u001b[0m     \u001b[38;5;28;01mdel\u001b[39;00m to_wrap\u001b[38;5;241m.\u001b[39m__already_called[thread_local_args]  \u001b[38;5;66;03m# type: ignore\u001b[39;00m\n",
      "File \u001b[1;32m~\\anaconda3\\envs\\dev\\lib\\site-packages\\web3\\_utils\\formatters.py:90\u001b[0m, in \u001b[0;36mrecursive_map\u001b[1;34m(func, data)\u001b[0m\n\u001b[0;32m     88\u001b[0m     \u001b[38;5;28;01mreturn\u001b[39;00m recursive_map(func, item)\n\u001b[0;32m     89\u001b[0m items_mapped \u001b[38;5;241m=\u001b[39m map_collection(recurse, data)\n\u001b[1;32m---> 90\u001b[0m \u001b[38;5;28;01mreturn\u001b[39;00m \u001b[43mfunc\u001b[49m\u001b[43m(\u001b[49m\u001b[43mitems_mapped\u001b[49m\u001b[43m)\u001b[49m\n",
      "File \u001b[1;32m~\\anaconda3\\envs\\dev\\lib\\site-packages\\web3\\_utils\\abi.py:842\u001b[0m, in \u001b[0;36mdata_tree_map.<locals>.map_to_typed_data\u001b[1;34m(elements)\u001b[0m\n\u001b[0;32m    840\u001b[0m \u001b[38;5;28;01mdef\u001b[39;00m \u001b[38;5;21mmap_to_typed_data\u001b[39m(elements: Any) \u001b[38;5;241m-\u001b[39m\u001b[38;5;241m>\u001b[39m \u001b[38;5;124m\"\u001b[39m\u001b[38;5;124mABITypedData\u001b[39m\u001b[38;5;124m\"\u001b[39m:\n\u001b[0;32m    841\u001b[0m     \u001b[38;5;28;01mif\u001b[39;00m \u001b[38;5;28misinstance\u001b[39m(elements, ABITypedData) \u001b[38;5;129;01mand\u001b[39;00m elements\u001b[38;5;241m.\u001b[39mabi_type \u001b[38;5;129;01mis\u001b[39;00m \u001b[38;5;129;01mnot\u001b[39;00m \u001b[38;5;28;01mNone\u001b[39;00m:\n\u001b[1;32m--> 842\u001b[0m         \u001b[38;5;28;01mreturn\u001b[39;00m ABITypedData(\u001b[43mfunc\u001b[49m\u001b[43m(\u001b[49m\u001b[38;5;241;43m*\u001b[39;49m\u001b[43melements\u001b[49m\u001b[43m)\u001b[49m)\n\u001b[0;32m    843\u001b[0m     \u001b[38;5;28;01melse\u001b[39;00m:\n\u001b[0;32m    844\u001b[0m         \u001b[38;5;28;01mreturn\u001b[39;00m elements\n",
      "File \u001b[1;32m~\\anaconda3\\envs\\dev\\lib\\site-packages\\web3\\_utils\\normalizers.py:78\u001b[0m, in \u001b[0;36mimplicitly_identity.<locals>.wrapper\u001b[1;34m(type_str, data)\u001b[0m\n\u001b[0;32m     76\u001b[0m \u001b[38;5;129m@functools\u001b[39m\u001b[38;5;241m.\u001b[39mwraps(to_wrap)\n\u001b[0;32m     77\u001b[0m \u001b[38;5;28;01mdef\u001b[39;00m \u001b[38;5;21mwrapper\u001b[39m(type_str: TypeStr, data: Any) \u001b[38;5;241m-\u001b[39m\u001b[38;5;241m>\u001b[39m Tuple[TypeStr, Any]:\n\u001b[1;32m---> 78\u001b[0m     modified \u001b[38;5;241m=\u001b[39m \u001b[43mto_wrap\u001b[49m\u001b[43m(\u001b[49m\u001b[43mtype_str\u001b[49m\u001b[43m,\u001b[49m\u001b[43m \u001b[49m\u001b[43mdata\u001b[49m\u001b[43m)\u001b[49m\n\u001b[0;32m     79\u001b[0m     \u001b[38;5;28;01mif\u001b[39;00m modified \u001b[38;5;129;01mis\u001b[39;00m \u001b[38;5;28;01mNone\u001b[39;00m:\n\u001b[0;32m     80\u001b[0m         \u001b[38;5;28;01mreturn\u001b[39;00m type_str, data\n",
      "File \u001b[1;32m~\\anaconda3\\envs\\dev\\lib\\site-packages\\web3\\_utils\\normalizers.py:196\u001b[0m, in \u001b[0;36mabi_address_to_hex\u001b[1;34m(type_str, data)\u001b[0m\n\u001b[0;32m    193\u001b[0m \u001b[38;5;129m@implicitly_identity\u001b[39m\n\u001b[0;32m    194\u001b[0m \u001b[38;5;28;01mdef\u001b[39;00m \u001b[38;5;21mabi_address_to_hex\u001b[39m(type_str: TypeStr, data: Any) \u001b[38;5;241m-\u001b[39m\u001b[38;5;241m>\u001b[39m Optional[Tuple[TypeStr, ChecksumAddress]]:\n\u001b[0;32m    195\u001b[0m     \u001b[38;5;28;01mif\u001b[39;00m type_str \u001b[38;5;241m==\u001b[39m \u001b[38;5;124m'\u001b[39m\u001b[38;5;124maddress\u001b[39m\u001b[38;5;124m'\u001b[39m:\n\u001b[1;32m--> 196\u001b[0m         \u001b[43mvalidate_address\u001b[49m\u001b[43m(\u001b[49m\u001b[43mdata\u001b[49m\u001b[43m)\u001b[49m\n\u001b[0;32m    197\u001b[0m         \u001b[38;5;28;01mif\u001b[39;00m is_binary_address(data):\n\u001b[0;32m    198\u001b[0m             \u001b[38;5;28;01mreturn\u001b[39;00m type_str, to_checksum_address(data)\n",
      "File \u001b[1;32m~\\anaconda3\\envs\\dev\\lib\\site-packages\\web3\\_utils\\validation.py:182\u001b[0m, in \u001b[0;36mvalidate_address\u001b[1;34m(value)\u001b[0m\n\u001b[0;32m    180\u001b[0m \u001b[38;5;28;01mif\u001b[39;00m \u001b[38;5;129;01mnot\u001b[39;00m is_checksum_address(value):\n\u001b[0;32m    181\u001b[0m     \u001b[38;5;28;01mif\u001b[39;00m value \u001b[38;5;241m==\u001b[39m value\u001b[38;5;241m.\u001b[39mlower():\n\u001b[1;32m--> 182\u001b[0m         \u001b[38;5;28;01mraise\u001b[39;00m InvalidAddress(\n\u001b[0;32m    183\u001b[0m             \u001b[38;5;124m\"\u001b[39m\u001b[38;5;124mWeb3.py only accepts checksum addresses. \u001b[39m\u001b[38;5;124m\"\u001b[39m\n\u001b[0;32m    184\u001b[0m             \u001b[38;5;124m\"\u001b[39m\u001b[38;5;124mThe software that gave you this non-checksum address should be considered unsafe, \u001b[39m\u001b[38;5;124m\"\u001b[39m\n\u001b[0;32m    185\u001b[0m             \u001b[38;5;124m\"\u001b[39m\u001b[38;5;124mplease file it as a bug on their platform. \u001b[39m\u001b[38;5;124m\"\u001b[39m\n\u001b[0;32m    186\u001b[0m             \u001b[38;5;124m\"\u001b[39m\u001b[38;5;124mTry using an ENS name instead. Or, if you must accept lower safety, \u001b[39m\u001b[38;5;124m\"\u001b[39m\n\u001b[0;32m    187\u001b[0m             \u001b[38;5;124m\"\u001b[39m\u001b[38;5;124muse Web3.toChecksumAddress(lower_case_address).\u001b[39m\u001b[38;5;124m\"\u001b[39m,\n\u001b[0;32m    188\u001b[0m             value,\n\u001b[0;32m    189\u001b[0m         )\n\u001b[0;32m    190\u001b[0m     \u001b[38;5;28;01melse\u001b[39;00m:\n\u001b[0;32m    191\u001b[0m         \u001b[38;5;28;01mraise\u001b[39;00m InvalidAddress(\n\u001b[0;32m    192\u001b[0m             \u001b[38;5;124m\"\u001b[39m\u001b[38;5;124mAddress has an invalid EIP-55 checksum. \u001b[39m\u001b[38;5;124m\"\u001b[39m\n\u001b[0;32m    193\u001b[0m             \u001b[38;5;124m\"\u001b[39m\u001b[38;5;124mAfter looking up the address from the original source, try again.\u001b[39m\u001b[38;5;124m\"\u001b[39m,\n\u001b[0;32m    194\u001b[0m             value,\n\u001b[0;32m    195\u001b[0m         )\n",
      "\u001b[1;31mInvalidAddress\u001b[0m: ('Web3.py only accepts checksum addresses. The software that gave you this non-checksum address should be considered unsafe, please file it as a bug on their platform. Try using an ENS name instead. Or, if you must accept lower safety, use Web3.toChecksumAddress(lower_case_address).', '0x57ab1ec28d129707052df4df418d58a2d46d5f51')"
     ]
    }
   ],
   "source": [
    "trade = uniswap_wrapper.make_trade_output(eth,susd, eth_token)\n",
    "print(trade)"
   ]
  },
  {
   "cell_type": "code",
   "execution_count": null,
   "id": "b069e73c-4062-477d-930a-414f955fb0b6",
   "metadata": {},
   "outputs": [],
   "source": []
  }
 ],
 "metadata": {
  "kernelspec": {
   "display_name": "Python 3 (ipykernel)",
   "language": "python",
   "name": "python3"
  },
  "language_info": {
   "codemirror_mode": {
    "name": "ipython",
    "version": 3
   },
   "file_extension": ".py",
   "mimetype": "text/x-python",
   "name": "python",
   "nbconvert_exporter": "python",
   "pygments_lexer": "ipython3",
   "version": "3.9.7"
  }
 },
 "nbformat": 4,
 "nbformat_minor": 5
}
