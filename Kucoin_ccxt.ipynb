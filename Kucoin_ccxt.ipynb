{
 "cells": [
  {
   "cell_type": "code",
   "execution_count": 17,
   "id": "83bfc3df-f331-4f75-bb31-84d336c728bd",
   "metadata": {},
   "outputs": [],
   "source": [
    "#Imports\n",
    "import pandas as pd\n",
    "import hvplot.pandas\n",
    "import ccxt"
   ]
  },
  {
   "cell_type": "markdown",
   "id": "54fcd3c5-682a-47d8-b42a-61db39ac66c1",
   "metadata": {},
   "source": [
    "### CCXT Unified API"
   ]
  },
  {
   "cell_type": "code",
   "execution_count": 18,
   "id": "cad28773-4507-4148-8470-1ac3037b7ea1",
   "metadata": {},
   "outputs": [
    {
     "name": "stdout",
     "output_type": "stream",
     "text": [
      "['aax', 'ascendex', 'bequant', 'bibox', 'bigone', 'binance', 'binancecoinm', 'binanceus', 'binanceusdm', 'bit2c', 'bitbank', 'bitbay', 'bitbns', 'bitcoincom', 'bitfinex', 'bitfinex2', 'bitflyer', 'bitforex', 'bitget', 'bithumb', 'bitmart', 'bitmex', 'bitopro', 'bitpanda', 'bitrue', 'bitso', 'bitstamp', 'bitstamp1', 'bittrex', 'bitvavo', 'bkex', 'bl3p', 'blockchaincom', 'btcalpha', 'btcbox', 'btcex', 'btcmarkets', 'btctradeua', 'btcturk', 'buda', 'bw', 'bybit', 'bytetrade', 'cdax', 'cex', 'coinbase', 'coinbaseprime', 'coinbasepro', 'coincheck', 'coinex', 'coinfalcon', 'coinmate', 'coinone', 'coinspot', 'crex24', 'cryptocom', 'currencycom', 'delta', 'deribit', 'digifinex', 'eqonex', 'exmo', 'flowbtc', 'fmfwio', 'ftx', 'ftxus', 'gate', 'gateio', 'gemini', 'hitbtc', 'hitbtc3', 'hollaex', 'huobi', 'huobijp', 'huobipro', 'idex', 'independentreserve', 'indodax', 'itbit', 'kraken', 'kucoin', 'kucoinfutures', 'kuna', 'latoken', 'lbank', 'lbank2', 'liquid', 'luno', 'lykke', 'mercado', 'mexc', 'mexc3', 'ndax', 'novadax', 'oceanex', 'okcoin', 'okex', 'okex5', 'okx', 'paymium', 'phemex', 'poloniex', 'probit', 'qtrade', 'ripio', 'stex', 'therock', 'tidebit', 'tidex', 'timex', 'upbit', 'vcc', 'wavesexchange', 'wazirx', 'whitebit', 'woo', 'xena', 'yobit', 'zaif', 'zb', 'zipmex', 'zonda']\n"
     ]
    }
   ],
   "source": [
    "# print a list of all available exchange classes\n",
    "print(ccxt.exchanges) "
   ]
  },
  {
   "cell_type": "code",
   "execution_count": 19,
   "id": "4e6e54ab-04a5-4851-a602-290e5adc86d7",
   "metadata": {},
   "outputs": [
    {
     "data": {
      "text/plain": [
       "ccxt.kucoin()"
      ]
     },
     "execution_count": 19,
     "metadata": {},
     "output_type": "execute_result"
    }
   ],
   "source": [
    "exchange = ccxt.kucoin()\n",
    "exchange"
   ]
  },
  {
   "cell_type": "code",
   "execution_count": 20,
   "id": "4167b59a-6038-4878-bdfd-5a9d89d76be8",
   "metadata": {},
   "outputs": [
    {
     "data": {
      "text/plain": [
       "True"
      ]
     },
     "execution_count": 20,
     "metadata": {},
     "output_type": "execute_result"
    }
   ],
   "source": [
    "exchange.has['fetchOHLCV']"
   ]
  },
  {
   "cell_type": "code",
   "execution_count": 21,
   "id": "0becbd96-49f1-4aad-ae6a-7cf043d9944d",
   "metadata": {},
   "outputs": [
    {
     "data": {
      "text/plain": [
       "'SUSD/USDT'"
      ]
     },
     "execution_count": 21,
     "metadata": {},
     "output_type": "execute_result"
    }
   ],
   "source": [
    "symbol = \"SUSD/USDT\"\n",
    "symbol"
   ]
  },
  {
   "cell_type": "code",
   "execution_count": 22,
   "id": "1a146885-fe72-4d4e-8f04-0310ad36f912",
   "metadata": {},
   "outputs": [
    {
     "data": {
      "text/html": [
       "<div>\n",
       "<style scoped>\n",
       "    .dataframe tbody tr th:only-of-type {\n",
       "        vertical-align: middle;\n",
       "    }\n",
       "\n",
       "    .dataframe tbody tr th {\n",
       "        vertical-align: top;\n",
       "    }\n",
       "\n",
       "    .dataframe thead th {\n",
       "        text-align: right;\n",
       "    }\n",
       "</style>\n",
       "<table border=\"1\" class=\"dataframe\">\n",
       "  <thead>\n",
       "    <tr style=\"text-align: right;\">\n",
       "      <th></th>\n",
       "      <th>epoch</th>\n",
       "      <th>open</th>\n",
       "      <th>high</th>\n",
       "      <th>low</th>\n",
       "      <th>close</th>\n",
       "      <th>volume</th>\n",
       "    </tr>\n",
       "  </thead>\n",
       "  <tbody>\n",
       "    <tr>\n",
       "      <th>0</th>\n",
       "      <td>1655946000000</td>\n",
       "      <td>0.999698</td>\n",
       "      <td>0.999699</td>\n",
       "      <td>0.998000</td>\n",
       "      <td>0.999698</td>\n",
       "      <td>1.592300</td>\n",
       "    </tr>\n",
       "    <tr>\n",
       "      <th>1</th>\n",
       "      <td>1655949600000</td>\n",
       "      <td>0.999698</td>\n",
       "      <td>0.999698</td>\n",
       "      <td>0.998000</td>\n",
       "      <td>0.998000</td>\n",
       "      <td>0.900400</td>\n",
       "    </tr>\n",
       "    <tr>\n",
       "      <th>2</th>\n",
       "      <td>1655953200000</td>\n",
       "      <td>0.999698</td>\n",
       "      <td>0.999698</td>\n",
       "      <td>0.999698</td>\n",
       "      <td>0.999698</td>\n",
       "      <td>0.577300</td>\n",
       "    </tr>\n",
       "    <tr>\n",
       "      <th>3</th>\n",
       "      <td>1655956800000</td>\n",
       "      <td>0.998000</td>\n",
       "      <td>0.999690</td>\n",
       "      <td>0.998000</td>\n",
       "      <td>0.998000</td>\n",
       "      <td>1.963599</td>\n",
       "    </tr>\n",
       "    <tr>\n",
       "      <th>4</th>\n",
       "      <td>1655960400000</td>\n",
       "      <td>0.998010</td>\n",
       "      <td>0.999690</td>\n",
       "      <td>0.998010</td>\n",
       "      <td>0.999690</td>\n",
       "      <td>0.761800</td>\n",
       "    </tr>\n",
       "    <tr>\n",
       "      <th>...</th>\n",
       "      <td>...</td>\n",
       "      <td>...</td>\n",
       "      <td>...</td>\n",
       "      <td>...</td>\n",
       "      <td>...</td>\n",
       "      <td>...</td>\n",
       "    </tr>\n",
       "    <tr>\n",
       "      <th>495</th>\n",
       "      <td>1657728000000</td>\n",
       "      <td>1.003905</td>\n",
       "      <td>1.003905</td>\n",
       "      <td>1.003905</td>\n",
       "      <td>1.003905</td>\n",
       "      <td>0.103400</td>\n",
       "    </tr>\n",
       "    <tr>\n",
       "      <th>496</th>\n",
       "      <td>1657731600000</td>\n",
       "      <td>1.003906</td>\n",
       "      <td>1.004017</td>\n",
       "      <td>1.001014</td>\n",
       "      <td>1.001016</td>\n",
       "      <td>531.179900</td>\n",
       "    </tr>\n",
       "    <tr>\n",
       "      <th>497</th>\n",
       "      <td>1657735200000</td>\n",
       "      <td>1.001002</td>\n",
       "      <td>1.004016</td>\n",
       "      <td>1.001001</td>\n",
       "      <td>1.003904</td>\n",
       "      <td>306.637900</td>\n",
       "    </tr>\n",
       "    <tr>\n",
       "      <th>498</th>\n",
       "      <td>1657738800000</td>\n",
       "      <td>1.004015</td>\n",
       "      <td>1.004017</td>\n",
       "      <td>1.001016</td>\n",
       "      <td>1.001020</td>\n",
       "      <td>13.459900</td>\n",
       "    </tr>\n",
       "    <tr>\n",
       "      <th>499</th>\n",
       "      <td>1657742400000</td>\n",
       "      <td>1.001021</td>\n",
       "      <td>1.001021</td>\n",
       "      <td>1.001013</td>\n",
       "      <td>1.001013</td>\n",
       "      <td>7.836500</td>\n",
       "    </tr>\n",
       "  </tbody>\n",
       "</table>\n",
       "<p>500 rows × 6 columns</p>\n",
       "</div>"
      ],
      "text/plain": [
       "             epoch      open      high       low     close      volume\n",
       "0    1655946000000  0.999698  0.999699  0.998000  0.999698    1.592300\n",
       "1    1655949600000  0.999698  0.999698  0.998000  0.998000    0.900400\n",
       "2    1655953200000  0.999698  0.999698  0.999698  0.999698    0.577300\n",
       "3    1655956800000  0.998000  0.999690  0.998000  0.998000    1.963599\n",
       "4    1655960400000  0.998010  0.999690  0.998010  0.999690    0.761800\n",
       "..             ...       ...       ...       ...       ...         ...\n",
       "495  1657728000000  1.003905  1.003905  1.003905  1.003905    0.103400\n",
       "496  1657731600000  1.003906  1.004017  1.001014  1.001016  531.179900\n",
       "497  1657735200000  1.001002  1.004016  1.001001  1.003904  306.637900\n",
       "498  1657738800000  1.004015  1.004017  1.001016  1.001020   13.459900\n",
       "499  1657742400000  1.001021  1.001021  1.001013  1.001013    7.836500\n",
       "\n",
       "[500 rows x 6 columns]"
      ]
     },
     "execution_count": 22,
     "metadata": {},
     "output_type": "execute_result"
    }
   ],
   "source": [
    "# Query OHLCV for Charting\n",
    "ohlcv = exchange.fetchOHLCV(symbol, timeframe = \"1h\", limit = 500, params={'price':'index'}) # since = undefined\n",
    "\n",
    "# Create a Dataframe\n",
    "df = pd.DataFrame (ohlcv, columns = ['epoch', \"open\", \"high\", \"low\", \"close\", \"volume\"])\n",
    "df"
   ]
  },
  {
   "cell_type": "code",
   "execution_count": 23,
   "id": "b7265b5c-bcaa-4b13-8a97-fd5603675401",
   "metadata": {},
   "outputs": [
    {
     "data": {},
     "metadata": {},
     "output_type": "display_data"
    },
    {
     "data": {
      "application/vnd.holoviews_exec.v0+json": "",
      "text/html": [
       "<div id='1124'>\n",
       "\n",
       "\n",
       "\n",
       "\n",
       "\n",
       "  <div class=\"bk-root\" id=\"0231e940-7990-4c1b-b4f6-a6dc03f1752a\" data-root-id=\"1124\"></div>\n",
       "</div>\n",
       "<script type=\"application/javascript\">(function(root) {\n",
       "  function embed_document(root) {\n",
       "    var docs_json = {\"cbc36e18-1d21-4848-aaed-c6f79585d94a\":{\"defs\":[{\"extends\":null,\"module\":null,\"name\":\"ReactiveHTML1\",\"overrides\":[],\"properties\":[]},{\"extends\":null,\"module\":null,\"name\":\"FlexBox1\",\"overrides\":[],\"properties\":[{\"default\":\"flex-start\",\"kind\":null,\"name\":\"align_content\"},{\"default\":\"flex-start\",\"kind\":null,\"name\":\"align_items\"},{\"default\":\"row\",\"kind\":null,\"name\":\"flex_direction\"},{\"default\":\"wrap\",\"kind\":null,\"name\":\"flex_wrap\"},{\"default\":\"flex-start\",\"kind\":null,\"name\":\"justify_content\"}]},{\"extends\":null,\"module\":null,\"name\":\"GridStack1\",\"overrides\":[],\"properties\":[{\"default\":\"warn\",\"kind\":null,\"name\":\"mode\"},{\"default\":null,\"kind\":null,\"name\":\"ncols\"},{\"default\":null,\"kind\":null,\"name\":\"nrows\"},{\"default\":true,\"kind\":null,\"name\":\"allow_resize\"},{\"default\":true,\"kind\":null,\"name\":\"allow_drag\"},{\"default\":[],\"kind\":null,\"name\":\"state\"}]},{\"extends\":null,\"module\":null,\"name\":\"click1\",\"overrides\":[],\"properties\":[{\"default\":\"\",\"kind\":null,\"name\":\"terminal_output\"},{\"default\":\"\",\"kind\":null,\"name\":\"debug_name\"},{\"default\":0,\"kind\":null,\"name\":\"clears\"}]},{\"extends\":null,\"module\":null,\"name\":\"TemplateActions1\",\"overrides\":[],\"properties\":[{\"default\":0,\"kind\":null,\"name\":\"open_modal\"},{\"default\":0,\"kind\":null,\"name\":\"close_modal\"}]},{\"extends\":null,\"module\":null,\"name\":\"MaterialTemplateActions1\",\"overrides\":[],\"properties\":[{\"default\":0,\"kind\":null,\"name\":\"open_modal\"},{\"default\":0,\"kind\":null,\"name\":\"close_modal\"}]}],\"roots\":{\"references\":[{\"attributes\":{\"axis\":{\"id\":\"1138\"},\"coordinates\":null,\"grid_line_color\":null,\"group\":null,\"ticker\":null},\"id\":\"1141\",\"type\":\"Grid\"},{\"attributes\":{\"data\":{\"close\":{\"__ndarray__\":\"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\",\"dtype\":\"float64\",\"order\":\"little\",\"shape\":[500]},\"index\":[0,1,2,3,4,5,6,7,8,9,10,11,12,13,14,15,16,17,18,19,20,21,22,23,24,25,26,27,28,29,30,31,32,33,34,35,36,37,38,39,40,41,42,43,44,45,46,47,48,49,50,51,52,53,54,55,56,57,58,59,60,61,62,63,64,65,66,67,68,69,70,71,72,73,74,75,76,77,78,79,80,81,82,83,84,85,86,87,88,89,90,91,92,93,94,95,96,97,98,99,100,101,102,103,104,105,106,107,108,109,110,111,112,113,114,115,116,117,118,119,120,121,122,123,124,125,126,127,128,129,130,131,132,133,134,135,136,137,138,139,140,141,142,143,144,145,146,147,148,149,150,151,152,153,154,155,156,157,158,159,160,161,162,163,164,165,166,167,168,169,170,171,172,173,174,175,176,177,178,179,180,181,182,183,184,185,186,187,188,189,190,191,192,193,194,195,196,197,198,199,200,201,202,203,204,205,206,207,208,209,210,211,212,213,214,215,216,217,218,219,220,221,222,223,224,225,226,227,228,229,230,231,232,233,234,235,236,237,238,239,240,241,242,243,244,245,246,247,248,249,250,251,252,253,254,255,256,257,258,259,260,261,262,263,264,265,266,267,268,269,270,271,272,273,274,275,276,277,278,279,280,281,282,283,284,285,286,287,288,289,290,291,292,293,294,295,296,297,298,299,300,301,302,303,304,305,306,307,308,309,310,311,312,313,314,315,316,317,318,319,320,321,322,323,324,325,326,327,328,329,330,331,332,333,334,335,336,337,338,339,340,341,342,343,344,345,346,347,348,349,350,351,352,353,354,355,356,357,358,359,360,361,362,363,364,365,366,367,368,369,370,371,372,373,374,375,376,377,378,379,380,381,382,383,384,385,386,387,388,389,390,391,392,393,394,395,396,397,398,399,400,401,402,403,404,405,406,407,408,409,410,411,412,413,414,415,416,417,418,419,420,421,422,423,424,425,426,427,428,429,430,431,432,433,434,435,436,437,438,439,440,441,442,443,444,445,446,447,448,449,450,451,452,453,454,455,456,457,458,459,460,461,462,463,464,465,466,467,468,469,470,471,472,473,474,475,476,477,478,479,480,481,482,483,484,485,486,487,488,489,490,491,492,493,494,495,496,497,498,499]},\"selected\":{\"id\":\"1160\"},\"selection_policy\":{\"id\":\"1181\"}},\"id\":\"1159\",\"type\":\"ColumnDataSource\"},{\"attributes\":{},\"id\":\"1147\",\"type\":\"PanTool\"},{\"attributes\":{},\"id\":\"1134\",\"type\":\"LinearScale\"},{\"attributes\":{\"coordinates\":null,\"data_source\":{\"id\":\"1159\"},\"glyph\":{\"id\":\"1162\"},\"group\":null,\"hover_glyph\":null,\"muted_glyph\":{\"id\":\"1164\"},\"nonselection_glyph\":{\"id\":\"1163\"},\"selection_glyph\":{\"id\":\"1167\"},\"view\":{\"id\":\"1166\"}},\"id\":\"1165\",\"type\":\"GlyphRenderer\"},{\"attributes\":{\"tools\":[{\"id\":\"1128\"},{\"id\":\"1146\"},{\"id\":\"1147\"},{\"id\":\"1148\"},{\"id\":\"1149\"},{\"id\":\"1150\"}]},\"id\":\"1152\",\"type\":\"Toolbar\"},{\"attributes\":{\"coordinates\":null,\"group\":null,\"text\":\"close\",\"text_color\":\"black\",\"text_font_size\":\"12pt\"},\"id\":\"1130\",\"type\":\"Title\"},{\"attributes\":{},\"id\":\"1172\",\"type\":\"BasicTickFormatter\"},{\"attributes\":{\"callback\":null,\"renderers\":[{\"id\":\"1165\"}],\"tags\":[\"hv_created\"],\"tooltips\":[[\"index\",\"@{index}\"],[\"close\",\"@{close}\"]]},\"id\":\"1128\",\"type\":\"HoverTool\"},{\"attributes\":{},\"id\":\"1146\",\"type\":\"SaveTool\"},{\"attributes\":{},\"id\":\"1173\",\"type\":\"AllLabels\"},{\"attributes\":{\"line_color\":\"#30a2da\",\"line_width\":2,\"x\":{\"field\":\"index\"},\"y\":{\"field\":\"close\"}},\"id\":\"1162\",\"type\":\"Line\"},{\"attributes\":{},\"id\":\"1169\",\"type\":\"BasicTickFormatter\"},{\"attributes\":{},\"id\":\"1139\",\"type\":\"BasicTicker\"},{\"attributes\":{\"source\":{\"id\":\"1159\"}},\"id\":\"1166\",\"type\":\"CDSView\"},{\"attributes\":{\"line_alpha\":0.2,\"line_color\":\"#30a2da\",\"line_width\":2,\"x\":{\"field\":\"index\"},\"y\":{\"field\":\"close\"}},\"id\":\"1164\",\"type\":\"Line\"},{\"attributes\":{},\"id\":\"1143\",\"type\":\"BasicTicker\"},{\"attributes\":{\"line_color\":\"#30a2da\",\"line_width\":2,\"x\":{\"field\":\"index\"},\"y\":{\"field\":\"close\"}},\"id\":\"1167\",\"type\":\"Line\"},{\"attributes\":{},\"id\":\"1170\",\"type\":\"AllLabels\"},{\"attributes\":{\"end\":1.0108769,\"reset_end\":1.0108769,\"reset_start\":0.9642341,\"start\":0.9642341,\"tags\":[[[\"close\",\"close\",null]]]},\"id\":\"1127\",\"type\":\"Range1d\"},{\"attributes\":{\"axis\":{\"id\":\"1142\"},\"coordinates\":null,\"dimension\":1,\"grid_line_color\":null,\"group\":null,\"ticker\":null},\"id\":\"1145\",\"type\":\"Grid\"},{\"attributes\":{\"bottom_units\":\"screen\",\"coordinates\":null,\"fill_alpha\":0.5,\"fill_color\":\"lightgrey\",\"group\":null,\"left_units\":\"screen\",\"level\":\"overlay\",\"line_alpha\":1.0,\"line_color\":\"black\",\"line_dash\":[4,4],\"line_width\":2,\"right_units\":\"screen\",\"syncable\":false,\"top_units\":\"screen\"},\"id\":\"1151\",\"type\":\"BoxAnnotation\"},{\"attributes\":{\"margin\":[5,5,5,5],\"name\":\"HSpacer01808\",\"sizing_mode\":\"stretch_width\"},\"id\":\"1194\",\"type\":\"Spacer\"},{\"attributes\":{\"line_alpha\":0.1,\"line_color\":\"#30a2da\",\"line_width\":2,\"x\":{\"field\":\"index\"},\"y\":{\"field\":\"close\"}},\"id\":\"1163\",\"type\":\"Line\"},{\"attributes\":{\"end\":499.0,\"reset_end\":499.0,\"reset_start\":0.0,\"tags\":[[[\"index\",\"index\",null]]]},\"id\":\"1126\",\"type\":\"Range1d\"},{\"attributes\":{\"margin\":[5,5,5,5],\"name\":\"HSpacer01807\",\"sizing_mode\":\"stretch_width\"},\"id\":\"1125\",\"type\":\"Spacer\"},{\"attributes\":{\"below\":[{\"id\":\"1138\"}],\"center\":[{\"id\":\"1141\"},{\"id\":\"1145\"}],\"height\":300,\"left\":[{\"id\":\"1142\"}],\"margin\":[5,5,5,5],\"min_border_bottom\":10,\"min_border_left\":10,\"min_border_right\":10,\"min_border_top\":10,\"renderers\":[{\"id\":\"1165\"}],\"sizing_mode\":\"fixed\",\"title\":{\"id\":\"1130\"},\"toolbar\":{\"id\":\"1152\"},\"width\":700,\"x_range\":{\"id\":\"1126\"},\"x_scale\":{\"id\":\"1134\"},\"y_range\":{\"id\":\"1127\"},\"y_scale\":{\"id\":\"1136\"}},\"id\":\"1129\",\"subtype\":\"Figure\",\"type\":\"Plot\"},{\"attributes\":{},\"id\":\"1181\",\"type\":\"UnionRenderers\"},{\"attributes\":{},\"id\":\"1160\",\"type\":\"Selection\"},{\"attributes\":{\"axis_label\":\"\",\"coordinates\":null,\"formatter\":{\"id\":\"1169\"},\"group\":null,\"major_label_policy\":{\"id\":\"1170\"},\"ticker\":{\"id\":\"1139\"}},\"id\":\"1138\",\"type\":\"LinearAxis\"},{\"attributes\":{\"overlay\":{\"id\":\"1151\"}},\"id\":\"1149\",\"type\":\"BoxZoomTool\"},{\"attributes\":{\"axis_label\":\"\",\"coordinates\":null,\"formatter\":{\"id\":\"1172\"},\"group\":null,\"major_label_policy\":{\"id\":\"1173\"},\"ticker\":{\"id\":\"1143\"}},\"id\":\"1142\",\"type\":\"LinearAxis\"},{\"attributes\":{},\"id\":\"1136\",\"type\":\"LinearScale\"},{\"attributes\":{},\"id\":\"1148\",\"type\":\"WheelZoomTool\"},{\"attributes\":{},\"id\":\"1150\",\"type\":\"ResetTool\"},{\"attributes\":{\"children\":[{\"id\":\"1125\"},{\"id\":\"1129\"},{\"id\":\"1194\"}],\"margin\":[0,0,0,0],\"name\":\"Row01803\",\"tags\":[\"embedded\"]},\"id\":\"1124\",\"type\":\"Row\"}],\"root_ids\":[\"1124\"]},\"title\":\"Bokeh Application\",\"version\":\"2.4.2\"}};\n",
       "    var render_items = [{\"docid\":\"cbc36e18-1d21-4848-aaed-c6f79585d94a\",\"root_ids\":[\"1124\"],\"roots\":{\"1124\":\"0231e940-7990-4c1b-b4f6-a6dc03f1752a\"}}];\n",
       "    root.Bokeh.embed.embed_items_notebook(docs_json, render_items);\n",
       "  }\n",
       "  if (root.Bokeh !== undefined && root.Bokeh.Panel !== undefined) {\n",
       "    embed_document(root);\n",
       "  } else {\n",
       "    var attempts = 0;\n",
       "    var timer = setInterval(function(root) {\n",
       "      if (root.Bokeh !== undefined && root.Bokeh.Panel !== undefined) {\n",
       "        clearInterval(timer);\n",
       "        embed_document(root);\n",
       "      } else if (document.readyState == \"complete\") {\n",
       "        attempts++;\n",
       "        if (attempts > 200) {\n",
       "          clearInterval(timer);\n",
       "          console.log(\"Bokeh: ERROR: Unable to run BokehJS code because BokehJS library is missing\");\n",
       "        }\n",
       "      }\n",
       "    }, 25, root)\n",
       "  }\n",
       "})(window);</script>"
      ],
      "text/plain": [
       ":Curve   [index]   (close)"
      ]
     },
     "execution_count": 23,
     "metadata": {
      "application/vnd.holoviews_exec.v0+json": {
       "id": "1124"
      }
     },
     "output_type": "execute_result"
    }
   ],
   "source": [
    "df[\"close\"].hvplot()"
   ]
  },
  {
   "cell_type": "code",
   "execution_count": 24,
   "id": "01d3f4b2-57e3-4105-b8e9-c678357925d9",
   "metadata": {},
   "outputs": [
    {
     "data": {
      "text/plain": [
       "{'symbol': 'SUSD/USDT',\n",
       " 'timestamp': 1657745990007,\n",
       " 'datetime': '2022-07-13T20:59:50.007Z',\n",
       " 'high': 1.00708,\n",
       " 'low': 1.001,\n",
       " 'bid': 1.001067,\n",
       " 'bidVolume': None,\n",
       " 'ask': 1.003904,\n",
       " 'askVolume': None,\n",
       " 'vwap': 1.0033919831798248,\n",
       " 'open': 1.00469,\n",
       " 'close': 1.001013,\n",
       " 'last': 1.001013,\n",
       " 'previousClose': None,\n",
       " 'change': -0.003677,\n",
       " 'percentage': -0.36,\n",
       " 'average': 1.0034846,\n",
       " 'baseVolume': 4334.2414,\n",
       " 'quoteVolume': 4348.9430739261,\n",
       " 'info': {'time': 1657745990007,\n",
       "  'symbol': 'SUSD-USDT',\n",
       "  'buy': '1.001067',\n",
       "  'sell': '1.003904',\n",
       "  'changeRate': '-0.0036',\n",
       "  'changePrice': '-0.003677',\n",
       "  'high': '1.00708',\n",
       "  'low': '1.001',\n",
       "  'vol': '4334.2414',\n",
       "  'volValue': '4348.9430739261',\n",
       "  'last': '1.001013',\n",
       "  'averagePrice': '1.0034846',\n",
       "  'takerFeeRate': '0.001',\n",
       "  'makerFeeRate': '0.001',\n",
       "  'takerCoefficient': '1',\n",
       "  'makerCoefficient': '1'}}"
      ]
     },
     "execution_count": 24,
     "metadata": {},
     "output_type": "execute_result"
    }
   ],
   "source": [
    "# Query trading pair\n",
    "exchange.fetchTicker(symbol)"
   ]
  },
  {
   "cell_type": "markdown",
   "id": "9b6548fd-58bf-4427-b4e8-04f64531bff1",
   "metadata": {},
   "source": [
    "### Kucoin REST API"
   ]
  },
  {
   "cell_type": "code",
   "execution_count": 25,
   "id": "6b933293-6d97-4222-aeba-bc61a2855010",
   "metadata": {},
   "outputs": [],
   "source": [
    "import requests\n",
    "import json\n",
    "import datetime"
   ]
  },
  {
   "cell_type": "code",
   "execution_count": 26,
   "id": "640c05a5-de97-4af7-819a-ad368b80b7ea",
   "metadata": {},
   "outputs": [
    {
     "data": {
      "text/plain": [
       "'1.001013'"
      ]
     },
     "execution_count": 26,
     "metadata": {},
     "output_type": "execute_result"
    }
   ],
   "source": [
    "url = \"https://api.kucoin.com/api/v1/market/orderbook/level1?symbol=SUSD-USDT\"\n",
    "response = requests.get(url).json()\n",
    "response[\"data\"][\"price\"]"
   ]
  },
  {
   "cell_type": "code",
   "execution_count": 27,
   "id": "ee97e27b-a9e3-4be0-aa3b-98b50a646c9d",
   "metadata": {},
   "outputs": [
    {
     "data": {
      "text/plain": [
       "{'code': '200000',\n",
       " 'data': {'time': 1657744374135,\n",
       "  'sequence': '569408',\n",
       "  'price': '1.001013',\n",
       "  'size': '0.9945',\n",
       "  'bestBid': '1.001067',\n",
       "  'bestBidSize': '5.4107',\n",
       "  'bestAsk': '1.003904',\n",
       "  'bestAskSize': '95.6241'}}"
      ]
     },
     "execution_count": 27,
     "metadata": {},
     "output_type": "execute_result"
    }
   ],
   "source": [
    "response\n"
   ]
  },
  {
   "cell_type": "code",
   "execution_count": 35,
   "id": "bd1d673b-8f22-43b9-832d-abffcdcef6e6",
   "metadata": {},
   "outputs": [
    {
     "ename": "AttributeError",
     "evalue": "module 'datetime' has no attribute 'timestamp'",
     "output_type": "error",
     "traceback": [
      "\u001b[1;31m---------------------------------------------------------------------------\u001b[0m",
      "\u001b[1;31mAttributeError\u001b[0m                            Traceback (most recent call last)",
      "\u001b[1;32m~\\AppData\\Local\\Temp\\ipykernel_6900\\326231617.py\u001b[0m in \u001b[0;36m<module>\u001b[1;34m\u001b[0m\n\u001b[0;32m      1\u001b[0m \u001b[0mstep_size\u001b[0m \u001b[1;33m=\u001b[0m \u001b[1;36m500\u001b[0m\u001b[1;33m*\u001b[0m\u001b[1;36m3600\u001b[0m\u001b[1;33m\u001b[0m\u001b[1;33m\u001b[0m\u001b[0m\n\u001b[1;32m----> 2\u001b[1;33m \u001b[0mend_ts\u001b[0m \u001b[1;33m=\u001b[0m \u001b[0mint\u001b[0m\u001b[1;33m(\u001b[0m\u001b[0mdatetime\u001b[0m\u001b[1;33m.\u001b[0m\u001b[0mtimestamp\u001b[0m\u001b[1;33m(\u001b[0m\u001b[1;33m)\u001b[0m\u001b[1;33m.\u001b[0m\u001b[0mnow\u001b[0m\u001b[1;33m(\u001b[0m\u001b[1;33m)\u001b[0m\u001b[1;33m)\u001b[0m\u001b[1;33m\u001b[0m\u001b[1;33m\u001b[0m\u001b[0m\n\u001b[0m\u001b[0;32m      3\u001b[0m \u001b[0mstart_ts\u001b[0m \u001b[1;33m=\u001b[0m \u001b[0mint\u001b[0m\u001b[1;33m(\u001b[0m\u001b[0mdatetime\u001b[0m\u001b[1;33m.\u001b[0m\u001b[0mstrptime\u001b[0m\u001b[1;33m(\u001b[0m\u001b[1;34m'2021-01-01 00:00:00'\u001b[0m\u001b[1;33m,\u001b[0m \u001b[1;34m'%Y-%m-%d %H:%M:%S'\u001b[0m\u001b[1;33m)\u001b[0m\u001b[1;33m.\u001b[0m\u001b[0mtimestamp\u001b[0m\u001b[1;33m(\u001b[0m\u001b[1;33m)\u001b[0m\u001b[1;33m)\u001b[0m\u001b[1;33m\u001b[0m\u001b[1;33m\u001b[0m\u001b[0m\n",
      "\u001b[1;31mAttributeError\u001b[0m: module 'datetime' has no attribute 'timestamp'"
     ]
    }
   ],
   "source": [
    "step_size = 500*3600\n",
    "end_ts = int(datetime.timestamp().now())\n",
    "start_ts = int(datetime.strptime('2021-01-01 00:00:00', '%Y-%m-%d %H:%M:%S').timestamp())"
   ]
  },
  {
   "cell_type": "code",
   "execution_count": 36,
   "id": "ddf42679-ade9-4821-85b2-b19e6bb37914",
   "metadata": {},
   "outputs": [
    {
     "ename": "NameError",
     "evalue": "name 'start_ts' is not defined",
     "output_type": "error",
     "traceback": [
      "\u001b[1;31m---------------------------------------------------------------------------\u001b[0m",
      "\u001b[1;31mNameError\u001b[0m                                 Traceback (most recent call last)",
      "\u001b[1;32m~\\AppData\\Local\\Temp\\ipykernel_6900\\893216762.py\u001b[0m in \u001b[0;36m<module>\u001b[1;34m\u001b[0m\n\u001b[0;32m      1\u001b[0m \u001b[0mohlcv\u001b[0m \u001b[1;33m=\u001b[0m \u001b[1;33m[\u001b[0m\u001b[1;33m]\u001b[0m\u001b[1;33m\u001b[0m\u001b[1;33m\u001b[0m\u001b[0m\n\u001b[0;32m      2\u001b[0m \u001b[0mc\u001b[0m \u001b[1;33m=\u001b[0m \u001b[1;36m0\u001b[0m\u001b[1;33m\u001b[0m\u001b[1;33m\u001b[0m\u001b[0m\n\u001b[1;32m----> 3\u001b[1;33m \u001b[1;32mfor\u001b[0m \u001b[0mt\u001b[0m \u001b[1;32min\u001b[0m \u001b[0mrange\u001b[0m\u001b[1;33m(\u001b[0m\u001b[0mstart_ts\u001b[0m\u001b[1;33m,\u001b[0m\u001b[0mend_ts\u001b[0m\u001b[1;33m,\u001b[0m\u001b[0mstep_size\u001b[0m\u001b[1;33m)\u001b[0m\u001b[1;33m:\u001b[0m\u001b[1;33m\u001b[0m\u001b[1;33m\u001b[0m\u001b[0m\n\u001b[0m\u001b[0;32m      4\u001b[0m     \u001b[1;31m# print(t)\u001b[0m\u001b[1;33m\u001b[0m\u001b[1;33m\u001b[0m\u001b[1;33m\u001b[0m\u001b[0m\n\u001b[0;32m      5\u001b[0m     \u001b[1;31m# Query OHLCV for Charting\u001b[0m\u001b[1;33m\u001b[0m\u001b[1;33m\u001b[0m\u001b[1;33m\u001b[0m\u001b[0m\n",
      "\u001b[1;31mNameError\u001b[0m: name 'start_ts' is not defined"
     ]
    }
   ],
   "source": [
    "ohlcv = []\n",
    "c = 0\n",
    "for t in range(start_ts,end_ts,step_size):\n",
    "    # print(t)\n",
    "    # Query OHLCV for Charting\n",
    "    ohlcv.extend(exchange.fetchOHLCV(symbol, timeframe = \"1h\", since=t*1000, limit = 500, params={'price':'index'}))\n",
    "    c += 1\n",
    "    # if c >= 2:\n",
    "    #     break\n",
    "# print(ohlcv)\n",
    "print(f\"{c} pages of ohlcv data receive\")"
   ]
  },
  {
   "cell_type": "code",
   "execution_count": 30,
   "id": "c41f02c7-c179-480a-bd53-1ae9c634069a",
   "metadata": {},
   "outputs": [
    {
     "data": {
      "text/plain": [
       "0"
      ]
     },
     "execution_count": 30,
     "metadata": {},
     "output_type": "execute_result"
    }
   ],
   "source": [
    "len(ohlcv)"
   ]
  },
  {
   "cell_type": "code",
   "execution_count": 31,
   "id": "15fbeb1d-846f-4b2b-b534-4ca51d77622d",
   "metadata": {},
   "outputs": [
    {
     "data": {
      "text/html": [
       "<div>\n",
       "<style scoped>\n",
       "    .dataframe tbody tr th:only-of-type {\n",
       "        vertical-align: middle;\n",
       "    }\n",
       "\n",
       "    .dataframe tbody tr th {\n",
       "        vertical-align: top;\n",
       "    }\n",
       "\n",
       "    .dataframe thead th {\n",
       "        text-align: right;\n",
       "    }\n",
       "</style>\n",
       "<table border=\"1\" class=\"dataframe\">\n",
       "  <thead>\n",
       "    <tr style=\"text-align: right;\">\n",
       "      <th></th>\n",
       "      <th>epoch</th>\n",
       "      <th>open</th>\n",
       "      <th>high</th>\n",
       "      <th>low</th>\n",
       "      <th>close</th>\n",
       "      <th>volume</th>\n",
       "    </tr>\n",
       "  </thead>\n",
       "  <tbody>\n",
       "  </tbody>\n",
       "</table>\n",
       "</div>"
      ],
      "text/plain": [
       "Empty DataFrame\n",
       "Columns: [epoch, open, high, low, close, volume]\n",
       "Index: []"
      ]
     },
     "execution_count": 31,
     "metadata": {},
     "output_type": "execute_result"
    }
   ],
   "source": [
    "# Create a Dataframe\n",
    "df = pd.DataFrame (ohlcv, columns = ['epoch', \"open\", \"high\", \"low\", \"close\", \"volume\"])\n",
    "df"
   ]
  },
  {
   "cell_type": "code",
   "execution_count": 32,
   "id": "d8c647d4-b89c-4952-b89e-037afa355cc2",
   "metadata": {},
   "outputs": [],
   "source": [
    "from pathlib import Path\n",
    "\n",
    "\n",
    "df.to_csv(Path('./data/ku.csv'),index=False)"
   ]
  },
  {
   "cell_type": "code",
   "execution_count": 33,
   "id": "4b975527-5b49-42e9-b116-593aadfae908",
   "metadata": {},
   "outputs": [
    {
     "ename": "AttributeError",
     "evalue": "module 'datetime' has no attribute 'now'",
     "output_type": "error",
     "traceback": [
      "\u001b[1;31m---------------------------------------------------------------------------\u001b[0m",
      "\u001b[1;31mAttributeError\u001b[0m                            Traceback (most recent call last)",
      "\u001b[1;32m~\\AppData\\Local\\Temp\\ipykernel_6900\\2732397811.py\u001b[0m in \u001b[0;36m<module>\u001b[1;34m\u001b[0m\n\u001b[1;32m----> 1\u001b[1;33m \u001b[0mend_ts\u001b[0m \u001b[1;33m=\u001b[0m \u001b[0mint\u001b[0m\u001b[1;33m(\u001b[0m\u001b[0mdatetime\u001b[0m\u001b[1;33m.\u001b[0m\u001b[0mnow\u001b[0m\u001b[1;33m(\u001b[0m\u001b[1;33m)\u001b[0m\u001b[1;33m.\u001b[0m\u001b[0mtimestamp\u001b[0m\u001b[1;33m(\u001b[0m\u001b[1;33m)\u001b[0m\u001b[1;33m)\u001b[0m\u001b[1;33m\u001b[0m\u001b[1;33m\u001b[0m\u001b[0m\n\u001b[0m\u001b[0;32m      2\u001b[0m \u001b[0mstart_ts\u001b[0m \u001b[1;33m=\u001b[0m \u001b[1;36m1616684400\u001b[0m\u001b[1;33m\u001b[0m\u001b[1;33m\u001b[0m\u001b[0m\n",
      "\u001b[1;31mAttributeError\u001b[0m: module 'datetime' has no attribute 'now'"
     ]
    }
   ],
   "source": [
    "end_ts = int(datetime.now().timestamp())\n",
    "start_ts = 1616684400"
   ]
  },
  {
   "cell_type": "code",
   "execution_count": 34,
   "id": "b751729e-e5e2-49f4-8033-a73643fae70a",
   "metadata": {},
   "outputs": [
    {
     "ename": "NameError",
     "evalue": "name 'start_ts' is not defined",
     "output_type": "error",
     "traceback": [
      "\u001b[1;31m---------------------------------------------------------------------------\u001b[0m",
      "\u001b[1;31mNameError\u001b[0m                                 Traceback (most recent call last)",
      "\u001b[1;32m~\\AppData\\Local\\Temp\\ipykernel_6900\\893216762.py\u001b[0m in \u001b[0;36m<module>\u001b[1;34m\u001b[0m\n\u001b[0;32m      1\u001b[0m \u001b[0mohlcv\u001b[0m \u001b[1;33m=\u001b[0m \u001b[1;33m[\u001b[0m\u001b[1;33m]\u001b[0m\u001b[1;33m\u001b[0m\u001b[1;33m\u001b[0m\u001b[0m\n\u001b[0;32m      2\u001b[0m \u001b[0mc\u001b[0m \u001b[1;33m=\u001b[0m \u001b[1;36m0\u001b[0m\u001b[1;33m\u001b[0m\u001b[1;33m\u001b[0m\u001b[0m\n\u001b[1;32m----> 3\u001b[1;33m \u001b[1;32mfor\u001b[0m \u001b[0mt\u001b[0m \u001b[1;32min\u001b[0m \u001b[0mrange\u001b[0m\u001b[1;33m(\u001b[0m\u001b[0mstart_ts\u001b[0m\u001b[1;33m,\u001b[0m\u001b[0mend_ts\u001b[0m\u001b[1;33m,\u001b[0m\u001b[0mstep_size\u001b[0m\u001b[1;33m)\u001b[0m\u001b[1;33m:\u001b[0m\u001b[1;33m\u001b[0m\u001b[1;33m\u001b[0m\u001b[0m\n\u001b[0m\u001b[0;32m      4\u001b[0m     \u001b[1;31m# print(t)\u001b[0m\u001b[1;33m\u001b[0m\u001b[1;33m\u001b[0m\u001b[1;33m\u001b[0m\u001b[0m\n\u001b[0;32m      5\u001b[0m     \u001b[1;31m# Query OHLCV for Charting\u001b[0m\u001b[1;33m\u001b[0m\u001b[1;33m\u001b[0m\u001b[1;33m\u001b[0m\u001b[0m\n",
      "\u001b[1;31mNameError\u001b[0m: name 'start_ts' is not defined"
     ]
    }
   ],
   "source": [
    "ohlcv = []\n",
    "c = 0\n",
    "for t in range(start_ts,end_ts,step_size):\n",
    "    # print(t)\n",
    "    # Query OHLCV for Charting\n",
    "    ohlcv.extend(exchange.fetchOHLCV(symbol, timeframe = \"1h\", since=t*1000, limit = 500, params={'price':'index'}))\n",
    "    c += 1\n",
    "    # if c >= 2:\n",
    "    #     break\n",
    "# print(ohlcv)\n",
    "print(f\"{c} pages of ohlcv data receive\")"
   ]
  },
  {
   "cell_type": "code",
   "execution_count": null,
   "id": "0b93383b-132a-4314-adee-6e2d31ac4336",
   "metadata": {},
   "outputs": [],
   "source": [
    "len(ohlcv)"
   ]
  },
  {
   "cell_type": "code",
   "execution_count": null,
   "id": "ab97a857-8a4c-484e-bb7c-fe42609b804e",
   "metadata": {},
   "outputs": [],
   "source": [
    "# Create a Dataframe\n",
    "df = pd.DataFrame (ohlcv, columns = ['epoch', \"open\", \"high\", \"low\", \"close\", \"volume\"])\n",
    "df"
   ]
  },
  {
   "cell_type": "markdown",
   "id": "1889cc60-f1b7-483c-9c3e-5c0958093134",
   "metadata": {},
   "source": [
    "1657242000 # Thursday, July 7, 2022 6:00:00 PM GMT-07:00 DST\n"
   ]
  },
  {
   "cell_type": "code",
   "execution_count": null,
   "id": "527e894b-311f-4250-8a00-941ceed6a203",
   "metadata": {},
   "outputs": [],
   "source": [
    "\n",
    "df.to_csv(Path('./data/ku2.csv'),index=False)"
   ]
  },
  {
   "cell_type": "code",
   "execution_count": null,
   "id": "530dbe1f-4030-4004-ad9c-097a63e4f193",
   "metadata": {},
   "outputs": [],
   "source": []
  }
 ],
 "metadata": {
  "kernelspec": {
   "display_name": "Python 3 (ipykernel)",
   "language": "python",
   "name": "python3"
  },
  "language_info": {
   "codemirror_mode": {
    "name": "ipython",
    "version": 3
   },
   "file_extension": ".py",
   "mimetype": "text/x-python",
   "name": "python",
   "nbconvert_exporter": "python",
   "pygments_lexer": "ipython3",
   "version": "3.7.13"
  }
 },
 "nbformat": 4,
 "nbformat_minor": 5
}
