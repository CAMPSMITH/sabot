{
 "cells": [
  {
   "cell_type": "code",
   "execution_count": 3,
   "id": "ae9ca188-568c-45f2-a2fe-e47acdc7ad71",
   "metadata": {},
   "outputs": [],
   "source": [
    "# import dependencies\n",
    "# error message in ipykernel, no error in dev\n",
    "import requests\n",
    "import numpy as np\n",
    "import pandas as pd\n",
    "import hvplot.pandas\n",
    "import matplotlib.pyplot as plt\n",
    "from pathlib import Path\n",
    "from finta import TA\n",
    "from sklearn.preprocessing import StandardScaler\n",
    "from pandas.tseries.offsets import DateOffset\n",
    "from sklearn.metrics import classification_report"
   ]
  },
  {
   "cell_type": "markdown",
   "id": "2f220354-0285-4bc7-8022-809c003a96ba",
   "metadata": {
    "jupyter": {
     "source_hidden": true
    },
    "tags": []
   },
   "source": [
    "# Trading Indicators\n",
    "\n",
    "### Indicator Notes:\n",
    "* Fast SMA (SMA)\n",
    "* Slow SMA (SMA)\n",
    "* Exponential Moving Average (EMA): more weight on recent price data. \n",
    "* Double EMA (DEMA): \n",
    "    - The double exponential moving average (DEMA) is a variation on a technical indicator that is used to identify a potential uptrend or downtrend in the price of a stock or other asset.\n",
    "    - A moving average tracks the average price of an asset over a period of time in order to spot the point at which it establishes a new trend, moving above or below its average price.\n",
    "    - Some traders see a flaw in the standard moving average: It has a lag time that increases with the length of the time period being charted.1\n",
    "    - The DEMA addresses this flaw, reducing lag time in the indicator.\n",
    "    - The DEMA, therefore, has a stronger filter for the \"noise\" of irrelevant market action that can distort charted results.\n",
    "* Triple EMA:\n",
    "    - The triple exponential moving average (TEMA) uses multiple EMA calculations and subtracts out the lag to create a trend following indicator that reacts quickly to price changes.\n",
    "    - The TEMA can help identify trend direction, signal potential short-term trend changes or pullbacks, and provide support or resistance.\n",
    "    - When the price is above the TEMA it helps confirm an uptrend; when the price is below the TEMA it helps confirm a downtrend.\n",
    "* Triple Exponential Average:\n",
    "    - The triple exponential average (TRIX) indicator is an oscillator used to identify oversold and overbought markets and is also a momentum indicator.\n",
    "    - The triple smoothing of moving averages is designed to filter out price movements that are considered insignificant or unimportant.\n",
    "    - Many analysts believe that when the TRIX crosses above the zero line, it gives a buy signal, and when it closes below the zero line, it gives a sell signal.\n",
    "* Moving Average Convergence Divergence (MACD)\n",
    "    - Moving average convergence divergence (MACD) is calculated by subtracting the 26-period exponential moving average (EMA) from the 12-period EMA.\n",
    "    - MACD triggers technical signals when it crosses above (to buy) or below (to sell) its signal line.\n",
    "    - The speed of crossovers is also taken as a signal of a market is overbought or oversold.\n",
    "    - MACD helps investors understand whether the bullish or bearish movement in the price is strengthening or weakening.\n",
    "    \n",
    "* Relative Strength Index (RSI):\n",
    "    - The RSI provides technical traders with signals about bullish and bearish price momentum, and it is often plotted beneath the graph of an asset’s price.\n",
    "    - An asset is usually considered overbought when the RSI is above 70% and oversold when it is below 30%.\n",
    "\n",
    "* Bollinger Bands (BBANDS)\n",
    "* Donchian Channel 'DO':\n",
    "    - Donchian Channel, a moving average indicator developed by Richard Donchian.\n",
    "        It plots the highest high and lowest low over the last period time intervals\n",
    "* Fear and Greed Index: \n",
    "    - How to use Fear & Greed Index?\n",
    "        - The Fear & Greed Index is used to gauge the mood of the market. Many investors are emotional and reactionary, and fear and greed sentiment indicators can alert investors to their own emotions and biases that can influence their decisions. When combined with fundamentals and other analytical tools, the Index can be a helpful way to assess market sentiment."
   ]
  },
  {
   "cell_type": "markdown",
   "id": "87a0b109-cb20-4c47-9b23-2c903fe91ebf",
   "metadata": {},
   "source": [
    "### Fast and Slow SMA\n",
    "* Simple moving average - rolling mean in pandas lingo. Also known as 'MA'. The simple moving average (SMA) is the most basic of the moving averages used for trading."
   ]
  },
  {
   "cell_type": "code",
   "execution_count": 36,
   "id": "f99f030f-0e69-40c2-bc6b-5c4837608f69",
   "metadata": {
    "collapsed": true,
    "jupyter": {
     "outputs_hidden": true
    },
    "tags": []
   },
   "outputs": [
    {
     "ename": "NameError",
     "evalue": "name 'btc_historical_price' is not defined",
     "output_type": "error",
     "traceback": [
      "\u001b[1;31m---------------------------------------------------------------------------\u001b[0m",
      "\u001b[1;31mNameError\u001b[0m                                 Traceback (most recent call last)",
      "\u001b[1;32m~\\AppData\\Local\\Temp\\ipykernel_2728\\3454996258.py\u001b[0m in \u001b[0;36m<module>\u001b[1;34m\u001b[0m\n\u001b[0;32m      1\u001b[0m \u001b[1;31m# Skeleton Code to test out Indicators for each coin\u001b[0m\u001b[1;33m\u001b[0m\u001b[1;33m\u001b[0m\u001b[1;33m\u001b[0m\u001b[0m\n\u001b[0;32m      2\u001b[0m \u001b[1;31m# Fast SMA starting with 4 day average\u001b[0m\u001b[1;33m\u001b[0m\u001b[1;33m\u001b[0m\u001b[1;33m\u001b[0m\u001b[0m\n\u001b[1;32m----> 3\u001b[1;33m \u001b[0mbtc_fast_sma\u001b[0m \u001b[1;33m=\u001b[0m \u001b[0mTA\u001b[0m\u001b[1;33m.\u001b[0m\u001b[0mSMA\u001b[0m\u001b[1;33m(\u001b[0m\u001b[0mbtc_historical_price\u001b[0m\u001b[1;33m,\u001b[0m \u001b[1;36m4\u001b[0m\u001b[1;33m)\u001b[0m\u001b[1;33m\u001b[0m\u001b[1;33m\u001b[0m\u001b[0m\n\u001b[0m\u001b[0;32m      4\u001b[0m \u001b[0mdai_fast_sma\u001b[0m \u001b[1;33m=\u001b[0m \u001b[0mTA\u001b[0m\u001b[1;33m.\u001b[0m\u001b[0mSMA\u001b[0m\u001b[1;33m(\u001b[0m\u001b[0mdai_historical_price\u001b[0m\u001b[1;33m,\u001b[0m \u001b[1;36m4\u001b[0m\u001b[1;33m)\u001b[0m\u001b[1;33m\u001b[0m\u001b[1;33m\u001b[0m\u001b[0m\n\u001b[0;32m      5\u001b[0m \u001b[0meth_fast_sma\u001b[0m \u001b[1;33m=\u001b[0m \u001b[0mTA\u001b[0m\u001b[1;33m.\u001b[0m\u001b[0mSMA\u001b[0m\u001b[1;33m(\u001b[0m\u001b[0meth_historical_price\u001b[0m\u001b[1;33m,\u001b[0m \u001b[1;36m4\u001b[0m\u001b[1;33m)\u001b[0m\u001b[1;33m\u001b[0m\u001b[1;33m\u001b[0m\u001b[0m\n",
      "\u001b[1;31mNameError\u001b[0m: name 'btc_historical_price' is not defined"
     ]
    }
   ],
   "source": [
    "# Skeleton Code to test out and plot Indicators for each coin\n",
    "\n",
    "# Fast SMA starting with 4 periods\n",
    "btc_fast_sma = TA.SMA(btc_ohlc, 4)\n",
    "dai_fast_sma = TA.SMA(dai_ohlc, 4)\n",
    "eth_fast_sma = TA.SMA(eth_ohlc, 4)\n",
    "usdc_fast_sma = TA.SMA(usdc_ohlc, 4)\n",
    "usdt_fast_sma = TA.SMA(usdt_ohlc, 4)\n",
    "susd_fast_sma = TA.SMA(susd_ohlc, 4)\n",
    "\n",
    "print('Fast SMAs')\n",
    "print('---------------')\n",
    "display(btc_fast_sma)\n",
    "display(dai_fast_sma)\n",
    "display(eth_fast_sma)\n",
    "display(usdc_fast_sma)\n",
    "display(usdt_fast_sma)\n",
    "display(susd_fast_sma)\n",
    "\n",
    "# Slow SMA starting with 100 periods\n",
    "btc_slow_sma = TA.SMA(btc_ohlc, 100)\n",
    "dai_slow_sma = TA.SMA(dai_ohlc, 100)\n",
    "eth_slow_sma = TA.SMA(eth_ohlc, 100)\n",
    "usdc_slow_sma = TA.SMA(usdc_ohlc, 100)\n",
    "usdt_slow_sma = TA.SMA(usdt_ohlc, 100)\n",
    "susd_slow_sma = TA.SMA(susd_ohlc, 100)\n",
    "\n",
    "print('Slow SMAs')\n",
    "print('---------------')\n",
    "display(btc_slow_sma)\n",
    "display(dai_slow_sma)\n",
    "display(eth_slow_sma)\n",
    "display(usdc_slow_sma)\n",
    "display(usdt_slow_sma)\n",
    "display(susd_slow_sma)"
   ]
  },
  {
   "cell_type": "markdown",
   "id": "7f13eac8-b368-45b4-b2f4-a2f131b9f275",
   "metadata": {},
   "source": [
    "### Kaufman's Adaptive Moving Average\n",
    "\n",
    "* Moving average designe dto accoutn for market noise or volatility. Its main advantage is that it takes into consideration not just the direction, but the market volatility as well.\n",
    "* Default settings:\n",
    "    - 10 is the number of periods for the Efficiency Ratio (ER).\n",
    "    - 2 is the number of periods for the fastest EMA constant.\n",
    "    - 30 is the number of periods for the slowest EMA constant."
   ]
  },
  {
   "cell_type": "code",
   "execution_count": 38,
   "id": "9e448e1d-c433-4077-a83c-92408078b9b8",
   "metadata": {
    "collapsed": true,
    "jupyter": {
     "outputs_hidden": true
    },
    "tags": []
   },
   "outputs": [
    {
     "ename": "NameError",
     "evalue": "name 'btc_ohlc' is not defined",
     "output_type": "error",
     "traceback": [
      "\u001b[1;31m---------------------------------------------------------------------------\u001b[0m",
      "\u001b[1;31mNameError\u001b[0m                                 Traceback (most recent call last)",
      "\u001b[1;32m~\\AppData\\Local\\Temp\\ipykernel_2728\\1399009338.py\u001b[0m in \u001b[0;36m<module>\u001b[1;34m\u001b[0m\n\u001b[1;32m----> 1\u001b[1;33m \u001b[0mbtc_kama\u001b[0m \u001b[1;33m=\u001b[0m \u001b[0mTA\u001b[0m\u001b[1;33m.\u001b[0m\u001b[0mKAMA\u001b[0m\u001b[1;33m(\u001b[0m\u001b[0mbtc_ohlc\u001b[0m\u001b[1;33m)\u001b[0m\u001b[1;33m\u001b[0m\u001b[1;33m\u001b[0m\u001b[0m\n\u001b[0m\u001b[0;32m      2\u001b[0m \u001b[0mdai_kama\u001b[0m \u001b[1;33m=\u001b[0m \u001b[0mTA\u001b[0m\u001b[1;33m.\u001b[0m\u001b[0mKAMA\u001b[0m\u001b[1;33m(\u001b[0m\u001b[0mdai_ohlc\u001b[0m\u001b[1;33m)\u001b[0m\u001b[1;33m\u001b[0m\u001b[1;33m\u001b[0m\u001b[0m\n\u001b[0;32m      3\u001b[0m \u001b[0meth_kama\u001b[0m \u001b[1;33m=\u001b[0m \u001b[0mTA\u001b[0m\u001b[1;33m.\u001b[0m\u001b[0mKAMA\u001b[0m\u001b[1;33m(\u001b[0m\u001b[0meth_ohlc\u001b[0m\u001b[1;33m)\u001b[0m\u001b[1;33m\u001b[0m\u001b[1;33m\u001b[0m\u001b[0m\n\u001b[0;32m      4\u001b[0m \u001b[0musdc_kama\u001b[0m \u001b[1;33m=\u001b[0m \u001b[0mTA\u001b[0m\u001b[1;33m.\u001b[0m\u001b[0mKAMA\u001b[0m\u001b[1;33m(\u001b[0m\u001b[0musdc_ohlc\u001b[0m\u001b[1;33m)\u001b[0m\u001b[1;33m\u001b[0m\u001b[1;33m\u001b[0m\u001b[0m\n\u001b[0;32m      5\u001b[0m \u001b[0musdt_kama\u001b[0m \u001b[1;33m=\u001b[0m \u001b[0mTA\u001b[0m\u001b[1;33m.\u001b[0m\u001b[0mKAMA\u001b[0m\u001b[1;33m(\u001b[0m\u001b[0musdt_ohlc\u001b[0m\u001b[1;33m)\u001b[0m\u001b[1;33m\u001b[0m\u001b[1;33m\u001b[0m\u001b[0m\n",
      "\u001b[1;31mNameError\u001b[0m: name 'btc_ohlc' is not defined"
     ]
    }
   ],
   "source": [
    "btc_kama = TA.KAMA(btc_ohlc)\n",
    "dai_kama = TA.KAMA(dai_ohlc)\n",
    "eth_kama = TA.KAMA(eth_ohlc)\n",
    "usdc_kama = TA.KAMA(usdc_ohlc)\n",
    "usdt_kama = TA.KAMA(usdt_ohlc)\n",
    "susd_kama = TA.KAMA(susd_ohlc)\n",
    "\n",
    "print('Kafuman\\'s Adaptive Moving Average')\n",
    "print('---------------')\n",
    "display(btc_kama)  \n",
    "display(dai_kama)\n",
    "display(eth_kama)\n",
    "display(usdc_kama)\n",
    "display(usdt_kama)\n",
    "display(susd_kama)"
   ]
  },
  {
   "cell_type": "markdown",
   "id": "47389c98-88b7-44b5-80e4-46fa7e3da63b",
   "metadata": {},
   "source": [
    "### Bollinger Bands\n",
    "* Bollinger Bands® are volatility bands placed above and below a moving average. Volatility is based on the standard deviation, which changes as volatility increases and decreases. The bands automatically widen when volatility increases and narrow when volatility decreases. This method allows input of some other form of moving average like EMA or KAMA around which BBAND will be formed. Pass desired moving average as <MA> argument. For example BBANDS(MA=TA.KAMA(20))."
   ]
  },
  {
   "cell_type": "code",
   "execution_count": 37,
   "id": "54b98acb-6976-49d9-87c2-851632bc7d4b",
   "metadata": {
    "collapsed": true,
    "jupyter": {
     "outputs_hidden": true
    },
    "tags": []
   },
   "outputs": [
    {
     "ename": "NameError",
     "evalue": "name 'btc_ohlcv' is not defined",
     "output_type": "error",
     "traceback": [
      "\u001b[1;31m---------------------------------------------------------------------------\u001b[0m",
      "\u001b[1;31mNameError\u001b[0m                                 Traceback (most recent call last)",
      "\u001b[1;32m~\\AppData\\Local\\Temp\\ipykernel_2728\\814033441.py\u001b[0m in \u001b[0;36m<module>\u001b[1;34m\u001b[0m\n\u001b[0;32m      1\u001b[0m \u001b[1;31m# Bollinger Bands\u001b[0m\u001b[1;33m\u001b[0m\u001b[1;33m\u001b[0m\u001b[1;33m\u001b[0m\u001b[0m\n\u001b[1;32m----> 2\u001b[1;33m \u001b[0mbtc_bband\u001b[0m \u001b[1;33m=\u001b[0m \u001b[0mTA\u001b[0m\u001b[1;33m.\u001b[0m\u001b[0mBBANDS\u001b[0m\u001b[1;33m(\u001b[0m\u001b[0mbtc_ohlcv\u001b[0m\u001b[1;33m)\u001b[0m\u001b[1;33m\u001b[0m\u001b[1;33m\u001b[0m\u001b[0m\n\u001b[0m\u001b[0;32m      3\u001b[0m \u001b[0mbtc_bband\u001b[0m \u001b[1;33m=\u001b[0m \u001b[0mTA\u001b[0m\u001b[1;33m.\u001b[0m\u001b[0mBBANDS\u001b[0m\u001b[1;33m(\u001b[0m\u001b[0mbtc_ohlcv\u001b[0m\u001b[1;33m)\u001b[0m\u001b[1;33m\u001b[0m\u001b[1;33m\u001b[0m\u001b[0m\n\u001b[0;32m      4\u001b[0m \u001b[0mbtc_bband\u001b[0m \u001b[1;33m=\u001b[0m \u001b[0mTA\u001b[0m\u001b[1;33m.\u001b[0m\u001b[0mBBANDS\u001b[0m\u001b[1;33m(\u001b[0m\u001b[0mbtc_ohlcv\u001b[0m\u001b[1;33m)\u001b[0m\u001b[1;33m\u001b[0m\u001b[1;33m\u001b[0m\u001b[0m\n\u001b[0;32m      5\u001b[0m \u001b[0mbtc_bband\u001b[0m \u001b[1;33m=\u001b[0m \u001b[0mTA\u001b[0m\u001b[1;33m.\u001b[0m\u001b[0mBBANDS\u001b[0m\u001b[1;33m(\u001b[0m\u001b[0mbtc_ohlcv\u001b[0m\u001b[1;33m)\u001b[0m\u001b[1;33m\u001b[0m\u001b[1;33m\u001b[0m\u001b[0m\n",
      "\u001b[1;31mNameError\u001b[0m: name 'btc_ohlcv' is not defined"
     ]
    }
   ],
   "source": [
    "btc_bband = TA.BBANDS(btc_ohlc,MA=TA.KAMA(100))\n",
    "dai_bband = TA.BBANDS(dai_ohlc,MA=TA.KAMA(100))\n",
    "eth_bband = TA.BBANDS(eth_ohlc,MA=TA.KAMA(100))\n",
    "usdc_bband = TA.BBANDS(usdc_ohlc,MA=TA.KAMA(100))\n",
    "usdt_bband = TA.BBANDS(usdt_ohlc,MA=TA.KAMA(100))\n",
    "susd_bband = TA.BBANDS(susd_ohlc,MA=TA.KAMA(100))\n",
    "\n",
    "\n",
    "print('Bollinger Bands')\n",
    "print('---------------')\n",
    "display(btc_bband)\n",
    "display(dai_bband)\n",
    "display(eth_bband)\n",
    "display(usdc_bband)\n",
    "display(usdt_bband)\n",
    "display(susd_bband)"
   ]
  },
  {
   "cell_type": "markdown",
   "id": "9e7cd5f4-5df6-4ac5-bf8f-14b11bc7a4ea",
   "metadata": {},
   "source": [
    "### Donchian Channel\n",
    "\n",
    "    - Moving average indicator, plots the highest high and lowest low over the last period time intervals."
   ]
  },
  {
   "cell_type": "code",
   "execution_count": null,
   "id": "1a8501ac-7ff3-4171-8af2-c89469bf3f9a",
   "metadata": {},
   "outputs": [],
   "source": [
    "# Donchian Channel 'DO'\n",
    "\n",
    "btc_do = TA.DO(btc_ohlc)\n",
    "dai_do = TA.DO(dai_ohlc)\n",
    "eth_do = TA.DO(eth_ohlc)\n",
    "usdc_do = TA.DO(usdc_ohlc)\n",
    "usdt_do = TA.DO(usdt_ohlc)\n",
    "susd_do = TA.DO(susd_ohlc)\n",
    "\n",
    "\n",
    "\n",
    "print('Donchian Channel')\n",
    "print('---------------')\n",
    "display(btc_do)\n",
    "display(dai_do)\n",
    "display(eth_do)\n",
    "display(usdc_do)\n",
    "display(usdt_do)\n",
    "display(susd_do)"
   ]
  },
  {
   "cell_type": "markdown",
   "id": "2b5df48b-374e-45e6-afd9-0f07e893b7d5",
   "metadata": {},
   "source": [
    "### Directional Movement Indicator\n",
    "* The directional movement indicator (also known as the directional movement index - DMI) is a valuable tool for assessing price direction and strength. DMI tells you when to be long or short. It is especially useful for trend trading strategies because it differentiates between strong and weak trends, allowing the trader to enter only the strongest trends.      "
   ]
  },
  {
   "cell_type": "code",
   "execution_count": null,
   "id": "65733e68-e99d-4e8d-9f9d-24cd8954c6f4",
   "metadata": {},
   "outputs": [],
   "source": [
    "btc_dmi = TA.DMI(btc_ohlc)\n",
    "dai_dmi = TA.DMI(dai_ohlc)\n",
    "eth_dmi = TA.DMI(eth_ohlc)\n",
    "usdc_dmi = TA.DMI(usdc_ohlc)\n",
    "usdt_dmi = TA.DMI(usdt_ohlc)\n",
    "susd_dmi = TA.DMI(susd_ohlc)\n",
    "\n",
    "print('Directional Movement Indicator')\n",
    "print('---------------')\n",
    "display(btc_dmi)\n",
    "display(dai_dmi)\n",
    "display(eth_dmi)\n",
    "display(usdc_dmi)\n",
    "display(usdt_dmi)\n",
    "display(susd_dmi)"
   ]
  },
  {
   "cell_type": "markdown",
   "id": "0bac216a-643e-4089-b5c1-b7d3ae08fffd",
   "metadata": {},
   "source": [
    "### Mass Index \n",
    "* the Mass Index uses the high-low range to identify trend reversals based on range expansions. In this sense, the Mass Index is a volatility indicator that does not have a directional bias. Instead, the Mass Index identifies range bulges that can foreshadow a reversal of the current trend"
   ]
  },
  {
   "cell_type": "code",
   "execution_count": null,
   "id": "cb28ba40-bf94-43ee-ae57-066a932ba553",
   "metadata": {},
   "outputs": [],
   "source": [
    "btc_mi = TA.MI(btc_ohlc)\n",
    "dai_mi = TA.MI(dai_ohlc)\n",
    "eth_mi = TA.MI(eth_ohlc)\n",
    "usdc_mi = TA.MI(usdc_ohlc)\n",
    "usdt_mi = TA.MI(usdt_ohlc)\n",
    "susd_mi = TA.MI(susd_ohlc)\n",
    "\n",
    "print('Mass Index')\n",
    "print('---------------')\n",
    "display(btc_dmi)\n",
    "display(dai_dmi)\n",
    "display(eth_dmi)\n",
    "display(usdc_dmi)\n",
    "display(usdt_dmi)\n",
    "display(susd_dmi)"
   ]
  },
  {
   "cell_type": "markdown",
   "id": "80b8aa3c-068c-4734-96d1-892a95f17a71",
   "metadata": {},
   "source": [
    "### Adaptive Price Zone\n",
    "\n",
    "* The adaptive price zone (APZ) is a technical indicator developed by Lee Leibfarth. The APZ is a volatility based indicator that appears as a set of bands placed over a price chart. Especially useful in non-trending, choppy markets, the APZ was created to help traders find potential turning points in the markets."
   ]
  },
  {
   "cell_type": "code",
   "execution_count": null,
   "id": "301cbaab-60b2-4788-a5a3-13a8e0aab111",
   "metadata": {},
   "outputs": [],
   "source": [
    "btc_apz = TA.APZ(btc_ohlc)\n",
    "dai_apz = TA.APZ(dai_ohlc)\n",
    "eth_apz = TA.APZ(eth_ohlc)\n",
    "usdc_apz = TA.APZ(usdc_ohlc)\n",
    "usdt_apz = TA.APZ(usdt_ohlc)\n",
    "susd_apz = TA.APZ(susd_ohlc)\n",
    "\n",
    "print('Adaptice Price Zone')\n",
    "print('---------------')\n",
    "display(btc_apz)\n",
    "display(dai_apz)\n",
    "display(eth_apz)\n",
    "display(usdc_apz)\n",
    "display(usdt_apz)\n",
    "display(susd_apz)"
   ]
  },
  {
   "cell_type": "markdown",
   "id": "0c1f95f1-d488-49a5-b788-781e13059f99",
   "metadata": {
    "tags": []
   },
   "source": [
    "### Fear and Greed Index \n",
    "The crypto market behaviour is very emotional. People tend to get greedy when the market is rising which results in FOMO. Also, people often sell their coins in irrational reaction of seeing red numbers. There are two simple assumptions:\n",
    "\n",
    "    1. Extreme fear can be a sign that investors are too worried. That could be a buying opportunity.\n",
    "    2. When Investors are getting too greedy, that means the market is due for a correction.\n",
    "    \n",
    "    \n",
    "\n",
    "Therefore, we analyze the current sentiment of the Bitcoin market and crunch the numbers into a simple meter from 0 to 100. Zero means \"Extreme Fear\", while 100 means \"Extreme Greed\"\n",
    "We are gathering data from the five following sources. Each data point is valued the same as the day before in order to visualize a meaningful progress in sentiment change of the crypto market.\n",
    "\n",
    "- First of all, the current index is for bitcoin only (separate indices for large alt coins soon), because a big part of it is the volatility of the coin price. But let’s list all the different factors we’re including in the current index:\n",
    "\n",
    "1. Volatility (25 %)\n",
    "    * We’re measuring the current volatility and max. drawdowns of bitcoin and compare it with the corresponding average values of the last 30 days and 90 days. We argue that an unusual rise in volatility is a sign of a fearful market.\n",
    "\n",
    "2. Market Momentum/Volume (25%)\n",
    "    * Also, we’re measuring the current volume and market momentum (again in comparison with the last 30/90 day average values) and put those two values together. Generally, when we see high buying volumes in a positive market on a daily basis, we conclude that the market acts overly greedy / too bullish.\n",
    "\n",
    "3. Social Media (15%)\n",
    "    * While our reddit sentiment analysis is still not in the live index (we’re still experimenting some market-related key words in the text processing algorithm), our twitter analysis is running. There, we gather and count posts on various hashtags for each coin (publicly, we show only those for Bitcoin) and check how fast and how many interactions they receive in certain time frames). A unusual high interaction rate results in a grown public interest in the coin and in our eyes, corresponds to a greedy market behaviour.\n",
    "\n",
    "4. Surveys (15%) currently paused\n",
    "    * Together with strawpoll.com (disclaimer: we own this site, too), quite a large public polling platform, we’re conducting weekly crypto polls and ask people how they see the market. Usually, we’re seeing 2,000 - 3,000 votes on each poll, so we do get a picture of the sentiment of a group of crypto investors. We don’t give those results too much attention, but it was quite useful in the beginning of our studies. You can see some recent results here.\n",
    "\n",
    "5. Dominance (10%)\n",
    "    * The dominance of a coin resembles the market cap share of the whole crypto market. Especially for Bitcoin, we think that a rise in Bitcoin dominance is caused by a fear of (and thus a reduction of) too speculative alt-coin investments, since Bitcoin is becoming more and more the safe haven of crypto. On the other side, when Bitcoin dominance shrinks, people are getting more greedy by investing in more risky alt-coins, dreaming of their chance in next big bull run. Anyhow, analyzing the dominance for a coin other than Bitcoin, you could argue the other way round, since more interest in an alt-coin may conclude a bullish/greedy behaviour for that specific coin.\n",
    "\n",
    "6. Trends (10%)\n",
    "    * We pull Google Trends data for various Bitcoin related search queries and crunch those numbers, especially the change of search volumes as well as recommended other currently popular searches. For example, if you check Google Trends for \"Bitcoin\", you can’t get much information from the search volume. But currently, you can see that there is currently a +1,550% rise of the query „bitcoin price manipulation“ in the box of related search queries (as of 05/29/2018). This is clearly a sign of fear in the market, and we use that for our index.\n",
    "    \n",
    "source: https://alternative.me/crypto/fear-and-greed-index/"
   ]
  },
  {
   "cell_type": "code",
   "execution_count": 33,
   "id": "6f25d75f-a326-443b-92e2-1072c5ecddfa",
   "metadata": {},
   "outputs": [
    {
     "data": {
      "text/plain": [
       "<Response [200]>"
      ]
     },
     "execution_count": 33,
     "metadata": {},
     "output_type": "execute_result"
    }
   ],
   "source": [
    "# API data for Fear and Greed Index\n",
    "fng_index_url = requests.get('https://api.alternative.me/fng/?limit=0&format=json&date_format=us')\n",
    "\n",
    "# Display \n",
    "fng_index_url"
   ]
  },
  {
   "cell_type": "code",
   "execution_count": 34,
   "id": "434a743a-98e6-4d5c-84ef-e0ef86963f15",
   "metadata": {},
   "outputs": [
    {
     "data": {
      "text/html": [
       "<div>\n",
       "<style scoped>\n",
       "    .dataframe tbody tr th:only-of-type {\n",
       "        vertical-align: middle;\n",
       "    }\n",
       "\n",
       "    .dataframe tbody tr th {\n",
       "        vertical-align: top;\n",
       "    }\n",
       "\n",
       "    .dataframe thead th {\n",
       "        text-align: right;\n",
       "    }\n",
       "</style>\n",
       "<table border=\"1\" class=\"dataframe\">\n",
       "  <thead>\n",
       "    <tr style=\"text-align: right;\">\n",
       "      <th></th>\n",
       "      <th>value</th>\n",
       "      <th>value_classification</th>\n",
       "      <th>timestamp</th>\n",
       "      <th>time_until_update</th>\n",
       "    </tr>\n",
       "  </thead>\n",
       "  <tbody>\n",
       "    <tr>\n",
       "      <th>0</th>\n",
       "      <td>18</td>\n",
       "      <td>Extreme Fear</td>\n",
       "      <td>07-07-2022</td>\n",
       "      <td>-1657124631</td>\n",
       "    </tr>\n",
       "    <tr>\n",
       "      <th>1</th>\n",
       "      <td>18</td>\n",
       "      <td>Extreme Fear</td>\n",
       "      <td>07-06-2022</td>\n",
       "      <td>NaN</td>\n",
       "    </tr>\n",
       "    <tr>\n",
       "      <th>2</th>\n",
       "      <td>19</td>\n",
       "      <td>Extreme Fear</td>\n",
       "      <td>07-05-2022</td>\n",
       "      <td>NaN</td>\n",
       "    </tr>\n",
       "    <tr>\n",
       "      <th>3</th>\n",
       "      <td>14</td>\n",
       "      <td>Extreme Fear</td>\n",
       "      <td>07-04-2022</td>\n",
       "      <td>NaN</td>\n",
       "    </tr>\n",
       "    <tr>\n",
       "      <th>4</th>\n",
       "      <td>11</td>\n",
       "      <td>Extreme Fear</td>\n",
       "      <td>07-03-2022</td>\n",
       "      <td>NaN</td>\n",
       "    </tr>\n",
       "    <tr>\n",
       "      <th>...</th>\n",
       "      <td>...</td>\n",
       "      <td>...</td>\n",
       "      <td>...</td>\n",
       "      <td>...</td>\n",
       "    </tr>\n",
       "    <tr>\n",
       "      <th>1610</th>\n",
       "      <td>11</td>\n",
       "      <td>Extreme Fear</td>\n",
       "      <td>02-05-2018</td>\n",
       "      <td>NaN</td>\n",
       "    </tr>\n",
       "    <tr>\n",
       "      <th>1611</th>\n",
       "      <td>24</td>\n",
       "      <td>Extreme Fear</td>\n",
       "      <td>02-04-2018</td>\n",
       "      <td>NaN</td>\n",
       "    </tr>\n",
       "    <tr>\n",
       "      <th>1612</th>\n",
       "      <td>40</td>\n",
       "      <td>Fear</td>\n",
       "      <td>02-03-2018</td>\n",
       "      <td>NaN</td>\n",
       "    </tr>\n",
       "    <tr>\n",
       "      <th>1613</th>\n",
       "      <td>15</td>\n",
       "      <td>Extreme Fear</td>\n",
       "      <td>02-02-2018</td>\n",
       "      <td>NaN</td>\n",
       "    </tr>\n",
       "    <tr>\n",
       "      <th>1614</th>\n",
       "      <td>30</td>\n",
       "      <td>Fear</td>\n",
       "      <td>02-01-2018</td>\n",
       "      <td>NaN</td>\n",
       "    </tr>\n",
       "  </tbody>\n",
       "</table>\n",
       "<p>1615 rows × 4 columns</p>\n",
       "</div>"
      ],
      "text/plain": [
       "     value value_classification   timestamp time_until_update\n",
       "0       18         Extreme Fear  07-07-2022       -1657124631\n",
       "1       18         Extreme Fear  07-06-2022               NaN\n",
       "2       19         Extreme Fear  07-05-2022               NaN\n",
       "3       14         Extreme Fear  07-04-2022               NaN\n",
       "4       11         Extreme Fear  07-03-2022               NaN\n",
       "...    ...                  ...         ...               ...\n",
       "1610    11         Extreme Fear  02-05-2018               NaN\n",
       "1611    24         Extreme Fear  02-04-2018               NaN\n",
       "1612    40                 Fear  02-03-2018               NaN\n",
       "1613    15         Extreme Fear  02-02-2018               NaN\n",
       "1614    30                 Fear  02-01-2018               NaN\n",
       "\n",
       "[1615 rows x 4 columns]"
      ]
     },
     "execution_count": 34,
     "metadata": {},
     "output_type": "execute_result"
    }
   ],
   "source": [
    "# convert json into dataframe\n",
    "fng_index = fng_index_url.json()\n",
    "# Examine\n",
    "fng_index\n",
    "\n",
    "fng_index_df = pd.DataFrame(fng_index['data'])\n",
    "# Display\n",
    "fng_index_df"
   ]
  },
  {
   "cell_type": "markdown",
   "id": "0684fc65-08a4-497c-895b-795bc342af5e",
   "metadata": {},
   "source": [
    "## Next Steps:\n",
    "    - narrow down list and plot indicators with price charts for each coin. \n",
    "    - tailor indicators and trading signals to match trading strategy"
   ]
  },
  {
   "cell_type": "code",
   "execution_count": null,
   "id": "a38fc0fd-2a96-4fd4-91d0-1d33b725abd2",
   "metadata": {},
   "outputs": [],
   "source": []
  }
 ],
 "metadata": {
  "kernelspec": {
   "display_name": "dev",
   "language": "python",
   "name": "dev"
  },
  "language_info": {
   "codemirror_mode": {
    "name": "ipython",
    "version": 3
   },
   "file_extension": ".py",
   "mimetype": "text/x-python",
   "name": "python",
   "nbconvert_exporter": "python",
   "pygments_lexer": "ipython3",
   "version": "3.7.11"
  }
 },
 "nbformat": 4,
 "nbformat_minor": 5
}
