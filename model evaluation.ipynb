{
 "cells": [
  {
   "cell_type": "markdown",
   "metadata": {},
   "source": [
    "# Machine Learning Tester\n",
    "\n",
    "This notebook is utility to test multiple ML libraries from SKlearn toolkit"
   ]
  },
  {
   "cell_type": "code",
   "execution_count": 1,
   "metadata": {},
   "outputs": [],
   "source": [
    "# Imports\n",
    "import pandas as pd\n",
    "\n",
    "import warnings\n",
    "warnings.filterwarnings('ignore')\n",
    "\n",
    "from utils.eval import evaluate_model"
   ]
  },
  {
   "cell_type": "markdown",
   "metadata": {},
   "source": [
    "## Execution examples\n",
    "### Test a range of tuning parameters\n",
    "\n",
    "```\n",
    "evaluate_model(   \n",
    "    model_name=\"LogisticRegression\", \n",
    "    short_window_sizes = [1,2,3,4,6],\n",
    "    long_window_sizes = [24,42,60,180,252],\n",
    "    periods=[1],\n",
    "    txn_maxs=[20000,30000,100000],\n",
    "    factors=[0.1,0.25,0.5,0.8,1,2,3]\n",
    ")\n",
    "\n",
    "```\n",
    "### Test multiple a single model configuration multiple times\n",
    "```\n",
    "evaluate_model(   \n",
    "    model_name=\"LogisticRegression\", \n",
    "    short_window_sizes = [2],\n",
    "    long_window_sizes = [42],\n",
    "    periods=[1],\n",
    "    txn_maxs=[100000],\n",
    "    factors=[0.5],\n",
    "    trials=300\n",
    ")\n",
    "```"
   ]
  },
  {
   "cell_type": "code",
   "execution_count": 2,
   "metadata": {},
   "outputs": [
    {
     "name": "stdout",
     "output_type": "stream",
     "text": [
      "start:  2022-07-10 16:53:55.111937\n",
      "LogisticRegression-p(1)-tr(8)-sw(2)-lw(42)-fa(0.5)-max(100000-fee_flat(0)-fee_pct(0.001)-#(0)) f1 score: 0.9948259045078749 cumulative return: 251489.99987017346\n",
      "exporting model LogisticRegression-p(1)-tr(8)-sw(2)-lw(42)-fa(0.5)-max(100000-fee_flat(0)-fee_pct(0.001)-#(0))\n"
     ]
    },
    {
     "ename": "FileNotFoundError",
     "evalue": "[Errno 2] No such file or directory: 'models/model-LogisticRegression-p(1)-tr(8)-sw(2)-lw(42)-fa(0.5)-max(100000-fee_flat(0)-fee_pct(0.001)-#(0)).sav'",
     "output_type": "error",
     "traceback": [
      "\u001b[0;31m---------------------------------------------------------------------------\u001b[0m",
      "\u001b[0;31mFileNotFoundError\u001b[0m                         Traceback (most recent call last)",
      "\u001b[0;32m/var/folders/yx/8jpzvpnn6xb6zbx8vdp2s9c00000gp/T/ipykernel_15221/854040700.py\u001b[0m in \u001b[0;36m<module>\u001b[0;34m\u001b[0m\n\u001b[1;32m     11\u001b[0m     \u001b[0mfee_pcts\u001b[0m\u001b[0;34m=\u001b[0m\u001b[0;34m[\u001b[0m\u001b[0;36m0.001\u001b[0m\u001b[0;34m]\u001b[0m\u001b[0;34m,\u001b[0m\u001b[0;34m\u001b[0m\u001b[0;34m\u001b[0m\u001b[0m\n\u001b[1;32m     12\u001b[0m     \u001b[0mfee_flats\u001b[0m\u001b[0;34m=\u001b[0m\u001b[0;34m[\u001b[0m\u001b[0;36m0\u001b[0m\u001b[0;34m]\u001b[0m\u001b[0;34m,\u001b[0m\u001b[0;34m\u001b[0m\u001b[0;34m\u001b[0m\u001b[0m\n\u001b[0;32m---> 13\u001b[0;31m     \u001b[0mexport\u001b[0m\u001b[0;34m=\u001b[0m\u001b[0;32mTrue\u001b[0m\u001b[0;34m\u001b[0m\u001b[0;34m\u001b[0m\u001b[0m\n\u001b[0m\u001b[1;32m     14\u001b[0m )\n",
      "\u001b[0;32m~/Desktop/bootcamp/repos/sabot/utils/eval.py\u001b[0m in \u001b[0;36mevaluate_model\u001b[0;34m(model_name, factors, training_dataset_months, short_window_sizes, long_window_sizes, periods, txn_maxs, fee_pcts, fee_flats, trials, save_results, save_figure, save_file_prefix, show_legend, export)\u001b[0m\n\u001b[1;32m    381\u001b[0m                                             \u001b[0;31m# save the model to disk\u001b[0m\u001b[0;34m\u001b[0m\u001b[0;34m\u001b[0m\u001b[0;34m\u001b[0m\u001b[0m\n\u001b[1;32m    382\u001b[0m                                             \u001b[0mfilename\u001b[0m \u001b[0;34m=\u001b[0m \u001b[0mPath\u001b[0m\u001b[0;34m(\u001b[0m\u001b[0;34mf'models/model-{model_key}.sav'\u001b[0m\u001b[0;34m)\u001b[0m\u001b[0;34m\u001b[0m\u001b[0;34m\u001b[0m\u001b[0m\n\u001b[0;32m--> 383\u001b[0;31m                                             \u001b[0mpickle\u001b[0m\u001b[0;34m.\u001b[0m\u001b[0mdump\u001b[0m\u001b[0;34m(\u001b[0m\u001b[0mmodels\u001b[0m\u001b[0;34m[\u001b[0m\u001b[0mmodel_key\u001b[0m\u001b[0;34m]\u001b[0m\u001b[0;34m[\u001b[0m\u001b[0;34m'trained_model'\u001b[0m\u001b[0;34m]\u001b[0m\u001b[0;34m,\u001b[0m \u001b[0mopen\u001b[0m\u001b[0;34m(\u001b[0m\u001b[0mfilename\u001b[0m\u001b[0;34m,\u001b[0m \u001b[0;34m'wb'\u001b[0m\u001b[0;34m)\u001b[0m\u001b[0;34m)\u001b[0m\u001b[0;34m\u001b[0m\u001b[0;34m\u001b[0m\u001b[0m\n\u001b[0m\u001b[1;32m    384\u001b[0m                                             \u001b[0mfilename\u001b[0m \u001b[0;34m=\u001b[0m \u001b[0mPath\u001b[0m\u001b[0;34m(\u001b[0m\u001b[0;34mf'models/x-scaler-{model_key}.sav'\u001b[0m\u001b[0;34m)\u001b[0m\u001b[0;34m\u001b[0m\u001b[0;34m\u001b[0m\u001b[0m\n\u001b[1;32m    385\u001b[0m                                             \u001b[0mpickle\u001b[0m\u001b[0;34m.\u001b[0m\u001b[0mdump\u001b[0m\u001b[0;34m(\u001b[0m\u001b[0mmodels\u001b[0m\u001b[0;34m[\u001b[0m\u001b[0mmodel_key\u001b[0m\u001b[0;34m]\u001b[0m\u001b[0;34m[\u001b[0m\u001b[0;34m'x_scaler'\u001b[0m\u001b[0;34m]\u001b[0m\u001b[0;34m,\u001b[0m \u001b[0mopen\u001b[0m\u001b[0;34m(\u001b[0m\u001b[0mfilename\u001b[0m\u001b[0;34m,\u001b[0m \u001b[0;34m'wb'\u001b[0m\u001b[0;34m)\u001b[0m\u001b[0;34m)\u001b[0m\u001b[0;34m\u001b[0m\u001b[0;34m\u001b[0m\u001b[0m\n",
      "\u001b[0;31mFileNotFoundError\u001b[0m: [Errno 2] No such file or directory: 'models/model-LogisticRegression-p(1)-tr(8)-sw(2)-lw(42)-fa(0.5)-max(100000-fee_flat(0)-fee_pct(0.001)-#(0)).sav'"
     ]
    }
   ],
   "source": [
    "evaluate_model(   \n",
    "    model_name=\"LogisticRegression\", \n",
    "    short_window_sizes = [2],\n",
    "    long_window_sizes = [42],\n",
    "    periods=[1],\n",
    "    txn_maxs=[100000],\n",
    "    factors=[0.5],\n",
    "    save_results=False,\n",
    "    save_figure=False,\n",
    "    save_file_prefix='export_',\n",
    "    fee_pcts=[0.001],\n",
    "    fee_flats=[0],\n",
    "    export=True\n",
    ")"
   ]
  },
  {
   "cell_type": "code",
   "execution_count": null,
   "metadata": {},
   "outputs": [],
   "source": []
  }
 ],
 "metadata": {
  "kernelspec": {
   "display_name": "Python 3 (ipykernel)",
   "language": "python",
   "name": "python3"
  },
  "language_info": {
   "codemirror_mode": {
    "name": "ipython",
    "version": 3
   },
   "file_extension": ".py",
   "mimetype": "text/x-python",
   "name": "python",
   "nbconvert_exporter": "python",
   "pygments_lexer": "ipython3",
   "version": "3.7.13"
  },
  "vscode": {
   "interpreter": {
    "hash": "e9706e2b979a409812944fd4a0384c92c020042a42e01b3b75954b474c5de965"
   }
  }
 },
 "nbformat": 4,
 "nbformat_minor": 4
}
