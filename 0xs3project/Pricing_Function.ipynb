{
 "cells": [
  {
   "cell_type": "code",
   "execution_count": 1,
   "id": "38677505-7166-4379-a7c3-592b4f069c1e",
   "metadata": {},
   "outputs": [
    {
     "ename": "NameError",
     "evalue": "name 'requests' is not defined",
     "output_type": "error",
     "traceback": [
      "\u001b[0;31m---------------------------------------------------------------------------\u001b[0m",
      "\u001b[0;31mNameError\u001b[0m                                 Traceback (most recent call last)",
      "\u001b[0;32m/var/folders/91/bcl7bj6n2fqf9j03fdhyl02c0000gn/T/ipykernel_45682/2184210061.py\u001b[0m in \u001b[0;36m<module>\u001b[0;34m\u001b[0m\n\u001b[0;32m----> 1\u001b[0;31m \u001b[0mbuySUSDwithUSDC\u001b[0m \u001b[0;34m=\u001b[0m \u001b[0mrequests\u001b[0m\u001b[0;34m.\u001b[0m\u001b[0mget\u001b[0m\u001b[0;34m(\u001b[0m\u001b[0;34m'https://api.0x.org/swap/v1/quote?buyToken=SUSD&sellToken=USDT&sellAmount=2000000000'\u001b[0m\u001b[0;34m)\u001b[0m\u001b[0;34m\u001b[0m\u001b[0;34m\u001b[0m\u001b[0m\n\u001b[0m\u001b[1;32m      2\u001b[0m \u001b[0mbuySUSDwithUSDC\u001b[0m \u001b[0;34m=\u001b[0m \u001b[0mbuySUSDwithUSDC\u001b[0m\u001b[0;34m.\u001b[0m\u001b[0mjson\u001b[0m\u001b[0;34m(\u001b[0m\u001b[0;34m)\u001b[0m\u001b[0;34m\u001b[0m\u001b[0;34m\u001b[0m\u001b[0m\n",
      "\u001b[0;31mNameError\u001b[0m: name 'requests' is not defined"
     ]
    }
   ],
   "source": [
    "    buySUSDwithUSDC = requests.get('https://api.0x.org/swap/v1/quote?buyToken=SUSD&sellToken=USDT&sellAmount=2000000000')\n",
    "    buySUSDwithUSDC = buySUSDwithUSDC.json()\n"
   ]
  },
  {
   "cell_type": "code",
   "execution_count": 4,
   "id": "32b6488d-2823-43e1-bc4a-0fc31e8d7977",
   "metadata": {},
   "outputs": [
    {
     "ename": "IndentationError",
     "evalue": "unexpected indent (268577673.py, line 35)",
     "output_type": "error",
     "traceback": [
      "\u001b[0;36m  File \u001b[0;32m\"/var/folders/91/bcl7bj6n2fqf9j03fdhyl02c0000gn/T/ipykernel_45682/268577673.py\"\u001b[0;36m, line \u001b[0;32m35\u001b[0m\n\u001b[0;31m    total_gas_cost = float(buySUSDwithUSDC['gasPrice'])*float(buySUSDwithUSDC['gas'])\u001b[0m\n\u001b[0m    ^\u001b[0m\n\u001b[0;31mIndentationError\u001b[0m\u001b[0;31m:\u001b[0m unexpected indent\n"
     ]
    }
   ],
   "source": [
    "# import boto3\n",
    "import csv\n",
    "import json\n",
    "import requests\n",
    "import time\n",
    "\n",
    "# import pandas as pd\n",
    "# from web3 import Web3\n",
    "# from uniswap import Uniswap\n",
    "\n",
    "# USDC= 6 decimals\n",
    "# USDT= 6 decimals\n",
    "# sUSD = 18 decimals\n",
    "\n",
    "# Variables\n",
    "bucket = \"0xcsvbucket\"\n",
    "file_name = '0xcsv.csv'\n",
    "\n",
    "# # call s3 bucket\n",
    "# s3 = boto3.resource('s3')\n",
    "# bucket = s3.Bucket(bucket)\n",
    "\n",
    "# # lambda function\n",
    "# def lambda_handler(event,context):\n",
    "\n",
    "#     # Get trading data\n",
    "#     buySUSDwithUSDC = requests.get('https://api.0x.org/swap/v1/quote?buyToken=SUSD&sellToken=USDT&sellAmount=2000000000')\n",
    "#     buySUSDwithUSDC = buySUSDwithUSDC.json()\n",
    "\n",
    "#     # print(buySUSDwithUSDC)\n",
    "#     # download s3 csv file to lambda tmp folder\n",
    "#     local_file_name = '/tmp/test.csv'\n",
    "#     bucket.download_file(file_name,local_file_name)\n",
    "\n",
    "    total_gas_cost = float(buySUSDwithUSDC['gasPrice'])*float(buySUSDwithUSDC['gas'])\n",
    "    gas_cost_in_SUSD =float(buySUSDwithUSDC['buyTokenToEthRate'])/(float(total_gas_cost))\n",
    "\n",
    "    # list you want to append\n",
    "    new_row = []\n",
    "\n",
    "    new_row.append(int(time.time())) #epochtime\n",
    "    new_row.append(float(buySUSDwithUSDC['sellAmount'])/100000) # amountofUSDCtoken\n",
    "    new_row.append(buySUSDwithUSDC['price']) #oneUSDC\n",
    "    new_row.append(buySUSDwithUSDC['guaranteedPrice']) #guaranteedPrice\n",
    "    new_row.append(buySUSDwithUSDC['protocolFee']) #protocolFee\n",
    "    new_row.append(buySUSDwithUSDC['gas']) # gas\n",
    "    new_row.append(buySUSDwithUSDC['gasPrice']) #gasprice\n",
    "    new_row.append(buySUSDwithUSDC['buyTokenToEthRate']) #buytokentoETHrate\n",
    "    new_row.append(gas_cost_in_SUSD)\n",
    "    \n",
    "\n",
    "    print(f'Amount of USDC Tokens =', float(buySUSDwithUSDC['sellAmount'])/100000)\n",
    "    print(f'One USDC =',buySUSDwithUSDC['price'],'sUSD')\n",
    "    print(f'Guaranteed Price =', buySUSDwithUSDC['guaranteedPrice'],'sUSD')\n",
    "    print(f'Protocol Fee:', buySUSDwithUSDC['protocolFee'])\n",
    "    print(f'Gas:', buySUSDwithUSDC['gas'])\n",
    "    print(f'Gas Price:', buySUSDwithUSDC['gasPrice'])\n",
    "    print(f'Buy-Token to ETH Rate:', buySUSDwithUSDC['buyTokenToEthRate'])\n",
    "    print(f'Gas cost in SUSD $',gas_cost_in_SUSD)\n",
    "    \n",
    "\n",
    "\n",
    "    # write the data into '/tmp' folder\n",
    "    with open('/tmp/test.csv','r') as infile:\n",
    "        list_of_csv_rows = list(csv.reader(infile))     \n",
    "        list_of_csv_rows.append(new_row)\n",
    "\n",
    "    with open('/tmp/test.csv', 'w', newline='') as outfile:\n",
    "        writer = csv.writer(outfile)\n",
    "        for line in list_of_csv_rows:\n",
    "            writer.writerow(line)\n",
    "\n",
    "    # upload file from tmp to s3 \n",
    "    bucket.upload_file('/tmp/test.csv', file_name)\n",
    "\n",
    "    return "
   ]
  },
  {
   "cell_type": "code",
   "execution_count": null,
   "id": "312fffa1-81cc-47e7-854f-8f7d2483d536",
   "metadata": {},
   "outputs": [],
   "source": []
  }
 ],
 "metadata": {
  "kernelspec": {
   "display_name": "Python 3 (ipykernel)",
   "language": "python",
   "name": "python3"
  },
  "language_info": {
   "codemirror_mode": {
    "name": "ipython",
    "version": 3
   },
   "file_extension": ".py",
   "mimetype": "text/x-python",
   "name": "python",
   "nbconvert_exporter": "python",
   "pygments_lexer": "ipython3",
   "version": "3.7.11"
  }
 },
 "nbformat": 4,
 "nbformat_minor": 5
}
