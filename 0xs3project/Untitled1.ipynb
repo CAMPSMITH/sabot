{
 "cells": [
  {
   "cell_type": "code",
   "execution_count": 4,
   "id": "1c50cf84-6e29-419c-98ce-f3005fab08b1",
   "metadata": {},
   "outputs": [],
   "source": [
    "import csv\n",
    "import json\n",
    "import requests\n",
    "import time\n",
    "\n",
    "# import pandas as pd\n",
    "# from web3 import Web3\n",
    "# from uniswap import Uniswap\n",
    "\n",
    "# USDC= 6 decimals\n",
    "# USDT= 6 decimals\n",
    "# sUSD = 18 decimals\n",
    "\n",
    "# Variables\n",
    "bucket = \"0xcsvbucket\"\n",
    "file_name = '0xcsv.csv'\n",
    "\n",
    "# # call s3 bucket\n",
    "# s3 = boto3.resource('s3')\n",
    "# bucket = s3.Bucket(bucket)\n",
    "\n",
    "# # lambda function\n",
    "# def lambda_handler(event,context):\n",
    "\n",
    "    # Get trading data\n",
    "buySUSDwithUSDC = requests.get('https://api.0x.org/swap/v1/quote?buyToken=SUSD&sellToken=USDT&sellAmount=2000000000')\n",
    "buySUSDwithUSDC = buySUSDwithUSDC.json()"
   ]
  },
  {
   "cell_type": "code",
   "execution_count": null,
   "id": "56661d91-a195-42bb-a304-0579445b9809",
   "metadata": {},
   "outputs": [],
   "source": []
  }
 ],
 "metadata": {
  "kernelspec": {
   "display_name": "Python 3 (ipykernel)",
   "language": "python",
   "name": "python3"
  },
  "language_info": {
   "codemirror_mode": {
    "name": "ipython",
    "version": 3
   },
   "file_extension": ".py",
   "mimetype": "text/x-python",
   "name": "python",
   "nbconvert_exporter": "python",
   "pygments_lexer": "ipython3",
   "version": "3.7.11"
  }
 },
 "nbformat": 4,
 "nbformat_minor": 5
}
