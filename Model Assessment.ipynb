{
 "cells": [
  {
   "cell_type": "markdown",
   "id": "e31d7438-a890-4a67-86fb-924e92c1f479",
   "metadata": {},
   "source": [
    "# Model Assessment"
   ]
  },
  {
   "cell_type": "markdown",
   "id": "1e6d2245-2608-4c36-be64-8f41c80457a6",
   "metadata": {},
   "source": [
    "## Load Model Results"
   ]
  },
  {
   "cell_type": "code",
   "execution_count": 15,
   "id": "600623c3-306d-4a39-b097-2e1f116c26d6",
   "metadata": {},
   "outputs": [],
   "source": [
    "import pandas as pd\n",
    "from pathlib import Path\n",
    "%matplotlib inline"
   ]
  },
  {
   "cell_type": "code",
   "execution_count": 16,
   "id": "2dd65e90-7e78-483f-bf6b-f54cf00d2edf",
   "metadata": {},
   "outputs": [],
   "source": [
    "svc_df = pd.read_csv(Path('results/SVC.csv'))\n",
    "logistic_regression_df = pd.read_csv(Path('results/LogisticRegression.csv'))\n",
    "decision_tree_df = pd.read_csv(Path('results/DecisionTreeClassifier.csv'))\n",
    "ada_boost_df = pd.read_csv(Path('results/AdaBoostClassifier.csv'))\n",
    "gaussian_nb_df = pd.read_csv(Path('results/GaussianNB.csv'))\n"
   ]
  },
  {
   "cell_type": "code",
   "execution_count": 20,
   "id": "92f94c48-cf5e-4698-8baa-21632963e199",
   "metadata": {},
   "outputs": [],
   "source": [
    "df = pd.concat([\n",
    "    svc_df,\n",
    "    logistic_regression_df,\n",
    "    decision_tree_df,\n",
    "    ada_boost_df,\n",
    "    gaussian_nb_df])"
   ]
  },
  {
   "cell_type": "code",
   "execution_count": 21,
   "id": "ac95e5ad-fc0f-413d-99e2-76cd803a9bef",
   "metadata": {},
   "outputs": [
    {
     "data": {
      "text/html": [
       "<div>\n",
       "<style scoped>\n",
       "    .dataframe tbody tr th:only-of-type {\n",
       "        vertical-align: middle;\n",
       "    }\n",
       "\n",
       "    .dataframe tbody tr th {\n",
       "        vertical-align: top;\n",
       "    }\n",
       "\n",
       "    .dataframe thead th {\n",
       "        text-align: right;\n",
       "    }\n",
       "</style>\n",
       "<table border=\"1\" class=\"dataframe\">\n",
       "  <thead>\n",
       "    <tr style=\"text-align: right;\">\n",
       "      <th></th>\n",
       "      <th>permutation</th>\n",
       "      <th>model</th>\n",
       "      <th>f1 score</th>\n",
       "      <th>strategy return</th>\n",
       "      <th>period</th>\n",
       "      <th>training months</th>\n",
       "      <th>fast window</th>\n",
       "      <th>slow window</th>\n",
       "      <th>factor</th>\n",
       "      <th>max transaction</th>\n",
       "    </tr>\n",
       "  </thead>\n",
       "  <tbody>\n",
       "    <tr>\n",
       "      <th>0</th>\n",
       "      <td>SVC-p1-tr(8)-sw(1)-lw(24)-fa(0.1)-max(20000)</td>\n",
       "      <td>SVC</td>\n",
       "      <td>0.108482</td>\n",
       "      <td>120033.988891</td>\n",
       "      <td>1</td>\n",
       "      <td>8</td>\n",
       "      <td>1</td>\n",
       "      <td>24</td>\n",
       "      <td>0.10</td>\n",
       "      <td>20000</td>\n",
       "    </tr>\n",
       "    <tr>\n",
       "      <th>1</th>\n",
       "      <td>SVC-p1-tr(8)-sw(1)-lw(24)-fa(0.1)-max(30000)</td>\n",
       "      <td>SVC</td>\n",
       "      <td>0.144115</td>\n",
       "      <td>132028.790685</td>\n",
       "      <td>1</td>\n",
       "      <td>8</td>\n",
       "      <td>1</td>\n",
       "      <td>24</td>\n",
       "      <td>0.10</td>\n",
       "      <td>30000</td>\n",
       "    </tr>\n",
       "    <tr>\n",
       "      <th>2</th>\n",
       "      <td>SVC-p1-tr(8)-sw(1)-lw(24)-fa(0.1)-max(100000)</td>\n",
       "      <td>SVC</td>\n",
       "      <td>0.161064</td>\n",
       "      <td>190878.462337</td>\n",
       "      <td>1</td>\n",
       "      <td>8</td>\n",
       "      <td>1</td>\n",
       "      <td>24</td>\n",
       "      <td>0.10</td>\n",
       "      <td>100000</td>\n",
       "    </tr>\n",
       "    <tr>\n",
       "      <th>3</th>\n",
       "      <td>SVC-p1-tr(8)-sw(1)-lw(24)-fa(0.25)-max(20000)</td>\n",
       "      <td>SVC</td>\n",
       "      <td>0.308520</td>\n",
       "      <td>124106.807627</td>\n",
       "      <td>1</td>\n",
       "      <td>8</td>\n",
       "      <td>1</td>\n",
       "      <td>24</td>\n",
       "      <td>0.25</td>\n",
       "      <td>20000</td>\n",
       "    </tr>\n",
       "    <tr>\n",
       "      <th>4</th>\n",
       "      <td>SVC-p1-tr(8)-sw(1)-lw(24)-fa(0.25)-max(30000)</td>\n",
       "      <td>SVC</td>\n",
       "      <td>0.230100</td>\n",
       "      <td>128954.137825</td>\n",
       "      <td>1</td>\n",
       "      <td>8</td>\n",
       "      <td>1</td>\n",
       "      <td>24</td>\n",
       "      <td>0.25</td>\n",
       "      <td>30000</td>\n",
       "    </tr>\n",
       "    <tr>\n",
       "      <th>...</th>\n",
       "      <td>...</td>\n",
       "      <td>...</td>\n",
       "      <td>...</td>\n",
       "      <td>...</td>\n",
       "      <td>...</td>\n",
       "      <td>...</td>\n",
       "      <td>...</td>\n",
       "      <td>...</td>\n",
       "      <td>...</td>\n",
       "      <td>...</td>\n",
       "    </tr>\n",
       "    <tr>\n",
       "      <th>520</th>\n",
       "      <td>GaussianNB-p1-tr(8)-sw(6)-lw(252)-fa(2)-max(30...</td>\n",
       "      <td>GaussianNB</td>\n",
       "      <td>-1.281744</td>\n",
       "      <td>94589.941722</td>\n",
       "      <td>1</td>\n",
       "      <td>8</td>\n",
       "      <td>6</td>\n",
       "      <td>252</td>\n",
       "      <td>2.00</td>\n",
       "      <td>30000</td>\n",
       "    </tr>\n",
       "    <tr>\n",
       "      <th>521</th>\n",
       "      <td>GaussianNB-p1-tr(8)-sw(6)-lw(252)-fa(2)-max(10...</td>\n",
       "      <td>GaussianNB</td>\n",
       "      <td>-1.289951</td>\n",
       "      <td>81388.863666</td>\n",
       "      <td>1</td>\n",
       "      <td>8</td>\n",
       "      <td>6</td>\n",
       "      <td>252</td>\n",
       "      <td>2.00</td>\n",
       "      <td>100000</td>\n",
       "    </tr>\n",
       "    <tr>\n",
       "      <th>522</th>\n",
       "      <td>GaussianNB-p1-tr(8)-sw(6)-lw(252)-fa(3)-max(20...</td>\n",
       "      <td>GaussianNB</td>\n",
       "      <td>-1.029501</td>\n",
       "      <td>97096.626489</td>\n",
       "      <td>1</td>\n",
       "      <td>8</td>\n",
       "      <td>6</td>\n",
       "      <td>252</td>\n",
       "      <td>3.00</td>\n",
       "      <td>20000</td>\n",
       "    </tr>\n",
       "    <tr>\n",
       "      <th>523</th>\n",
       "      <td>GaussianNB-p1-tr(8)-sw(6)-lw(252)-fa(3)-max(30...</td>\n",
       "      <td>GaussianNB</td>\n",
       "      <td>-1.030112</td>\n",
       "      <td>96323.662998</td>\n",
       "      <td>1</td>\n",
       "      <td>8</td>\n",
       "      <td>6</td>\n",
       "      <td>252</td>\n",
       "      <td>3.00</td>\n",
       "      <td>30000</td>\n",
       "    </tr>\n",
       "    <tr>\n",
       "      <th>524</th>\n",
       "      <td>GaussianNB-p1-tr(8)-sw(6)-lw(252)-fa(3)-max(10...</td>\n",
       "      <td>GaussianNB</td>\n",
       "      <td>-1.031892</td>\n",
       "      <td>89354.891698</td>\n",
       "      <td>1</td>\n",
       "      <td>8</td>\n",
       "      <td>6</td>\n",
       "      <td>252</td>\n",
       "      <td>3.00</td>\n",
       "      <td>100000</td>\n",
       "    </tr>\n",
       "  </tbody>\n",
       "</table>\n",
       "<p>2625 rows × 10 columns</p>\n",
       "</div>"
      ],
      "text/plain": [
       "                                           permutation       model  f1 score  \\\n",
       "0         SVC-p1-tr(8)-sw(1)-lw(24)-fa(0.1)-max(20000)         SVC  0.108482   \n",
       "1         SVC-p1-tr(8)-sw(1)-lw(24)-fa(0.1)-max(30000)         SVC  0.144115   \n",
       "2        SVC-p1-tr(8)-sw(1)-lw(24)-fa(0.1)-max(100000)         SVC  0.161064   \n",
       "3        SVC-p1-tr(8)-sw(1)-lw(24)-fa(0.25)-max(20000)         SVC  0.308520   \n",
       "4        SVC-p1-tr(8)-sw(1)-lw(24)-fa(0.25)-max(30000)         SVC  0.230100   \n",
       "..                                                 ...         ...       ...   \n",
       "520  GaussianNB-p1-tr(8)-sw(6)-lw(252)-fa(2)-max(30...  GaussianNB -1.281744   \n",
       "521  GaussianNB-p1-tr(8)-sw(6)-lw(252)-fa(2)-max(10...  GaussianNB -1.289951   \n",
       "522  GaussianNB-p1-tr(8)-sw(6)-lw(252)-fa(3)-max(20...  GaussianNB -1.029501   \n",
       "523  GaussianNB-p1-tr(8)-sw(6)-lw(252)-fa(3)-max(30...  GaussianNB -1.030112   \n",
       "524  GaussianNB-p1-tr(8)-sw(6)-lw(252)-fa(3)-max(10...  GaussianNB -1.031892   \n",
       "\n",
       "     strategy return  period  training months  fast window  slow window  \\\n",
       "0      120033.988891       1                8            1           24   \n",
       "1      132028.790685       1                8            1           24   \n",
       "2      190878.462337       1                8            1           24   \n",
       "3      124106.807627       1                8            1           24   \n",
       "4      128954.137825       1                8            1           24   \n",
       "..               ...     ...              ...          ...          ...   \n",
       "520     94589.941722       1                8            6          252   \n",
       "521     81388.863666       1                8            6          252   \n",
       "522     97096.626489       1                8            6          252   \n",
       "523     96323.662998       1                8            6          252   \n",
       "524     89354.891698       1                8            6          252   \n",
       "\n",
       "     factor  max transaction  \n",
       "0      0.10            20000  \n",
       "1      0.10            30000  \n",
       "2      0.10           100000  \n",
       "3      0.25            20000  \n",
       "4      0.25            30000  \n",
       "..      ...              ...  \n",
       "520    2.00            30000  \n",
       "521    2.00           100000  \n",
       "522    3.00            20000  \n",
       "523    3.00            30000  \n",
       "524    3.00           100000  \n",
       "\n",
       "[2625 rows x 10 columns]"
      ]
     },
     "execution_count": 21,
     "metadata": {},
     "output_type": "execute_result"
    }
   ],
   "source": [
    "df\n"
   ]
  },
  {
   "cell_type": "markdown",
   "id": "c76220ae-09eb-46af-907c-ff224e46ad51",
   "metadata": {},
   "source": [
    "## Needed plots\n",
    "\n",
    "object to help tune models, which parameter most relates to better return\n",
    "\n",
    "### Tune for Returns\n",
    "scatter plots\n",
    "Parameters  (X) a plot for each of these:\n",
    "- factor\n",
    "- fast sma window , aka short or small window\n",
    "- slow sma window , aka short or small window\n",
    "- period\n",
    "- max_txn_amount\n",
    "\n",
    "Strategy cum return (y)\n",
    "color is model\n",
    "\n",
    "### Tune for F1 score\n",
    "scatter plots\n",
    "Parameters  (X) a plot for each of these:\n",
    "- factor\n",
    "- fast sma window , aka short or small window\n",
    "- slow sma window , aka short or small window\n",
    "- period\n",
    "- max_txn_amount\n",
    "\n",
    "Strategy cum return (y)\n",
    "color is model\n",
    "\n",
    "\n",
    "### Scatter plot\n",
    "F1 Score (x) Returns (y)\n",
    "color is model\n",
    "\n"
   ]
  },
  {
   "cell_type": "code",
   "execution_count": 22,
   "id": "7426ac64-5a3a-4931-9128-8a7c15a3570d",
   "metadata": {},
   "outputs": [
    {
     "data": {
      "text/plain": [
       "slow window\n",
       "24             525\n",
       "42             525\n",
       "60             525\n",
       "180            525\n",
       "252            525\n",
       "dtype: int64"
      ]
     },
     "execution_count": 22,
     "metadata": {},
     "output_type": "execute_result"
    }
   ],
   "source": [
    "df[['slow window']].value_counts()"
   ]
  },
  {
   "cell_type": "code",
   "execution_count": 23,
   "id": "c6b99536-72a7-47b7-891a-ac7d3cdaace2",
   "metadata": {},
   "outputs": [
    {
     "data": {
      "text/plain": [
       "fast window\n",
       "1              525\n",
       "2              525\n",
       "3              525\n",
       "4              525\n",
       "6              525\n",
       "dtype: int64"
      ]
     },
     "execution_count": 23,
     "metadata": {},
     "output_type": "execute_result"
    }
   ],
   "source": [
    "df[['fast window']].value_counts()"
   ]
  },
  {
   "cell_type": "code",
   "execution_count": 24,
   "id": "bd408119-f6da-4beb-8024-f017368df1e6",
   "metadata": {},
   "outputs": [
    {
     "data": {
      "text/plain": [
       "factor\n",
       "0.10      375\n",
       "0.25      375\n",
       "0.50      375\n",
       "0.80      375\n",
       "1.00      375\n",
       "2.00      375\n",
       "3.00      375\n",
       "dtype: int64"
      ]
     },
     "execution_count": 24,
     "metadata": {},
     "output_type": "execute_result"
    }
   ],
   "source": [
    "df[['factor']].value_counts()"
   ]
  },
  {
   "cell_type": "code",
   "execution_count": 25,
   "id": "d9d9d491-729a-4757-8970-1c102ade23d2",
   "metadata": {},
   "outputs": [
    {
     "data": {
      "text/plain": [
       "max transaction\n",
       "20000              875\n",
       "30000              875\n",
       "100000             875\n",
       "dtype: int64"
      ]
     },
     "execution_count": 25,
     "metadata": {},
     "output_type": "execute_result"
    }
   ],
   "source": [
    "df[['max transaction']].value_counts()"
   ]
  },
  {
   "cell_type": "code",
   "execution_count": null,
   "id": "aeb773c3-0871-4afc-951a-60a209342fa9",
   "metadata": {},
   "outputs": [],
   "source": [
    "#Kevin was here"
   ]
  }
 ],
 "metadata": {
  "kernelspec": {
   "display_name": "Python 3 (ipykernel)",
   "language": "python",
   "name": "python3"
  },
  "language_info": {
   "codemirror_mode": {
    "name": "ipython",
    "version": 3
   },
   "file_extension": ".py",
   "mimetype": "text/x-python",
   "name": "python",
   "nbconvert_exporter": "python",
   "pygments_lexer": "ipython3",
   "version": "3.7.13"
  }
 },
 "nbformat": 4,
 "nbformat_minor": 5
}
