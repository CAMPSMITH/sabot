{
 "cells": [
  {
   "cell_type": "code",
   "execution_count": null,
   "id": "757711ee-8b17-4fe4-af68-580fae0973e8",
   "metadata": {},
   "outputs": [],
   "source": [
    "#use the 0x API swap endpoint which allows users to fetch available quotes across the liquidity supply and uses smart order routing to split up a transaction across decentralized \n",
    "#exchange networks to be filled with the lowest slippage possible while minimizing transaction costs.\n",
    "\n",
    "\n",
    "#How do I load the libraries appropriately in AWS?\n"
   ]
  },
  {
   "cell_type": "code",
   "execution_count": 1,
   "id": "bfb1f414-3d2f-4b3c-ade0-e86f2efa7565",
   "metadata": {},
   "outputs": [
    {
     "name": "stdout",
     "output_type": "stream",
     "text": [
      "Requirement already satisfied: uniswap-python in /Users/kevincorstorphine/opt/anaconda3/envs/dev/lib/python3.7/site-packages (0.5.5)\n",
      "Requirement already satisfied: web3<6.0.0,>=5.23.0 in /Users/kevincorstorphine/opt/anaconda3/envs/dev/lib/python3.7/site-packages (from uniswap-python) (5.29.2)\n",
      "Requirement already satisfied: python-dotenv in /Users/kevincorstorphine/opt/anaconda3/envs/dev/lib/python3.7/site-packages (from uniswap-python) (0.20.0)\n",
      "Requirement already satisfied: click<9.0.0,>=8.0.3 in /Users/kevincorstorphine/opt/anaconda3/envs/dev/lib/python3.7/site-packages (from uniswap-python) (8.0.3)\n",
      "Requirement already satisfied: importlib-metadata in /Users/kevincorstorphine/opt/anaconda3/envs/dev/lib/python3.7/site-packages (from click<9.0.0,>=8.0.3->uniswap-python) (4.8.1)\n",
      "Requirement already satisfied: eth-typing<3.0.0,>=2.0.0 in /Users/kevincorstorphine/opt/anaconda3/envs/dev/lib/python3.7/site-packages (from web3<6.0.0,>=5.23.0->uniswap-python) (2.3.0)\n",
      "Requirement already satisfied: eth-hash[pycryptodome]<1.0.0,>=0.2.0 in /Users/kevincorstorphine/opt/anaconda3/envs/dev/lib/python3.7/site-packages (from web3<6.0.0,>=5.23.0->uniswap-python) (0.3.3)\n",
      "Requirement already satisfied: protobuf<4,>=3.10.0 in /Users/kevincorstorphine/opt/anaconda3/envs/dev/lib/python3.7/site-packages (from web3<6.0.0,>=5.23.0->uniswap-python) (3.20.1)\n",
      "Requirement already satisfied: typing-extensions<5,>=3.7.4.1 in /Users/kevincorstorphine/opt/anaconda3/envs/dev/lib/python3.7/site-packages (from web3<6.0.0,>=5.23.0->uniswap-python) (3.10.0.2)\n",
      "Requirement already satisfied: eth-abi<3.0.0,>=2.0.0b6 in /Users/kevincorstorphine/opt/anaconda3/envs/dev/lib/python3.7/site-packages (from web3<6.0.0,>=5.23.0->uniswap-python) (2.1.1)\n",
      "Requirement already satisfied: eth-utils<2.0.0,>=1.9.5 in /Users/kevincorstorphine/opt/anaconda3/envs/dev/lib/python3.7/site-packages (from web3<6.0.0,>=5.23.0->uniswap-python) (1.10.0)\n",
      "Requirement already satisfied: requests<3.0.0,>=2.16.0 in /Users/kevincorstorphine/opt/anaconda3/envs/dev/lib/python3.7/site-packages (from web3<6.0.0,>=5.23.0->uniswap-python) (2.26.0)\n",
      "Requirement already satisfied: hexbytes<1.0.0,>=0.1.0 in /Users/kevincorstorphine/opt/anaconda3/envs/dev/lib/python3.7/site-packages (from web3<6.0.0,>=5.23.0->uniswap-python) (0.2.2)\n",
      "Requirement already satisfied: jsonschema<5,>=3.2.0 in /Users/kevincorstorphine/opt/anaconda3/envs/dev/lib/python3.7/site-packages (from web3<6.0.0,>=5.23.0->uniswap-python) (3.2.0)\n",
      "Requirement already satisfied: websockets<10,>=9.1 in /Users/kevincorstorphine/opt/anaconda3/envs/dev/lib/python3.7/site-packages (from web3<6.0.0,>=5.23.0->uniswap-python) (9.1)\n",
      "Requirement already satisfied: aiohttp<4,>=3.7.4.post0 in /Users/kevincorstorphine/opt/anaconda3/envs/dev/lib/python3.7/site-packages (from web3<6.0.0,>=5.23.0->uniswap-python) (3.8.1)\n",
      "Requirement already satisfied: lru-dict<2.0.0,>=1.1.6 in /Users/kevincorstorphine/opt/anaconda3/envs/dev/lib/python3.7/site-packages (from web3<6.0.0,>=5.23.0->uniswap-python) (1.1.7)\n",
      "Requirement already satisfied: ipfshttpclient==0.8.0a2 in /Users/kevincorstorphine/opt/anaconda3/envs/dev/lib/python3.7/site-packages (from web3<6.0.0,>=5.23.0->uniswap-python) (0.8.0a2)\n",
      "Requirement already satisfied: eth-account<0.6.0,>=0.5.7 in /Users/kevincorstorphine/opt/anaconda3/envs/dev/lib/python3.7/site-packages (from web3<6.0.0,>=5.23.0->uniswap-python) (0.5.8)\n",
      "Requirement already satisfied: multiaddr>=0.0.7 in /Users/kevincorstorphine/opt/anaconda3/envs/dev/lib/python3.7/site-packages (from ipfshttpclient==0.8.0a2->web3<6.0.0,>=5.23.0->uniswap-python) (0.0.9)\n",
      "Requirement already satisfied: multidict<7.0,>=4.5 in /Users/kevincorstorphine/opt/anaconda3/envs/dev/lib/python3.7/site-packages (from aiohttp<4,>=3.7.4.post0->web3<6.0.0,>=5.23.0->uniswap-python) (6.0.2)\n",
      "Requirement already satisfied: attrs>=17.3.0 in /Users/kevincorstorphine/opt/anaconda3/envs/dev/lib/python3.7/site-packages (from aiohttp<4,>=3.7.4.post0->web3<6.0.0,>=5.23.0->uniswap-python) (21.2.0)\n",
      "Requirement already satisfied: aiosignal>=1.1.2 in /Users/kevincorstorphine/opt/anaconda3/envs/dev/lib/python3.7/site-packages (from aiohttp<4,>=3.7.4.post0->web3<6.0.0,>=5.23.0->uniswap-python) (1.2.0)\n",
      "Requirement already satisfied: frozenlist>=1.1.1 in /Users/kevincorstorphine/opt/anaconda3/envs/dev/lib/python3.7/site-packages (from aiohttp<4,>=3.7.4.post0->web3<6.0.0,>=5.23.0->uniswap-python) (1.3.0)\n",
      "Requirement already satisfied: yarl<2.0,>=1.0 in /Users/kevincorstorphine/opt/anaconda3/envs/dev/lib/python3.7/site-packages (from aiohttp<4,>=3.7.4.post0->web3<6.0.0,>=5.23.0->uniswap-python) (1.7.2)\n",
      "Requirement already satisfied: asynctest==0.13.0 in /Users/kevincorstorphine/opt/anaconda3/envs/dev/lib/python3.7/site-packages (from aiohttp<4,>=3.7.4.post0->web3<6.0.0,>=5.23.0->uniswap-python) (0.13.0)\n",
      "Requirement already satisfied: charset-normalizer<3.0,>=2.0 in /Users/kevincorstorphine/opt/anaconda3/envs/dev/lib/python3.7/site-packages (from aiohttp<4,>=3.7.4.post0->web3<6.0.0,>=5.23.0->uniswap-python) (2.0.4)\n",
      "Requirement already satisfied: async-timeout<5.0,>=4.0.0a3 in /Users/kevincorstorphine/opt/anaconda3/envs/dev/lib/python3.7/site-packages (from aiohttp<4,>=3.7.4.post0->web3<6.0.0,>=5.23.0->uniswap-python) (4.0.2)\n",
      "Requirement already satisfied: parsimonious<0.9.0,>=0.8.0 in /Users/kevincorstorphine/opt/anaconda3/envs/dev/lib/python3.7/site-packages (from eth-abi<3.0.0,>=2.0.0b6->web3<6.0.0,>=5.23.0->uniswap-python) (0.8.1)\n",
      "Requirement already satisfied: rlp<3,>=1.0.0 in /Users/kevincorstorphine/opt/anaconda3/envs/dev/lib/python3.7/site-packages (from eth-account<0.6.0,>=0.5.7->web3<6.0.0,>=5.23.0->uniswap-python) (2.0.1)\n",
      "Requirement already satisfied: eth-keyfile<0.6.0,>=0.5.0 in /Users/kevincorstorphine/opt/anaconda3/envs/dev/lib/python3.7/site-packages (from eth-account<0.6.0,>=0.5.7->web3<6.0.0,>=5.23.0->uniswap-python) (0.5.1)\n",
      "Requirement already satisfied: eth-rlp<2,>=0.1.2 in /Users/kevincorstorphine/opt/anaconda3/envs/dev/lib/python3.7/site-packages (from eth-account<0.6.0,>=0.5.7->web3<6.0.0,>=5.23.0->uniswap-python) (0.2.1)\n",
      "Requirement already satisfied: eth-keys<0.4.0,>=0.3.4 in /Users/kevincorstorphine/opt/anaconda3/envs/dev/lib/python3.7/site-packages (from eth-account<0.6.0,>=0.5.7->web3<6.0.0,>=5.23.0->uniswap-python) (0.3.4)\n",
      "Requirement already satisfied: bitarray<3,>=1.2.1 in /Users/kevincorstorphine/opt/anaconda3/envs/dev/lib/python3.7/site-packages (from eth-account<0.6.0,>=0.5.7->web3<6.0.0,>=5.23.0->uniswap-python) (2.3.0)\n",
      "Requirement already satisfied: pycryptodome<4,>=3.6.6 in /Users/kevincorstorphine/opt/anaconda3/envs/dev/lib/python3.7/site-packages (from eth-hash[pycryptodome]<1.0.0,>=0.2.0->web3<6.0.0,>=5.23.0->uniswap-python) (3.15.0)\n",
      "Requirement already satisfied: cytoolz<1.0.0,>=0.9.0 in /Users/kevincorstorphine/opt/anaconda3/envs/dev/lib/python3.7/site-packages (from eth-keyfile<0.6.0,>=0.5.0->eth-account<0.6.0,>=0.5.7->web3<6.0.0,>=5.23.0->uniswap-python) (0.11.0)\n",
      "Requirement already satisfied: toolz>=0.8.0 in /Users/kevincorstorphine/opt/anaconda3/envs/dev/lib/python3.7/site-packages (from cytoolz<1.0.0,>=0.9.0->eth-keyfile<0.6.0,>=0.5.0->eth-account<0.6.0,>=0.5.7->web3<6.0.0,>=5.23.0->uniswap-python) (0.11.1)\n",
      "Requirement already satisfied: pyrsistent>=0.14.0 in /Users/kevincorstorphine/opt/anaconda3/envs/dev/lib/python3.7/site-packages (from jsonschema<5,>=3.2.0->web3<6.0.0,>=5.23.0->uniswap-python) (0.18.0)\n",
      "Requirement already satisfied: setuptools in /Users/kevincorstorphine/opt/anaconda3/envs/dev/lib/python3.7/site-packages (from jsonschema<5,>=3.2.0->web3<6.0.0,>=5.23.0->uniswap-python) (58.0.4)\n",
      "Requirement already satisfied: six>=1.11.0 in /Users/kevincorstorphine/opt/anaconda3/envs/dev/lib/python3.7/site-packages (from jsonschema<5,>=3.2.0->web3<6.0.0,>=5.23.0->uniswap-python) (1.16.0)\n",
      "Requirement already satisfied: varint in /Users/kevincorstorphine/opt/anaconda3/envs/dev/lib/python3.7/site-packages (from multiaddr>=0.0.7->ipfshttpclient==0.8.0a2->web3<6.0.0,>=5.23.0->uniswap-python) (1.0.2)\n",
      "Requirement already satisfied: base58 in /Users/kevincorstorphine/opt/anaconda3/envs/dev/lib/python3.7/site-packages (from multiaddr>=0.0.7->ipfshttpclient==0.8.0a2->web3<6.0.0,>=5.23.0->uniswap-python) (2.1.1)\n",
      "Requirement already satisfied: netaddr in /Users/kevincorstorphine/opt/anaconda3/envs/dev/lib/python3.7/site-packages (from multiaddr>=0.0.7->ipfshttpclient==0.8.0a2->web3<6.0.0,>=5.23.0->uniswap-python) (0.8.0)\n",
      "Requirement already satisfied: urllib3<1.27,>=1.21.1 in /Users/kevincorstorphine/opt/anaconda3/envs/dev/lib/python3.7/site-packages (from requests<3.0.0,>=2.16.0->web3<6.0.0,>=5.23.0->uniswap-python) (1.26.7)\n",
      "Requirement already satisfied: certifi>=2017.4.17 in /Users/kevincorstorphine/opt/anaconda3/envs/dev/lib/python3.7/site-packages (from requests<3.0.0,>=2.16.0->web3<6.0.0,>=5.23.0->uniswap-python) (2022.5.18.1)\n",
      "Requirement already satisfied: idna<4,>=2.5 in /Users/kevincorstorphine/opt/anaconda3/envs/dev/lib/python3.7/site-packages (from requests<3.0.0,>=2.16.0->web3<6.0.0,>=5.23.0->uniswap-python) (3.2)\n",
      "Requirement already satisfied: zipp>=0.5 in /Users/kevincorstorphine/opt/anaconda3/envs/dev/lib/python3.7/site-packages (from importlib-metadata->click<9.0.0,>=8.0.3->uniswap-python) (3.6.0)\n",
      "Note: you may need to restart the kernel to use updated packages.\n"
     ]
    }
   ],
   "source": [
    "pip install uniswap-python"
   ]
  },
  {
   "cell_type": "code",
   "execution_count": 2,
   "id": "4f981f4b-cce9-4ce7-94a3-c7785e3d3bf7",
   "metadata": {},
   "outputs": [
    {
     "name": "stdout",
     "output_type": "stream",
     "text": [
      "Requirement already satisfied: websockets==9.1 in /Users/kevincorstorphine/opt/anaconda3/envs/dev/lib/python3.7/site-packages (9.1)\n",
      "Note: you may need to restart the kernel to use updated packages.\n"
     ]
    }
   ],
   "source": [
    "pip install websockets==9.1\n"
   ]
  },
  {
   "cell_type": "code",
   "execution_count": 3,
   "id": "482a3daf-3a67-4d5f-88ed-fa32f091decf",
   "metadata": {},
   "outputs": [
    {
     "name": "stdout",
     "output_type": "stream",
     "text": [
      "Requirement already satisfied: web3 in /Users/kevincorstorphine/opt/anaconda3/envs/dev/lib/python3.7/site-packages (5.29.2)\n",
      "Requirement already satisfied: eth-abi<3.0.0,>=2.0.0b6 in /Users/kevincorstorphine/opt/anaconda3/envs/dev/lib/python3.7/site-packages (from web3) (2.1.1)\n",
      "Requirement already satisfied: lru-dict<2.0.0,>=1.1.6 in /Users/kevincorstorphine/opt/anaconda3/envs/dev/lib/python3.7/site-packages (from web3) (1.1.7)\n",
      "Requirement already satisfied: websockets<10,>=9.1 in /Users/kevincorstorphine/opt/anaconda3/envs/dev/lib/python3.7/site-packages (from web3) (9.1)\n",
      "Requirement already satisfied: eth-hash[pycryptodome]<1.0.0,>=0.2.0 in /Users/kevincorstorphine/opt/anaconda3/envs/dev/lib/python3.7/site-packages (from web3) (0.3.3)\n",
      "Requirement already satisfied: hexbytes<1.0.0,>=0.1.0 in /Users/kevincorstorphine/opt/anaconda3/envs/dev/lib/python3.7/site-packages (from web3) (0.2.2)\n",
      "Requirement already satisfied: aiohttp<4,>=3.7.4.post0 in /Users/kevincorstorphine/opt/anaconda3/envs/dev/lib/python3.7/site-packages (from web3) (3.8.1)\n",
      "Requirement already satisfied: eth-utils<2.0.0,>=1.9.5 in /Users/kevincorstorphine/opt/anaconda3/envs/dev/lib/python3.7/site-packages (from web3) (1.10.0)\n",
      "Requirement already satisfied: typing-extensions<5,>=3.7.4.1 in /Users/kevincorstorphine/opt/anaconda3/envs/dev/lib/python3.7/site-packages (from web3) (3.10.0.2)\n",
      "Requirement already satisfied: eth-typing<3.0.0,>=2.0.0 in /Users/kevincorstorphine/opt/anaconda3/envs/dev/lib/python3.7/site-packages (from web3) (2.3.0)\n",
      "Requirement already satisfied: jsonschema<5,>=3.2.0 in /Users/kevincorstorphine/opt/anaconda3/envs/dev/lib/python3.7/site-packages (from web3) (3.2.0)\n",
      "Requirement already satisfied: ipfshttpclient==0.8.0a2 in /Users/kevincorstorphine/opt/anaconda3/envs/dev/lib/python3.7/site-packages (from web3) (0.8.0a2)\n",
      "Requirement already satisfied: eth-account<0.6.0,>=0.5.7 in /Users/kevincorstorphine/opt/anaconda3/envs/dev/lib/python3.7/site-packages (from web3) (0.5.8)\n",
      "Requirement already satisfied: requests<3.0.0,>=2.16.0 in /Users/kevincorstorphine/opt/anaconda3/envs/dev/lib/python3.7/site-packages (from web3) (2.26.0)\n",
      "Requirement already satisfied: protobuf<4,>=3.10.0 in /Users/kevincorstorphine/opt/anaconda3/envs/dev/lib/python3.7/site-packages (from web3) (3.20.1)\n",
      "Requirement already satisfied: multiaddr>=0.0.7 in /Users/kevincorstorphine/opt/anaconda3/envs/dev/lib/python3.7/site-packages (from ipfshttpclient==0.8.0a2->web3) (0.0.9)\n",
      "Requirement already satisfied: multidict<7.0,>=4.5 in /Users/kevincorstorphine/opt/anaconda3/envs/dev/lib/python3.7/site-packages (from aiohttp<4,>=3.7.4.post0->web3) (6.0.2)\n",
      "Requirement already satisfied: attrs>=17.3.0 in /Users/kevincorstorphine/opt/anaconda3/envs/dev/lib/python3.7/site-packages (from aiohttp<4,>=3.7.4.post0->web3) (21.2.0)\n",
      "Requirement already satisfied: async-timeout<5.0,>=4.0.0a3 in /Users/kevincorstorphine/opt/anaconda3/envs/dev/lib/python3.7/site-packages (from aiohttp<4,>=3.7.4.post0->web3) (4.0.2)\n",
      "Requirement already satisfied: aiosignal>=1.1.2 in /Users/kevincorstorphine/opt/anaconda3/envs/dev/lib/python3.7/site-packages (from aiohttp<4,>=3.7.4.post0->web3) (1.2.0)\n",
      "Requirement already satisfied: yarl<2.0,>=1.0 in /Users/kevincorstorphine/opt/anaconda3/envs/dev/lib/python3.7/site-packages (from aiohttp<4,>=3.7.4.post0->web3) (1.7.2)\n",
      "Requirement already satisfied: asynctest==0.13.0 in /Users/kevincorstorphine/opt/anaconda3/envs/dev/lib/python3.7/site-packages (from aiohttp<4,>=3.7.4.post0->web3) (0.13.0)\n",
      "Requirement already satisfied: frozenlist>=1.1.1 in /Users/kevincorstorphine/opt/anaconda3/envs/dev/lib/python3.7/site-packages (from aiohttp<4,>=3.7.4.post0->web3) (1.3.0)\n",
      "Requirement already satisfied: charset-normalizer<3.0,>=2.0 in /Users/kevincorstorphine/opt/anaconda3/envs/dev/lib/python3.7/site-packages (from aiohttp<4,>=3.7.4.post0->web3) (2.0.4)\n",
      "Requirement already satisfied: parsimonious<0.9.0,>=0.8.0 in /Users/kevincorstorphine/opt/anaconda3/envs/dev/lib/python3.7/site-packages (from eth-abi<3.0.0,>=2.0.0b6->web3) (0.8.1)\n",
      "Requirement already satisfied: bitarray<3,>=1.2.1 in /Users/kevincorstorphine/opt/anaconda3/envs/dev/lib/python3.7/site-packages (from eth-account<0.6.0,>=0.5.7->web3) (2.3.0)\n",
      "Requirement already satisfied: eth-rlp<2,>=0.1.2 in /Users/kevincorstorphine/opt/anaconda3/envs/dev/lib/python3.7/site-packages (from eth-account<0.6.0,>=0.5.7->web3) (0.2.1)\n",
      "Requirement already satisfied: eth-keyfile<0.6.0,>=0.5.0 in /Users/kevincorstorphine/opt/anaconda3/envs/dev/lib/python3.7/site-packages (from eth-account<0.6.0,>=0.5.7->web3) (0.5.1)\n",
      "Requirement already satisfied: rlp<3,>=1.0.0 in /Users/kevincorstorphine/opt/anaconda3/envs/dev/lib/python3.7/site-packages (from eth-account<0.6.0,>=0.5.7->web3) (2.0.1)\n",
      "Requirement already satisfied: eth-keys<0.4.0,>=0.3.4 in /Users/kevincorstorphine/opt/anaconda3/envs/dev/lib/python3.7/site-packages (from eth-account<0.6.0,>=0.5.7->web3) (0.3.4)\n",
      "Requirement already satisfied: pycryptodome<4,>=3.6.6 in /Users/kevincorstorphine/opt/anaconda3/envs/dev/lib/python3.7/site-packages (from eth-hash[pycryptodome]<1.0.0,>=0.2.0->web3) (3.15.0)\n",
      "Requirement already satisfied: cytoolz<1.0.0,>=0.9.0 in /Users/kevincorstorphine/opt/anaconda3/envs/dev/lib/python3.7/site-packages (from eth-keyfile<0.6.0,>=0.5.0->eth-account<0.6.0,>=0.5.7->web3) (0.11.0)\n",
      "Requirement already satisfied: toolz>=0.8.0 in /Users/kevincorstorphine/opt/anaconda3/envs/dev/lib/python3.7/site-packages (from cytoolz<1.0.0,>=0.9.0->eth-keyfile<0.6.0,>=0.5.0->eth-account<0.6.0,>=0.5.7->web3) (0.11.1)\n",
      "Requirement already satisfied: six>=1.11.0 in /Users/kevincorstorphine/opt/anaconda3/envs/dev/lib/python3.7/site-packages (from jsonschema<5,>=3.2.0->web3) (1.16.0)\n",
      "Requirement already satisfied: pyrsistent>=0.14.0 in /Users/kevincorstorphine/opt/anaconda3/envs/dev/lib/python3.7/site-packages (from jsonschema<5,>=3.2.0->web3) (0.18.0)\n",
      "Requirement already satisfied: importlib-metadata in /Users/kevincorstorphine/opt/anaconda3/envs/dev/lib/python3.7/site-packages (from jsonschema<5,>=3.2.0->web3) (4.8.1)\n",
      "Requirement already satisfied: setuptools in /Users/kevincorstorphine/opt/anaconda3/envs/dev/lib/python3.7/site-packages (from jsonschema<5,>=3.2.0->web3) (58.0.4)\n",
      "Requirement already satisfied: varint in /Users/kevincorstorphine/opt/anaconda3/envs/dev/lib/python3.7/site-packages (from multiaddr>=0.0.7->ipfshttpclient==0.8.0a2->web3) (1.0.2)\n",
      "Requirement already satisfied: base58 in /Users/kevincorstorphine/opt/anaconda3/envs/dev/lib/python3.7/site-packages (from multiaddr>=0.0.7->ipfshttpclient==0.8.0a2->web3) (2.1.1)\n",
      "Requirement already satisfied: netaddr in /Users/kevincorstorphine/opt/anaconda3/envs/dev/lib/python3.7/site-packages (from multiaddr>=0.0.7->ipfshttpclient==0.8.0a2->web3) (0.8.0)\n",
      "Requirement already satisfied: idna<4,>=2.5 in /Users/kevincorstorphine/opt/anaconda3/envs/dev/lib/python3.7/site-packages (from requests<3.0.0,>=2.16.0->web3) (3.2)\n",
      "Requirement already satisfied: urllib3<1.27,>=1.21.1 in /Users/kevincorstorphine/opt/anaconda3/envs/dev/lib/python3.7/site-packages (from requests<3.0.0,>=2.16.0->web3) (1.26.7)\n",
      "Requirement already satisfied: certifi>=2017.4.17 in /Users/kevincorstorphine/opt/anaconda3/envs/dev/lib/python3.7/site-packages (from requests<3.0.0,>=2.16.0->web3) (2022.5.18.1)\n",
      "Requirement already satisfied: zipp>=0.5 in /Users/kevincorstorphine/opt/anaconda3/envs/dev/lib/python3.7/site-packages (from importlib-metadata->jsonschema<5,>=3.2.0->web3) (3.6.0)\n",
      "Note: you may need to restart the kernel to use updated packages.\n"
     ]
    }
   ],
   "source": [
    "pip install web3"
   ]
  },
  {
   "cell_type": "code",
   "execution_count": 406,
   "id": "e3d8da3f-fc8c-44b9-9934-360f187cb57b",
   "metadata": {},
   "outputs": [],
   "source": [
    "from web3 import Web3\n",
    "from uniswap import Uniswap\n",
    "import json\n",
    "import requests\n",
    "import pandas as pd"
   ]
  },
  {
   "cell_type": "code",
   "execution_count": 407,
   "id": "c6909e2a-bf6e-4bf8-b45f-006173b7c523",
   "metadata": {},
   "outputs": [],
   "source": [
    "#LIST OF AGGREGATED DEXs\n",
    "\n",
    "\n",
    "#When the token amount gets large enough, it's able to source liquidity from CURVE instead of just Uniswap.\n",
    "\n",
    "\n",
    "\n",
    "\n",
    "\n",
    "\n",
    "\n",
    "\n"
   ]
  },
  {
   "cell_type": "code",
   "execution_count": 408,
   "id": "b54f82ff-f54d-47c1-af7b-8fdfc46190e6",
   "metadata": {},
   "outputs": [],
   "source": [
    "# USDC= 6 decimals\n",
    "# sUSD = 18 decimals"
   ]
  },
  {
   "cell_type": "code",
   "execution_count": 409,
   "id": "245ac644-5431-443d-b1b8-3f1eeec5df49",
   "metadata": {},
   "outputs": [
    {
     "data": {
      "text/html": [
       "<div>\n",
       "<style scoped>\n",
       "    .dataframe tbody tr th:only-of-type {\n",
       "        vertical-align: middle;\n",
       "    }\n",
       "\n",
       "    .dataframe tbody tr th {\n",
       "        vertical-align: top;\n",
       "    }\n",
       "\n",
       "    .dataframe thead th {\n",
       "        text-align: right;\n",
       "    }\n",
       "</style>\n",
       "<table border=\"1\" class=\"dataframe\">\n",
       "  <thead>\n",
       "    <tr style=\"text-align: right;\">\n",
       "      <th></th>\n",
       "      <th>price</th>\n",
       "      <th>guaranteedPrice</th>\n",
       "      <th>protocolFee</th>\n",
       "      <th>gas</th>\n",
       "      <th>gasPrice</th>\n",
       "      <th>buyTokenToEthRate</th>\n",
       "    </tr>\n",
       "  </thead>\n",
       "  <tbody>\n",
       "  </tbody>\n",
       "</table>\n",
       "</div>"
      ],
      "text/plain": [
       "Empty DataFrame\n",
       "Columns: [price, guaranteedPrice, protocolFee, gas, gasPrice, buyTokenToEthRate]\n",
       "Index: []"
      ]
     },
     "metadata": {},
     "output_type": "display_data"
    }
   ],
   "source": [
    "SUSDtoUSDCdf = pd.DataFrame(\n",
    "    index = None,\n",
    "    columns=('price','guaranteedPrice','protocolFee','gas','gasPrice','buyTokenToEthRate'))\n",
    "\n",
    "display(sUSDtoUSDCdf)"
   ]
  },
  {
   "cell_type": "code",
   "execution_count": 410,
   "id": "2e40fe86-454d-4bc0-846e-210faf758f41",
   "metadata": {},
   "outputs": [
    {
     "data": {
      "text/html": [
       "<div>\n",
       "<style scoped>\n",
       "    .dataframe tbody tr th:only-of-type {\n",
       "        vertical-align: middle;\n",
       "    }\n",
       "\n",
       "    .dataframe tbody tr th {\n",
       "        vertical-align: top;\n",
       "    }\n",
       "\n",
       "    .dataframe thead th {\n",
       "        text-align: right;\n",
       "    }\n",
       "</style>\n",
       "<table border=\"1\" class=\"dataframe\">\n",
       "  <thead>\n",
       "    <tr style=\"text-align: right;\">\n",
       "      <th></th>\n",
       "      <th>price</th>\n",
       "      <th>guaranteedPrice</th>\n",
       "      <th>protocolFee</th>\n",
       "      <th>gas</th>\n",
       "      <th>gasPrice</th>\n",
       "      <th>buyTokenToEthRate</th>\n",
       "    </tr>\n",
       "  </thead>\n",
       "  <tbody>\n",
       "  </tbody>\n",
       "</table>\n",
       "</div>"
      ],
      "text/plain": [
       "Empty DataFrame\n",
       "Columns: [price, guaranteedPrice, protocolFee, gas, gasPrice, buyTokenToEthRate]\n",
       "Index: []"
      ]
     },
     "metadata": {},
     "output_type": "display_data"
    }
   ],
   "source": [
    "USDCtoSUSDdf = pd.DataFrame(\n",
    "    index = None,\n",
    "    columns=('price','guaranteedPrice','protocolFee','gas','gasPrice','buyTokenToEthRate'))\n",
    "\n",
    "display(USDCtoSUSDdf)"
   ]
  },
  {
   "cell_type": "code",
   "execution_count": 422,
   "id": "219c898a-ae36-4d56-a3c6-a82fad1d1f01",
   "metadata": {},
   "outputs": [],
   "source": [
    "#SUSD/USDC\n",
    "#It's important to make sure the decimals match the sell token\n",
    "# Selling 1 USDC for SUSD\n",
    "\n",
    "\n",
    "SUSDtoUSDC = requests.get('https://api.0x.org/swap/v1/quote?buyToken=SUSD&sellToken=USDC&sellAmount=1000000')\n",
    "SUSDtoUSDC = SUSDtoUSDC.json()\n",
    "\n",
    "#df2 = pd.read_json(SUSDtoUSDC['price'], orient = 'index')\n",
    "SUSDtoUSDC['price'] = float(SUSDtoUSDC['price'])"
   ]
  },
  {
   "cell_type": "code",
   "execution_count": 424,
   "id": "f55b4956-60ae-4adf-b6b4-e0d27cec3fac",
   "metadata": {},
   "outputs": [
    {
     "name": "stdout",
     "output_type": "stream",
     "text": [
      "Empty DataFrame\n",
      "Columns: [price, guaranteedPrice, protocolFee, gas, gasPrice, buyTokenToEthRate]\n",
      "Index: []\n"
     ]
    }
   ],
   "source": [
    "SUSDtoUSDCdf['price'] = SUSDtoUSDC['price']\n",
    "print(SUSDtoUSDCdf)"
   ]
  },
  {
   "cell_type": "code",
   "execution_count": null,
   "id": "90e326b2-3e55-4cee-9607-463b9b56d231",
   "metadata": {},
   "outputs": [],
   "source": [
    "print(f'One USDC =',buySUSDwithUSDC['price'],'sUSD')\n",
    "print(f'Guaranteed Price =', buySUSDwithUSDC['guaranteedPrice'],'sUSD')\n",
    "print(f'Protocol Fee:', buySUSDwithUSDC['protocolFee'])\n",
    "print(f'Gas:', buySUSDwithUSDC['gas'])\n",
    "print(f'Gas Price:', buySUSDwithUSDC['gasPrice'])\n",
    "print(f'Buy-Token to ETH Rate:', buySUSDwithUSDC['buyTokenToEthRate'])"
   ]
  },
  {
   "cell_type": "code",
   "execution_count": 412,
   "id": "72db71b6-683e-410d-9ea7-f6b5465a653e",
   "metadata": {},
   "outputs": [],
   "source": [
    "#USDC/SUSD\n",
    "#It's important to make sure that the decimals match the sell token\n",
    "# Selling 1 USDC for SUSD\n",
    "\n",
    "buyUSDCwithSUSD = requests.get('https://api.0x.org/swap/v1/quote?buyToken=USDC&sellToken=SUSD&sellAmount=1000000000000000000')\n",
    "buyUSDCwithSUSD = buyUSDCwithSUSD.json()\n",
    "\n"
   ]
  },
  {
   "cell_type": "code",
   "execution_count": null,
   "id": "ea2856b2-6115-4ee2-8035-a2c2984f92d9",
   "metadata": {},
   "outputs": [],
   "source": [
    "\n",
    "\n",
    "\n"
   ]
  },
  {
   "cell_type": "code",
   "execution_count": 369,
   "id": "5caf274e-600f-424a-9195-28150f87b7fb",
   "metadata": {},
   "outputs": [
    {
     "name": "stdout",
     "output_type": "stream",
     "text": [
      "One sUSD = 1.005792 USDC\n",
      "Guaranteed Price = 0.995734 USDC\n",
      "Protocol Fee: 0\n",
      "Gas: 128267\n",
      "Gas Price: 29000000000\n",
      "Buy-Token to ETH Rate: 1165.91547\n"
     ]
    }
   ],
   "source": [
    "print(f'One sUSD =',buyUSDCwithSUSD['price'],'USDC')\n",
    "print(f'Guaranteed Price =', buyUSDCwithSUSD['guaranteedPrice'],'USDC')\n",
    "print(f'Protocol Fee:', buyUSDCwithSUSD['protocolFee'])\n",
    "print(f'Gas:', buyUSDCwithSUSD['gas'])\n",
    "print(f'Gas Price:', buyUSDCwithSUSD['gasPrice'])\n",
    "print(f'Buy-Token to ETH Rate:', buyUSDCwithSUSD['buyTokenToEthRate'])"
   ]
  },
  {
   "cell_type": "code",
   "execution_count": null,
   "id": "e5919365-b9bc-4bd0-a087-5ccf3d322401",
   "metadata": {},
   "outputs": [],
   "source": [
    "\n"
   ]
  },
  {
   "cell_type": "code",
   "execution_count": null,
   "id": "257cb2c3-9a3b-450c-8e88-12283f49b5a6",
   "metadata": {},
   "outputs": [],
   "source": []
  }
 ],
 "metadata": {
  "kernelspec": {
   "display_name": "Python 3 (ipykernel)",
   "language": "python",
   "name": "python3"
  },
  "language_info": {
   "codemirror_mode": {
    "name": "ipython",
    "version": 3
   },
   "file_extension": ".py",
   "mimetype": "text/x-python",
   "name": "python",
   "nbconvert_exporter": "python",
   "pygments_lexer": "ipython3",
   "version": "3.7.11"
  }
 },
 "nbformat": 4,
 "nbformat_minor": 5
}
