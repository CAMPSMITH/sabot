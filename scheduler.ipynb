{
 "cells": [
  {
   "cell_type": "markdown",
   "id": "68e72842-eb2e-4a88-a3f5-5c0f9e66b8ae",
   "metadata": {},
   "source": [
    "## Price Data Scheduler\n",
    "\n",
    "- Function Goal:\n",
    "    * pull 48 hours of hourly price data once every hour \n",
    "- Tech:\n",
    "    * python schedule library"
   ]
  },
  {
   "cell_type": "code",
   "execution_count": 3,
   "id": "bc1e004b-1315-4fe9-a209-1435e6bbddb2",
   "metadata": {},
   "outputs": [
    {
     "name": "stderr",
     "output_type": "stream",
     "text": [
      "\n",
      "Bad key text.latex.preview in file C:\\Users\\quint\\anaconda3\\envs\\dev\\envs\\dev\\lib\\site-packages\\matplotlib\\mpl-data\\stylelib\\_classic_test.mplstyle, line 123 ('text.latex.preview : False')\n",
      "You probably need to get an updated matplotlibrc file from\n",
      "https://github.com/matplotlib/matplotlib/blob/v3.5.1/matplotlibrc.template\n",
      "or from the matplotlib source distribution\n",
      "\n",
      "Bad key mathtext.fallback_to_cm in file C:\\Users\\quint\\anaconda3\\envs\\dev\\envs\\dev\\lib\\site-packages\\matplotlib\\mpl-data\\stylelib\\_classic_test.mplstyle, line 155 ('mathtext.fallback_to_cm : True  # When True, use symbols from the Computer Modern')\n",
      "You probably need to get an updated matplotlibrc file from\n",
      "https://github.com/matplotlib/matplotlib/blob/v3.5.1/matplotlibrc.template\n",
      "or from the matplotlib source distribution\n",
      "\n",
      "Bad key savefig.jpeg_quality in file C:\\Users\\quint\\anaconda3\\envs\\dev\\envs\\dev\\lib\\site-packages\\matplotlib\\mpl-data\\stylelib\\_classic_test.mplstyle, line 418 ('savefig.jpeg_quality: 95       # when a jpeg is saved, the default quality parameter.')\n",
      "You probably need to get an updated matplotlibrc file from\n",
      "https://github.com/matplotlib/matplotlib/blob/v3.5.1/matplotlibrc.template\n",
      "or from the matplotlib source distribution\n",
      "\n",
      "Bad key savefig.frameon in file C:\\Users\\quint\\anaconda3\\envs\\dev\\envs\\dev\\lib\\site-packages\\matplotlib\\mpl-data\\stylelib\\_classic_test.mplstyle, line 421 ('savefig.frameon : True')\n",
      "You probably need to get an updated matplotlibrc file from\n",
      "https://github.com/matplotlib/matplotlib/blob/v3.5.1/matplotlibrc.template\n",
      "or from the matplotlib source distribution\n",
      "\n",
      "Bad key verbose.level in file C:\\Users\\quint\\anaconda3\\envs\\dev\\envs\\dev\\lib\\site-packages\\matplotlib\\mpl-data\\stylelib\\_classic_test.mplstyle, line 472 ('verbose.level  : silent      # one of silent, helpful, debug, debug-annoying')\n",
      "You probably need to get an updated matplotlibrc file from\n",
      "https://github.com/matplotlib/matplotlib/blob/v3.5.1/matplotlibrc.template\n",
      "or from the matplotlib source distribution\n",
      "\n",
      "Bad key verbose.fileo in file C:\\Users\\quint\\anaconda3\\envs\\dev\\envs\\dev\\lib\\site-packages\\matplotlib\\mpl-data\\stylelib\\_classic_test.mplstyle, line 473 ('verbose.fileo  : sys.stdout  # a log filename, sys.stdout or sys.stderr')\n",
      "You probably need to get an updated matplotlibrc file from\n",
      "https://github.com/matplotlib/matplotlib/blob/v3.5.1/matplotlibrc.template\n",
      "or from the matplotlib source distribution\n",
      "\n",
      "Bad key keymap.all_axes in file C:\\Users\\quint\\anaconda3\\envs\\dev\\envs\\dev\\lib\\site-packages\\matplotlib\\mpl-data\\stylelib\\_classic_test.mplstyle, line 490 ('keymap.all_axes : a                 # enable all axes')\n",
      "You probably need to get an updated matplotlibrc file from\n",
      "https://github.com/matplotlib/matplotlib/blob/v3.5.1/matplotlibrc.template\n",
      "or from the matplotlib source distribution\n",
      "\n",
      "Bad key animation.avconv_path in file C:\\Users\\quint\\anaconda3\\envs\\dev\\envs\\dev\\lib\\site-packages\\matplotlib\\mpl-data\\stylelib\\_classic_test.mplstyle, line 501 ('animation.avconv_path: avconv     # Path to avconv binary. Without full path')\n",
      "You probably need to get an updated matplotlibrc file from\n",
      "https://github.com/matplotlib/matplotlib/blob/v3.5.1/matplotlibrc.template\n",
      "or from the matplotlib source distribution\n",
      "\n",
      "Bad key animation.avconv_args in file C:\\Users\\quint\\anaconda3\\envs\\dev\\envs\\dev\\lib\\site-packages\\matplotlib\\mpl-data\\stylelib\\_classic_test.mplstyle, line 503 ('animation.avconv_args:            # Additional arguments to pass to avconv')\n",
      "You probably need to get an updated matplotlibrc file from\n",
      "https://github.com/matplotlib/matplotlib/blob/v3.5.1/matplotlibrc.template\n",
      "or from the matplotlib source distribution\n"
     ]
    },
    {
     "ename": "ModuleNotFoundError",
     "evalue": "No module named 'utils.trade'",
     "output_type": "error",
     "traceback": [
      "\u001b[1;31m---------------------------------------------------------------------------\u001b[0m",
      "\u001b[1;31mModuleNotFoundError\u001b[0m                       Traceback (most recent call last)",
      "\u001b[1;32m~\\AppData\\Local\\Temp\\ipykernel_22280\\2105350492.py\u001b[0m in \u001b[0;36m<module>\u001b[1;34m\u001b[0m\n\u001b[0;32m     14\u001b[0m \u001b[1;31m# import functions from other notebooks\u001b[0m\u001b[1;33m\u001b[0m\u001b[1;33m\u001b[0m\u001b[1;33m\u001b[0m\u001b[0m\n\u001b[0;32m     15\u001b[0m \u001b[1;32mfrom\u001b[0m \u001b[0mutils\u001b[0m\u001b[1;33m.\u001b[0m\u001b[0mutils\u001b[0m \u001b[1;32mimport\u001b[0m \u001b[1;33m*\u001b[0m\u001b[1;33m\u001b[0m\u001b[1;33m\u001b[0m\u001b[0m\n\u001b[1;32m---> 16\u001b[1;33m \u001b[1;32mfrom\u001b[0m \u001b[0mutils\u001b[0m\u001b[1;33m.\u001b[0m\u001b[0meval\u001b[0m \u001b[1;32mimport\u001b[0m \u001b[1;33m*\u001b[0m\u001b[1;33m\u001b[0m\u001b[1;33m\u001b[0m\u001b[0m\n\u001b[0m",
      "\u001b[1;32m~\\OneDrive\\Documents\\FinTech_Workspace\\project_2\\sabot\\utils\\eval.py\u001b[0m in \u001b[0;36m<module>\u001b[1;34m\u001b[0m\n\u001b[0;32m     21\u001b[0m \u001b[1;33m\u001b[0m\u001b[0m\n\u001b[0;32m     22\u001b[0m \u001b[1;32mfrom\u001b[0m \u001b[0mutils\u001b[0m\u001b[1;33m.\u001b[0m\u001b[0mutils\u001b[0m \u001b[1;32mimport\u001b[0m \u001b[0mepoch_to_datetime\u001b[0m\u001b[1;33m\u001b[0m\u001b[1;33m\u001b[0m\u001b[0m\n\u001b[1;32m---> 23\u001b[1;33m \u001b[1;32mfrom\u001b[0m \u001b[0mutils\u001b[0m\u001b[1;33m.\u001b[0m\u001b[0mtrade\u001b[0m \u001b[1;32mimport\u001b[0m \u001b[0madd_class_labels\u001b[0m\u001b[1;33m,\u001b[0m \u001b[0mbacktest_model\u001b[0m\u001b[1;33m\u001b[0m\u001b[1;33m\u001b[0m\u001b[0m\n\u001b[0m\u001b[0;32m     24\u001b[0m \u001b[1;32mfrom\u001b[0m \u001b[0mdatetime\u001b[0m \u001b[1;32mimport\u001b[0m \u001b[0mdatetime\u001b[0m\u001b[1;33m\u001b[0m\u001b[1;33m\u001b[0m\u001b[0m\n\u001b[0;32m     25\u001b[0m \u001b[1;33m\u001b[0m\u001b[0m\n",
      "\u001b[1;31mModuleNotFoundError\u001b[0m: No module named 'utils.trade'"
     ]
    }
   ],
   "source": [
    "# import dependencies\n",
    "import pandas as pd\n",
    "import numpy as np\n",
    "import os\n",
    "import requests\n",
    "import json\n",
    "import schedule\n",
    "import time\n",
    "import math\n",
    "import datetime\n",
    "from dotenv import load_dotenv\n",
    "\n",
    "\n",
    "# import functions from other notebooks\n",
    "from utils.utils import *\n",
    "from utils.eval import *"
   ]
  },
  {
   "cell_type": "code",
   "execution_count": 6,
   "id": "d7b3a95f-a856-4eda-bb35-0dc700c8759f",
   "metadata": {},
   "outputs": [],
   "source": [
    "load_dotenv()\n",
    "kucoin_apikey=os.getenv('KUCOIN_API_KEY')"
   ]
  },
  {
   "cell_type": "code",
   "execution_count": 1,
   "id": "56c5fc00-d58f-4974-8d59-8cca00f4339a",
   "metadata": {},
   "outputs": [
    {
     "ename": "NameError",
     "evalue": "name 'requests' is not defined",
     "output_type": "error",
     "traceback": [
      "\u001b[1;31m---------------------------------------------------------------------------\u001b[0m",
      "\u001b[1;31mNameError\u001b[0m                                 Traceback (most recent call last)",
      "\u001b[1;32m~\\AppData\\Local\\Temp\\ipykernel_22280\\1960924760.py\u001b[0m in \u001b[0;36m<module>\u001b[1;34m\u001b[0m\n\u001b[0;32m      1\u001b[0m \u001b[0murl\u001b[0m \u001b[1;33m=\u001b[0m \u001b[1;34m\"https://api.kucoin.com/api/v1/market/orderbook/level1?symbol=SUSD-USDT\"\u001b[0m\u001b[1;33m\u001b[0m\u001b[1;33m\u001b[0m\u001b[0m\n\u001b[1;32m----> 2\u001b[1;33m \u001b[0mresponse\u001b[0m \u001b[1;33m=\u001b[0m \u001b[0mrequests\u001b[0m\u001b[1;33m.\u001b[0m\u001b[0mget\u001b[0m\u001b[1;33m(\u001b[0m\u001b[0murl\u001b[0m\u001b[1;33m)\u001b[0m\u001b[1;33m.\u001b[0m\u001b[0mjson\u001b[0m\u001b[1;33m(\u001b[0m\u001b[1;33m)\u001b[0m\u001b[1;33m\u001b[0m\u001b[1;33m\u001b[0m\u001b[0m\n\u001b[0m\u001b[0;32m      3\u001b[0m \u001b[0mresponse\u001b[0m\u001b[1;33m[\u001b[0m\u001b[1;34m\"data\"\u001b[0m\u001b[1;33m]\u001b[0m\u001b[1;33m[\u001b[0m\u001b[1;34m\"price\"\u001b[0m\u001b[1;33m]\u001b[0m\u001b[1;33m\u001b[0m\u001b[1;33m\u001b[0m\u001b[0m\n",
      "\u001b[1;31mNameError\u001b[0m: name 'requests' is not defined"
     ]
    }
   ],
   "source": [
    "url = \"https://api.kucoin.com/api/v1/market/orderbook/level1?symbol=SUSD-USDT\"\n",
    "response = requests.get(url).json()\n",
    "response[\"data\"][\"price\"]"
   ]
  },
  {
   "cell_type": "code",
   "execution_count": 8,
   "id": "ac41b134-428a-426c-9ac0-a5374b63bbac",
   "metadata": {
    "tags": []
   },
   "outputs": [
    {
     "ename": "SyntaxError",
     "evalue": "invalid character in identifier (3500904028.py, line 8)",
     "output_type": "error",
     "traceback": [
      "\u001b[1;36m  File \u001b[1;32m\"C:\\Users\\quint\\AppData\\Local\\Temp\\ipykernel_34140\\3500904028.py\"\u001b[1;36m, line \u001b[1;32m8\u001b[0m\n\u001b[1;33m    start_date = datetime.datetime.today() – datetime.timedelta(days=2)\u001b[0m\n\u001b[1;37m                                           ^\u001b[0m\n\u001b[1;31mSyntaxError\u001b[0m\u001b[1;31m:\u001b[0m invalid character in identifier\n"
     ]
    }
   ],
   "source": [
    "def initialize_kucoin_prices(sma_window, coin_list, kucoin_apikey, base_currency='USD')\n",
    "    '''\n",
    "    Uses Kucoin's API to create a large dictionary of ohlcv recent prices of a list of crypto coins\n",
    "    \n",
    "     Parameters:\n",
    "    \n",
    "    sma_window (int) : window of time in hours for pricing to be found\n",
    "    coin_list (list) : a list containing strings of coins to find pricing data (ex: ['BTC','ETH','USDT'])\n",
    "    api_key (string) : API key from Kucoin.com\n",
    "    base_currency (string) : (='USD' default) Base currency for pricing data.    \n",
    "   \n",
    "    Returns:\n",
    "    \n",
    "    ohlcv_prices (dict) : A dictionary containing all ohlcv pricing data for all currencies.\n",
    "    '''\n",
    "    # Initialize date request\n",
    "    current_date = datetime.now()\n",
    "    end_date = current_date - timedelta(hours=sma_window)\n",
    "    end_date = end_date.strftime('%d/%m/%Y %H:%M:%S')\n",
    "    \n",
    "    # Initialize Dictionary\n",
    "    ohlcv_prices = {}\n",
    "    \n",
    "    for coin in coin_list:\n",
    "        historical_prices = get_recent_prices(coin,\n",
    "                                              base_currency,\n",
    "                                              end_date,\n",
    "                                              kucoin_apikey)\n",
    "        ohlcv_prices.update(historical_prices)\n",
    "    return ohlcv_prices\n",
    "\n",
    "\n",
    "def get_kucoin_ohlcv(currency, sma_window, df=None):          \n",
    "    global kucoin_apikey\n",
    "    \n",
    "    #Initialize timestamps\n",
    "    step_size = 500*3600\n",
    "    end_ts = int(datetime.now().timestamp())\n",
    "    start_ts = int(datetime.strptime('2021-01-01 00:00:00', '%Y-%m-%d %H:%M:%S').timestamp())\n",
    "    \n",
    "    if df is None:\n",
    "        df = pd.DataFrame()\n",
    "    sma_window = sma_window-2\n",
    "    \n",
    "    rows = df.shape[0]\n",
    "    if rows > 1:\n",
    "        updated_entries = sma_window - rows +2\n",
    "        df_append = initialize_prices(updated_entries,\n",
    "                       [currency],\n",
    "                       kucoin_apikey)[currency]\n",
    "        if(df_append.iloc[-1,0] == df.iloc[-1,0]):\n",
    "            print(\"dataframe is up-to-date\")\n",
    "        else:\n",
    "            df = df.iloc[1: , :]\n",
    "            print(\"popping oldest record\")\n",
    "\n",
    "\n",
    "            df = df.append(df_append.iloc[-1,:],\n",
    "                          ignore_index=True)\n",
    "            print(f\"getting {updated_entries+1} {currency} records\")\n",
    "    else:\n",
    "        df = initialize_kucoin_prices(sma_window,\n",
    "                           [currency],\n",
    "                           kucoin_apikey)[currency]\n",
    "        print(f\"getting {sma_window+2} {currency} records\")\n",
    "    \n",
    "    \n",
    "    return df\n",
    "    \n",
    "    \n",
    "    \n",
    "\"\"\"\n",
    "set job to run on the 1st second of the 1st minute of every hour\n",
    "\"\"\"\n",
    "schedule.every().hour.at('00:01').do(get_kucoin_ohlcv)\n",
    "\n",
    "\n",
    "while True:\n",
    "    schedule.run_pending()\n",
    "    time.sleep(1)"
   ]
  },
  {
   "cell_type": "code",
   "execution_count": null,
   "id": "c4b00caa-0591-44cf-b7d4-af368678c661",
   "metadata": {},
   "outputs": [],
   "source": []
  }
 ],
 "metadata": {
  "kernelspec": {
   "display_name": "Python 3 (ipykernel)",
   "language": "python",
   "name": "python3"
  },
  "language_info": {
   "codemirror_mode": {
    "name": "ipython",
    "version": 3
   },
   "file_extension": ".py",
   "mimetype": "text/x-python",
   "name": "python",
   "nbconvert_exporter": "python",
   "pygments_lexer": "ipython3",
   "version": "3.7.11"
  }
 },
 "nbformat": 4,
 "nbformat_minor": 5
}
