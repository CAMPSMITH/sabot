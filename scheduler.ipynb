{
 "cells": [
  {
   "cell_type": "markdown",
   "id": "68e72842-eb2e-4a88-a3f5-5c0f9e66b8ae",
   "metadata": {},
   "source": [
    "## Crontab Scheduler\n",
    "\n",
    "- Goals:\n",
    "    * pull hourly price data in ohlcv format\n",
    "    * successfully convert epoch time to human readable time\n",
    "    * \n",
    "- Tech:\n",
    "    * attempting to use crontab python library to create scheduler"
   ]
  },
  {
   "cell_type": "code",
   "execution_count": 1,
   "id": "bc1e004b-1315-4fe9-a209-1435e6bbddb2",
   "metadata": {},
   "outputs": [],
   "source": [
    "from crontab import CronTab"
   ]
  },
  {
   "cell_type": "code",
   "execution_count": 2,
   "id": "ac41b134-428a-426c-9ac0-a5374b63bbac",
   "metadata": {},
   "outputs": [],
   "source": [
    "def pull_price_data(cron, job, file_path):\n",
    "    \"\"\"\n",
    "    initiating new job\n",
    "    \"\"\"\n",
    "        cron = CronTab()\n",
    "        job = cron.new(command='pull hourly data')\n",
    "        job.hour.every(1)\n",
    "        \n",
    "        df = pd.read_csv(\n",
    "        file_path,\n",
    "        infer_datetime_format=True,\n",
    "        parse_dates=True,\n",
    "    )"
   ]
  },
  {
   "cell_type": "code",
   "execution_count": null,
   "id": "c4b00caa-0591-44cf-b7d4-af368678c661",
   "metadata": {},
   "outputs": [],
   "source": []
  }
 ],
 "metadata": {
  "kernelspec": {
   "display_name": "Python 3 (ipykernel)",
   "language": "python",
   "name": "python3"
  },
  "language_info": {
   "codemirror_mode": {
    "name": "ipython",
    "version": 3
   },
   "file_extension": ".py",
   "mimetype": "text/x-python",
   "name": "python",
   "nbconvert_exporter": "python",
   "pygments_lexer": "ipython3",
   "version": "3.7.11"
  }
 },
 "nbformat": 4,
 "nbformat_minor": 5
}
