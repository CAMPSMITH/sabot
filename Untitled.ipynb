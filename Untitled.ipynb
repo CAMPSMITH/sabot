{
 "cells": [
  {
   "cell_type": "code",
   "execution_count": null,
   "id": "28dd7bf5-6720-4792-991d-72b0146a69e2",
   "metadata": {},
   "outputs": [],
   "source": [
    "change to USDT\n",
    "figure out price of gas\n",
    "upload sell to AWS\n",
    "\n"
   ]
  },
  {
   "cell_type": "code",
   "execution_count": 1,
   "id": "ed8192c3-27b2-4f04-8049-ece914310e76",
   "metadata": {},
   "outputs": [
    {
     "ename": "ModuleNotFoundError",
     "evalue": "No module named 'boto3'",
     "output_type": "error",
     "traceback": [
      "\u001b[0;31m---------------------------------------------------------------------------\u001b[0m",
      "\u001b[0;31mModuleNotFoundError\u001b[0m                       Traceback (most recent call last)",
      "\u001b[0;32m/var/folders/91/bcl7bj6n2fqf9j03fdhyl02c0000gn/T/ipykernel_84816/5649965.py\u001b[0m in \u001b[0;36m<module>\u001b[0;34m\u001b[0m\n\u001b[0;32m----> 1\u001b[0;31m \u001b[0;32mimport\u001b[0m \u001b[0mboto3\u001b[0m\u001b[0;34m\u001b[0m\u001b[0;34m\u001b[0m\u001b[0m\n\u001b[0m\u001b[1;32m      2\u001b[0m \u001b[0;32mimport\u001b[0m \u001b[0mcsv\u001b[0m\u001b[0;34m\u001b[0m\u001b[0;34m\u001b[0m\u001b[0m\n\u001b[1;32m      3\u001b[0m \u001b[0;32mimport\u001b[0m \u001b[0mjson\u001b[0m\u001b[0;34m\u001b[0m\u001b[0;34m\u001b[0m\u001b[0m\n\u001b[1;32m      4\u001b[0m \u001b[0;32mimport\u001b[0m \u001b[0mrequests\u001b[0m\u001b[0;34m\u001b[0m\u001b[0;34m\u001b[0m\u001b[0m\n\u001b[1;32m      5\u001b[0m \u001b[0;32mimport\u001b[0m \u001b[0mtime\u001b[0m\u001b[0;34m\u001b[0m\u001b[0;34m\u001b[0m\u001b[0m\n",
      "\u001b[0;31mModuleNotFoundError\u001b[0m: No module named 'boto3'"
     ]
    }
   ],
   "source": [
    "import boto3\n",
    "import csv\n",
    "import json\n",
    "import requests\n",
    "import time\n",
    "\n",
    "# import pandas as pd\n",
    "# from web3 import Web3\n",
    "# from uniswap import Uniswap\n",
    "\n",
    "# USDC= 6 decimals\n",
    "# sUSD = 18 decimals\n",
    "\n",
    "# Variables\n",
    "bucket = \"0xcsvbucket\"\n",
    "file_name = '0xcsv.csv'\n",
    "\n",
    "# call s3 bucket\n",
    "s3 = boto3.resource('s3')\n",
    "bucket = s3.Bucket(bucket)\n",
    "\n",
    "#def swap_txn_details(source_currency, source_amount_, target_currency):\n",
    "    #print('tbd')\n",
    "    # return target_amount, txn_costs\n",
    "\n",
    "# lambda function\n",
    "def lambda_handler(event,context):\n",
    "\n",
    "    # Get trading data\n",
    "    buySUSDwithUSDC = requests.get('https://api.0x.org/swap/v1/quote?buyToken=SUSD&sellToken=USDT&sellAmount=1000000000')\n",
    "    buySUSDwithUSDC = buySUSDwithUSDC.json()\n",
    "    print(buySUSDwithUSDC)\n",
    "    \n",
    "    # print(buySUSDwithUSDC)\n",
    "    # download s3 csv file to lambda tmp folder\n",
    "    local_file_name = '/tmp/test.csv'\n",
    "    bucket.download_file(file_name,local_file_name)\n",
    "\n",
    "    \n",
    "    # list you want to append\n",
    "    new_row = []\n",
    "\n",
    "    new_row.append(int(time.time())) #epochtime\n",
    "    new_row.append(float(buySUSDwithUSDC['sellAmount'])/100000) # amountofUSDCtoken\n",
    "    new_row.append(buySUSDwithUSDC['price']) #oneUSDC\n",
    "    new_row.append(buySUSDwithUSDC['guaranteedPrice']) #guaranteedPrice\n",
    "    new_row.append(buySUSDwithUSDC['protocolFee']) #protocolFee\n",
    "    new_row.append(buySUSDwithUSDC['gas']) # gas\n",
    "    new_row.append(buySUSDwithUSDC['gasPrice']) #gasprice\n",
    "    new_row.append(buySUSDwithUSDC['buyTokenToEthRate']) #buytokentoETHrate\n",
    "\n",
    "    print(f'Amount of USDC Tokens =', float(buySUSDwithUSDC['sellAmount'])/100000)\n",
    "    print(f'One USDC =',buySUSDwithUSDC['price'],'sUSD')\n",
    "    print(f'Guaranteed Price =', buySUSDwithUSDC['guaranteedPrice'],'sUSD')\n",
    "    print(f'Protocol Fee:', buySUSDwithUSDC['protocolFee'])\n",
    "    print(f'Gas:', buySUSDwithUSDC['gas'])\n",
    "    print(f'Gas Price:', buySUSDwithUSDC['gasPrice'])\n",
    "    print(f'Buy-Token to ETH Rate:', buySUSDwithUSDC['buyTokenToEthRate'])\n",
    "\n",
    "    \n",
    "\n",
    "\n",
    "    # write the data into '/tmp' folder\n",
    "    with open('/tmp/test.csv','r') as infile:\n",
    "        list_of_csv_rows = list(csv.reader(infile))     \n",
    "        list_of_csv_rows.append(new_row)\n",
    "\n",
    "    with open('/tmp/test.csv', 'w', newline='') as outfile:\n",
    "        writer = csv.writer(outfile)\n",
    "        for line in list_of_csv_rows:\n",
    "            writer.writerow(line)\n",
    "\n",
    "    # upload file from tmp to s3 \n",
    "    bucket.upload_file('/tmp/test.csv', file_name)\n",
    "\n",
    "    return \n",
    "\n",
    "\n",
    "'''\n",
    "rm my-deployment-package.zip\n",
    "cd package\n",
    "zip -r ../my-deployment-package.zip .\n",
    "cd ..\n",
    "zip -g my-deployment-package.zip lambda_function.py\n",
    "\n",
    "aws lambda update-function-code \\\n",
    "--function-name 0xfindbesttrade \\\n",
    "--zip-file fileb://my-deployment-package.zip\n",
    "'''"
   ]
  },
  {
   "cell_type": "code",
   "execution_count": 6,
   "id": "93d9a314-d3bc-454c-b4fd-1825b1374850",
   "metadata": {},
   "outputs": [
    {
     "name": "stdout",
     "output_type": "stream",
     "text": [
      "{'chainId': 1, 'price': '0.993152198344588366', 'guaranteedPrice': '0.983220676361142482', 'estimatedPriceImpact': '0.0422', 'to': '0xdef1c0ded9bec7f1a1670819833240f027b25eff', 'data': '0x415565b0000000000000000000000000dac17f958d2ee523a2206206994597c13d831ec700000000000000000000000057ab1ec28d129707052df4df418d58a2d46d5f5100000000000000000000000000000000000000000000000000000004a817c80000000000000000000000000000000000000000000000042a028eec7b28283b9600000000000000000000000000000000000000000000000000000000000000a00000000000000000000000000000000000000000000000000000000000000003000000000000000000000000000000000000000000000000000000000000006000000000000000000000000000000000000000000000000000000000000004e0000000000000000000000000000000000000000000000000000000000000082000000000000000000000000000000000000000000000000000000000000000180000000000000000000000000000000000000000000000000000000000000040000000000000000000000000000000000000000000000000000000000000042000000000000000000000000000000000000000000000000000000000000000200000000000000000000000000000000000000000000000000000000000000000000000000000000000000000dac17f958d2ee523a2206206994597c13d831ec7000000000000000000000000a0b86991c6218b36c1d19d4a2e9eb0ce3606eb48000000000000000000000000000000000000000000000000000000000000012000000000000000000000000000000000000000000000000000000000000003e000000000000000000000000000000000000000000000000000000000000003e000000000000000000000000000000000000000000000000000000000000003c000000000000000000000000000000000000000000000000000000004a817c8000000000000000000000000000000000000000000000000000000000000000000000000000000000000000000000000000000000000000000000000000000000100000000000000000000000000000000000000000000000000000000000000200000000000000000000000000000001942616c616e636572563200000000000000000000000000000000000000000000000000000000000000000004a817c8000000000000000000000000000000000000000000000000000000000000000000000000000000000000000000000000000000000000000000000000000000008000000000000000000000000000000000000000000000000000000000000001c0000000000000000000000000ba12222222228d8ba445958a75a0704d566bf2c8000000000000000000000000000000000000000000000000000000000000006000000000000000000000000000000000000000000000000000000000000001600000000000000000000000000000000000000000000000000000000000000001000000000000000000000000000000000000000000000000000000000000002006df3b2bbb68adc8b0e302443692037ed9f91b4200000000000000000000006300000000000000000000000000000000000000000000000000000000000000000000000000000000000000000000000000000000000000000000000000000001000000000000000000000000000000000000000000000000000000000000000000000000000000000000000000000000000000000000000000000000000000a000000000000000000000000000000000000000000000000000000000000000000000000000000000000000000000000000000000000000000000000000000002000000000000000000000000dac17f958d2ee523a2206206994597c13d831ec7000000000000000000000000a0b86991c6218b36c1d19d4a2e9eb0ce3606eb48000000000000000000000000000000000000000000000000000000000000000100000000000000000000000000000000000000000000000000000000000000000000000000000000000000000000000000000000000000000000000000000018000000000000000000000000000000000000000000000000000000000000004000000000000000000000000000000000000000000000000000000000000002e000000000000000000000000000000000000000000000000000000000000000200000000000000000000000000000000000000000000000000000000000000000000000000000000000000000a0b86991c6218b36c1d19d4a2e9eb0ce3606eb4800000000000000000000000057ab1ec28d129707052df4df418d58a2d46d5f51000000000000000000000000000000000000000000000000000000000000012000000000000000000000000000000000000000000000000000000000000002a000000000000000000000000000000000000000000000000000000000000002a00000000000000000000000000000000000000000000000000000000000000280ffffffffffffffffffffffffffffffffffffffffffffffffffffffffffffffff0000000000000000000000000000000000000000000000000000000000000000000000000000000000000000000000000000000000000000000000000000000100000000000000000000000000000000000000000000000000000000000000200000000000000000000000000000000143757276650000000000000000000000ffffffffffffffffffffffffffffffffffffffffffffffffffffffffffffffff00000000000000000000000000000000000000000000042a028eec7b28283b9600000000000000000000000000000000000000000000000000000000000000800000000000000000000000000000000000000000000000000000000000000080000000000000000000000000a5407eae9ba41422680e2e00537571bcc53efbfda6417ed60000000000000000000000000000000000000000000000000000000000000000000000000000000000000000000000000000000000000000000000010000000000000000000000000000000000000000000000000000000000000003000000000000000000000000000000000000000000000000000000000000000100000000000000000000000000000000000000000000000000000000000000000000000000000000000000000000000000000000000000000000000000000007000000000000000000000000000000000000000000000000000000000000004000000000000000000000000000000000000000000000000000000000000001000000000000000000000000000000000000000000000000000000000000000020000000000000000000000000000000000000000000000000000000000000004000000000000000000000000000000000000000000000000000000000000000c00000000000000000000000000000000000000000000000000000000000000003000000000000000000000000dac17f958d2ee523a2206206994597c13d831ec7000000000000000000000000a0b86991c6218b36c1d19d4a2e9eb0ce3606eb48000000000000000000000000eeeeeeeeeeeeeeeeeeeeeeeeeeeeeeeeeeeeeeee0000000000000000000000000000000000000000000000000000000000000000869584cd00000000000000000000000010000000000000000000000000000000000000110000000000000000000000000000000000000000000000dc8538815b62ca58cb', 'value': '0', 'gas': '478000', 'estimatedGas': '478000', 'gasPrice': '16000000000', 'protocolFee': '0', 'minimumProtocolFee': '0', 'buyTokenAddress': '0x57ab1ec28d129707052df4df418d58a2d46d5f51', 'sellTokenAddress': '0xdac17f958d2ee523a2206206994597c13d831ec7', 'buyAmount': '19863043966891767322786', 'sellAmount': '20000000000', 'sources': [{'name': '0x', 'proportion': '0'}, {'name': 'Uniswap', 'proportion': '0'}, {'name': 'Uniswap_V2', 'proportion': '0'}, {'name': 'Curve', 'proportion': '0'}, {'name': 'Balancer', 'proportion': '0'}, {'name': 'Balancer_V2', 'proportion': '0'}, {'name': 'Bancor', 'proportion': '0'}, {'name': 'BancorV3', 'proportion': '0'}, {'name': 'mStable', 'proportion': '0'}, {'name': 'Mooniswap', 'proportion': '0'}, {'name': 'SushiSwap', 'proportion': '0'}, {'name': 'Shell', 'proportion': '0'}, {'proportion': '1', 'intermediateToken': '0xa0b86991c6218b36c1d19d4a2e9eb0ce3606eb48', 'hops': ['Balancer_V2', 'Curve'], 'name': 'MultiHop'}, {'name': 'DODO', 'proportion': '0'}, {'name': 'DODO_V2', 'proportion': '0'}, {'name': 'CREAM', 'proportion': '0'}, {'name': 'LiquidityProvider', 'proportion': '0'}, {'name': 'CryptoCom', 'proportion': '0'}, {'name': 'Lido', 'proportion': '0'}, {'name': 'MakerPsm', 'proportion': '0'}, {'name': 'KyberDMM', 'proportion': '0'}, {'name': 'Component', 'proportion': '0'}, {'name': 'Saddle', 'proportion': '0'}, {'name': 'xSigma', 'proportion': '0'}, {'name': 'Uniswap_V3', 'proportion': '0'}, {'name': 'Curve_V2', 'proportion': '0'}, {'name': 'ShibaSwap', 'proportion': '0'}, {'name': 'Synapse', 'proportion': '0'}], 'orders': [{'type': 0, 'source': 'Balancer_V2', 'makerToken': '0xa0b86991c6218b36c1d19d4a2e9eb0ce3606eb48', 'takerToken': '0xdac17f958d2ee523a2206206994597c13d831ec7', 'makerAmount': '0', 'takerAmount': '20000000000', 'fillData': {'vault': '0xba12222222228d8ba445958a75a0704d566bf2c8', 'swapSteps': [{'poolId': '0x06df3b2bbb68adc8b0e302443692037ed9f91b42000000000000000000000063', 'assetInIndex': 0, 'assetOutIndex': 1, 'amount': '0', 'userData': '0x'}], 'assets': ['0xdac17f958d2ee523a2206206994597c13d831ec7', '0xa0b86991c6218b36c1d19d4a2e9eb0ce3606eb48']}, 'fill': {'input': '20000000000', 'output': '0', 'adjustedOutput': '0', 'gas': 1}, 'sourcePathId': ''}, {'type': 0, 'source': 'Curve', 'makerToken': '0x57ab1ec28d129707052df4df418d58a2d46d5f51', 'takerToken': '0xa0b86991c6218b36c1d19d4a2e9eb0ce3606eb48', 'makerAmount': '19863043966891767322786', 'takerAmount': '115792089237316195423570985008687907853269984665640564039457584007913129639935', 'fillData': {'pool': {'exchangeFunctionSelector': '0xa6417ed6', 'sellQuoteFunctionSelector': '0x07211ef7', 'buyQuoteFunctionSelector': '0x00000000', 'tokens': ['0x6b175474e89094c44da98b954eedeac495271d0f', '0xa0b86991c6218b36c1d19d4a2e9eb0ce3606eb48', '0xdac17f958d2ee523a2206206994597c13d831ec7', '0x57ab1ec28d129707052df4df418d58a2d46d5f51'], 'poolAddress': '0xa5407eae9ba41422680e2e00537571bcc53efbfd', 'gasSchedule': 302000, 'makerTokenIdx': 3, 'takerTokenIdx': 1}, 'fromTokenIdx': 1, 'toTokenIdx': 3}, 'fill': {'input': '115792089237316195423570985008687907853269984665640564039457584007913129639935', 'output': '19863043966891767322786', 'adjustedOutput': '19863043966891767322786', 'gas': 1}, 'sourcePathId': ''}], 'allowanceTarget': '0xdef1c0ded9bec7f1a1670819833240f027b25eff', 'decodedUniqueId': 'dc8538815b-1657428171', 'sellTokenToEthRate': '1189.99023', 'buyTokenToEthRate': '1182.3401215511640634'}\n",
      "Amount of USDC Tokens = 200000.0\n",
      "One USDC = 0.993152198344588366 sUSD\n",
      "Guaranteed Price = 0.983220676361142482 sUSD\n",
      "Protocol Fee: 0\n",
      "Gas: 478000\n",
      "Gas Price: 16000000000\n",
      "Buy-Token to ETH Rate: 1182.3401215511640634\n"
     ]
    }
   ],
   "source": [
    "import csv\n",
    "import json\n",
    "import requests\n",
    "import time\n",
    "    \n",
    "    # Get trading data\n",
    "buySUSDwithUSDC = requests.get('https://api.0x.org/swap/v1/quote?buyToken=SUSD&sellToken=USDT&sellAmount=20000000000')\n",
    "buySUSDwithUSDC = buySUSDwithUSDC.json()\n",
    "print(buySUSDwithUSDC)\n",
    "\n",
    "\n",
    "print(f'Amount of USDC Tokens =', float(buySUSDwithUSDC['sellAmount'])/100000)\n",
    "print(f'One USDC =',buySUSDwithUSDC['price'],'sUSD')\n",
    "print(f'Guaranteed Price =', buySUSDwithUSDC['guaranteedPrice'],'sUSD')\n",
    "print(f'Protocol Fee:', buySUSDwithUSDC['protocolFee'])\n",
    "print(f'Gas:', buySUSDwithUSDC['gas'])\n",
    "print(f'Gas Price:', buySUSDwithUSDC['gasPrice'])\n",
    "print(f'Buy-Token to ETH Rate:', buySUSDwithUSDC['buyTokenToEthRate'])\n"
   ]
  },
  {
   "cell_type": "code",
   "execution_count": 7,
   "id": "b8e58b68-22f5-4969-a73c-a2814a7a6977",
   "metadata": {},
   "outputs": [
    {
     "name": "stdout",
     "output_type": "stream",
     "text": [
      "7648000000000000\n"
     ]
    }
   ],
   "source": [
    "gas_calc = 16000000000*478000\n",
    "\n",
    "\n",
    "print(gas_calc)"
   ]
  },
  {
   "cell_type": "code",
   "execution_count": 10,
   "id": "0f53bf46-b64f-4708-8d9c-1476673bfc47",
   "metadata": {},
   "outputs": [
    {
     "name": "stdout",
     "output_type": "stream",
     "text": [
      "1.5459468116516264e-13\n"
     ]
    }
   ],
   "source": [
    "gas_cost_in_dollars = 1182.3401215511640634/7648000000000000\n",
    "print(gas_cost_in_dollars)"
   ]
  },
  {
   "cell_type": "code",
   "execution_count": 28,
   "id": "c57482f7-0e74-475c-ac5a-f0b89144bd96",
   "metadata": {},
   "outputs": [
    {
     "name": "stdout",
     "output_type": "stream",
     "text": [
      "$ 1.5459468116516264e-13\n"
     ]
    }
   ],
   "source": [
    "total_gas_cost = float(buySUSDwithUSDC['gasPrice'])*float(buySUSDwithUSDC['gas'])\n",
    "gas_cost_in_SUSD =float(buySUSDwithUSDC['buyTokenToEthRate'])/(float(total_gas_cost))\n",
    "print(f'$',gas_cost_in_SUSD)"
   ]
  },
  {
   "cell_type": "code",
   "execution_count": 30,
   "id": "41814e9b-e372-4b92-8428-5a5a925238c7",
   "metadata": {},
   "outputs": [
    {
     "ename": "ModuleNotFoundError",
     "evalue": "No module named 'boto3'",
     "output_type": "error",
     "traceback": [
      "\u001b[0;31m---------------------------------------------------------------------------\u001b[0m",
      "\u001b[0;31mModuleNotFoundError\u001b[0m                       Traceback (most recent call last)",
      "\u001b[0;32m/var/folders/91/bcl7bj6n2fqf9j03fdhyl02c0000gn/T/ipykernel_84816/846082278.py\u001b[0m in \u001b[0;36m<module>\u001b[0;34m\u001b[0m\n\u001b[0;32m----> 1\u001b[0;31m \u001b[0;32mimport\u001b[0m \u001b[0mboto3\u001b[0m\u001b[0;34m\u001b[0m\u001b[0;34m\u001b[0m\u001b[0m\n\u001b[0m\u001b[1;32m      2\u001b[0m \u001b[0;32mimport\u001b[0m \u001b[0mcsv\u001b[0m\u001b[0;34m\u001b[0m\u001b[0;34m\u001b[0m\u001b[0m\n\u001b[1;32m      3\u001b[0m \u001b[0;32mimport\u001b[0m \u001b[0mjson\u001b[0m\u001b[0;34m\u001b[0m\u001b[0;34m\u001b[0m\u001b[0m\n\u001b[1;32m      4\u001b[0m \u001b[0;32mimport\u001b[0m \u001b[0mrequests\u001b[0m\u001b[0;34m\u001b[0m\u001b[0;34m\u001b[0m\u001b[0m\n\u001b[1;32m      5\u001b[0m \u001b[0;32mimport\u001b[0m \u001b[0mtime\u001b[0m\u001b[0;34m\u001b[0m\u001b[0;34m\u001b[0m\u001b[0m\n",
      "\u001b[0;31mModuleNotFoundError\u001b[0m: No module named 'boto3'"
     ]
    }
   ],
   "source": [
    "import boto3\n",
    "import csv\n",
    "import json\n",
    "import requests\n",
    "import time\n",
    "\n",
    "# import pandas as pd\n",
    "# from web3 import Web3\n",
    "# from uniswap import Uniswap\n",
    "\n",
    "# USDC= 6 decimals\n",
    "# USDT= 6 decimals\n",
    "# sUSD = 18 decimals\n",
    "\n",
    "# Variables\n",
    "bucket = \"sellbucket11245\"\n",
    "file_name = 'sellbucketcsv.csv'\n",
    "\n",
    "# call s3 bucket\n",
    "s3 = boto3.resource('s3')\n",
    "bucket = s3.Bucket(bucket)\n",
    "\n",
    "# lambda function\n",
    "def lambda_handler(event,context):\n",
    "\n",
    "    # Get trading data\n",
    "    buyUSDTwithSUSD = requests.get('https://api.0x.org/swap/v1/quote?buyToken=USDCT&sellToken=SUSD&sellAmount=2000000000')\n",
    "    buyUSDTwithSUSD = buyUSDTwithSUSD.json()\n",
    "\n",
    "    # print(buySUSDwithUSDC)\n",
    "    # download s3 csv file to lambda tmp folder\n",
    "    local_file_name = '/tmp/test.csv'\n",
    "    bucket.download_file(file_name,local_file_name)\n",
    "\n",
    "    total_gas_cost = float(buyUSDTwithSUSD['gasPrice'])*float(buyUSDTwithSUSD['gas'])\n",
    "    gas_cost_in_USDT =float(buyUSDTwithSUSD['buyTokenToEthRate'])/(float(total_gas_cost))\n",
    "\n",
    "    # list you want to append\n",
    "    new_row = []\n",
    "\n",
    "    new_row.append(int(time.time())) #epochtime\n",
    "    new_row.append(float(buyUSDTwithSUSD['sellAmount'])/100000) # amountofUSDCtoken\n",
    "    new_row.append(buyUSDTwithSUSD['price']) #oneUSDC\n",
    "    new_row.append(buyUSDTwithSUSD['guaranteedPrice']) #guaranteedPrice\n",
    "    new_row.append(buyUSDTwithSUSD['protocolFee']) #protocolFee\n",
    "    new_row.append(buyUSDTwithSUSD['gas']) # gas\n",
    "    new_row.append(buyUSDTwithSUSD['gasPrice']) #gasprice\n",
    "    new_row.append(buyUSDTwithSUSD['buyTokenToEthRate']) #buytokentoETHrate\n",
    "    new_row.append(gas_cost_in_USDT)\n",
    "    \n",
    "\n",
    "    print(f'Amount of sUSD Tokens =', float(buyUSDTwithSUSD['sellAmount'])/100000)\n",
    "    print(f'One sUSD =',buyUSDTwithSUSD['price'],'USDT')\n",
    "    print(f'Guaranteed Price =', buyUSDTwithSUSD['guaranteedPrice'],'USDT')\n",
    "    print(f'Protocol Fee:', buyUSDTwithSUSD['protocolFee'])\n",
    "    print(f'Gas:', buyUSDTwithSUSD['gas'])\n",
    "    print(f'Gas Price:', buyUSDTwithSUSD['gasPrice'])\n",
    "    print(f'Buy-Token to ETH Rate:', buyUSDTwithSUSD['buyTokenToEthRate'])\n",
    "    print(f'Gas cost in SUSD $',gas_cost_in_USDT)\n",
    "    \n",
    "\n",
    "\n",
    "    # write the data into '/tmp' folder\n",
    "    with open('/tmp/test.csv','r') as infile:\n",
    "        list_of_csv_rows = list(csv.reader(infile))     \n",
    "        list_of_csv_rows.append(new_row)\n",
    "\n",
    "    with open('/tmp/test.csv', 'w', newline='') as outfile:\n",
    "        writer = csv.writer(outfile)\n",
    "        for line in list_of_csv_rows:\n",
    "            writer.writerow(line)\n",
    "\n",
    "    # upload file from tmp to s3 \n",
    "    bucket.upload_file('/tmp/test.csv', file_name)\n",
    "\n",
    "    return \n",
    "\n"
   ]
  },
  {
   "cell_type": "code",
   "execution_count": 37,
   "id": "7696daec-5f8f-4588-ae10-a24b8216f8b4",
   "metadata": {},
   "outputs": [
    {
     "name": "stdout",
     "output_type": "stream",
     "text": [
      "{'chainId': 1, 'price': '1.006364', 'guaranteedPrice': '0.9963', 'estimatedPriceImpact': '0', 'to': '0xdef1c0ded9bec7f1a1670819833240f027b25eff', 'data': '0xf7fcd38400000000000000000000000057ab1ec28d129707052df4df418d58a2d46d5f51000000000000000000000000dac17f958d2ee523a2206206994597c13d831ec7000000000000000000000000561b94454b65614ae3db0897b74303f4acf7cc75000000000000000000000000000000000000000000000000000000000000000000000000000000000000000000000000000000000000043c33c193756480000000000000000000000000000000000000000000000000000000000004a3aed11100000000000000000000000000000000000000000000000000000000000000e00000000000000000000000000000000000000000000000000000000000000080000000000000000000000000a5407eae9ba41422680e2e00537571bcc53efbfda6417ed60000000000000000000000000000000000000000000000000000000000000000000000000000000000000000000000000000000000000000000000030000000000000000000000000000000000000000000000000000000000000002869584cd000000000000000000000000100000000000000000000000000000000000001100000000000000000000000000000000000000000000008438c3663e62caf9fe', 'value': '0', 'gas': '363000', 'estimatedGas': '363000', 'gasPrice': '35000000000', 'protocolFee': '0', 'minimumProtocolFee': '0', 'buyTokenAddress': '0xdac17f958d2ee523a2206206994597c13d831ec7', 'sellTokenAddress': '0x57ab1ec28d129707052df4df418d58a2d46d5f51', 'buyAmount': '20127285028', 'sellAmount': '20000000000000000000000', 'sources': [{'name': '0x', 'proportion': '0'}, {'name': 'Uniswap', 'proportion': '0'}, {'name': 'Uniswap_V2', 'proportion': '0'}, {'name': 'Curve', 'proportion': '1'}, {'name': 'Balancer', 'proportion': '0'}, {'name': 'Balancer_V2', 'proportion': '0'}, {'name': 'Bancor', 'proportion': '0'}, {'name': 'BancorV3', 'proportion': '0'}, {'name': 'mStable', 'proportion': '0'}, {'name': 'Mooniswap', 'proportion': '0'}, {'name': 'SushiSwap', 'proportion': '0'}, {'name': 'Shell', 'proportion': '0'}, {'name': 'MultiHop', 'proportion': '0'}, {'name': 'DODO', 'proportion': '0'}, {'name': 'DODO_V2', 'proportion': '0'}, {'name': 'CREAM', 'proportion': '0'}, {'name': 'LiquidityProvider', 'proportion': '0'}, {'name': 'CryptoCom', 'proportion': '0'}, {'name': 'Lido', 'proportion': '0'}, {'name': 'MakerPsm', 'proportion': '0'}, {'name': 'KyberDMM', 'proportion': '0'}, {'name': 'Component', 'proportion': '0'}, {'name': 'Saddle', 'proportion': '0'}, {'name': 'xSigma', 'proportion': '0'}, {'name': 'Uniswap_V3', 'proportion': '0'}, {'name': 'Curve_V2', 'proportion': '0'}, {'name': 'ShibaSwap', 'proportion': '0'}, {'name': 'Synapse', 'proportion': '0'}], 'orders': [{'type': 0, 'source': 'Curve', 'makerToken': '0xdac17f958d2ee523a2206206994597c13d831ec7', 'takerToken': '0x57ab1ec28d129707052df4df418d58a2d46d5f51', 'makerAmount': '20127285028', 'takerAmount': '20000000000000000000000', 'fillData': {'pool': {'exchangeFunctionSelector': '0xa6417ed6', 'sellQuoteFunctionSelector': '0x07211ef7', 'buyQuoteFunctionSelector': '0x00000000', 'tokens': ['0x6b175474e89094c44da98b954eedeac495271d0f', '0xa0b86991c6218b36c1d19d4a2e9eb0ce3606eb48', '0xdac17f958d2ee523a2206206994597c13d831ec7', '0x57ab1ec28d129707052df4df418d58a2d46d5f51'], 'poolAddress': '0xa5407eae9ba41422680e2e00537571bcc53efbfd', 'gasSchedule': 302000, 'makerTokenIdx': 2, 'takerTokenIdx': 3}, 'fromTokenIdx': 3, 'toTokenIdx': 2}, 'fill': {'input': '20000000000000000000000', 'output': '20127285028', 'adjustedOutput': '20115006687', 'gas': 302000}, 'sourcePathId': '0x7e4e8b6b7dafd1b34a387a5d3e8314b2ed84e5a14ed276c800dc3944b6f0e4be'}], 'allowanceTarget': '0xdef1c0ded9bec7f1a1670819833240f027b25eff', 'decodedUniqueId': '8438c3663e-1657469438', 'sellTokenToEthRate': '1165.42489050105261593', 'buyTokenToEthRate': '1161.62169'}\n"
     ]
    }
   ],
   "source": [
    "buyUSDTwithSUSD = requests.get('https://api.0x.org/swap/v1/quote?buyToken=USDT&sellToken=SUSD&sellAmount=20000000000000000000000')\n",
    "buyUSDTwithSUSD = buyUSDTwithSUSD.json()\n",
    "print(buyUSDTwithSUSD)"
   ]
  },
  {
   "cell_type": "code",
   "execution_count": 42,
   "id": "76a9f630-f812-43d8-af48-3235d8767771",
   "metadata": {},
   "outputs": [
    {
     "name": "stdout",
     "output_type": "stream",
     "text": [
      "35000000000\n",
      "363000\n",
      "1.2705e+16\n"
     ]
    }
   ],
   "source": [
    "gas_price = buyUSDTwithSUSD['gasPrice']\n",
    "print(gas_price)\n",
    "\n",
    "gas_amount = buyUSDTwithSUSD['gas']\n",
    "print(gas_amount)\n",
    "\n",
    "wei_cost = float(gas_amount)*float(gas_price)\n",
    "print(wei_cost)"
   ]
  },
  {
   "cell_type": "code",
   "execution_count": 48,
   "id": "f83f6121-cccf-49df-b455-4b0e69aecb9c",
   "metadata": {},
   "outputs": [
    {
     "name": "stdout",
     "output_type": "stream",
     "text": [
      "1.1000000000000001e-15\n",
      "13.975500000000002\n"
     ]
    }
   ],
   "source": [
    "one_wei= 1/1000000000000000000\n",
    "eth_dollar_price = 1100\n",
    "one_wei_in_dollars = eth_dollar_price * one_wei\n",
    "print(one_wei_in_dollars)\n",
    "\n",
    "gas_cost_in_dollars = wei_cost * one_wei_in_dollars\n",
    "print(gas_cost_in_dollars)\n",
    "\n",
    "# wei_cost = eth_price * one_wei\n",
    "\n",
    "\n",
    "###\n",
    "# cost_in_eth = wei_cost / 1000000000000000000\n",
    "# print(cost_in_eth)\n",
    "# eth_price = 1100\n",
    "# gas_cost_in_dollars = cost_in_eth * eth_price\n",
    "# print(gas_cost_in_dollars)\n"
   ]
  },
  {
   "cell_type": "code",
   "execution_count": null,
   "id": "1eec8884-1523-4c8a-affe-809178480e2d",
   "metadata": {},
   "outputs": [],
   "source": []
  }
 ],
 "metadata": {
  "kernelspec": {
   "display_name": "Python 3 (ipykernel)",
   "language": "python",
   "name": "python3"
  },
  "language_info": {
   "codemirror_mode": {
    "name": "ipython",
    "version": 3
   },
   "file_extension": ".py",
   "mimetype": "text/x-python",
   "name": "python",
   "nbconvert_exporter": "python",
   "pygments_lexer": "ipython3",
   "version": "3.7.11"
  }
 },
 "nbformat": 4,
 "nbformat_minor": 5
}
