{
 "cells": [
  {
   "cell_type": "markdown",
   "id": "7c3dea0c-097a-48c0-8daf-548e9dbc80b9",
   "metadata": {},
   "source": [
    "Scheduler\n",
    "\n",
    "At initial program startup, program should fetch 48 hours of pricing data from two API's: CryptoCompare and KuCoin (CCTX).  \n",
    "For CryptoCompare, use get_cryptocompare_data.  @TODO need to drop volume_from column in function, and change volume_to to volume.\n",
    "\n",
    "For Kucoin, use get_kucoin_data.\n",
    "\n",
    "Dictionary should hold all buffers indexed by coin_name.{'BTC':[ohlcv - 48 hours]}\n",
    "\n",
    "ohlcv = either dataframe or dictionary of arrays\n",
    "\n",
    "if df, iloc can be used to slice and pop the oldest data.\n",
    "\n",
    "Get performed in their own functions.\n",
    "As parameters (\n",
    "\n",
    "Each of the 4 coin pricing data is stored in its own buffer.\n",
    "\n",
    "Then, after initial startup, the program gets current ohlcv data for each of the coins and updates the buffers.\n",
    "\n",
    "\n",
    "for creating dataframe function, pass dataframe in, (get size() for conditional), pass in slow sma period (used for determining buffer size and api calls).\n",
    "    check length of df,\n",
    "    * if smaller than sma period, get sma length of data\n",
    "    * else just update new prices and drop oldest\n",
    "\n",
    "\n",
    "return 4 buffers\n",
    "\n",
    "(line 229) in eval.py\n",
    "\n",
    "(line 231) for making df\n",
    "\n",
    "apply 234 - 238, dont need 240 (dictionary is 240).\n",
    "\n",
    "use 244 - to make one large dataframe (single row)\n",
    "\n",
    "apply 250 for pct change\n",
    "\n",
    "apply X_scalar to data (from pickle)\n",
    "\n",
    "apply 263 to get 1 prediction - just on last row\n",
    "(y_predict)\n",
    "\n",
    "if =1:\n",
    "    print buy\n",
    "if =0:\n",
    "    print hold\n",
    "if =-1:\n",
    "    print sell\n",
    "\n",
    "\n",
    "use for loop,\n",
    "\n",
    "\n",
    "for "
   ]
  }
 ],
 "metadata": {
  "kernelspec": {
   "display_name": "dev",
   "language": "python",
   "name": "dev"
  },
  "language_info": {
   "codemirror_mode": {
    "name": "ipython",
    "version": 3
   },
   "file_extension": ".py",
   "mimetype": "text/x-python",
   "name": "python",
   "nbconvert_exporter": "python",
   "pygments_lexer": "ipython3",
   "version": "3.7.11"
  }
 },
 "nbformat": 4,
 "nbformat_minor": 5
}
