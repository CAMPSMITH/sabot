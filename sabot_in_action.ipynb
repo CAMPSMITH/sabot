{
 "cells": [
  {
   "cell_type": "code",
   "execution_count": 20,
   "id": "e90174d7-aaa0-482e-b161-d089e661e6ef",
   "metadata": {},
   "outputs": [],
   "source": [
    "import pandas as pd\n",
    "from pathlib import Path"
   ]
  },
  {
   "cell_type": "code",
   "execution_count": 21,
   "id": "1d1c86e7-214f-44f1-964e-ec0207536499",
   "metadata": {},
   "outputs": [
    {
     "data": {
      "text/html": [
       "<div>\n",
       "<style scoped>\n",
       "    .dataframe tbody tr th:only-of-type {\n",
       "        vertical-align: middle;\n",
       "    }\n",
       "\n",
       "    .dataframe tbody tr th {\n",
       "        vertical-align: top;\n",
       "    }\n",
       "\n",
       "    .dataframe thead th {\n",
       "        text-align: right;\n",
       "    }\n",
       "</style>\n",
       "<table border=\"1\" class=\"dataframe\">\n",
       "  <thead>\n",
       "    <tr style=\"text-align: right;\">\n",
       "      <th></th>\n",
       "      <th>decision</th>\n",
       "      <th>portfolio value</th>\n",
       "      <th>gas</th>\n",
       "      <th>close</th>\n",
       "    </tr>\n",
       "    <tr>\n",
       "      <th>time</th>\n",
       "      <th></th>\n",
       "      <th></th>\n",
       "      <th></th>\n",
       "      <th></th>\n",
       "    </tr>\n",
       "  </thead>\n",
       "  <tbody>\n",
       "    <tr>\n",
       "      <th>2022-07-12 23:10:14</th>\n",
       "      <td>0</td>\n",
       "      <td>100000.000000</td>\n",
       "      <td>NaN</td>\n",
       "      <td>0.999</td>\n",
       "    </tr>\n",
       "    <tr>\n",
       "      <th>2022-07-12 23:10:16</th>\n",
       "      <td>0</td>\n",
       "      <td>100000.000000</td>\n",
       "      <td>NaN</td>\n",
       "      <td>0.999</td>\n",
       "    </tr>\n",
       "    <tr>\n",
       "      <th>2022-07-12 23:10:18</th>\n",
       "      <td>0</td>\n",
       "      <td>100000.000000</td>\n",
       "      <td>NaN</td>\n",
       "      <td>0.999</td>\n",
       "    </tr>\n",
       "    <tr>\n",
       "      <th>2022-07-12 23:10:22</th>\n",
       "      <td>1</td>\n",
       "      <td>99229.042581</td>\n",
       "      <td>7.241098</td>\n",
       "      <td>0.999</td>\n",
       "    </tr>\n",
       "    <tr>\n",
       "      <th>2022-07-12 23:10:25</th>\n",
       "      <td>-1</td>\n",
       "      <td>100805.800000</td>\n",
       "      <td>7.283778</td>\n",
       "      <td>0.999</td>\n",
       "    </tr>\n",
       "    <tr>\n",
       "      <th>2022-07-12 23:10:28</th>\n",
       "      <td>0</td>\n",
       "      <td>100805.800000</td>\n",
       "      <td>NaN</td>\n",
       "      <td>0.999</td>\n",
       "    </tr>\n",
       "    <tr>\n",
       "      <th>2022-07-12 23:10:30</th>\n",
       "      <td>0</td>\n",
       "      <td>100805.800000</td>\n",
       "      <td>NaN</td>\n",
       "      <td>0.999</td>\n",
       "    </tr>\n",
       "    <tr>\n",
       "      <th>2022-07-12 23:10:33</th>\n",
       "      <td>1</td>\n",
       "      <td>99987.220373</td>\n",
       "      <td>7.622208</td>\n",
       "      <td>0.999</td>\n",
       "    </tr>\n",
       "    <tr>\n",
       "      <th>2022-07-12 23:10:36</th>\n",
       "      <td>-1</td>\n",
       "      <td>101523.977792</td>\n",
       "      <td>7.667135</td>\n",
       "      <td>0.999</td>\n",
       "    </tr>\n",
       "    <tr>\n",
       "      <th>2022-07-12 23:10:39</th>\n",
       "      <td>-1</td>\n",
       "      <td>101523.977792</td>\n",
       "      <td>NaN</td>\n",
       "      <td>0.999</td>\n",
       "    </tr>\n",
       "    <tr>\n",
       "      <th>2022-07-12 23:10:42</th>\n",
       "      <td>-1</td>\n",
       "      <td>101523.977792</td>\n",
       "      <td>NaN</td>\n",
       "      <td>0.999</td>\n",
       "    </tr>\n",
       "    <tr>\n",
       "      <th>2022-07-12 23:10:45</th>\n",
       "      <td>1</td>\n",
       "      <td>100705.398165</td>\n",
       "      <td>7.622208</td>\n",
       "      <td>0.999</td>\n",
       "    </tr>\n",
       "    <tr>\n",
       "      <th>2022-07-12 23:10:47</th>\n",
       "      <td>1</td>\n",
       "      <td>198458.085163</td>\n",
       "      <td>7.622208</td>\n",
       "      <td>0.999</td>\n",
       "    </tr>\n",
       "    <tr>\n",
       "      <th>2022-07-12 23:10:50</th>\n",
       "      <td>-1</td>\n",
       "      <td>199176.218028</td>\n",
       "      <td>7.667135</td>\n",
       "      <td>0.999</td>\n",
       "    </tr>\n",
       "    <tr>\n",
       "      <th>2022-07-12 23:10:53</th>\n",
       "      <td>0</td>\n",
       "      <td>199176.218028</td>\n",
       "      <td>NaN</td>\n",
       "      <td>0.999</td>\n",
       "    </tr>\n",
       "    <tr>\n",
       "      <th>2022-07-12 23:10:56</th>\n",
       "      <td>-1</td>\n",
       "      <td>201531.600000</td>\n",
       "      <td>7.667135</td>\n",
       "      <td>0.999</td>\n",
       "    </tr>\n",
       "    <tr>\n",
       "      <th>2022-07-12 23:11:00</th>\n",
       "      <td>-1</td>\n",
       "      <td>201531.600000</td>\n",
       "      <td>NaN</td>\n",
       "      <td>0.999</td>\n",
       "    </tr>\n",
       "    <tr>\n",
       "      <th>2022-07-12 23:11:03</th>\n",
       "      <td>1</td>\n",
       "      <td>200713.020373</td>\n",
       "      <td>7.622208</td>\n",
       "      <td>0.999</td>\n",
       "    </tr>\n",
       "    <tr>\n",
       "      <th>2022-07-12 23:11:06</th>\n",
       "      <td>0</td>\n",
       "      <td>200713.020373</td>\n",
       "      <td>NaN</td>\n",
       "      <td>0.999</td>\n",
       "    </tr>\n",
       "    <tr>\n",
       "      <th>2022-07-12 23:11:09</th>\n",
       "      <td>-1</td>\n",
       "      <td>202249.777792</td>\n",
       "      <td>7.667135</td>\n",
       "      <td>0.999</td>\n",
       "    </tr>\n",
       "  </tbody>\n",
       "</table>\n",
       "</div>"
      ],
      "text/plain": [
       "                     decision  portfolio value       gas  close\n",
       "time                                                           \n",
       "2022-07-12 23:10:14         0    100000.000000       NaN  0.999\n",
       "2022-07-12 23:10:16         0    100000.000000       NaN  0.999\n",
       "2022-07-12 23:10:18         0    100000.000000       NaN  0.999\n",
       "2022-07-12 23:10:22         1     99229.042581  7.241098  0.999\n",
       "2022-07-12 23:10:25        -1    100805.800000  7.283778  0.999\n",
       "2022-07-12 23:10:28         0    100805.800000       NaN  0.999\n",
       "2022-07-12 23:10:30         0    100805.800000       NaN  0.999\n",
       "2022-07-12 23:10:33         1     99987.220373  7.622208  0.999\n",
       "2022-07-12 23:10:36        -1    101523.977792  7.667135  0.999\n",
       "2022-07-12 23:10:39        -1    101523.977792       NaN  0.999\n",
       "2022-07-12 23:10:42        -1    101523.977792       NaN  0.999\n",
       "2022-07-12 23:10:45         1    100705.398165  7.622208  0.999\n",
       "2022-07-12 23:10:47         1    198458.085163  7.622208  0.999\n",
       "2022-07-12 23:10:50        -1    199176.218028  7.667135  0.999\n",
       "2022-07-12 23:10:53         0    199176.218028       NaN  0.999\n",
       "2022-07-12 23:10:56        -1    201531.600000  7.667135  0.999\n",
       "2022-07-12 23:11:00        -1    201531.600000       NaN  0.999\n",
       "2022-07-12 23:11:03         1    200713.020373  7.622208  0.999\n",
       "2022-07-12 23:11:06         0    200713.020373       NaN  0.999\n",
       "2022-07-12 23:11:09        -1    202249.777792  7.667135  0.999"
      ]
     },
     "execution_count": 21,
     "metadata": {},
     "output_type": "execute_result"
    }
   ],
   "source": [
    "bot_results = pd.read_csv(\n",
    "    Path('results/sabot.csv'),\n",
    "    infer_datetime_format=True,\n",
    "    parse_dates=True,\n",
    "    index_col='time'\n",
    ")\n",
    "bot_results"
   ]
  },
  {
   "cell_type": "code",
   "execution_count": 22,
   "id": "7424febb-2314-434d-b679-7a8d456ace90",
   "metadata": {},
   "outputs": [
    {
     "data": {
      "text/plain": [
       "<AxesSubplot:title={'center':'decisions'}, xlabel='time'>"
      ]
     },
     "execution_count": 22,
     "metadata": {},
     "output_type": "execute_result"
    },
    {
     "data": {
      "image/png": "[encoded data removed]",
      "text/plain": [
       "<Figure size 1080x216 with 1 Axes>"
      ]
     },
     "metadata": {
      "needs_background": "light"
     },
     "output_type": "display_data"
    }
   ],
   "source": [
    "bot_results['decision'].plot(kind='line',figsize=(15,3),title='decisions')"
   ]
  },
  {
   "cell_type": "code",
   "execution_count": 23,
   "id": "06d3309d-52d6-4253-bdd9-e4d6f600221d",
   "metadata": {},
   "outputs": [
    {
     "data": {
      "text/plain": [
       "<AxesSubplot:title={'center':'gas fees'}, xlabel='time'>"
      ]
     },
     "execution_count": 23,
     "metadata": {},
     "output_type": "execute_result"
    },
    {
     "data": {
      "image/png": "[encoded data removed]",
      "text/plain": [
       "<Figure size 1080x216 with 1 Axes>"
      ]
     },
     "metadata": {
      "needs_background": "light"
     },
     "output_type": "display_data"
    }
   ],
   "source": [
    "bot_results['gas'].plot(kind='bar',figsize=(15,3),title='gas fees')"
   ]
  },
  {
   "cell_type": "code",
   "execution_count": 24,
   "id": "91ac5a17-0714-4878-9bac-94e0428ed6d6",
   "metadata": {},
   "outputs": [
    {
     "data": {
      "text/plain": [
       "<AxesSubplot:title={'center':'decisions'}, xlabel='time'>"
      ]
     },
     "execution_count": 24,
     "metadata": {},
     "output_type": "execute_result"
    },
    {
     "data": {
      "image/png": "[encoded data removed]",
      "text/plain": [
       "<Figure size 720x504 with 1 Axes>"
      ]
     },
     "metadata": {
      "needs_background": "light"
     },
     "output_type": "display_data"
    }
   ],
   "source": [
    "bot_results[['close','portfolio value']].plot(kind='line',figsize=(10,7),title='decisions')"
   ]
  },
  {
   "cell_type": "code",
   "execution_count": null,
   "id": "0ecf1752-dcff-4c83-9b4a-bab335da414f",
   "metadata": {},
   "outputs": [],
   "source": []
  },
  {
   "cell_type": "code",
   "execution_count": null,
   "id": "cbf4a888-73a2-469a-9e44-69731b1eaac4",
   "metadata": {},
   "outputs": [],
   "source": []
  }
 ],
 "metadata": {
  "kernelspec": {
   "display_name": "Python 3 (ipykernel)",
   "language": "python",
   "name": "python3"
  },
  "language_info": {
   "codemirror_mode": {
    "name": "ipython",
    "version": 3
   },
   "file_extension": ".py",
   "mimetype": "text/x-python",
   "name": "python",
   "nbconvert_exporter": "python",
   "pygments_lexer": "ipython3",
   "version": "3.7.13"
  }
 },
 "nbformat": 4,
 "nbformat_minor": 5
}
