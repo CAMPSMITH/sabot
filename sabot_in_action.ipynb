{
 "cells": [
  {
   "cell_type": "code",
   "execution_count": 1,
   "id": "e90174d7-aaa0-482e-b161-d089e661e6ef",
   "metadata": {},
   "outputs": [],
   "source": [
    "import pandas as pd\n",
    "from pathlib import Path"
   ]
  },
  {
   "cell_type": "code",
   "execution_count": 2,
   "id": "1d1c86e7-214f-44f1-964e-ec0207536499",
   "metadata": {},
   "outputs": [
    {
     "data": {
      "text/html": [
       "<div>\n",
       "<style scoped>\n",
       "    .dataframe tbody tr th:only-of-type {\n",
       "        vertical-align: middle;\n",
       "    }\n",
       "\n",
       "    .dataframe tbody tr th {\n",
       "        vertical-align: top;\n",
       "    }\n",
       "\n",
       "    .dataframe thead th {\n",
       "        text-align: right;\n",
       "    }\n",
       "</style>\n",
       "<table border=\"1\" class=\"dataframe\">\n",
       "  <thead>\n",
       "    <tr style=\"text-align: right;\">\n",
       "      <th></th>\n",
       "      <th>decision</th>\n",
       "      <th>portfolio value</th>\n",
       "      <th>USDT</th>\n",
       "      <th>sUSD/USDT</th>\n",
       "      <th>gas</th>\n",
       "      <th>close</th>\n",
       "    </tr>\n",
       "    <tr>\n",
       "      <th>time</th>\n",
       "      <th></th>\n",
       "      <th></th>\n",
       "      <th></th>\n",
       "      <th></th>\n",
       "      <th></th>\n",
       "      <th></th>\n",
       "    </tr>\n",
       "  </thead>\n",
       "  <tbody>\n",
       "    <tr>\n",
       "      <th>2022-07-14 08:36:07</th>\n",
       "      <td>0</td>\n",
       "      <td>100000.000000</td>\n",
       "      <td>100000.0</td>\n",
       "      <td>0.0</td>\n",
       "      <td>NaN</td>\n",
       "      <td>100361.3</td>\n",
       "    </tr>\n",
       "    <tr>\n",
       "      <th>2022-07-14 09:36:02</th>\n",
       "      <td>0</td>\n",
       "      <td>100000.000000</td>\n",
       "      <td>100000.0</td>\n",
       "      <td>0.0</td>\n",
       "      <td>NaN</td>\n",
       "      <td>100104.6</td>\n",
       "    </tr>\n",
       "    <tr>\n",
       "      <th>2022-07-14 10:36:05</th>\n",
       "      <td>-1</td>\n",
       "      <td>100000.000000</td>\n",
       "      <td>100000.0</td>\n",
       "      <td>0.0</td>\n",
       "      <td>NaN</td>\n",
       "      <td>100450.0</td>\n",
       "    </tr>\n",
       "    <tr>\n",
       "      <th>2022-07-14 11:36:08</th>\n",
       "      <td>1</td>\n",
       "      <td>99228.056639</td>\n",
       "      <td>40.0</td>\n",
       "      <td>0.0</td>\n",
       "      <td>36.772506</td>\n",
       "      <td>100200.0</td>\n",
       "    </tr>\n",
       "    <tr>\n",
       "      <th>2022-07-14 12:36:05</th>\n",
       "      <td>0</td>\n",
       "      <td>99228.056639</td>\n",
       "      <td>40.0</td>\n",
       "      <td>0.0</td>\n",
       "      <td>NaN</td>\n",
       "      <td>100449.8</td>\n",
       "    </tr>\n",
       "    <tr>\n",
       "      <th>2022-07-14 13:36:06</th>\n",
       "      <td>0</td>\n",
       "      <td>99228.056639</td>\n",
       "      <td>40.0</td>\n",
       "      <td>0.0</td>\n",
       "      <td>NaN</td>\n",
       "      <td>100450.0</td>\n",
       "    </tr>\n",
       "    <tr>\n",
       "      <th>2022-07-14 14:36:07</th>\n",
       "      <td>0</td>\n",
       "      <td>99228.056639</td>\n",
       "      <td>40.0</td>\n",
       "      <td>0.0</td>\n",
       "      <td>NaN</td>\n",
       "      <td>100450.0</td>\n",
       "    </tr>\n",
       "  </tbody>\n",
       "</table>\n",
       "</div>"
      ],
      "text/plain": [
       "                     decision  portfolio value      USDT  sUSD/USDT  \\\n",
       "time                                                                  \n",
       "2022-07-14 08:36:07         0    100000.000000  100000.0        0.0   \n",
       "2022-07-14 09:36:02         0    100000.000000  100000.0        0.0   \n",
       "2022-07-14 10:36:05        -1    100000.000000  100000.0        0.0   \n",
       "2022-07-14 11:36:08         1     99228.056639      40.0        0.0   \n",
       "2022-07-14 12:36:05         0     99228.056639      40.0        0.0   \n",
       "2022-07-14 13:36:06         0     99228.056639      40.0        0.0   \n",
       "2022-07-14 14:36:07         0     99228.056639      40.0        0.0   \n",
       "\n",
       "                           gas     close  \n",
       "time                                      \n",
       "2022-07-14 08:36:07        NaN  100361.3  \n",
       "2022-07-14 09:36:02        NaN  100104.6  \n",
       "2022-07-14 10:36:05        NaN  100450.0  \n",
       "2022-07-14 11:36:08  36.772506  100200.0  \n",
       "2022-07-14 12:36:05        NaN  100449.8  \n",
       "2022-07-14 13:36:06        NaN  100450.0  \n",
       "2022-07-14 14:36:07        NaN  100450.0  "
      ]
     },
     "execution_count": 2,
     "metadata": {},
     "output_type": "execute_result"
    }
   ],
   "source": [
    "bot_results = pd.read_csv(\n",
    "    Path('results/sabot.csv'),\n",
    "    infer_datetime_format=True,\n",
    "    parse_dates=True,\n",
    "    index_col='time'\n",
    ")\n",
    "bot_results"
   ]
  },
  {
   "cell_type": "code",
   "execution_count": 5,
   "id": "7424febb-2314-434d-b679-7a8d456ace90",
   "metadata": {},
   "outputs": [
    {
     "data": {
      "image/png": "[encoded data removed]",
      "text/plain": [
       "<Figure size 1080x216 with 1 Axes>"
      ]
     },
     "metadata": {
      "needs_background": "light"
     },
     "output_type": "display_data"
    }
   ],
   "source": [
    "decisions_plot = bot_results['decision'].plot(kind='line',figsize=(15,3),title='decisions')"
   ]
  },
  {
   "cell_type": "code",
   "execution_count": 6,
   "id": "0515a1e6-2a91-4b95-a0a7-0784b4b8881b",
   "metadata": {},
   "outputs": [],
   "source": [
    "decisions_plot.figure.savefig(\n",
    "                f'images/sabot_decisions.png', \n",
    "                bbox_inches='tight',\n",
    "            )"
   ]
  },
  {
   "cell_type": "code",
   "execution_count": 23,
   "id": "06d3309d-52d6-4253-bdd9-e4d6f600221d",
   "metadata": {},
   "outputs": [
    {
     "data": {
      "text/plain": [
       "<AxesSubplot:title={'center':'gas fees'}, xlabel='time'>"
      ]
     },
     "execution_count": 23,
     "metadata": {},
     "output_type": "execute_result"
    },
    {
     "data": {
      "image/png": "[encoded data removed]",
      "text/plain": [
       "<Figure size 1080x216 with 1 Axes>"
      ]
     },
     "metadata": {
      "needs_background": "light"
     },
     "output_type": "display_data"
    }
   ],
   "source": [
    "bot_results['gas'].plot(kind='bar',figsize=(15,3),title='gas fees')"
   ]
  },
  {
   "cell_type": "code",
   "execution_count": 24,
   "id": "91ac5a17-0714-4878-9bac-94e0428ed6d6",
   "metadata": {},
   "outputs": [
    {
     "data": {
      "text/plain": [
       "<AxesSubplot:title={'center':'decisions'}, xlabel='time'>"
      ]
     },
     "execution_count": 24,
     "metadata": {},
     "output_type": "execute_result"
    },
    {
     "data": {
      "image/png": "[encoded data removed]",
      "text/plain": [
       "<Figure size 720x504 with 1 Axes>"
      ]
     },
     "metadata": {
      "needs_background": "light"
     },
     "output_type": "display_data"
    }
   ],
   "source": [
    "bot_results[['close','portfolio value']].plot(kind='line',figsize=(10,7),title='decisions')"
   ]
  },
  {
   "cell_type": "code",
   "execution_count": null,
   "id": "0ecf1752-dcff-4c83-9b4a-bab335da414f",
   "metadata": {},
   "outputs": [],
   "source": []
  },
  {
   "cell_type": "code",
   "execution_count": null,
   "id": "cbf4a888-73a2-469a-9e44-69731b1eaac4",
   "metadata": {},
   "outputs": [],
   "source": []
  }
 ],
 "metadata": {
  "kernelspec": {
   "display_name": "Python 3 (ipykernel)",
   "language": "python",
   "name": "python3"
  },
  "language_info": {
   "codemirror_mode": {
    "name": "ipython",
    "version": 3
   },
   "file_extension": ".py",
   "mimetype": "text/x-python",
   "name": "python",
   "nbconvert_exporter": "python",
   "pygments_lexer": "ipython3",
   "version": "3.7.13"
  }
 },
 "nbformat": 4,
 "nbformat_minor": 5
}
