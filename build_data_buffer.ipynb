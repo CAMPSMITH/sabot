{
 "cells": [
  {
   "cell_type": "code",
   "execution_count": 1,
   "id": "44fe278b-fcbc-44d1-a291-32b2dab3b670",
   "metadata": {},
   "outputs": [],
   "source": [
    "from utils.utils import *"
   ]
  },
  {
   "cell_type": "code",
   "execution_count": 2,
   "id": "38bac665-d89f-4c0c-b19e-190cd5d39a29",
   "metadata": {},
   "outputs": [
    {
     "data": {
      "text/plain": [
       "True"
      ]
     },
     "execution_count": 2,
     "metadata": {},
     "output_type": "execute_result"
    }
   ],
   "source": [
    "load_dotenv()"
   ]
  },
  {
   "cell_type": "code",
   "execution_count": 3,
   "id": "8dcaf234-236b-4575-91ae-b1e68e88e4b6",
   "metadata": {},
   "outputs": [],
   "source": [
    "cryptocompare_apikey = os.getenv('CRYPTO_COMPARE_API_KEY')"
   ]
  },
  {
   "cell_type": "code",
   "execution_count": 4,
   "id": "2256d8fd-dfaf-41c3-a447-a5cbeaaa5b2b",
   "metadata": {},
   "outputs": [
    {
     "name": "stdout",
     "output_type": "stream",
     "text": [
      "Appended API request #0 to dataframe\n",
      "getting 6 BTC records\n"
     ]
    }
   ],
   "source": [
    "ohlcv_prices = get_cryptocompare_ohlcv('BTC',6)"
   ]
  },
  {
   "cell_type": "code",
   "execution_count": 5,
   "id": "8ec164d2-a325-4b4d-9d85-eacaa3c2f2fa",
   "metadata": {},
   "outputs": [
    {
     "data": {
      "text/html": [
       "<div>\n",
       "<style scoped>\n",
       "    .dataframe tbody tr th:only-of-type {\n",
       "        vertical-align: middle;\n",
       "    }\n",
       "\n",
       "    .dataframe tbody tr th {\n",
       "        vertical-align: top;\n",
       "    }\n",
       "\n",
       "    .dataframe thead th {\n",
       "        text-align: right;\n",
       "    }\n",
       "</style>\n",
       "<table border=\"1\" class=\"dataframe\">\n",
       "  <thead>\n",
       "    <tr style=\"text-align: right;\">\n",
       "      <th></th>\n",
       "      <th>time</th>\n",
       "      <th>open</th>\n",
       "      <th>high</th>\n",
       "      <th>low</th>\n",
       "      <th>close</th>\n",
       "      <th>volume</th>\n",
       "    </tr>\n",
       "  </thead>\n",
       "  <tbody>\n",
       "    <tr>\n",
       "      <th>0</th>\n",
       "      <td>2022-07-12 03:00:00+00:00</td>\n",
       "      <td>19953.59</td>\n",
       "      <td>19953.59</td>\n",
       "      <td>19861.16</td>\n",
       "      <td>19924.55</td>\n",
       "      <td>22090979.89</td>\n",
       "    </tr>\n",
       "    <tr>\n",
       "      <th>1</th>\n",
       "      <td>2022-07-12 04:00:00+00:00</td>\n",
       "      <td>19924.55</td>\n",
       "      <td>20012.84</td>\n",
       "      <td>19911.17</td>\n",
       "      <td>19986.68</td>\n",
       "      <td>38512708.91</td>\n",
       "    </tr>\n",
       "    <tr>\n",
       "      <th>2</th>\n",
       "      <td>2022-07-12 05:00:00+00:00</td>\n",
       "      <td>19986.68</td>\n",
       "      <td>20036.49</td>\n",
       "      <td>19936.74</td>\n",
       "      <td>19937.32</td>\n",
       "      <td>16462204.16</td>\n",
       "    </tr>\n",
       "    <tr>\n",
       "      <th>3</th>\n",
       "      <td>2022-07-12 06:00:00+00:00</td>\n",
       "      <td>19937.32</td>\n",
       "      <td>19937.32</td>\n",
       "      <td>19790.00</td>\n",
       "      <td>19827.76</td>\n",
       "      <td>24113889.88</td>\n",
       "    </tr>\n",
       "    <tr>\n",
       "      <th>4</th>\n",
       "      <td>2022-07-12 07:00:00+00:00</td>\n",
       "      <td>19827.76</td>\n",
       "      <td>19845.86</td>\n",
       "      <td>19602.48</td>\n",
       "      <td>19711.03</td>\n",
       "      <td>50717969.68</td>\n",
       "    </tr>\n",
       "    <tr>\n",
       "      <th>5</th>\n",
       "      <td>2022-07-12 08:00:00+00:00</td>\n",
       "      <td>19711.03</td>\n",
       "      <td>19789.08</td>\n",
       "      <td>19688.99</td>\n",
       "      <td>19760.84</td>\n",
       "      <td>6655825.25</td>\n",
       "    </tr>\n",
       "  </tbody>\n",
       "</table>\n",
       "</div>"
      ],
      "text/plain": [
       "                       time      open      high       low     close  \\\n",
       "0 2022-07-12 03:00:00+00:00  19953.59  19953.59  19861.16  19924.55   \n",
       "1 2022-07-12 04:00:00+00:00  19924.55  20012.84  19911.17  19986.68   \n",
       "2 2022-07-12 05:00:00+00:00  19986.68  20036.49  19936.74  19937.32   \n",
       "3 2022-07-12 06:00:00+00:00  19937.32  19937.32  19790.00  19827.76   \n",
       "4 2022-07-12 07:00:00+00:00  19827.76  19845.86  19602.48  19711.03   \n",
       "5 2022-07-12 08:00:00+00:00  19711.03  19789.08  19688.99  19760.84   \n",
       "\n",
       "        volume  \n",
       "0  22090979.89  \n",
       "1  38512708.91  \n",
       "2  16462204.16  \n",
       "3  24113889.88  \n",
       "4  50717969.68  \n",
       "5   6655825.25  "
      ]
     },
     "execution_count": 5,
     "metadata": {},
     "output_type": "execute_result"
    }
   ],
   "source": [
    "ohlcv_prices"
   ]
  },
  {
   "cell_type": "code",
   "execution_count": 6,
   "id": "e82dc8cd-4933-4904-ad86-c3d1898e9beb",
   "metadata": {},
   "outputs": [
    {
     "name": "stdout",
     "output_type": "stream",
     "text": [
      "Appended API request #0 to dataframe\n",
      "dataframe is up-to-date\n"
     ]
    }
   ],
   "source": [
    "ohlcv_prices = get_cryptocompare_ohlcv('BTC',6, ohlcv_prices)"
   ]
  },
  {
   "cell_type": "code",
   "execution_count": 7,
   "id": "610ba34f-411a-4c15-90c7-fb4be44a8cfd",
   "metadata": {},
   "outputs": [
    {
     "data": {
      "text/html": [
       "<div>\n",
       "<style scoped>\n",
       "    .dataframe tbody tr th:only-of-type {\n",
       "        vertical-align: middle;\n",
       "    }\n",
       "\n",
       "    .dataframe tbody tr th {\n",
       "        vertical-align: top;\n",
       "    }\n",
       "\n",
       "    .dataframe thead th {\n",
       "        text-align: right;\n",
       "    }\n",
       "</style>\n",
       "<table border=\"1\" class=\"dataframe\">\n",
       "  <thead>\n",
       "    <tr style=\"text-align: right;\">\n",
       "      <th></th>\n",
       "      <th>time</th>\n",
       "      <th>open</th>\n",
       "      <th>high</th>\n",
       "      <th>low</th>\n",
       "      <th>close</th>\n",
       "      <th>volume</th>\n",
       "    </tr>\n",
       "  </thead>\n",
       "  <tbody>\n",
       "    <tr>\n",
       "      <th>0</th>\n",
       "      <td>2022-07-12 03:00:00+00:00</td>\n",
       "      <td>19953.59</td>\n",
       "      <td>19953.59</td>\n",
       "      <td>19861.16</td>\n",
       "      <td>19924.55</td>\n",
       "      <td>22090979.89</td>\n",
       "    </tr>\n",
       "    <tr>\n",
       "      <th>1</th>\n",
       "      <td>2022-07-12 04:00:00+00:00</td>\n",
       "      <td>19924.55</td>\n",
       "      <td>20012.84</td>\n",
       "      <td>19911.17</td>\n",
       "      <td>19986.68</td>\n",
       "      <td>38512708.91</td>\n",
       "    </tr>\n",
       "    <tr>\n",
       "      <th>2</th>\n",
       "      <td>2022-07-12 05:00:00+00:00</td>\n",
       "      <td>19986.68</td>\n",
       "      <td>20036.49</td>\n",
       "      <td>19936.74</td>\n",
       "      <td>19937.32</td>\n",
       "      <td>16462204.16</td>\n",
       "    </tr>\n",
       "    <tr>\n",
       "      <th>3</th>\n",
       "      <td>2022-07-12 06:00:00+00:00</td>\n",
       "      <td>19937.32</td>\n",
       "      <td>19937.32</td>\n",
       "      <td>19790.00</td>\n",
       "      <td>19827.76</td>\n",
       "      <td>24113889.88</td>\n",
       "    </tr>\n",
       "    <tr>\n",
       "      <th>4</th>\n",
       "      <td>2022-07-12 07:00:00+00:00</td>\n",
       "      <td>19827.76</td>\n",
       "      <td>19845.86</td>\n",
       "      <td>19602.48</td>\n",
       "      <td>19711.03</td>\n",
       "      <td>50717969.68</td>\n",
       "    </tr>\n",
       "    <tr>\n",
       "      <th>5</th>\n",
       "      <td>2022-07-12 08:00:00+00:00</td>\n",
       "      <td>19711.03</td>\n",
       "      <td>19789.08</td>\n",
       "      <td>19688.99</td>\n",
       "      <td>19760.84</td>\n",
       "      <td>6655825.25</td>\n",
       "    </tr>\n",
       "  </tbody>\n",
       "</table>\n",
       "</div>"
      ],
      "text/plain": [
       "                       time      open      high       low     close  \\\n",
       "0 2022-07-12 03:00:00+00:00  19953.59  19953.59  19861.16  19924.55   \n",
       "1 2022-07-12 04:00:00+00:00  19924.55  20012.84  19911.17  19986.68   \n",
       "2 2022-07-12 05:00:00+00:00  19986.68  20036.49  19936.74  19937.32   \n",
       "3 2022-07-12 06:00:00+00:00  19937.32  19937.32  19790.00  19827.76   \n",
       "4 2022-07-12 07:00:00+00:00  19827.76  19845.86  19602.48  19711.03   \n",
       "5 2022-07-12 08:00:00+00:00  19711.03  19789.08  19688.99  19760.84   \n",
       "\n",
       "        volume  \n",
       "0  22090979.89  \n",
       "1  38512708.91  \n",
       "2  16462204.16  \n",
       "3  24113889.88  \n",
       "4  50717969.68  \n",
       "5   6655825.25  "
      ]
     },
     "execution_count": 7,
     "metadata": {},
     "output_type": "execute_result"
    }
   ],
   "source": [
    "ohlcv_prices"
   ]
  },
  {
   "cell_type": "code",
   "execution_count": 8,
   "id": "916b4de1-b6b1-4786-81d9-f9936b7994ca",
   "metadata": {},
   "outputs": [],
   "source": [
    "ohlcv_prices = ohlcv_prices.iloc[:-1,:]                            "
   ]
  },
  {
   "cell_type": "code",
   "execution_count": 9,
   "id": "75a0b150-7f6a-43dc-9e0b-791064c48d6f",
   "metadata": {},
   "outputs": [
    {
     "data": {
      "text/html": [
       "<div>\n",
       "<style scoped>\n",
       "    .dataframe tbody tr th:only-of-type {\n",
       "        vertical-align: middle;\n",
       "    }\n",
       "\n",
       "    .dataframe tbody tr th {\n",
       "        vertical-align: top;\n",
       "    }\n",
       "\n",
       "    .dataframe thead th {\n",
       "        text-align: right;\n",
       "    }\n",
       "</style>\n",
       "<table border=\"1\" class=\"dataframe\">\n",
       "  <thead>\n",
       "    <tr style=\"text-align: right;\">\n",
       "      <th></th>\n",
       "      <th>time</th>\n",
       "      <th>open</th>\n",
       "      <th>high</th>\n",
       "      <th>low</th>\n",
       "      <th>close</th>\n",
       "      <th>volume</th>\n",
       "    </tr>\n",
       "  </thead>\n",
       "  <tbody>\n",
       "    <tr>\n",
       "      <th>0</th>\n",
       "      <td>2022-07-12 03:00:00+00:00</td>\n",
       "      <td>19953.59</td>\n",
       "      <td>19953.59</td>\n",
       "      <td>19861.16</td>\n",
       "      <td>19924.55</td>\n",
       "      <td>22090979.89</td>\n",
       "    </tr>\n",
       "    <tr>\n",
       "      <th>1</th>\n",
       "      <td>2022-07-12 04:00:00+00:00</td>\n",
       "      <td>19924.55</td>\n",
       "      <td>20012.84</td>\n",
       "      <td>19911.17</td>\n",
       "      <td>19986.68</td>\n",
       "      <td>38512708.91</td>\n",
       "    </tr>\n",
       "    <tr>\n",
       "      <th>2</th>\n",
       "      <td>2022-07-12 05:00:00+00:00</td>\n",
       "      <td>19986.68</td>\n",
       "      <td>20036.49</td>\n",
       "      <td>19936.74</td>\n",
       "      <td>19937.32</td>\n",
       "      <td>16462204.16</td>\n",
       "    </tr>\n",
       "    <tr>\n",
       "      <th>3</th>\n",
       "      <td>2022-07-12 06:00:00+00:00</td>\n",
       "      <td>19937.32</td>\n",
       "      <td>19937.32</td>\n",
       "      <td>19790.00</td>\n",
       "      <td>19827.76</td>\n",
       "      <td>24113889.88</td>\n",
       "    </tr>\n",
       "    <tr>\n",
       "      <th>4</th>\n",
       "      <td>2022-07-12 07:00:00+00:00</td>\n",
       "      <td>19827.76</td>\n",
       "      <td>19845.86</td>\n",
       "      <td>19602.48</td>\n",
       "      <td>19711.03</td>\n",
       "      <td>50717969.68</td>\n",
       "    </tr>\n",
       "  </tbody>\n",
       "</table>\n",
       "</div>"
      ],
      "text/plain": [
       "                       time      open      high       low     close  \\\n",
       "0 2022-07-12 03:00:00+00:00  19953.59  19953.59  19861.16  19924.55   \n",
       "1 2022-07-12 04:00:00+00:00  19924.55  20012.84  19911.17  19986.68   \n",
       "2 2022-07-12 05:00:00+00:00  19986.68  20036.49  19936.74  19937.32   \n",
       "3 2022-07-12 06:00:00+00:00  19937.32  19937.32  19790.00  19827.76   \n",
       "4 2022-07-12 07:00:00+00:00  19827.76  19845.86  19602.48  19711.03   \n",
       "\n",
       "        volume  \n",
       "0  22090979.89  \n",
       "1  38512708.91  \n",
       "2  16462204.16  \n",
       "3  24113889.88  \n",
       "4  50717969.68  "
      ]
     },
     "execution_count": 9,
     "metadata": {},
     "output_type": "execute_result"
    }
   ],
   "source": [
    "ohlcv_prices"
   ]
  },
  {
   "cell_type": "code",
   "execution_count": 10,
   "id": "6333b98e-7ca5-43ca-816e-57fe906e22ef",
   "metadata": {},
   "outputs": [
    {
     "name": "stdout",
     "output_type": "stream",
     "text": [
      "Appended API request #0 to dataframe\n",
      "popping oldest record\n",
      "getting 1 BTC records\n"
     ]
    }
   ],
   "source": [
    "ohlcv_prices = get_cryptocompare_ohlcv('BTC',5,ohlcv_prices)"
   ]
  },
  {
   "cell_type": "code",
   "execution_count": 11,
   "id": "d3b222b4-126e-4b81-93af-d4658f2a47a1",
   "metadata": {},
   "outputs": [
    {
     "data": {
      "text/html": [
       "<div>\n",
       "<style scoped>\n",
       "    .dataframe tbody tr th:only-of-type {\n",
       "        vertical-align: middle;\n",
       "    }\n",
       "\n",
       "    .dataframe tbody tr th {\n",
       "        vertical-align: top;\n",
       "    }\n",
       "\n",
       "    .dataframe thead th {\n",
       "        text-align: right;\n",
       "    }\n",
       "</style>\n",
       "<table border=\"1\" class=\"dataframe\">\n",
       "  <thead>\n",
       "    <tr style=\"text-align: right;\">\n",
       "      <th></th>\n",
       "      <th>time</th>\n",
       "      <th>open</th>\n",
       "      <th>high</th>\n",
       "      <th>low</th>\n",
       "      <th>close</th>\n",
       "      <th>volume</th>\n",
       "    </tr>\n",
       "  </thead>\n",
       "  <tbody>\n",
       "    <tr>\n",
       "      <th>0</th>\n",
       "      <td>2022-07-12 04:00:00+00:00</td>\n",
       "      <td>19924.55</td>\n",
       "      <td>20012.84</td>\n",
       "      <td>19911.17</td>\n",
       "      <td>19986.68</td>\n",
       "      <td>38512708.91</td>\n",
       "    </tr>\n",
       "    <tr>\n",
       "      <th>1</th>\n",
       "      <td>2022-07-12 05:00:00+00:00</td>\n",
       "      <td>19986.68</td>\n",
       "      <td>20036.49</td>\n",
       "      <td>19936.74</td>\n",
       "      <td>19937.32</td>\n",
       "      <td>16462204.16</td>\n",
       "    </tr>\n",
       "    <tr>\n",
       "      <th>2</th>\n",
       "      <td>2022-07-12 06:00:00+00:00</td>\n",
       "      <td>19937.32</td>\n",
       "      <td>19937.32</td>\n",
       "      <td>19790.00</td>\n",
       "      <td>19827.76</td>\n",
       "      <td>24113889.88</td>\n",
       "    </tr>\n",
       "    <tr>\n",
       "      <th>3</th>\n",
       "      <td>2022-07-12 07:00:00+00:00</td>\n",
       "      <td>19827.76</td>\n",
       "      <td>19845.86</td>\n",
       "      <td>19602.48</td>\n",
       "      <td>19711.03</td>\n",
       "      <td>50717969.68</td>\n",
       "    </tr>\n",
       "    <tr>\n",
       "      <th>4</th>\n",
       "      <td>2022-07-12 08:00:00+00:00</td>\n",
       "      <td>19711.03</td>\n",
       "      <td>19789.08</td>\n",
       "      <td>19688.99</td>\n",
       "      <td>19761.72</td>\n",
       "      <td>6680903.27</td>\n",
       "    </tr>\n",
       "  </tbody>\n",
       "</table>\n",
       "</div>"
      ],
      "text/plain": [
       "                       time      open      high       low     close  \\\n",
       "0 2022-07-12 04:00:00+00:00  19924.55  20012.84  19911.17  19986.68   \n",
       "1 2022-07-12 05:00:00+00:00  19986.68  20036.49  19936.74  19937.32   \n",
       "2 2022-07-12 06:00:00+00:00  19937.32  19937.32  19790.00  19827.76   \n",
       "3 2022-07-12 07:00:00+00:00  19827.76  19845.86  19602.48  19711.03   \n",
       "4 2022-07-12 08:00:00+00:00  19711.03  19789.08  19688.99  19761.72   \n",
       "\n",
       "        volume  \n",
       "0  38512708.91  \n",
       "1  16462204.16  \n",
       "2  24113889.88  \n",
       "3  50717969.68  \n",
       "4   6680903.27  "
      ]
     },
     "execution_count": 11,
     "metadata": {},
     "output_type": "execute_result"
    }
   ],
   "source": [
    "ohlcv_prices"
   ]
  },
  {
   "cell_type": "code",
   "execution_count": 2,
   "id": "4045dd13-b6ab-4f44-890b-34360f14fa48",
   "metadata": {},
   "outputs": [
    {
     "data": {
      "text/plain": [
       "98503.99580852933"
      ]
     },
     "execution_count": 2,
     "metadata": {},
     "output_type": "execute_result"
    }
   ],
   "source": [
    " / 1000000000000000000\n",
    "# we had a factor of 1 when we sold USDT and divided the result by 1000000000000 to get sUSD"
   ]
  },
  {
   "cell_type": "markdown",
   "id": "7c3dea0c-097a-48c0-8daf-548e9dbc80b9",
   "metadata": {},
   "source": [
    "Scheduler\n",
    "\n",
    "At initial program startup, program should fetch 48 hours of pricing data from two API's: CryptoCompare and KuCoin (CCTX).  \n",
    "For CryptoCompare, use get_cryptocompare_data.  @TODO need to drop volume_from column in function, and change volume_to to volume.\n",
    "\n",
    "For Kucoin, use get_kucoin_data.\n",
    "\n",
    "Dictionary should hold all buffers indexed by coin_name.{'BTC':[ohlcv - 48 hours]}\n",
    "\n",
    "ohlcv = either dataframe or dictionary of arrays\n",
    "\n",
    "if df, iloc can be used to slice and pop the oldest data.\n",
    "\n",
    "Get performed in their own functions.\n",
    "As parameters (\n",
    "\n",
    "Each of the 4 coin pricing data is stored in its own buffer.\n",
    "\n",
    "Then, after initial startup, the program gets current ohlcv data for each of the coins and updates the buffers.\n",
    "\n",
    "\n",
    "for creating dataframe function, pass dataframe in, (get size() for conditional), pass in slow sma period (used for determining buffer size and api calls).\n",
    "    check length of df,\n",
    "    * if smaller than sma period, get sma length of data\n",
    "    * else just update new prices and drop oldest\n",
    "\n",
    "\n",
    "return 4 buffers\n",
    "\n",
    "(line 229) in eval.py\n",
    "\n",
    "(line 231) for making df\n",
    "\n",
    "apply 234 - 238, dont need 240 (dictionary is 240).\n",
    "\n",
    "use 244 - to make one large dataframe (single row)\n",
    "\n",
    "apply 250 for pct change\n",
    "\n",
    "apply X_scalar to data (from pickle)\n",
    "\n",
    "apply 263 to get 1 prediction - just on last row\n",
    "(y_predict)\n",
    "\n",
    "if =1:\n",
    "    print buy\n",
    "if =0:\n",
    "    print hold\n",
    "if =-1:\n",
    "    print sell\n",
    "\n",
    "\n",
    "use for loop,\n",
    "\n",
    "\n",
    "for "
   ]
  },
  {
   "cell_type": "code",
   "execution_count": 3,
   "id": "2c96aff7-a0d6-4db2-ba59-f99449d48a56",
   "metadata": {},
   "outputs": [
    {
     "ename": "SyntaxError",
     "evalue": "invalid syntax (1170721922.py, line 3)",
     "output_type": "error",
     "traceback": [
      "\u001b[0;36m  File \u001b[0;32m\"/var/folders/yx/8jpzvpnn6xb6zbx8vdp2s9c00000gp/T/ipykernel_14998/1170721922.py\"\u001b[0;36m, line \u001b[0;32m3\u001b[0m\n\u001b[0;31m    sell amount  was 100000\u001b[0m\n\u001b[0m              ^\u001b[0m\n\u001b[0;31mSyntaxError\u001b[0m\u001b[0;31m:\u001b[0m invalid syntax\n"
     ]
    }
   ],
   "source": [
    "# scenario 1\n",
    "# sell 100000 USDT -> sUSD\n",
    "\n",
    "# USDT is 6 decimals\n",
    "# sUSD is 18 decimals\n",
    "sell amount  was 100000   (1000000)\n",
    "buy amount was 98503995808529330\n",
    "\n",
    "\n",
    "sell amount USDT 100000 * 1000000 = 100000000000\n",
    "buy amount = 99286270053737569201364 sUSD. "
   ]
  },
  {
   "cell_type": "code",
   "execution_count": null,
   "id": "c00a3e42-0c34-4c31-93d5-7d1adbe9ae59",
   "metadata": {},
   "outputs": [],
   "source": []
  },
  {
   "cell_type": "code",
   "execution_count": 6,
   "id": "cffdfe2e-6692-4728-92c0-15e3e9e90581",
   "metadata": {},
   "outputs": [
    {
     "data": {
      "text/plain": [
       "99286.27005373756"
      ]
     },
     "execution_count": 6,
     "metadata": {},
     "output_type": "execute_result"
    }
   ],
   "source": [
    "sell amount sUSD 100000  * 1000000000000000000 = 100000000000000000000000\n",
    "buy amount = 100725945879\n"
   ]
  },
  {
   "cell_type": "code",
   "execution_count": 7,
   "id": "ce970c22-2c0b-4fa7-9d8b-cb79ec7729b6",
   "metadata": {},
   "outputs": [
    {
     "data": {
      "text/plain": [
       "100725.945879"
      ]
     },
     "execution_count": 7,
     "metadata": {},
     "output_type": "execute_result"
    }
   ],
   "source": [
    "100725945879 / 1000000"
   ]
  },
  {
   "cell_type": "code",
   "execution_count": null,
   "id": "1b3151c9-c93d-4f63-8df2-31174d0fe4ca",
   "metadata": {},
   "outputs": [],
   "source": []
  }
 ],
 "metadata": {
  "kernelspec": {
   "display_name": "dev",
   "language": "python",
   "name": "dev"
  },
  "language_info": {
   "codemirror_mode": {
    "name": "ipython",
    "version": 3
   },
   "file_extension": ".py",
   "mimetype": "text/x-python",
   "name": "python",
   "nbconvert_exporter": "python",
   "pygments_lexer": "ipython3",
   "version": "3.7.13"
  }
 },
 "nbformat": 4,
 "nbformat_minor": 5
}
