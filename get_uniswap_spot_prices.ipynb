{
 "cells": [
  {
   "cell_type": "code",
   "execution_count": 13,
   "id": "9726acbc-5019-471d-b78e-060878b54001",
   "metadata": {},
   "outputs": [],
   "source": [
    "#Resources:\n",
    "\n",
    "\n",
    "# Web 3 library: https://web3py.readthedocs.io/en/stable/quickstart.html\n",
    "# https://uniswap-python.com/getting-started.html\n",
    "# Gas price strategy https://web3py.readthedocs.io/en/stable/gas_price.html"
   ]
  },
  {
   "cell_type": "code",
   "execution_count": 16,
   "id": "5c775754-3db8-4f32-b878-f63480d1c683",
   "metadata": {},
   "outputs": [
    {
     "name": "stdout",
     "output_type": "stream",
     "text": [
      "Requirement already satisfied: uniswap-python in /Users/kevincorstorphine/opt/anaconda3/envs/dev/lib/python3.7/site-packages (0.5.5)\n",
      "Requirement already satisfied: web3<6.0.0,>=5.23.0 in /Users/kevincorstorphine/opt/anaconda3/envs/dev/lib/python3.7/site-packages (from uniswap-python) (5.29.2)\n",
      "Requirement already satisfied: click<9.0.0,>=8.0.3 in /Users/kevincorstorphine/opt/anaconda3/envs/dev/lib/python3.7/site-packages (from uniswap-python) (8.0.3)\n",
      "Requirement already satisfied: python-dotenv in /Users/kevincorstorphine/opt/anaconda3/envs/dev/lib/python3.7/site-packages (from uniswap-python) (0.20.0)\n",
      "Requirement already satisfied: importlib-metadata in /Users/kevincorstorphine/opt/anaconda3/envs/dev/lib/python3.7/site-packages (from click<9.0.0,>=8.0.3->uniswap-python) (4.8.1)\n",
      "Requirement already satisfied: eth-abi<3.0.0,>=2.0.0b6 in /Users/kevincorstorphine/opt/anaconda3/envs/dev/lib/python3.7/site-packages (from web3<6.0.0,>=5.23.0->uniswap-python) (2.1.1)\n",
      "Requirement already satisfied: requests<3.0.0,>=2.16.0 in /Users/kevincorstorphine/opt/anaconda3/envs/dev/lib/python3.7/site-packages (from web3<6.0.0,>=5.23.0->uniswap-python) (2.26.0)\n",
      "Requirement already satisfied: eth-typing<3.0.0,>=2.0.0 in /Users/kevincorstorphine/opt/anaconda3/envs/dev/lib/python3.7/site-packages (from web3<6.0.0,>=5.23.0->uniswap-python) (2.3.0)\n",
      "Requirement already satisfied: jsonschema<5,>=3.2.0 in /Users/kevincorstorphine/opt/anaconda3/envs/dev/lib/python3.7/site-packages (from web3<6.0.0,>=5.23.0->uniswap-python) (3.2.0)\n",
      "Requirement already satisfied: aiohttp<4,>=3.7.4.post0 in /Users/kevincorstorphine/opt/anaconda3/envs/dev/lib/python3.7/site-packages (from web3<6.0.0,>=5.23.0->uniswap-python) (3.8.1)\n",
      "Requirement already satisfied: protobuf<4,>=3.10.0 in /Users/kevincorstorphine/opt/anaconda3/envs/dev/lib/python3.7/site-packages (from web3<6.0.0,>=5.23.0->uniswap-python) (3.20.1)\n",
      "Requirement already satisfied: eth-account<0.6.0,>=0.5.7 in /Users/kevincorstorphine/opt/anaconda3/envs/dev/lib/python3.7/site-packages (from web3<6.0.0,>=5.23.0->uniswap-python) (0.5.8)\n",
      "Requirement already satisfied: typing-extensions<5,>=3.7.4.1 in /Users/kevincorstorphine/opt/anaconda3/envs/dev/lib/python3.7/site-packages (from web3<6.0.0,>=5.23.0->uniswap-python) (3.10.0.2)\n",
      "Requirement already satisfied: websockets<10,>=9.1 in /Users/kevincorstorphine/opt/anaconda3/envs/dev/lib/python3.7/site-packages (from web3<6.0.0,>=5.23.0->uniswap-python) (9.1)\n",
      "Requirement already satisfied: eth-utils<2.0.0,>=1.9.5 in /Users/kevincorstorphine/opt/anaconda3/envs/dev/lib/python3.7/site-packages (from web3<6.0.0,>=5.23.0->uniswap-python) (1.10.0)\n",
      "Requirement already satisfied: ipfshttpclient==0.8.0a2 in /Users/kevincorstorphine/opt/anaconda3/envs/dev/lib/python3.7/site-packages (from web3<6.0.0,>=5.23.0->uniswap-python) (0.8.0a2)\n",
      "Requirement already satisfied: lru-dict<2.0.0,>=1.1.6 in /Users/kevincorstorphine/opt/anaconda3/envs/dev/lib/python3.7/site-packages (from web3<6.0.0,>=5.23.0->uniswap-python) (1.1.7)\n",
      "Requirement already satisfied: eth-hash[pycryptodome]<1.0.0,>=0.2.0 in /Users/kevincorstorphine/opt/anaconda3/envs/dev/lib/python3.7/site-packages (from web3<6.0.0,>=5.23.0->uniswap-python) (0.3.3)\n",
      "Requirement already satisfied: hexbytes<1.0.0,>=0.1.0 in /Users/kevincorstorphine/opt/anaconda3/envs/dev/lib/python3.7/site-packages (from web3<6.0.0,>=5.23.0->uniswap-python) (0.2.2)\n",
      "Requirement already satisfied: multiaddr>=0.0.7 in /Users/kevincorstorphine/opt/anaconda3/envs/dev/lib/python3.7/site-packages (from ipfshttpclient==0.8.0a2->web3<6.0.0,>=5.23.0->uniswap-python) (0.0.9)\n",
      "Requirement already satisfied: multidict<7.0,>=4.5 in /Users/kevincorstorphine/opt/anaconda3/envs/dev/lib/python3.7/site-packages (from aiohttp<4,>=3.7.4.post0->web3<6.0.0,>=5.23.0->uniswap-python) (6.0.2)\n",
      "Requirement already satisfied: yarl<2.0,>=1.0 in /Users/kevincorstorphine/opt/anaconda3/envs/dev/lib/python3.7/site-packages (from aiohttp<4,>=3.7.4.post0->web3<6.0.0,>=5.23.0->uniswap-python) (1.7.2)\n",
      "Requirement already satisfied: aiosignal>=1.1.2 in /Users/kevincorstorphine/opt/anaconda3/envs/dev/lib/python3.7/site-packages (from aiohttp<4,>=3.7.4.post0->web3<6.0.0,>=5.23.0->uniswap-python) (1.2.0)\n",
      "Requirement already satisfied: charset-normalizer<3.0,>=2.0 in /Users/kevincorstorphine/opt/anaconda3/envs/dev/lib/python3.7/site-packages (from aiohttp<4,>=3.7.4.post0->web3<6.0.0,>=5.23.0->uniswap-python) (2.0.4)\n",
      "Requirement already satisfied: frozenlist>=1.1.1 in /Users/kevincorstorphine/opt/anaconda3/envs/dev/lib/python3.7/site-packages (from aiohttp<4,>=3.7.4.post0->web3<6.0.0,>=5.23.0->uniswap-python) (1.3.0)\n",
      "Requirement already satisfied: asynctest==0.13.0 in /Users/kevincorstorphine/opt/anaconda3/envs/dev/lib/python3.7/site-packages (from aiohttp<4,>=3.7.4.post0->web3<6.0.0,>=5.23.0->uniswap-python) (0.13.0)\n",
      "Requirement already satisfied: attrs>=17.3.0 in /Users/kevincorstorphine/opt/anaconda3/envs/dev/lib/python3.7/site-packages (from aiohttp<4,>=3.7.4.post0->web3<6.0.0,>=5.23.0->uniswap-python) (21.2.0)\n",
      "Requirement already satisfied: async-timeout<5.0,>=4.0.0a3 in /Users/kevincorstorphine/opt/anaconda3/envs/dev/lib/python3.7/site-packages (from aiohttp<4,>=3.7.4.post0->web3<6.0.0,>=5.23.0->uniswap-python) (4.0.2)\n",
      "Requirement already satisfied: parsimonious<0.9.0,>=0.8.0 in /Users/kevincorstorphine/opt/anaconda3/envs/dev/lib/python3.7/site-packages (from eth-abi<3.0.0,>=2.0.0b6->web3<6.0.0,>=5.23.0->uniswap-python) (0.8.1)\n",
      "Requirement already satisfied: bitarray<3,>=1.2.1 in /Users/kevincorstorphine/opt/anaconda3/envs/dev/lib/python3.7/site-packages (from eth-account<0.6.0,>=0.5.7->web3<6.0.0,>=5.23.0->uniswap-python) (2.3.0)\n",
      "Requirement already satisfied: rlp<3,>=1.0.0 in /Users/kevincorstorphine/opt/anaconda3/envs/dev/lib/python3.7/site-packages (from eth-account<0.6.0,>=0.5.7->web3<6.0.0,>=5.23.0->uniswap-python) (2.0.1)\n",
      "Requirement already satisfied: eth-keys<0.4.0,>=0.3.4 in /Users/kevincorstorphine/opt/anaconda3/envs/dev/lib/python3.7/site-packages (from eth-account<0.6.0,>=0.5.7->web3<6.0.0,>=5.23.0->uniswap-python) (0.3.4)\n",
      "Requirement already satisfied: eth-keyfile<0.6.0,>=0.5.0 in /Users/kevincorstorphine/opt/anaconda3/envs/dev/lib/python3.7/site-packages (from eth-account<0.6.0,>=0.5.7->web3<6.0.0,>=5.23.0->uniswap-python) (0.5.1)\n",
      "Requirement already satisfied: eth-rlp<2,>=0.1.2 in /Users/kevincorstorphine/opt/anaconda3/envs/dev/lib/python3.7/site-packages (from eth-account<0.6.0,>=0.5.7->web3<6.0.0,>=5.23.0->uniswap-python) (0.2.1)\n",
      "Requirement already satisfied: pycryptodome<4,>=3.6.6 in /Users/kevincorstorphine/opt/anaconda3/envs/dev/lib/python3.7/site-packages (from eth-hash[pycryptodome]<1.0.0,>=0.2.0->web3<6.0.0,>=5.23.0->uniswap-python) (3.15.0)\n",
      "Requirement already satisfied: cytoolz<1.0.0,>=0.9.0 in /Users/kevincorstorphine/opt/anaconda3/envs/dev/lib/python3.7/site-packages (from eth-keyfile<0.6.0,>=0.5.0->eth-account<0.6.0,>=0.5.7->web3<6.0.0,>=5.23.0->uniswap-python) (0.11.0)\n",
      "Requirement already satisfied: toolz>=0.8.0 in /Users/kevincorstorphine/opt/anaconda3/envs/dev/lib/python3.7/site-packages (from cytoolz<1.0.0,>=0.9.0->eth-keyfile<0.6.0,>=0.5.0->eth-account<0.6.0,>=0.5.7->web3<6.0.0,>=5.23.0->uniswap-python) (0.11.1)\n",
      "Requirement already satisfied: six>=1.11.0 in /Users/kevincorstorphine/opt/anaconda3/envs/dev/lib/python3.7/site-packages (from jsonschema<5,>=3.2.0->web3<6.0.0,>=5.23.0->uniswap-python) (1.16.0)\n",
      "Requirement already satisfied: setuptools in /Users/kevincorstorphine/opt/anaconda3/envs/dev/lib/python3.7/site-packages (from jsonschema<5,>=3.2.0->web3<6.0.0,>=5.23.0->uniswap-python) (58.0.4)\n",
      "Requirement already satisfied: pyrsistent>=0.14.0 in /Users/kevincorstorphine/opt/anaconda3/envs/dev/lib/python3.7/site-packages (from jsonschema<5,>=3.2.0->web3<6.0.0,>=5.23.0->uniswap-python) (0.18.0)\n",
      "Requirement already satisfied: netaddr in /Users/kevincorstorphine/opt/anaconda3/envs/dev/lib/python3.7/site-packages (from multiaddr>=0.0.7->ipfshttpclient==0.8.0a2->web3<6.0.0,>=5.23.0->uniswap-python) (0.8.0)\n",
      "Requirement already satisfied: base58 in /Users/kevincorstorphine/opt/anaconda3/envs/dev/lib/python3.7/site-packages (from multiaddr>=0.0.7->ipfshttpclient==0.8.0a2->web3<6.0.0,>=5.23.0->uniswap-python) (2.1.1)\n",
      "Requirement already satisfied: varint in /Users/kevincorstorphine/opt/anaconda3/envs/dev/lib/python3.7/site-packages (from multiaddr>=0.0.7->ipfshttpclient==0.8.0a2->web3<6.0.0,>=5.23.0->uniswap-python) (1.0.2)\n",
      "Requirement already satisfied: urllib3<1.27,>=1.21.1 in /Users/kevincorstorphine/opt/anaconda3/envs/dev/lib/python3.7/site-packages (from requests<3.0.0,>=2.16.0->web3<6.0.0,>=5.23.0->uniswap-python) (1.26.7)\n",
      "Requirement already satisfied: certifi>=2017.4.17 in /Users/kevincorstorphine/opt/anaconda3/envs/dev/lib/python3.7/site-packages (from requests<3.0.0,>=2.16.0->web3<6.0.0,>=5.23.0->uniswap-python) (2022.5.18.1)\n",
      "Requirement already satisfied: idna<4,>=2.5 in /Users/kevincorstorphine/opt/anaconda3/envs/dev/lib/python3.7/site-packages (from requests<3.0.0,>=2.16.0->web3<6.0.0,>=5.23.0->uniswap-python) (3.2)\n",
      "Requirement already satisfied: zipp>=0.5 in /Users/kevincorstorphine/opt/anaconda3/envs/dev/lib/python3.7/site-packages (from importlib-metadata->click<9.0.0,>=8.0.3->uniswap-python) (3.6.0)\n",
      "Note: you may need to restart the kernel to use updated packages.\n"
     ]
    }
   ],
   "source": [
    "pip install uniswap-python"
   ]
  },
  {
   "cell_type": "code",
   "execution_count": 17,
   "id": "409b45ce-3f80-4eba-908c-c02402b2dd25",
   "metadata": {},
   "outputs": [
    {
     "name": "stdout",
     "output_type": "stream",
     "text": [
      "Requirement already satisfied: websockets==9.1 in /Users/kevincorstorphine/opt/anaconda3/envs/dev/lib/python3.7/site-packages (9.1)\n",
      "Note: you may need to restart the kernel to use updated packages.\n"
     ]
    }
   ],
   "source": [
    "pip install websockets==9.1\n"
   ]
  },
  {
   "cell_type": "code",
   "execution_count": 53,
   "id": "9d00cb11-e821-4252-8d4f-ec0947e6b57a",
   "metadata": {},
   "outputs": [
    {
     "name": "stdout",
     "output_type": "stream",
     "text": [
      "Requirement already satisfied: web3 in /Users/kevincorstorphine/opt/anaconda3/envs/dev/lib/python3.7/site-packages (5.29.2)\n",
      "Requirement already satisfied: eth-account<0.6.0,>=0.5.7 in /Users/kevincorstorphine/opt/anaconda3/envs/dev/lib/python3.7/site-packages (from web3) (0.5.8)\n",
      "Requirement already satisfied: eth-utils<2.0.0,>=1.9.5 in /Users/kevincorstorphine/opt/anaconda3/envs/dev/lib/python3.7/site-packages (from web3) (1.10.0)\n",
      "Requirement already satisfied: requests<3.0.0,>=2.16.0 in /Users/kevincorstorphine/opt/anaconda3/envs/dev/lib/python3.7/site-packages (from web3) (2.26.0)\n",
      "Requirement already satisfied: eth-hash[pycryptodome]<1.0.0,>=0.2.0 in /Users/kevincorstorphine/opt/anaconda3/envs/dev/lib/python3.7/site-packages (from web3) (0.3.3)\n",
      "Requirement already satisfied: eth-abi<3.0.0,>=2.0.0b6 in /Users/kevincorstorphine/opt/anaconda3/envs/dev/lib/python3.7/site-packages (from web3) (2.1.1)\n",
      "Requirement already satisfied: aiohttp<4,>=3.7.4.post0 in /Users/kevincorstorphine/opt/anaconda3/envs/dev/lib/python3.7/site-packages (from web3) (3.8.1)\n",
      "Requirement already satisfied: eth-typing<3.0.0,>=2.0.0 in /Users/kevincorstorphine/opt/anaconda3/envs/dev/lib/python3.7/site-packages (from web3) (2.3.0)\n",
      "Requirement already satisfied: websockets<10,>=9.1 in /Users/kevincorstorphine/opt/anaconda3/envs/dev/lib/python3.7/site-packages (from web3) (9.1)\n",
      "Requirement already satisfied: ipfshttpclient==0.8.0a2 in /Users/kevincorstorphine/opt/anaconda3/envs/dev/lib/python3.7/site-packages (from web3) (0.8.0a2)\n",
      "Requirement already satisfied: typing-extensions<5,>=3.7.4.1 in /Users/kevincorstorphine/opt/anaconda3/envs/dev/lib/python3.7/site-packages (from web3) (3.10.0.2)\n",
      "Requirement already satisfied: lru-dict<2.0.0,>=1.1.6 in /Users/kevincorstorphine/opt/anaconda3/envs/dev/lib/python3.7/site-packages (from web3) (1.1.7)\n",
      "Requirement already satisfied: protobuf<4,>=3.10.0 in /Users/kevincorstorphine/opt/anaconda3/envs/dev/lib/python3.7/site-packages (from web3) (3.20.1)\n",
      "Requirement already satisfied: hexbytes<1.0.0,>=0.1.0 in /Users/kevincorstorphine/opt/anaconda3/envs/dev/lib/python3.7/site-packages (from web3) (0.2.2)\n",
      "Requirement already satisfied: jsonschema<5,>=3.2.0 in /Users/kevincorstorphine/opt/anaconda3/envs/dev/lib/python3.7/site-packages (from web3) (3.2.0)\n",
      "Requirement already satisfied: multiaddr>=0.0.7 in /Users/kevincorstorphine/opt/anaconda3/envs/dev/lib/python3.7/site-packages (from ipfshttpclient==0.8.0a2->web3) (0.0.9)\n",
      "Requirement already satisfied: asynctest==0.13.0 in /Users/kevincorstorphine/opt/anaconda3/envs/dev/lib/python3.7/site-packages (from aiohttp<4,>=3.7.4.post0->web3) (0.13.0)\n",
      "Requirement already satisfied: charset-normalizer<3.0,>=2.0 in /Users/kevincorstorphine/opt/anaconda3/envs/dev/lib/python3.7/site-packages (from aiohttp<4,>=3.7.4.post0->web3) (2.0.4)\n",
      "Requirement already satisfied: aiosignal>=1.1.2 in /Users/kevincorstorphine/opt/anaconda3/envs/dev/lib/python3.7/site-packages (from aiohttp<4,>=3.7.4.post0->web3) (1.2.0)\n",
      "Requirement already satisfied: multidict<7.0,>=4.5 in /Users/kevincorstorphine/opt/anaconda3/envs/dev/lib/python3.7/site-packages (from aiohttp<4,>=3.7.4.post0->web3) (6.0.2)\n",
      "Requirement already satisfied: frozenlist>=1.1.1 in /Users/kevincorstorphine/opt/anaconda3/envs/dev/lib/python3.7/site-packages (from aiohttp<4,>=3.7.4.post0->web3) (1.3.0)\n",
      "Requirement already satisfied: attrs>=17.3.0 in /Users/kevincorstorphine/opt/anaconda3/envs/dev/lib/python3.7/site-packages (from aiohttp<4,>=3.7.4.post0->web3) (21.2.0)\n",
      "Requirement already satisfied: yarl<2.0,>=1.0 in /Users/kevincorstorphine/opt/anaconda3/envs/dev/lib/python3.7/site-packages (from aiohttp<4,>=3.7.4.post0->web3) (1.7.2)\n",
      "Requirement already satisfied: async-timeout<5.0,>=4.0.0a3 in /Users/kevincorstorphine/opt/anaconda3/envs/dev/lib/python3.7/site-packages (from aiohttp<4,>=3.7.4.post0->web3) (4.0.2)\n",
      "Requirement already satisfied: parsimonious<0.9.0,>=0.8.0 in /Users/kevincorstorphine/opt/anaconda3/envs/dev/lib/python3.7/site-packages (from eth-abi<3.0.0,>=2.0.0b6->web3) (0.8.1)\n",
      "Requirement already satisfied: bitarray<3,>=1.2.1 in /Users/kevincorstorphine/opt/anaconda3/envs/dev/lib/python3.7/site-packages (from eth-account<0.6.0,>=0.5.7->web3) (2.3.0)\n",
      "Requirement already satisfied: rlp<3,>=1.0.0 in /Users/kevincorstorphine/opt/anaconda3/envs/dev/lib/python3.7/site-packages (from eth-account<0.6.0,>=0.5.7->web3) (2.0.1)\n",
      "Requirement already satisfied: eth-keys<0.4.0,>=0.3.4 in /Users/kevincorstorphine/opt/anaconda3/envs/dev/lib/python3.7/site-packages (from eth-account<0.6.0,>=0.5.7->web3) (0.3.4)\n",
      "Requirement already satisfied: eth-rlp<2,>=0.1.2 in /Users/kevincorstorphine/opt/anaconda3/envs/dev/lib/python3.7/site-packages (from eth-account<0.6.0,>=0.5.7->web3) (0.2.1)\n",
      "Requirement already satisfied: eth-keyfile<0.6.0,>=0.5.0 in /Users/kevincorstorphine/opt/anaconda3/envs/dev/lib/python3.7/site-packages (from eth-account<0.6.0,>=0.5.7->web3) (0.5.1)\n",
      "Requirement already satisfied: pycryptodome<4,>=3.6.6 in /Users/kevincorstorphine/opt/anaconda3/envs/dev/lib/python3.7/site-packages (from eth-hash[pycryptodome]<1.0.0,>=0.2.0->web3) (3.15.0)\n",
      "Requirement already satisfied: cytoolz<1.0.0,>=0.9.0 in /Users/kevincorstorphine/opt/anaconda3/envs/dev/lib/python3.7/site-packages (from eth-keyfile<0.6.0,>=0.5.0->eth-account<0.6.0,>=0.5.7->web3) (0.11.0)\n",
      "Requirement already satisfied: toolz>=0.8.0 in /Users/kevincorstorphine/opt/anaconda3/envs/dev/lib/python3.7/site-packages (from cytoolz<1.0.0,>=0.9.0->eth-keyfile<0.6.0,>=0.5.0->eth-account<0.6.0,>=0.5.7->web3) (0.11.1)\n",
      "Requirement already satisfied: pyrsistent>=0.14.0 in /Users/kevincorstorphine/opt/anaconda3/envs/dev/lib/python3.7/site-packages (from jsonschema<5,>=3.2.0->web3) (0.18.0)\n",
      "Requirement already satisfied: six>=1.11.0 in /Users/kevincorstorphine/opt/anaconda3/envs/dev/lib/python3.7/site-packages (from jsonschema<5,>=3.2.0->web3) (1.16.0)\n",
      "Requirement already satisfied: importlib-metadata in /Users/kevincorstorphine/opt/anaconda3/envs/dev/lib/python3.7/site-packages (from jsonschema<5,>=3.2.0->web3) (4.8.1)\n",
      "Requirement already satisfied: setuptools in /Users/kevincorstorphine/opt/anaconda3/envs/dev/lib/python3.7/site-packages (from jsonschema<5,>=3.2.0->web3) (58.0.4)\n",
      "Requirement already satisfied: netaddr in /Users/kevincorstorphine/opt/anaconda3/envs/dev/lib/python3.7/site-packages (from multiaddr>=0.0.7->ipfshttpclient==0.8.0a2->web3) (0.8.0)\n",
      "Requirement already satisfied: base58 in /Users/kevincorstorphine/opt/anaconda3/envs/dev/lib/python3.7/site-packages (from multiaddr>=0.0.7->ipfshttpclient==0.8.0a2->web3) (2.1.1)\n",
      "Requirement already satisfied: varint in /Users/kevincorstorphine/opt/anaconda3/envs/dev/lib/python3.7/site-packages (from multiaddr>=0.0.7->ipfshttpclient==0.8.0a2->web3) (1.0.2)\n",
      "Requirement already satisfied: certifi>=2017.4.17 in /Users/kevincorstorphine/opt/anaconda3/envs/dev/lib/python3.7/site-packages (from requests<3.0.0,>=2.16.0->web3) (2022.5.18.1)\n",
      "Requirement already satisfied: urllib3<1.27,>=1.21.1 in /Users/kevincorstorphine/opt/anaconda3/envs/dev/lib/python3.7/site-packages (from requests<3.0.0,>=2.16.0->web3) (1.26.7)\n",
      "Requirement already satisfied: idna<4,>=2.5 in /Users/kevincorstorphine/opt/anaconda3/envs/dev/lib/python3.7/site-packages (from requests<3.0.0,>=2.16.0->web3) (3.2)\n",
      "Requirement already satisfied: zipp>=0.5 in /Users/kevincorstorphine/opt/anaconda3/envs/dev/lib/python3.7/site-packages (from importlib-metadata->jsonschema<5,>=3.2.0->web3) (3.6.0)\n",
      "Note: you may need to restart the kernel to use updated packages.\n"
     ]
    }
   ],
   "source": [
    "pip install web3"
   ]
  },
  {
   "cell_type": "code",
   "execution_count": 65,
   "id": "8792c6c3-ef1b-4441-9ff4-24dfee7e0f07",
   "metadata": {},
   "outputs": [],
   "source": [
    "from web3 import Web3\n",
    "from uniswap import Uniswap"
   ]
  },
  {
   "cell_type": "code",
   "execution_count": 66,
   "id": "52bac87b-e8d5-4675-8957-b173be41daaa",
   "metadata": {},
   "outputs": [],
   "source": [
    "# Placeholder wallet for now, will need to update. Using new infura free account. May need to make key, and provider .env files at some point. \n",
    "\n",
    "address = None      # or None if you're not going to make transactions\n",
    "private_key = None  # or None if you're not going to make transactions\n",
    "version = 2         # specify which version of Uniswap to use\n",
    "provider = \"https://mainnet.infura.io/v3/ba4491ce1dcd4e808c3f05e41fc15f7e\"    # can also be set through the environment variable `PROVIDER`\n",
    "uniswap = Uniswap(address=address, private_key=private_key, version=version, provider=provider)"
   ]
  },
  {
   "cell_type": "code",
   "execution_count": 67,
   "id": "ce5bbc67-f708-4d3d-a618-76805f366f46",
   "metadata": {},
   "outputs": [],
   "source": [
    "#token addresses\n",
    "\n",
    "eth = Web3.toChecksumAddress(\"0x0000000000000000000000000000000000000000\")\n",
    "dai = Web3.toChecksumAddress(\"0x6B175474E89094C44Da98b954EedeAC495271d0F\")\n",
    "susd = Web3.toChecksumAddress(\"0x57ab1ec28d129707052df4df418d58a2d46d5f51\")\n",
    "usdc = Web3.toChecksumAddress(\"0xa0b86991c6218b36c1d19d4a2e9eb0ce3606eb48\")"
   ]
  },
  {
   "cell_type": "code",
   "execution_count": 68,
   "id": "4c87b9be-7bac-4bf2-bf39-7d9006473ee5",
   "metadata": {},
   "outputs": [],
   "source": [
    "# Info on constructing gas calculation\n",
    "# Gas price strategy https://web3py.readthedocs.io/en/stable/gas_price.html\n",
    "\n",
    "\n"
   ]
  },
  {
   "cell_type": "code",
   "execution_count": 69,
   "id": "f6d5bea8-ceca-4665-96cd-d0a58703cfbe",
   "metadata": {},
   "outputs": [
    {
     "ename": "AttributeError",
     "evalue": "'Uniswap' object has no attribute 'get_price'",
     "output_type": "error",
     "traceback": [
      "\u001b[0;31m---------------------------------------------------------------------------\u001b[0m",
      "\u001b[0;31mAttributeError\u001b[0m                            Traceback (most recent call last)",
      "\u001b[0;32m/var/folders/91/bcl7bj6n2fqf9j03fdhyl02c0000gn/T/ipykernel_86341/3867461627.py\u001b[0m in \u001b[0;36m<module>\u001b[0;34m\u001b[0m\n\u001b[0;32m----> 1\u001b[0;31m \u001b[0msusd_price\u001b[0m \u001b[0;34m=\u001b[0m\u001b[0muniswap\u001b[0m\u001b[0;34m.\u001b[0m\u001b[0mget_price\u001b[0m\u001b[0;34m(\u001b[0m\u001b[0msusd\u001b[0m\u001b[0;34m,\u001b[0m\u001b[0musdc\u001b[0m\u001b[0;34m,\u001b[0m \u001b[0;36m10\u001b[0m\u001b[0;34m**\u001b[0m\u001b[0;36m18\u001b[0m\u001b[0;34m)\u001b[0m\u001b[0;34m\u001b[0m\u001b[0;34m\u001b[0m\u001b[0m\n\u001b[0m",
      "\u001b[0;31mAttributeError\u001b[0m: 'Uniswap' object has no attribute 'get_price'"
     ]
    }
   ],
   "source": [
    "susd_price =uniswap.get_price(susd,usdc, 10**18)"
   ]
  },
  {
   "cell_type": "code",
   "execution_count": 64,
   "id": "2a2de8a8-b86d-4b0a-8067-f2b04904921d",
   "metadata": {},
   "outputs": [
    {
     "name": "stderr",
     "output_type": "stream",
     "text": [
      "No route specified, assuming route: ['0x57Ab1ec28D129707052df4dF418D58a2D46d5f51', '0xC02aaA39b223FE8D0A0e5C4F27eAD9083C756Cc2', '0xA0b86991c6218b36c1d19D4a2e9Eb0cE3606eB48']\n"
     ]
    },
    {
     "data": {
      "text/plain": [
       "986472"
      ]
     },
     "execution_count": 64,
     "metadata": {},
     "output_type": "execute_result"
    }
   ],
   "source": [
    "#get_price_input()\n",
    "#This returns the amount of output tokens you get for a given amount of input tokens. \n",
    "# This example returns the amount of usdc you get for 1 ETH\n",
    "\n",
    "\n",
    "input = uniswap.get_price_input(susd, usdc, 10**18)\n",
    "input\n",
    "\n",
    "# the transaction goes synthetic USD, to wrapped Ether, to usdc"
   ]
  },
  {
   "cell_type": "code",
   "execution_count": 41,
   "id": "d255d4f3-c338-4f8f-b059-bd473577024e",
   "metadata": {},
   "outputs": [
    {
     "data": {
      "text/plain": [
       "947893118632871469"
      ]
     },
     "execution_count": 41,
     "metadata": {},
     "output_type": "execute_result"
    }
   ],
   "source": [
    "#get_price_output()\n",
    "#This returns the amount of input token you need for the given amount of output tokens:\n",
    "# Returns the amount of ETH you need to pay (in wei) to get 1000 DAI\n",
    "\n",
    "output = uniswap.get_price_output(eth,dai, 1_000 * 10**18)\n",
    "output"
   ]
  },
  {
   "cell_type": "code",
   "execution_count": 46,
   "id": "e7490700-ed65-488a-8c28-398a4fc0ee25",
   "metadata": {},
   "outputs": [],
   "source": [
    "# # Make a trade by specifying the quantity of the input token you wish to sell\n",
    "# uniswap.make_trade(eth, bat, 1*10**18)  # sell 1 ETH for BAT\n",
    "# uniswap.make_trade(bat, eth, 1*10**18)  # sell 1 BAT for ETH\n",
    "# uniswap.make_trade(bat, dai, 1*10**18)  # sell 1 BAT for DAI\n",
    "# uniswap.make_trade(eth, bat, 1*10**18, \"0x123...\")  # sell 1 ETH for BAT, and send the BAT to the provided address\n",
    "# uniswap.make_trade(dai, usdc, 1*10**18, fee=500)    # sell 1 DAI for USDC using the 0.05% fee pool (v3 only)"
   ]
  },
  {
   "cell_type": "code",
   "execution_count": 45,
   "id": "339b5f4f-a011-4cc9-b276-bacc9bf30713",
   "metadata": {},
   "outputs": [],
   "source": [
    "# # Make a trade by specifying the quantity of the output token you wish to buy\n",
    "# uniswap.make_trade_output(eth, bat, 1*10**18)  # buy ETH for 1 BAT\n",
    "# uniswap.make_trade_output(bat, eth, 1*10**18)  # buy BAT for 1 ETH\n",
    "# uniswap.make_trade_output(bat, dai, 1*10**18, \"0x123...\")  # buy BAT for 1 DAI, and send the BAT to the provided address\n",
    "# uniswap.make_trade_output(dai, usdc, 1*10**8, fee=500)     # buy USDC for 1 DAI using the 0.05% fee pool (v3 only)"
   ]
  },
  {
   "cell_type": "code",
   "execution_count": null,
   "id": "2a684b53-54a3-4831-b96e-672e12102915",
   "metadata": {},
   "outputs": [],
   "source": []
  }
 ],
 "metadata": {
  "kernelspec": {
   "display_name": "Python 3 (ipykernel)",
   "language": "python",
   "name": "python3"
  },
  "language_info": {
   "codemirror_mode": {
    "name": "ipython",
    "version": 3
   },
   "file_extension": ".py",
   "mimetype": "text/x-python",
   "name": "python",
   "nbconvert_exporter": "python",
   "pygments_lexer": "ipython3",
   "version": "3.7.11"
  }
 },
 "nbformat": 4,
 "nbformat_minor": 5
}
