{
 "cells": [
  {
   "cell_type": "code",
   "execution_count": 1,
   "id": "00bcf066-6cf5-4d2a-b4de-7f2a15069188",
   "metadata": {},
   "outputs": [],
   "source": [
    "# Things to discuss:\n",
    "\n",
    "# The coingecko data that we worked off of gave us a price of sUSD being the most volatile. Coingecko data is an aggregation of multiple sources. \n",
    "# Uniswap is the most popular and easily accessable out of the exchanges listed(outside of Kucoin). People are likely already arbitraging on Uniswap because it's the most popular and most liquid.\n",
    "# What may need to happen is to eventually write a smart contract that can get to Kwenta (Synthetix's in-house exchange) . Historical data isn't availalbe from there, but I think the difficulty in actually integrating it\n",
    "# is where the value actually lies here. FLASH LOAN KWENTA, will only go through if it's profitable (minus gas costs)\n",
    "\n",
    "#Do the machine learning exercise and prove out that this works, then actually make it happen (flashloan or otherwise with option 3). \n",
    "#The historical price data from a different data source isn't really going to work, when we need it super granular like this. Need historical Graph data maybe.\n",
    "\n"
   ]
  },
  {
   "cell_type": "code",
   "execution_count": 1,
   "id": "9726acbc-5019-471d-b78e-060878b54001",
   "metadata": {},
   "outputs": [],
   "source": [
    "#Resources:\n",
    "\n",
    "\n",
    "# Web 3 library: https://web3py.readthedocs.io/en/stable/quickstart.html\n",
    "# https://uniswap-python.com/getting-started.html\n",
    "# Gas price strategy https://web3py.readthedocs.io/en/stable/gas_price.html"
   ]
  },
  {
   "cell_type": "code",
   "execution_count": 2,
   "id": "5c775754-3db8-4f32-b878-f63480d1c683",
   "metadata": {},
   "outputs": [
    {
     "name": "stdout",
     "output_type": "stream",
     "text": [
      "Requirement already satisfied: uniswap-python in /Users/kevincorstorphine/opt/anaconda3/envs/dev/lib/python3.7/site-packages (0.5.5)\n",
      "Requirement already satisfied: click<9.0.0,>=8.0.3 in /Users/kevincorstorphine/opt/anaconda3/envs/dev/lib/python3.7/site-packages (from uniswap-python) (8.0.3)\n",
      "Requirement already satisfied: web3<6.0.0,>=5.23.0 in /Users/kevincorstorphine/opt/anaconda3/envs/dev/lib/python3.7/site-packages (from uniswap-python) (5.29.2)\n",
      "Requirement already satisfied: python-dotenv in /Users/kevincorstorphine/opt/anaconda3/envs/dev/lib/python3.7/site-packages (from uniswap-python) (0.20.0)\n",
      "Requirement already satisfied: importlib-metadata in /Users/kevincorstorphine/opt/anaconda3/envs/dev/lib/python3.7/site-packages (from click<9.0.0,>=8.0.3->uniswap-python) (4.8.1)\n",
      "Requirement already satisfied: hexbytes<1.0.0,>=0.1.0 in /Users/kevincorstorphine/opt/anaconda3/envs/dev/lib/python3.7/site-packages (from web3<6.0.0,>=5.23.0->uniswap-python) (0.2.2)\n",
      "Requirement already satisfied: eth-typing<3.0.0,>=2.0.0 in /Users/kevincorstorphine/opt/anaconda3/envs/dev/lib/python3.7/site-packages (from web3<6.0.0,>=5.23.0->uniswap-python) (2.3.0)\n",
      "Requirement already satisfied: lru-dict<2.0.0,>=1.1.6 in /Users/kevincorstorphine/opt/anaconda3/envs/dev/lib/python3.7/site-packages (from web3<6.0.0,>=5.23.0->uniswap-python) (1.1.7)\n",
      "Requirement already satisfied: typing-extensions<5,>=3.7.4.1 in /Users/kevincorstorphine/opt/anaconda3/envs/dev/lib/python3.7/site-packages (from web3<6.0.0,>=5.23.0->uniswap-python) (3.10.0.2)\n",
      "Requirement already satisfied: eth-abi<3.0.0,>=2.0.0b6 in /Users/kevincorstorphine/opt/anaconda3/envs/dev/lib/python3.7/site-packages (from web3<6.0.0,>=5.23.0->uniswap-python) (2.1.1)\n",
      "Requirement already satisfied: aiohttp<4,>=3.7.4.post0 in /Users/kevincorstorphine/opt/anaconda3/envs/dev/lib/python3.7/site-packages (from web3<6.0.0,>=5.23.0->uniswap-python) (3.8.1)\n",
      "Requirement already satisfied: jsonschema<5,>=3.2.0 in /Users/kevincorstorphine/opt/anaconda3/envs/dev/lib/python3.7/site-packages (from web3<6.0.0,>=5.23.0->uniswap-python) (3.2.0)\n",
      "Requirement already satisfied: websockets<10,>=9.1 in /Users/kevincorstorphine/opt/anaconda3/envs/dev/lib/python3.7/site-packages (from web3<6.0.0,>=5.23.0->uniswap-python) (9.1)\n",
      "Requirement already satisfied: requests<3.0.0,>=2.16.0 in /Users/kevincorstorphine/opt/anaconda3/envs/dev/lib/python3.7/site-packages (from web3<6.0.0,>=5.23.0->uniswap-python) (2.26.0)\n",
      "Requirement already satisfied: ipfshttpclient==0.8.0a2 in /Users/kevincorstorphine/opt/anaconda3/envs/dev/lib/python3.7/site-packages (from web3<6.0.0,>=5.23.0->uniswap-python) (0.8.0a2)\n",
      "Requirement already satisfied: eth-utils<2.0.0,>=1.9.5 in /Users/kevincorstorphine/opt/anaconda3/envs/dev/lib/python3.7/site-packages (from web3<6.0.0,>=5.23.0->uniswap-python) (1.10.0)\n",
      "Requirement already satisfied: protobuf<4,>=3.10.0 in /Users/kevincorstorphine/opt/anaconda3/envs/dev/lib/python3.7/site-packages (from web3<6.0.0,>=5.23.0->uniswap-python) (3.20.1)\n",
      "Requirement already satisfied: eth-account<0.6.0,>=0.5.7 in /Users/kevincorstorphine/opt/anaconda3/envs/dev/lib/python3.7/site-packages (from web3<6.0.0,>=5.23.0->uniswap-python) (0.5.8)\n",
      "Requirement already satisfied: eth-hash[pycryptodome]<1.0.0,>=0.2.0 in /Users/kevincorstorphine/opt/anaconda3/envs/dev/lib/python3.7/site-packages (from web3<6.0.0,>=5.23.0->uniswap-python) (0.3.3)\n",
      "Requirement already satisfied: multiaddr>=0.0.7 in /Users/kevincorstorphine/opt/anaconda3/envs/dev/lib/python3.7/site-packages (from ipfshttpclient==0.8.0a2->web3<6.0.0,>=5.23.0->uniswap-python) (0.0.9)\n",
      "Requirement already satisfied: multidict<7.0,>=4.5 in /Users/kevincorstorphine/opt/anaconda3/envs/dev/lib/python3.7/site-packages (from aiohttp<4,>=3.7.4.post0->web3<6.0.0,>=5.23.0->uniswap-python) (6.0.2)\n",
      "Requirement already satisfied: aiosignal>=1.1.2 in /Users/kevincorstorphine/opt/anaconda3/envs/dev/lib/python3.7/site-packages (from aiohttp<4,>=3.7.4.post0->web3<6.0.0,>=5.23.0->uniswap-python) (1.2.0)\n",
      "Requirement already satisfied: asynctest==0.13.0 in /Users/kevincorstorphine/opt/anaconda3/envs/dev/lib/python3.7/site-packages (from aiohttp<4,>=3.7.4.post0->web3<6.0.0,>=5.23.0->uniswap-python) (0.13.0)\n",
      "Requirement already satisfied: async-timeout<5.0,>=4.0.0a3 in /Users/kevincorstorphine/opt/anaconda3/envs/dev/lib/python3.7/site-packages (from aiohttp<4,>=3.7.4.post0->web3<6.0.0,>=5.23.0->uniswap-python) (4.0.2)\n",
      "Requirement already satisfied: frozenlist>=1.1.1 in /Users/kevincorstorphine/opt/anaconda3/envs/dev/lib/python3.7/site-packages (from aiohttp<4,>=3.7.4.post0->web3<6.0.0,>=5.23.0->uniswap-python) (1.3.0)\n",
      "Requirement already satisfied: attrs>=17.3.0 in /Users/kevincorstorphine/opt/anaconda3/envs/dev/lib/python3.7/site-packages (from aiohttp<4,>=3.7.4.post0->web3<6.0.0,>=5.23.0->uniswap-python) (21.2.0)\n",
      "Requirement already satisfied: yarl<2.0,>=1.0 in /Users/kevincorstorphine/opt/anaconda3/envs/dev/lib/python3.7/site-packages (from aiohttp<4,>=3.7.4.post0->web3<6.0.0,>=5.23.0->uniswap-python) (1.7.2)\n",
      "Requirement already satisfied: charset-normalizer<3.0,>=2.0 in /Users/kevincorstorphine/opt/anaconda3/envs/dev/lib/python3.7/site-packages (from aiohttp<4,>=3.7.4.post0->web3<6.0.0,>=5.23.0->uniswap-python) (2.0.4)\n",
      "Requirement already satisfied: parsimonious<0.9.0,>=0.8.0 in /Users/kevincorstorphine/opt/anaconda3/envs/dev/lib/python3.7/site-packages (from eth-abi<3.0.0,>=2.0.0b6->web3<6.0.0,>=5.23.0->uniswap-python) (0.8.1)\n",
      "Requirement already satisfied: rlp<3,>=1.0.0 in /Users/kevincorstorphine/opt/anaconda3/envs/dev/lib/python3.7/site-packages (from eth-account<0.6.0,>=0.5.7->web3<6.0.0,>=5.23.0->uniswap-python) (2.0.1)\n",
      "Requirement already satisfied: eth-rlp<2,>=0.1.2 in /Users/kevincorstorphine/opt/anaconda3/envs/dev/lib/python3.7/site-packages (from eth-account<0.6.0,>=0.5.7->web3<6.0.0,>=5.23.0->uniswap-python) (0.2.1)\n",
      "Requirement already satisfied: bitarray<3,>=1.2.1 in /Users/kevincorstorphine/opt/anaconda3/envs/dev/lib/python3.7/site-packages (from eth-account<0.6.0,>=0.5.7->web3<6.0.0,>=5.23.0->uniswap-python) (2.3.0)\n",
      "Requirement already satisfied: eth-keyfile<0.6.0,>=0.5.0 in /Users/kevincorstorphine/opt/anaconda3/envs/dev/lib/python3.7/site-packages (from eth-account<0.6.0,>=0.5.7->web3<6.0.0,>=5.23.0->uniswap-python) (0.5.1)\n",
      "Requirement already satisfied: eth-keys<0.4.0,>=0.3.4 in /Users/kevincorstorphine/opt/anaconda3/envs/dev/lib/python3.7/site-packages (from eth-account<0.6.0,>=0.5.7->web3<6.0.0,>=5.23.0->uniswap-python) (0.3.4)\n",
      "Requirement already satisfied: pycryptodome<4,>=3.6.6 in /Users/kevincorstorphine/opt/anaconda3/envs/dev/lib/python3.7/site-packages (from eth-hash[pycryptodome]<1.0.0,>=0.2.0->web3<6.0.0,>=5.23.0->uniswap-python) (3.15.0)\n",
      "Requirement already satisfied: cytoolz<1.0.0,>=0.9.0 in /Users/kevincorstorphine/opt/anaconda3/envs/dev/lib/python3.7/site-packages (from eth-keyfile<0.6.0,>=0.5.0->eth-account<0.6.0,>=0.5.7->web3<6.0.0,>=5.23.0->uniswap-python) (0.11.0)\n",
      "Requirement already satisfied: toolz>=0.8.0 in /Users/kevincorstorphine/opt/anaconda3/envs/dev/lib/python3.7/site-packages (from cytoolz<1.0.0,>=0.9.0->eth-keyfile<0.6.0,>=0.5.0->eth-account<0.6.0,>=0.5.7->web3<6.0.0,>=5.23.0->uniswap-python) (0.11.1)\n",
      "Requirement already satisfied: setuptools in /Users/kevincorstorphine/opt/anaconda3/envs/dev/lib/python3.7/site-packages (from jsonschema<5,>=3.2.0->web3<6.0.0,>=5.23.0->uniswap-python) (58.0.4)\n",
      "Requirement already satisfied: pyrsistent>=0.14.0 in /Users/kevincorstorphine/opt/anaconda3/envs/dev/lib/python3.7/site-packages (from jsonschema<5,>=3.2.0->web3<6.0.0,>=5.23.0->uniswap-python) (0.18.0)\n",
      "Requirement already satisfied: six>=1.11.0 in /Users/kevincorstorphine/opt/anaconda3/envs/dev/lib/python3.7/site-packages (from jsonschema<5,>=3.2.0->web3<6.0.0,>=5.23.0->uniswap-python) (1.16.0)\n",
      "Requirement already satisfied: varint in /Users/kevincorstorphine/opt/anaconda3/envs/dev/lib/python3.7/site-packages (from multiaddr>=0.0.7->ipfshttpclient==0.8.0a2->web3<6.0.0,>=5.23.0->uniswap-python) (1.0.2)\n",
      "Requirement already satisfied: netaddr in /Users/kevincorstorphine/opt/anaconda3/envs/dev/lib/python3.7/site-packages (from multiaddr>=0.0.7->ipfshttpclient==0.8.0a2->web3<6.0.0,>=5.23.0->uniswap-python) (0.8.0)\n",
      "Requirement already satisfied: base58 in /Users/kevincorstorphine/opt/anaconda3/envs/dev/lib/python3.7/site-packages (from multiaddr>=0.0.7->ipfshttpclient==0.8.0a2->web3<6.0.0,>=5.23.0->uniswap-python) (2.1.1)\n",
      "Requirement already satisfied: certifi>=2017.4.17 in /Users/kevincorstorphine/opt/anaconda3/envs/dev/lib/python3.7/site-packages (from requests<3.0.0,>=2.16.0->web3<6.0.0,>=5.23.0->uniswap-python) (2022.5.18.1)\n",
      "Requirement already satisfied: urllib3<1.27,>=1.21.1 in /Users/kevincorstorphine/opt/anaconda3/envs/dev/lib/python3.7/site-packages (from requests<3.0.0,>=2.16.0->web3<6.0.0,>=5.23.0->uniswap-python) (1.26.7)\n",
      "Requirement already satisfied: idna<4,>=2.5 in /Users/kevincorstorphine/opt/anaconda3/envs/dev/lib/python3.7/site-packages (from requests<3.0.0,>=2.16.0->web3<6.0.0,>=5.23.0->uniswap-python) (3.2)\n",
      "Requirement already satisfied: zipp>=0.5 in /Users/kevincorstorphine/opt/anaconda3/envs/dev/lib/python3.7/site-packages (from importlib-metadata->click<9.0.0,>=8.0.3->uniswap-python) (3.6.0)\n",
      "Note: you may need to restart the kernel to use updated packages.\n"
     ]
    }
   ],
   "source": [
    "pip install uniswap-python"
   ]
  },
  {
   "cell_type": "code",
   "execution_count": 3,
   "id": "409b45ce-3f80-4eba-908c-c02402b2dd25",
   "metadata": {},
   "outputs": [
    {
     "name": "stdout",
     "output_type": "stream",
     "text": [
      "Requirement already satisfied: websockets==9.1 in /Users/kevincorstorphine/opt/anaconda3/envs/dev/lib/python3.7/site-packages (9.1)\n",
      "Note: you may need to restart the kernel to use updated packages.\n"
     ]
    }
   ],
   "source": [
    "pip install websockets==9.1\n"
   ]
  },
  {
   "cell_type": "code",
   "execution_count": 4,
   "id": "9d00cb11-e821-4252-8d4f-ec0947e6b57a",
   "metadata": {},
   "outputs": [
    {
     "name": "stdout",
     "output_type": "stream",
     "text": [
      "Requirement already satisfied: web3 in /Users/kevincorstorphine/opt/anaconda3/envs/dev/lib/python3.7/site-packages (5.29.2)\n",
      "Requirement already satisfied: hexbytes<1.0.0,>=0.1.0 in /Users/kevincorstorphine/opt/anaconda3/envs/dev/lib/python3.7/site-packages (from web3) (0.2.2)\n",
      "Requirement already satisfied: jsonschema<5,>=3.2.0 in /Users/kevincorstorphine/opt/anaconda3/envs/dev/lib/python3.7/site-packages (from web3) (3.2.0)\n",
      "Requirement already satisfied: eth-typing<3.0.0,>=2.0.0 in /Users/kevincorstorphine/opt/anaconda3/envs/dev/lib/python3.7/site-packages (from web3) (2.3.0)\n",
      "Requirement already satisfied: requests<3.0.0,>=2.16.0 in /Users/kevincorstorphine/opt/anaconda3/envs/dev/lib/python3.7/site-packages (from web3) (2.26.0)\n",
      "Requirement already satisfied: lru-dict<2.0.0,>=1.1.6 in /Users/kevincorstorphine/opt/anaconda3/envs/dev/lib/python3.7/site-packages (from web3) (1.1.7)\n",
      "Requirement already satisfied: eth-utils<2.0.0,>=1.9.5 in /Users/kevincorstorphine/opt/anaconda3/envs/dev/lib/python3.7/site-packages (from web3) (1.10.0)\n",
      "Requirement already satisfied: websockets<10,>=9.1 in /Users/kevincorstorphine/opt/anaconda3/envs/dev/lib/python3.7/site-packages (from web3) (9.1)\n",
      "Requirement already satisfied: aiohttp<4,>=3.7.4.post0 in /Users/kevincorstorphine/opt/anaconda3/envs/dev/lib/python3.7/site-packages (from web3) (3.8.1)\n",
      "Requirement already satisfied: eth-account<0.6.0,>=0.5.7 in /Users/kevincorstorphine/opt/anaconda3/envs/dev/lib/python3.7/site-packages (from web3) (0.5.8)\n",
      "Requirement already satisfied: typing-extensions<5,>=3.7.4.1 in /Users/kevincorstorphine/opt/anaconda3/envs/dev/lib/python3.7/site-packages (from web3) (3.10.0.2)\n",
      "Requirement already satisfied: eth-hash[pycryptodome]<1.0.0,>=0.2.0 in /Users/kevincorstorphine/opt/anaconda3/envs/dev/lib/python3.7/site-packages (from web3) (0.3.3)\n",
      "Requirement already satisfied: eth-abi<3.0.0,>=2.0.0b6 in /Users/kevincorstorphine/opt/anaconda3/envs/dev/lib/python3.7/site-packages (from web3) (2.1.1)\n",
      "Requirement already satisfied: ipfshttpclient==0.8.0a2 in /Users/kevincorstorphine/opt/anaconda3/envs/dev/lib/python3.7/site-packages (from web3) (0.8.0a2)\n",
      "Requirement already satisfied: protobuf<4,>=3.10.0 in /Users/kevincorstorphine/opt/anaconda3/envs/dev/lib/python3.7/site-packages (from web3) (3.20.1)\n",
      "Requirement already satisfied: multiaddr>=0.0.7 in /Users/kevincorstorphine/opt/anaconda3/envs/dev/lib/python3.7/site-packages (from ipfshttpclient==0.8.0a2->web3) (0.0.9)\n",
      "Requirement already satisfied: attrs>=17.3.0 in /Users/kevincorstorphine/opt/anaconda3/envs/dev/lib/python3.7/site-packages (from aiohttp<4,>=3.7.4.post0->web3) (21.2.0)\n",
      "Requirement already satisfied: asynctest==0.13.0 in /Users/kevincorstorphine/opt/anaconda3/envs/dev/lib/python3.7/site-packages (from aiohttp<4,>=3.7.4.post0->web3) (0.13.0)\n",
      "Requirement already satisfied: async-timeout<5.0,>=4.0.0a3 in /Users/kevincorstorphine/opt/anaconda3/envs/dev/lib/python3.7/site-packages (from aiohttp<4,>=3.7.4.post0->web3) (4.0.2)\n",
      "Requirement already satisfied: multidict<7.0,>=4.5 in /Users/kevincorstorphine/opt/anaconda3/envs/dev/lib/python3.7/site-packages (from aiohttp<4,>=3.7.4.post0->web3) (6.0.2)\n",
      "Requirement already satisfied: frozenlist>=1.1.1 in /Users/kevincorstorphine/opt/anaconda3/envs/dev/lib/python3.7/site-packages (from aiohttp<4,>=3.7.4.post0->web3) (1.3.0)\n",
      "Requirement already satisfied: yarl<2.0,>=1.0 in /Users/kevincorstorphine/opt/anaconda3/envs/dev/lib/python3.7/site-packages (from aiohttp<4,>=3.7.4.post0->web3) (1.7.2)\n",
      "Requirement already satisfied: charset-normalizer<3.0,>=2.0 in /Users/kevincorstorphine/opt/anaconda3/envs/dev/lib/python3.7/site-packages (from aiohttp<4,>=3.7.4.post0->web3) (2.0.4)\n",
      "Requirement already satisfied: aiosignal>=1.1.2 in /Users/kevincorstorphine/opt/anaconda3/envs/dev/lib/python3.7/site-packages (from aiohttp<4,>=3.7.4.post0->web3) (1.2.0)\n",
      "Requirement already satisfied: parsimonious<0.9.0,>=0.8.0 in /Users/kevincorstorphine/opt/anaconda3/envs/dev/lib/python3.7/site-packages (from eth-abi<3.0.0,>=2.0.0b6->web3) (0.8.1)\n",
      "Requirement already satisfied: eth-keyfile<0.6.0,>=0.5.0 in /Users/kevincorstorphine/opt/anaconda3/envs/dev/lib/python3.7/site-packages (from eth-account<0.6.0,>=0.5.7->web3) (0.5.1)\n",
      "Requirement already satisfied: rlp<3,>=1.0.0 in /Users/kevincorstorphine/opt/anaconda3/envs/dev/lib/python3.7/site-packages (from eth-account<0.6.0,>=0.5.7->web3) (2.0.1)\n",
      "Requirement already satisfied: eth-keys<0.4.0,>=0.3.4 in /Users/kevincorstorphine/opt/anaconda3/envs/dev/lib/python3.7/site-packages (from eth-account<0.6.0,>=0.5.7->web3) (0.3.4)\n",
      "Requirement already satisfied: bitarray<3,>=1.2.1 in /Users/kevincorstorphine/opt/anaconda3/envs/dev/lib/python3.7/site-packages (from eth-account<0.6.0,>=0.5.7->web3) (2.3.0)\n",
      "Requirement already satisfied: eth-rlp<2,>=0.1.2 in /Users/kevincorstorphine/opt/anaconda3/envs/dev/lib/python3.7/site-packages (from eth-account<0.6.0,>=0.5.7->web3) (0.2.1)\n",
      "Requirement already satisfied: pycryptodome<4,>=3.6.6 in /Users/kevincorstorphine/opt/anaconda3/envs/dev/lib/python3.7/site-packages (from eth-hash[pycryptodome]<1.0.0,>=0.2.0->web3) (3.15.0)\n",
      "Requirement already satisfied: cytoolz<1.0.0,>=0.9.0 in /Users/kevincorstorphine/opt/anaconda3/envs/dev/lib/python3.7/site-packages (from eth-keyfile<0.6.0,>=0.5.0->eth-account<0.6.0,>=0.5.7->web3) (0.11.0)\n",
      "Requirement already satisfied: toolz>=0.8.0 in /Users/kevincorstorphine/opt/anaconda3/envs/dev/lib/python3.7/site-packages (from cytoolz<1.0.0,>=0.9.0->eth-keyfile<0.6.0,>=0.5.0->eth-account<0.6.0,>=0.5.7->web3) (0.11.1)\n",
      "Requirement already satisfied: setuptools in /Users/kevincorstorphine/opt/anaconda3/envs/dev/lib/python3.7/site-packages (from jsonschema<5,>=3.2.0->web3) (58.0.4)\n",
      "Requirement already satisfied: pyrsistent>=0.14.0 in /Users/kevincorstorphine/opt/anaconda3/envs/dev/lib/python3.7/site-packages (from jsonschema<5,>=3.2.0->web3) (0.18.0)\n",
      "Requirement already satisfied: importlib-metadata in /Users/kevincorstorphine/opt/anaconda3/envs/dev/lib/python3.7/site-packages (from jsonschema<5,>=3.2.0->web3) (4.8.1)\n",
      "Requirement already satisfied: six>=1.11.0 in /Users/kevincorstorphine/opt/anaconda3/envs/dev/lib/python3.7/site-packages (from jsonschema<5,>=3.2.0->web3) (1.16.0)\n",
      "Requirement already satisfied: base58 in /Users/kevincorstorphine/opt/anaconda3/envs/dev/lib/python3.7/site-packages (from multiaddr>=0.0.7->ipfshttpclient==0.8.0a2->web3) (2.1.1)\n",
      "Requirement already satisfied: netaddr in /Users/kevincorstorphine/opt/anaconda3/envs/dev/lib/python3.7/site-packages (from multiaddr>=0.0.7->ipfshttpclient==0.8.0a2->web3) (0.8.0)\n",
      "Requirement already satisfied: varint in /Users/kevincorstorphine/opt/anaconda3/envs/dev/lib/python3.7/site-packages (from multiaddr>=0.0.7->ipfshttpclient==0.8.0a2->web3) (1.0.2)\n",
      "Requirement already satisfied: urllib3<1.27,>=1.21.1 in /Users/kevincorstorphine/opt/anaconda3/envs/dev/lib/python3.7/site-packages (from requests<3.0.0,>=2.16.0->web3) (1.26.7)\n",
      "Requirement already satisfied: certifi>=2017.4.17 in /Users/kevincorstorphine/opt/anaconda3/envs/dev/lib/python3.7/site-packages (from requests<3.0.0,>=2.16.0->web3) (2022.5.18.1)\n",
      "Requirement already satisfied: idna<4,>=2.5 in /Users/kevincorstorphine/opt/anaconda3/envs/dev/lib/python3.7/site-packages (from requests<3.0.0,>=2.16.0->web3) (3.2)\n",
      "Requirement already satisfied: zipp>=0.5 in /Users/kevincorstorphine/opt/anaconda3/envs/dev/lib/python3.7/site-packages (from importlib-metadata->jsonschema<5,>=3.2.0->web3) (3.6.0)\n",
      "Note: you may need to restart the kernel to use updated packages.\n"
     ]
    }
   ],
   "source": [
    "pip install web3"
   ]
  },
  {
   "cell_type": "code",
   "execution_count": 187,
   "id": "8792c6c3-ef1b-4441-9ff4-24dfee7e0f07",
   "metadata": {},
   "outputs": [],
   "source": [
    "from web3 import Web3\n",
    "from uniswap import Uniswap\n",
    "import json\n",
    "import requests\n",
    "import pandas as pd"
   ]
  },
  {
   "cell_type": "code",
   "execution_count": null,
   "id": "2c2e3291-bd6b-470b-832c-2b5695a547cc",
   "metadata": {},
   "outputs": [],
   "source": []
  },
  {
   "cell_type": "code",
   "execution_count": 188,
   "id": "52bac87b-e8d5-4675-8957-b173be41daaa",
   "metadata": {},
   "outputs": [],
   "source": [
    "# Placeholder wallet for now, will need to update. Using new infura free account. May need to make key, and provider .env files at some point. \n",
    "# https://academy.moralis.io/blog/infura-explained-what-is-infura\n",
    "\n",
    "\n",
    "address = None      # or None if you're not going to make transactions\n",
    "private_key = None  # or None if you're not going to make transactions\n",
    "version = 2         # specify which version of Uniswap to use\n",
    "infura_url = \"https://mainnet.infura.io/v3/ba4491ce1dcd4e808c3f05e41fc15f7e\"    # can also be set through the environment variable `PROVIDER`\n",
    "uniswap = Uniswap(address=address, private_key=private_key, version=version, provider=provider)\n",
    "\n",
    "\n",
    "\n",
    "\n"
   ]
  },
  {
   "cell_type": "code",
   "execution_count": 189,
   "id": "d229c0b0-10e6-412e-8abb-920b0fd4aae3",
   "metadata": {},
   "outputs": [
    {
     "name": "stdout",
     "output_type": "stream",
     "text": [
      "safeLow 270\n",
      "average 300\n",
      "fast 370\n",
      "fastest 400\n"
     ]
    }
   ],
   "source": [
    "infura_url = provider\n",
    "web3 = Web3(Web3.HTTPProvider(infura_url))\n",
    "\n",
    "req = requests.get('https://ethgasstation.info/json/ethgasAPI.json')\n",
    "t = json.loads(req.content)\n",
    "print('safeLow', t['safeLow'])\n",
    "print('average', t['average'])\n",
    "print('fast', t['fast'])\n",
    "print('fastest', t['fastest'])\n",
    "\n",
    "\n",
    "#web3.eth.Eth.generateGasPrice`\n",
    "gas_price1 = web3.eth.gasPrice\n",
    "# print(gas_price1/10**8)"
   ]
  },
  {
   "cell_type": "code",
   "execution_count": null,
   "id": "67dfbaeb-1f72-41e5-af9e-e11df4743d0d",
   "metadata": {},
   "outputs": [],
   "source": [
    "#need to make this price into Gwei"
   ]
  },
  {
   "cell_type": "code",
   "execution_count": null,
   "id": "ec7eafd5-2a71-49c7-bdea-b25027ba2dd0",
   "metadata": {},
   "outputs": [],
   "source": []
  },
  {
   "cell_type": "code",
   "execution_count": 144,
   "id": "ce5bbc67-f708-4d3d-a618-76805f366f46",
   "metadata": {},
   "outputs": [],
   "source": [
    "#token addresses\n",
    "\n",
    "#decimals are a common source of confusion, but are quite easy to understand with suitable explanation. Decimals refers to how divisible a token can be, \n",
    "#from 0 (not at all divisible) to 18 (pretty much continuous) and even higher if required. Technically speaking, the decimals value is the number of digits\n",
    "#that come after the decimal place when displaying token values on-screen. The reason that decimals exists is that Ethereum does not deal with decimal numbers, \n",
    "#representing all numeric values as integers. You can look at any blockchain's block explorer and it should show how many decimals the token has.\n",
    "\n",
    "# USDC= 6 decimals\n",
    "# sUSD = 18 decimals\n",
    "# DAI = 18 decimals\n",
    "\n",
    "\n",
    "dai = Web3.toChecksumAddress(\"0x6B175474E89094C44Da98b954EedeAC495271d0F\")\n",
    "susd = Web3.toChecksumAddress(\"0x57ab1ec28d129707052df4df418d58a2d46d5f51\")\n",
    "usdc = Web3.toChecksumAddress(\"0xa0b86991c6218b36c1d19d4a2e9eb0ce3606eb48\")\n",
    "\n",
    "\n",
    "\n"
   ]
  },
  {
   "cell_type": "code",
   "execution_count": 179,
   "id": "4a7780cc-c0fc-47fa-b88c-964313b2e70f",
   "metadata": {},
   "outputs": [],
   "source": [
    "# Uniswap works with a market makers. Market Makers provide liquidity to the exchanges they operate in, and they set 'buy' and 'sell quotes for each asset. \n",
    "# Therefore, they are the 'source' of price discovery for trades. If a trader's bid matches the offer of the MM\n",
    "# then the trade is executed. \n",
    "\n",
    "# Uniswap is an automated market maker (AMM) protocol that relies on a series of smart contracts on top of Ethereum\n",
    "# that automates this price matching (or price discovery process). It allows its users to swap one token for another\n",
    "# by interacting directly with the smart contracts, no intermediaries needed.\n",
    "\n",
    "# Due to the limited size of the Uniswap sUSD/USDC liquidity pool, large orders cause pricing to dramatically increase.\n",
    "# for this exercise we will assume a relatively low amount of sUSD at 1000 tokens. Much more that and the price dramatically distorts.\n",
    "\n",
    "\n",
    "amount_of_susd = 10000"
   ]
  },
  {
   "cell_type": "code",
   "execution_count": null,
   "id": "e999206d-3532-40a0-87fa-6ee42207543d",
   "metadata": {},
   "outputs": [],
   "source": [
    "#calculate the price of Ether for gas pricing\n",
    "\n",
    "\n",
    "\n",
    "settled_usdc = uniswap.get_price_input(susd, usdc,amount_of_susd*10**18,10 ** 6)\n",
    "settled_usdc = settled_usdc/1000000\n",
    "print(f'Trading {amount_of_susd} sUSD will return {settled_usdc} USDC')\n",
    "\n"
   ]
  },
  {
   "cell_type": "code",
   "execution_count": 180,
   "id": "2a2de8a8-b86d-4b0a-8067-f2b04904921d",
   "metadata": {},
   "outputs": [
    {
     "name": "stderr",
     "output_type": "stream",
     "text": [
      "No route specified, assuming route: ['0x57Ab1ec28D129707052df4dF418D58a2D46d5f51', '0xC02aaA39b223FE8D0A0e5C4F27eAD9083C756Cc2', '0xA0b86991c6218b36c1d19D4a2e9Eb0cE3606eB48']\n"
     ]
    },
    {
     "name": "stdout",
     "output_type": "stream",
     "text": [
      "Trading 10000 sUSD will return 9426.174962 USDC\n"
     ]
    }
   ],
   "source": [
    "# get_price_input()\n",
    "# This returns the amount of output tokens you get for a given amount of input tokens. \n",
    "# This example returns the price of USDC you get for a given amount of sUSD\n",
    "\n",
    "\n",
    "settled_usdc = uniswap.get_price_input(susd, usdc,amount_of_susd*10**18,10 ** 6)\n",
    "settled_usdc = settled_usdc/1000000\n",
    "print(f'Trading {amount_of_susd} sUSD will return {settled_usdc} USDC')\n",
    "\n"
   ]
  },
  {
   "cell_type": "code",
   "execution_count": null,
   "id": "e5d2b69c-3cf7-468a-9715-69b3622dda91",
   "metadata": {},
   "outputs": [],
   "source": []
  },
  {
   "cell_type": "code",
   "execution_count": null,
   "id": "11166bb7-bde0-4428-af87-ca33edb178b3",
   "metadata": {},
   "outputs": [],
   "source": [
    "#to-do\n",
    "\n",
    "\n",
    "#get price of ether/usd (just do the uniswap pricing for wETH)\n",
    "#calculate gas costs based on that number\n",
    "#append each call to a csv\n",
    "\n",
    "\n"
   ]
  },
  {
   "cell_type": "code",
   "execution_count": null,
   "id": "d255d4f3-c338-4f8f-b059-bd473577024e",
   "metadata": {},
   "outputs": [],
   "source": []
  },
  {
   "cell_type": "code",
   "execution_count": null,
   "id": "c1e2ca95-1a19-4c14-8a3c-622a6a76fe5e",
   "metadata": {},
   "outputs": [],
   "source": []
  },
  {
   "cell_type": "code",
   "execution_count": null,
   "id": "4ab06612-7430-4b1d-905a-e3df19e32886",
   "metadata": {},
   "outputs": [],
   "source": [
    "\n"
   ]
  },
  {
   "cell_type": "code",
   "execution_count": 13,
   "id": "e7490700-ed65-488a-8c28-398a4fc0ee25",
   "metadata": {},
   "outputs": [],
   "source": []
  },
  {
   "cell_type": "code",
   "execution_count": 14,
   "id": "339b5f4f-a011-4cc9-b276-bacc9bf30713",
   "metadata": {},
   "outputs": [],
   "source": []
  },
  {
   "cell_type": "code",
   "execution_count": 15,
   "id": "2a684b53-54a3-4831-b96e-672e12102915",
   "metadata": {},
   "outputs": [],
   "source": []
  }
 ],
 "metadata": {
  "kernelspec": {
   "display_name": "Python 3 (ipykernel)",
   "language": "python",
   "name": "python3"
  },
  "language_info": {
   "codemirror_mode": {
    "name": "ipython",
    "version": 3
   },
   "file_extension": ".py",
   "mimetype": "text/x-python",
   "name": "python",
   "nbconvert_exporter": "python",
   "pygments_lexer": "ipython3",
   "version": "3.7.11"
  }
 },
 "nbformat": 4,
 "nbformat_minor": 5
}
